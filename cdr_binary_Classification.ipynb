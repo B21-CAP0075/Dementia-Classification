{
  "nbformat": 4,
  "nbformat_minor": 0,
  "metadata": {
    "colab": {
      "name": "Dementia_SaDem.ipynb",
      "provenance": [],
      "collapsed_sections": [],
      "authorship_tag": "ABX9TyP4trIoxiibkaBoGZ71VN4Y",
      "include_colab_link": true
    },
    "kernelspec": {
      "name": "python3",
      "display_name": "Python 3"
    },
    "accelerator": "GPU"
  },
  "cells": [
    {
      "cell_type": "markdown",
      "metadata": {
        "id": "view-in-github",
        "colab_type": "text"
      },
      "source": [
        "<a href=\"https://colab.research.google.com/github/B21-CAP0075/Dementia-Classification/blob/development/cdr_binary_Classification.ipynb\" target=\"_parent\"><img src=\"https://colab.research.google.com/assets/colab-badge.svg\" alt=\"Open In Colab\"/></a>"
      ]
    },
    {
      "cell_type": "code",
      "metadata": {
        "id": "xkN7mkLaVTJ4"
      },
      "source": [
        "import zipfile\n",
        "import pandas as pd\n",
        "import numpy as np\n",
        "import seaborn as sns\n",
        "import matplotlib.pyplot as plt\n",
        "\n",
        "from google.colab import drive\n",
        "from sklearn.preprocessing import MinMaxScaler\n",
        "from sklearn.preprocessing import StandardScaler \n",
        "from sklearn.model_selection import train_test_split\n",
        "\n",
        "import tensorflow as tf\n",
        "from keras.models import load_model\n",
        "from keras.callbacks import EarlyStopping\n",
        "from keras.callbacks import ModelCheckpoint"
      ],
      "execution_count": 1,
      "outputs": []
    },
    {
      "cell_type": "code",
      "metadata": {
        "id": "oI_kzNi_Vi6i",
        "colab": {
          "base_uri": "https://localhost:8080/"
        },
        "outputId": "e55283f4-9e4d-412f-bdf6-8b15fff59ee1"
      },
      "source": [
        "drive.mount('/content/drive')"
      ],
      "execution_count": 2,
      "outputs": [
        {
          "output_type": "stream",
          "text": [
            "Mounted at /content/drive\n"
          ],
          "name": "stdout"
        }
      ]
    },
    {
      "cell_type": "code",
      "metadata": {
        "id": "7VU7nNaaVscM",
        "colab": {
          "base_uri": "https://localhost:8080/"
        },
        "outputId": "fb257de0-b4c9-42f3-c0af-a525840693d1"
      },
      "source": [
        "! pip install --upgrade --force-reinstall --no-deps kaggle\n",
        "! mkdir /root/.kaggle/\n",
        "! cp \"/content/drive/My Drive/Machine Learning/kaggle.json\" /root/.kaggle/\n",
        "! chmod 600 /root/.kaggle/kaggle.json"
      ],
      "execution_count": 3,
      "outputs": [
        {
          "output_type": "stream",
          "text": [
            "Collecting kaggle\n",
            "\u001b[?25l  Downloading https://files.pythonhosted.org/packages/3a/e7/3bac01547d2ed3d308ac92a0878fbdb0ed0f3d41fb1906c319ccbba1bfbc/kaggle-1.5.12.tar.gz (58kB)\n",
            "\r\u001b[K     |█████▋                          | 10kB 13.7MB/s eta 0:00:01\r\u001b[K     |███████████▏                    | 20kB 16.0MB/s eta 0:00:01\r\u001b[K     |████████████████▊               | 30kB 9.7MB/s eta 0:00:01\r\u001b[K     |██████████████████████▎         | 40kB 8.3MB/s eta 0:00:01\r\u001b[K     |███████████████████████████▉    | 51kB 4.3MB/s eta 0:00:01\r\u001b[K     |████████████████████████████████| 61kB 2.9MB/s \n",
            "\u001b[?25hBuilding wheels for collected packages: kaggle\n",
            "  Building wheel for kaggle (setup.py) ... \u001b[?25l\u001b[?25hdone\n",
            "  Created wheel for kaggle: filename=kaggle-1.5.12-cp37-none-any.whl size=73053 sha256=a9dd1317854a286c5d1d632769ecafe6b6e7d2e72a8799e258995e48d09890de\n",
            "  Stored in directory: /root/.cache/pip/wheels/a1/6a/26/d30b7499ff85a4a4593377a87ecf55f7d08af42f0de9b60303\n",
            "Successfully built kaggle\n",
            "Installing collected packages: kaggle\n",
            "  Found existing installation: kaggle 1.5.12\n",
            "    Uninstalling kaggle-1.5.12:\n",
            "      Successfully uninstalled kaggle-1.5.12\n",
            "Successfully installed kaggle-1.5.12\n"
          ],
          "name": "stdout"
        }
      ]
    },
    {
      "cell_type": "code",
      "metadata": {
        "id": "0zSmgeF7V14w",
        "colab": {
          "base_uri": "https://localhost:8080/"
        },
        "outputId": "dd825faf-9d71-44df-ce82-fdaca2e8feb0"
      },
      "source": [
        "! kaggle datasets download -d jboysen/mri-and-alzheimers"
      ],
      "execution_count": 4,
      "outputs": [
        {
          "output_type": "stream",
          "text": [
            "Downloading mri-and-alzheimers.zip to /content\n",
            "\r  0% 0.00/12.6k [00:00<?, ?B/s]\n",
            "\r100% 12.6k/12.6k [00:00<00:00, 10.0MB/s]\n"
          ],
          "name": "stdout"
        }
      ]
    },
    {
      "cell_type": "code",
      "metadata": {
        "id": "JYXIttu8V69G"
      },
      "source": [
        "zip_ref = zipfile.ZipFile('mri-and-alzheimers.zip', 'r')\n",
        "zip_ref.extractall()\n",
        "zip_ref.close()"
      ],
      "execution_count": 5,
      "outputs": []
    },
    {
      "cell_type": "code",
      "metadata": {
        "id": "FzoA4JxdWX95",
        "colab": {
          "base_uri": "https://localhost:8080/",
          "height": 204
        },
        "outputId": "018f4b5e-803e-4439-94d6-2123978288dd"
      },
      "source": [
        "df_cross = pd.read_csv('oasis_cross-sectional.csv')\n",
        "df_cross.head()"
      ],
      "execution_count": 6,
      "outputs": [
        {
          "output_type": "execute_result",
          "data": {
            "text/html": [
              "<div>\n",
              "<style scoped>\n",
              "    .dataframe tbody tr th:only-of-type {\n",
              "        vertical-align: middle;\n",
              "    }\n",
              "\n",
              "    .dataframe tbody tr th {\n",
              "        vertical-align: top;\n",
              "    }\n",
              "\n",
              "    .dataframe thead th {\n",
              "        text-align: right;\n",
              "    }\n",
              "</style>\n",
              "<table border=\"1\" class=\"dataframe\">\n",
              "  <thead>\n",
              "    <tr style=\"text-align: right;\">\n",
              "      <th></th>\n",
              "      <th>ID</th>\n",
              "      <th>M/F</th>\n",
              "      <th>Hand</th>\n",
              "      <th>Age</th>\n",
              "      <th>Educ</th>\n",
              "      <th>SES</th>\n",
              "      <th>MMSE</th>\n",
              "      <th>CDR</th>\n",
              "      <th>eTIV</th>\n",
              "      <th>nWBV</th>\n",
              "      <th>ASF</th>\n",
              "      <th>Delay</th>\n",
              "    </tr>\n",
              "  </thead>\n",
              "  <tbody>\n",
              "    <tr>\n",
              "      <th>0</th>\n",
              "      <td>OAS1_0001_MR1</td>\n",
              "      <td>F</td>\n",
              "      <td>R</td>\n",
              "      <td>74</td>\n",
              "      <td>2.0</td>\n",
              "      <td>3.0</td>\n",
              "      <td>29.0</td>\n",
              "      <td>0.0</td>\n",
              "      <td>1344</td>\n",
              "      <td>0.743</td>\n",
              "      <td>1.306</td>\n",
              "      <td>NaN</td>\n",
              "    </tr>\n",
              "    <tr>\n",
              "      <th>1</th>\n",
              "      <td>OAS1_0002_MR1</td>\n",
              "      <td>F</td>\n",
              "      <td>R</td>\n",
              "      <td>55</td>\n",
              "      <td>4.0</td>\n",
              "      <td>1.0</td>\n",
              "      <td>29.0</td>\n",
              "      <td>0.0</td>\n",
              "      <td>1147</td>\n",
              "      <td>0.810</td>\n",
              "      <td>1.531</td>\n",
              "      <td>NaN</td>\n",
              "    </tr>\n",
              "    <tr>\n",
              "      <th>2</th>\n",
              "      <td>OAS1_0003_MR1</td>\n",
              "      <td>F</td>\n",
              "      <td>R</td>\n",
              "      <td>73</td>\n",
              "      <td>4.0</td>\n",
              "      <td>3.0</td>\n",
              "      <td>27.0</td>\n",
              "      <td>0.5</td>\n",
              "      <td>1454</td>\n",
              "      <td>0.708</td>\n",
              "      <td>1.207</td>\n",
              "      <td>NaN</td>\n",
              "    </tr>\n",
              "    <tr>\n",
              "      <th>3</th>\n",
              "      <td>OAS1_0004_MR1</td>\n",
              "      <td>M</td>\n",
              "      <td>R</td>\n",
              "      <td>28</td>\n",
              "      <td>NaN</td>\n",
              "      <td>NaN</td>\n",
              "      <td>NaN</td>\n",
              "      <td>NaN</td>\n",
              "      <td>1588</td>\n",
              "      <td>0.803</td>\n",
              "      <td>1.105</td>\n",
              "      <td>NaN</td>\n",
              "    </tr>\n",
              "    <tr>\n",
              "      <th>4</th>\n",
              "      <td>OAS1_0005_MR1</td>\n",
              "      <td>M</td>\n",
              "      <td>R</td>\n",
              "      <td>18</td>\n",
              "      <td>NaN</td>\n",
              "      <td>NaN</td>\n",
              "      <td>NaN</td>\n",
              "      <td>NaN</td>\n",
              "      <td>1737</td>\n",
              "      <td>0.848</td>\n",
              "      <td>1.010</td>\n",
              "      <td>NaN</td>\n",
              "    </tr>\n",
              "  </tbody>\n",
              "</table>\n",
              "</div>"
            ],
            "text/plain": [
              "              ID M/F Hand  Age  Educ  SES  MMSE  CDR  eTIV   nWBV    ASF  Delay\n",
              "0  OAS1_0001_MR1   F    R   74   2.0  3.0  29.0  0.0  1344  0.743  1.306    NaN\n",
              "1  OAS1_0002_MR1   F    R   55   4.0  1.0  29.0  0.0  1147  0.810  1.531    NaN\n",
              "2  OAS1_0003_MR1   F    R   73   4.0  3.0  27.0  0.5  1454  0.708  1.207    NaN\n",
              "3  OAS1_0004_MR1   M    R   28   NaN  NaN   NaN  NaN  1588  0.803  1.105    NaN\n",
              "4  OAS1_0005_MR1   M    R   18   NaN  NaN   NaN  NaN  1737  0.848  1.010    NaN"
            ]
          },
          "metadata": {
            "tags": []
          },
          "execution_count": 6
        }
      ]
    },
    {
      "cell_type": "code",
      "metadata": {
        "id": "PjGgxdovWyOT",
        "colab": {
          "base_uri": "https://localhost:8080/",
          "height": 204
        },
        "outputId": "aa4b2d99-77fd-4145-8ff1-76c4482fe7a0"
      },
      "source": [
        "df_long = pd.read_csv('oasis_longitudinal.csv')\n",
        "df_long.head()"
      ],
      "execution_count": 7,
      "outputs": [
        {
          "output_type": "execute_result",
          "data": {
            "text/html": [
              "<div>\n",
              "<style scoped>\n",
              "    .dataframe tbody tr th:only-of-type {\n",
              "        vertical-align: middle;\n",
              "    }\n",
              "\n",
              "    .dataframe tbody tr th {\n",
              "        vertical-align: top;\n",
              "    }\n",
              "\n",
              "    .dataframe thead th {\n",
              "        text-align: right;\n",
              "    }\n",
              "</style>\n",
              "<table border=\"1\" class=\"dataframe\">\n",
              "  <thead>\n",
              "    <tr style=\"text-align: right;\">\n",
              "      <th></th>\n",
              "      <th>Subject ID</th>\n",
              "      <th>MRI ID</th>\n",
              "      <th>Group</th>\n",
              "      <th>Visit</th>\n",
              "      <th>MR Delay</th>\n",
              "      <th>M/F</th>\n",
              "      <th>Hand</th>\n",
              "      <th>Age</th>\n",
              "      <th>EDUC</th>\n",
              "      <th>SES</th>\n",
              "      <th>MMSE</th>\n",
              "      <th>CDR</th>\n",
              "      <th>eTIV</th>\n",
              "      <th>nWBV</th>\n",
              "      <th>ASF</th>\n",
              "    </tr>\n",
              "  </thead>\n",
              "  <tbody>\n",
              "    <tr>\n",
              "      <th>0</th>\n",
              "      <td>OAS2_0001</td>\n",
              "      <td>OAS2_0001_MR1</td>\n",
              "      <td>Nondemented</td>\n",
              "      <td>1</td>\n",
              "      <td>0</td>\n",
              "      <td>M</td>\n",
              "      <td>R</td>\n",
              "      <td>87</td>\n",
              "      <td>14</td>\n",
              "      <td>2.0</td>\n",
              "      <td>27.0</td>\n",
              "      <td>0.0</td>\n",
              "      <td>1987</td>\n",
              "      <td>0.696</td>\n",
              "      <td>0.883</td>\n",
              "    </tr>\n",
              "    <tr>\n",
              "      <th>1</th>\n",
              "      <td>OAS2_0001</td>\n",
              "      <td>OAS2_0001_MR2</td>\n",
              "      <td>Nondemented</td>\n",
              "      <td>2</td>\n",
              "      <td>457</td>\n",
              "      <td>M</td>\n",
              "      <td>R</td>\n",
              "      <td>88</td>\n",
              "      <td>14</td>\n",
              "      <td>2.0</td>\n",
              "      <td>30.0</td>\n",
              "      <td>0.0</td>\n",
              "      <td>2004</td>\n",
              "      <td>0.681</td>\n",
              "      <td>0.876</td>\n",
              "    </tr>\n",
              "    <tr>\n",
              "      <th>2</th>\n",
              "      <td>OAS2_0002</td>\n",
              "      <td>OAS2_0002_MR1</td>\n",
              "      <td>Demented</td>\n",
              "      <td>1</td>\n",
              "      <td>0</td>\n",
              "      <td>M</td>\n",
              "      <td>R</td>\n",
              "      <td>75</td>\n",
              "      <td>12</td>\n",
              "      <td>NaN</td>\n",
              "      <td>23.0</td>\n",
              "      <td>0.5</td>\n",
              "      <td>1678</td>\n",
              "      <td>0.736</td>\n",
              "      <td>1.046</td>\n",
              "    </tr>\n",
              "    <tr>\n",
              "      <th>3</th>\n",
              "      <td>OAS2_0002</td>\n",
              "      <td>OAS2_0002_MR2</td>\n",
              "      <td>Demented</td>\n",
              "      <td>2</td>\n",
              "      <td>560</td>\n",
              "      <td>M</td>\n",
              "      <td>R</td>\n",
              "      <td>76</td>\n",
              "      <td>12</td>\n",
              "      <td>NaN</td>\n",
              "      <td>28.0</td>\n",
              "      <td>0.5</td>\n",
              "      <td>1738</td>\n",
              "      <td>0.713</td>\n",
              "      <td>1.010</td>\n",
              "    </tr>\n",
              "    <tr>\n",
              "      <th>4</th>\n",
              "      <td>OAS2_0002</td>\n",
              "      <td>OAS2_0002_MR3</td>\n",
              "      <td>Demented</td>\n",
              "      <td>3</td>\n",
              "      <td>1895</td>\n",
              "      <td>M</td>\n",
              "      <td>R</td>\n",
              "      <td>80</td>\n",
              "      <td>12</td>\n",
              "      <td>NaN</td>\n",
              "      <td>22.0</td>\n",
              "      <td>0.5</td>\n",
              "      <td>1698</td>\n",
              "      <td>0.701</td>\n",
              "      <td>1.034</td>\n",
              "    </tr>\n",
              "  </tbody>\n",
              "</table>\n",
              "</div>"
            ],
            "text/plain": [
              "  Subject ID         MRI ID        Group  Visit  ...  CDR  eTIV   nWBV    ASF\n",
              "0  OAS2_0001  OAS2_0001_MR1  Nondemented      1  ...  0.0  1987  0.696  0.883\n",
              "1  OAS2_0001  OAS2_0001_MR2  Nondemented      2  ...  0.0  2004  0.681  0.876\n",
              "2  OAS2_0002  OAS2_0002_MR1     Demented      1  ...  0.5  1678  0.736  1.046\n",
              "3  OAS2_0002  OAS2_0002_MR2     Demented      2  ...  0.5  1738  0.713  1.010\n",
              "4  OAS2_0002  OAS2_0002_MR3     Demented      3  ...  0.5  1698  0.701  1.034\n",
              "\n",
              "[5 rows x 15 columns]"
            ]
          },
          "metadata": {
            "tags": []
          },
          "execution_count": 7
        }
      ]
    },
    {
      "cell_type": "code",
      "metadata": {
        "colab": {
          "base_uri": "https://localhost:8080/",
          "height": 204
        },
        "id": "HKrQoLWSOUu-",
        "outputId": "64d99009-ead1-47ce-fe3d-30201d7635ec"
      },
      "source": [
        "df_cross = df_cross.drop(columns=['ID', 'Delay', 'Hand', 'eTIV', 'nWBV', 'ASF'])\n",
        "df_cross.columns = ['M/F', 'Age',\t'EDUC',\t'SES',\t'MMSE',\t'CDR']\n",
        "df_cross.head()"
      ],
      "execution_count": 8,
      "outputs": [
        {
          "output_type": "execute_result",
          "data": {
            "text/html": [
              "<div>\n",
              "<style scoped>\n",
              "    .dataframe tbody tr th:only-of-type {\n",
              "        vertical-align: middle;\n",
              "    }\n",
              "\n",
              "    .dataframe tbody tr th {\n",
              "        vertical-align: top;\n",
              "    }\n",
              "\n",
              "    .dataframe thead th {\n",
              "        text-align: right;\n",
              "    }\n",
              "</style>\n",
              "<table border=\"1\" class=\"dataframe\">\n",
              "  <thead>\n",
              "    <tr style=\"text-align: right;\">\n",
              "      <th></th>\n",
              "      <th>M/F</th>\n",
              "      <th>Age</th>\n",
              "      <th>EDUC</th>\n",
              "      <th>SES</th>\n",
              "      <th>MMSE</th>\n",
              "      <th>CDR</th>\n",
              "    </tr>\n",
              "  </thead>\n",
              "  <tbody>\n",
              "    <tr>\n",
              "      <th>0</th>\n",
              "      <td>F</td>\n",
              "      <td>74</td>\n",
              "      <td>2.0</td>\n",
              "      <td>3.0</td>\n",
              "      <td>29.0</td>\n",
              "      <td>0.0</td>\n",
              "    </tr>\n",
              "    <tr>\n",
              "      <th>1</th>\n",
              "      <td>F</td>\n",
              "      <td>55</td>\n",
              "      <td>4.0</td>\n",
              "      <td>1.0</td>\n",
              "      <td>29.0</td>\n",
              "      <td>0.0</td>\n",
              "    </tr>\n",
              "    <tr>\n",
              "      <th>2</th>\n",
              "      <td>F</td>\n",
              "      <td>73</td>\n",
              "      <td>4.0</td>\n",
              "      <td>3.0</td>\n",
              "      <td>27.0</td>\n",
              "      <td>0.5</td>\n",
              "    </tr>\n",
              "    <tr>\n",
              "      <th>3</th>\n",
              "      <td>M</td>\n",
              "      <td>28</td>\n",
              "      <td>NaN</td>\n",
              "      <td>NaN</td>\n",
              "      <td>NaN</td>\n",
              "      <td>NaN</td>\n",
              "    </tr>\n",
              "    <tr>\n",
              "      <th>4</th>\n",
              "      <td>M</td>\n",
              "      <td>18</td>\n",
              "      <td>NaN</td>\n",
              "      <td>NaN</td>\n",
              "      <td>NaN</td>\n",
              "      <td>NaN</td>\n",
              "    </tr>\n",
              "  </tbody>\n",
              "</table>\n",
              "</div>"
            ],
            "text/plain": [
              "  M/F  Age  EDUC  SES  MMSE  CDR\n",
              "0   F   74   2.0  3.0  29.0  0.0\n",
              "1   F   55   4.0  1.0  29.0  0.0\n",
              "2   F   73   4.0  3.0  27.0  0.5\n",
              "3   M   28   NaN  NaN   NaN  NaN\n",
              "4   M   18   NaN  NaN   NaN  NaN"
            ]
          },
          "metadata": {
            "tags": []
          },
          "execution_count": 8
        }
      ]
    },
    {
      "cell_type": "code",
      "metadata": {
        "colab": {
          "base_uri": "https://localhost:8080/",
          "height": 204
        },
        "id": "xUdR7IqrNrTW",
        "outputId": "87fd7a1c-c948-4910-fbd8-a08da842c1c3"
      },
      "source": [
        "df_long = df_long.drop(columns=['Subject ID', 'MRI ID', 'Visit', 'MR Delay', 'Hand', 'eTIV', 'nWBV', 'ASF', 'Group'])\n",
        "df_long.head()"
      ],
      "execution_count": 9,
      "outputs": [
        {
          "output_type": "execute_result",
          "data": {
            "text/html": [
              "<div>\n",
              "<style scoped>\n",
              "    .dataframe tbody tr th:only-of-type {\n",
              "        vertical-align: middle;\n",
              "    }\n",
              "\n",
              "    .dataframe tbody tr th {\n",
              "        vertical-align: top;\n",
              "    }\n",
              "\n",
              "    .dataframe thead th {\n",
              "        text-align: right;\n",
              "    }\n",
              "</style>\n",
              "<table border=\"1\" class=\"dataframe\">\n",
              "  <thead>\n",
              "    <tr style=\"text-align: right;\">\n",
              "      <th></th>\n",
              "      <th>M/F</th>\n",
              "      <th>Age</th>\n",
              "      <th>EDUC</th>\n",
              "      <th>SES</th>\n",
              "      <th>MMSE</th>\n",
              "      <th>CDR</th>\n",
              "    </tr>\n",
              "  </thead>\n",
              "  <tbody>\n",
              "    <tr>\n",
              "      <th>0</th>\n",
              "      <td>M</td>\n",
              "      <td>87</td>\n",
              "      <td>14</td>\n",
              "      <td>2.0</td>\n",
              "      <td>27.0</td>\n",
              "      <td>0.0</td>\n",
              "    </tr>\n",
              "    <tr>\n",
              "      <th>1</th>\n",
              "      <td>M</td>\n",
              "      <td>88</td>\n",
              "      <td>14</td>\n",
              "      <td>2.0</td>\n",
              "      <td>30.0</td>\n",
              "      <td>0.0</td>\n",
              "    </tr>\n",
              "    <tr>\n",
              "      <th>2</th>\n",
              "      <td>M</td>\n",
              "      <td>75</td>\n",
              "      <td>12</td>\n",
              "      <td>NaN</td>\n",
              "      <td>23.0</td>\n",
              "      <td>0.5</td>\n",
              "    </tr>\n",
              "    <tr>\n",
              "      <th>3</th>\n",
              "      <td>M</td>\n",
              "      <td>76</td>\n",
              "      <td>12</td>\n",
              "      <td>NaN</td>\n",
              "      <td>28.0</td>\n",
              "      <td>0.5</td>\n",
              "    </tr>\n",
              "    <tr>\n",
              "      <th>4</th>\n",
              "      <td>M</td>\n",
              "      <td>80</td>\n",
              "      <td>12</td>\n",
              "      <td>NaN</td>\n",
              "      <td>22.0</td>\n",
              "      <td>0.5</td>\n",
              "    </tr>\n",
              "  </tbody>\n",
              "</table>\n",
              "</div>"
            ],
            "text/plain": [
              "  M/F  Age  EDUC  SES  MMSE  CDR\n",
              "0   M   87    14  2.0  27.0  0.0\n",
              "1   M   88    14  2.0  30.0  0.0\n",
              "2   M   75    12  NaN  23.0  0.5\n",
              "3   M   76    12  NaN  28.0  0.5\n",
              "4   M   80    12  NaN  22.0  0.5"
            ]
          },
          "metadata": {
            "tags": []
          },
          "execution_count": 9
        }
      ]
    },
    {
      "cell_type": "code",
      "metadata": {
        "colab": {
          "base_uri": "https://localhost:8080/",
          "height": 419
        },
        "id": "J2bRBrchR4M9",
        "outputId": "51065675-6ace-4554-8efa-9a752ca12300"
      },
      "source": [
        "df = pd.concat([df_cross, df_long])\n",
        "df = df[df['CDR'].notna()]\n",
        "df = df[df['SES'].notna()]\n",
        "df = df[df['MMSE'].notna()]\n",
        "df"
      ],
      "execution_count": 234,
      "outputs": [
        {
          "output_type": "execute_result",
          "data": {
            "text/html": [
              "<div>\n",
              "<style scoped>\n",
              "    .dataframe tbody tr th:only-of-type {\n",
              "        vertical-align: middle;\n",
              "    }\n",
              "\n",
              "    .dataframe tbody tr th {\n",
              "        vertical-align: top;\n",
              "    }\n",
              "\n",
              "    .dataframe thead th {\n",
              "        text-align: right;\n",
              "    }\n",
              "</style>\n",
              "<table border=\"1\" class=\"dataframe\">\n",
              "  <thead>\n",
              "    <tr style=\"text-align: right;\">\n",
              "      <th></th>\n",
              "      <th>M/F</th>\n",
              "      <th>Age</th>\n",
              "      <th>EDUC</th>\n",
              "      <th>SES</th>\n",
              "      <th>MMSE</th>\n",
              "      <th>CDR</th>\n",
              "    </tr>\n",
              "  </thead>\n",
              "  <tbody>\n",
              "    <tr>\n",
              "      <th>0</th>\n",
              "      <td>F</td>\n",
              "      <td>74</td>\n",
              "      <td>2.0</td>\n",
              "      <td>3.0</td>\n",
              "      <td>29.0</td>\n",
              "      <td>0.0</td>\n",
              "    </tr>\n",
              "    <tr>\n",
              "      <th>1</th>\n",
              "      <td>F</td>\n",
              "      <td>55</td>\n",
              "      <td>4.0</td>\n",
              "      <td>1.0</td>\n",
              "      <td>29.0</td>\n",
              "      <td>0.0</td>\n",
              "    </tr>\n",
              "    <tr>\n",
              "      <th>2</th>\n",
              "      <td>F</td>\n",
              "      <td>73</td>\n",
              "      <td>4.0</td>\n",
              "      <td>3.0</td>\n",
              "      <td>27.0</td>\n",
              "      <td>0.5</td>\n",
              "    </tr>\n",
              "    <tr>\n",
              "      <th>8</th>\n",
              "      <td>M</td>\n",
              "      <td>74</td>\n",
              "      <td>5.0</td>\n",
              "      <td>2.0</td>\n",
              "      <td>30.0</td>\n",
              "      <td>0.0</td>\n",
              "    </tr>\n",
              "    <tr>\n",
              "      <th>9</th>\n",
              "      <td>F</td>\n",
              "      <td>52</td>\n",
              "      <td>3.0</td>\n",
              "      <td>2.0</td>\n",
              "      <td>30.0</td>\n",
              "      <td>0.0</td>\n",
              "    </tr>\n",
              "    <tr>\n",
              "      <th>...</th>\n",
              "      <td>...</td>\n",
              "      <td>...</td>\n",
              "      <td>...</td>\n",
              "      <td>...</td>\n",
              "      <td>...</td>\n",
              "      <td>...</td>\n",
              "    </tr>\n",
              "    <tr>\n",
              "      <th>368</th>\n",
              "      <td>M</td>\n",
              "      <td>82</td>\n",
              "      <td>16.0</td>\n",
              "      <td>1.0</td>\n",
              "      <td>28.0</td>\n",
              "      <td>0.5</td>\n",
              "    </tr>\n",
              "    <tr>\n",
              "      <th>369</th>\n",
              "      <td>M</td>\n",
              "      <td>86</td>\n",
              "      <td>16.0</td>\n",
              "      <td>1.0</td>\n",
              "      <td>26.0</td>\n",
              "      <td>0.5</td>\n",
              "    </tr>\n",
              "    <tr>\n",
              "      <th>370</th>\n",
              "      <td>F</td>\n",
              "      <td>61</td>\n",
              "      <td>13.0</td>\n",
              "      <td>2.0</td>\n",
              "      <td>30.0</td>\n",
              "      <td>0.0</td>\n",
              "    </tr>\n",
              "    <tr>\n",
              "      <th>371</th>\n",
              "      <td>F</td>\n",
              "      <td>63</td>\n",
              "      <td>13.0</td>\n",
              "      <td>2.0</td>\n",
              "      <td>30.0</td>\n",
              "      <td>0.0</td>\n",
              "    </tr>\n",
              "    <tr>\n",
              "      <th>372</th>\n",
              "      <td>F</td>\n",
              "      <td>65</td>\n",
              "      <td>13.0</td>\n",
              "      <td>2.0</td>\n",
              "      <td>30.0</td>\n",
              "      <td>0.0</td>\n",
              "    </tr>\n",
              "  </tbody>\n",
              "</table>\n",
              "<p>570 rows × 6 columns</p>\n",
              "</div>"
            ],
            "text/plain": [
              "    M/F  Age  EDUC  SES  MMSE  CDR\n",
              "0     F   74   2.0  3.0  29.0  0.0\n",
              "1     F   55   4.0  1.0  29.0  0.0\n",
              "2     F   73   4.0  3.0  27.0  0.5\n",
              "8     M   74   5.0  2.0  30.0  0.0\n",
              "9     F   52   3.0  2.0  30.0  0.0\n",
              "..   ..  ...   ...  ...   ...  ...\n",
              "368   M   82  16.0  1.0  28.0  0.5\n",
              "369   M   86  16.0  1.0  26.0  0.5\n",
              "370   F   61  13.0  2.0  30.0  0.0\n",
              "371   F   63  13.0  2.0  30.0  0.0\n",
              "372   F   65  13.0  2.0  30.0  0.0\n",
              "\n",
              "[570 rows x 6 columns]"
            ]
          },
          "metadata": {
            "tags": []
          },
          "execution_count": 234
        }
      ]
    },
    {
      "cell_type": "code",
      "metadata": {
        "colab": {
          "base_uri": "https://localhost:8080/"
        },
        "id": "phbSyBE8TPw6",
        "outputId": "0e41889c-b166-4b52-9f34-71e13e81d654"
      },
      "source": [
        "df['CDR'] = df['CDR'].replace(\n",
        "    [0.0, 0.5, 1.0, 2.0],\n",
        "    [0, 0, 1, 1]\n",
        ")\n",
        "\n",
        "print(df['CDR'].unique())"
      ],
      "execution_count": 235,
      "outputs": [
        {
          "output_type": "stream",
          "text": [
            "[0. 1.]\n"
          ],
          "name": "stdout"
        }
      ]
    },
    {
      "cell_type": "code",
      "metadata": {
        "id": "UtHuJxCs6eyc",
        "outputId": "9fbaf809-8c2a-4595-bcec-cf486fd9efdb",
        "colab": {
          "base_uri": "https://localhost:8080/"
        }
      },
      "source": [
        "df_temp = df[df['CDR'] == 0]\n",
        "df_temp = df_temp[:200]\n",
        "new_df = df_temp.append(df[df['CDR'] == 1])\n",
        "\n",
        "df = new_df\n",
        "print(len(df))"
      ],
      "execution_count": 236,
      "outputs": [
        {
          "output_type": "stream",
          "text": [
            "264\n"
          ],
          "name": "stdout"
        }
      ]
    },
    {
      "cell_type": "code",
      "metadata": {
        "id": "FiwtFqhdePTK",
        "colab": {
          "base_uri": "https://localhost:8080/",
          "height": 356
        },
        "outputId": "ffb32c7d-139a-4217-cb5b-8fb75f5dd248"
      },
      "source": [
        "sns.countplot(df['CDR'])"
      ],
      "execution_count": 237,
      "outputs": [
        {
          "output_type": "stream",
          "text": [
            "/usr/local/lib/python3.7/dist-packages/seaborn/_decorators.py:43: FutureWarning: Pass the following variable as a keyword arg: x. From version 0.12, the only valid positional argument will be `data`, and passing other arguments without an explicit keyword will result in an error or misinterpretation.\n",
            "  FutureWarning\n"
          ],
          "name": "stderr"
        },
        {
          "output_type": "execute_result",
          "data": {
            "text/plain": [
              "<matplotlib.axes._subplots.AxesSubplot at 0x7f9945395510>"
            ]
          },
          "metadata": {
            "tags": []
          },
          "execution_count": 237
        },
        {
          "output_type": "display_data",
          "data": {
            "image/png": "[encoded data removed]",
            "text/plain": [
              "<Figure size 432x288 with 1 Axes>"
            ]
          },
          "metadata": {
            "tags": [],
            "needs_background": "light"
          }
        }
      ]
    },
    {
      "cell_type": "code",
      "metadata": {
        "id": "AIBauZZzgnP7",
        "colab": {
          "base_uri": "https://localhost:8080/"
        },
        "outputId": "247c432d-dc40-47fe-fb5b-9aa870ca595f"
      },
      "source": [
        "df.isnull().sum()"
      ],
      "execution_count": 238,
      "outputs": [
        {
          "output_type": "execute_result",
          "data": {
            "text/plain": [
              "M/F     0\n",
              "Age     0\n",
              "EDUC    0\n",
              "SES     0\n",
              "MMSE    0\n",
              "CDR     0\n",
              "dtype: int64"
            ]
          },
          "metadata": {
            "tags": []
          },
          "execution_count": 238
        }
      ]
    },
    {
      "cell_type": "code",
      "metadata": {
        "colab": {
          "base_uri": "https://localhost:8080/",
          "height": 419
        },
        "id": "Kvh4GkShXqaZ",
        "outputId": "2a9aa84e-b556-42bd-f455-0a0115c3abdb"
      },
      "source": [
        "gender = pd.get_dummies(df['M/F'])\n",
        "\n",
        "df = df.drop(columns=['M/F'])\n",
        "df = pd.concat([df, gender], axis=1)\n",
        "df"
      ],
      "execution_count": 239,
      "outputs": [
        {
          "output_type": "execute_result",
          "data": {
            "text/html": [
              "<div>\n",
              "<style scoped>\n",
              "    .dataframe tbody tr th:only-of-type {\n",
              "        vertical-align: middle;\n",
              "    }\n",
              "\n",
              "    .dataframe tbody tr th {\n",
              "        vertical-align: top;\n",
              "    }\n",
              "\n",
              "    .dataframe thead th {\n",
              "        text-align: right;\n",
              "    }\n",
              "</style>\n",
              "<table border=\"1\" class=\"dataframe\">\n",
              "  <thead>\n",
              "    <tr style=\"text-align: right;\">\n",
              "      <th></th>\n",
              "      <th>Age</th>\n",
              "      <th>EDUC</th>\n",
              "      <th>SES</th>\n",
              "      <th>MMSE</th>\n",
              "      <th>CDR</th>\n",
              "      <th>F</th>\n",
              "      <th>M</th>\n",
              "    </tr>\n",
              "  </thead>\n",
              "  <tbody>\n",
              "    <tr>\n",
              "      <th>0</th>\n",
              "      <td>74</td>\n",
              "      <td>2.0</td>\n",
              "      <td>3.0</td>\n",
              "      <td>29.0</td>\n",
              "      <td>0.0</td>\n",
              "      <td>1</td>\n",
              "      <td>0</td>\n",
              "    </tr>\n",
              "    <tr>\n",
              "      <th>1</th>\n",
              "      <td>55</td>\n",
              "      <td>4.0</td>\n",
              "      <td>1.0</td>\n",
              "      <td>29.0</td>\n",
              "      <td>0.0</td>\n",
              "      <td>1</td>\n",
              "      <td>0</td>\n",
              "    </tr>\n",
              "    <tr>\n",
              "      <th>2</th>\n",
              "      <td>73</td>\n",
              "      <td>4.0</td>\n",
              "      <td>3.0</td>\n",
              "      <td>27.0</td>\n",
              "      <td>0.0</td>\n",
              "      <td>1</td>\n",
              "      <td>0</td>\n",
              "    </tr>\n",
              "    <tr>\n",
              "      <th>8</th>\n",
              "      <td>74</td>\n",
              "      <td>5.0</td>\n",
              "      <td>2.0</td>\n",
              "      <td>30.0</td>\n",
              "      <td>0.0</td>\n",
              "      <td>0</td>\n",
              "      <td>1</td>\n",
              "    </tr>\n",
              "    <tr>\n",
              "      <th>9</th>\n",
              "      <td>52</td>\n",
              "      <td>3.0</td>\n",
              "      <td>2.0</td>\n",
              "      <td>30.0</td>\n",
              "      <td>0.0</td>\n",
              "      <td>1</td>\n",
              "      <td>0</td>\n",
              "    </tr>\n",
              "    <tr>\n",
              "      <th>...</th>\n",
              "      <td>...</td>\n",
              "      <td>...</td>\n",
              "      <td>...</td>\n",
              "      <td>...</td>\n",
              "      <td>...</td>\n",
              "      <td>...</td>\n",
              "      <td>...</td>\n",
              "    </tr>\n",
              "    <tr>\n",
              "      <th>329</th>\n",
              "      <td>77</td>\n",
              "      <td>20.0</td>\n",
              "      <td>1.0</td>\n",
              "      <td>23.0</td>\n",
              "      <td>1.0</td>\n",
              "      <td>0</td>\n",
              "      <td>1</td>\n",
              "    </tr>\n",
              "    <tr>\n",
              "      <th>330</th>\n",
              "      <td>79</td>\n",
              "      <td>20.0</td>\n",
              "      <td>1.0</td>\n",
              "      <td>25.0</td>\n",
              "      <td>1.0</td>\n",
              "      <td>0</td>\n",
              "      <td>1</td>\n",
              "    </tr>\n",
              "    <tr>\n",
              "      <th>331</th>\n",
              "      <td>78</td>\n",
              "      <td>12.0</td>\n",
              "      <td>3.0</td>\n",
              "      <td>23.0</td>\n",
              "      <td>1.0</td>\n",
              "      <td>0</td>\n",
              "      <td>1</td>\n",
              "    </tr>\n",
              "    <tr>\n",
              "      <th>332</th>\n",
              "      <td>80</td>\n",
              "      <td>12.0</td>\n",
              "      <td>3.0</td>\n",
              "      <td>17.0</td>\n",
              "      <td>1.0</td>\n",
              "      <td>0</td>\n",
              "      <td>1</td>\n",
              "    </tr>\n",
              "    <tr>\n",
              "      <th>366</th>\n",
              "      <td>73</td>\n",
              "      <td>16.0</td>\n",
              "      <td>3.0</td>\n",
              "      <td>21.0</td>\n",
              "      <td>1.0</td>\n",
              "      <td>1</td>\n",
              "      <td>0</td>\n",
              "    </tr>\n",
              "  </tbody>\n",
              "</table>\n",
              "<p>264 rows × 7 columns</p>\n",
              "</div>"
            ],
            "text/plain": [
              "     Age  EDUC  SES  MMSE  CDR  F  M\n",
              "0     74   2.0  3.0  29.0  0.0  1  0\n",
              "1     55   4.0  1.0  29.0  0.0  1  0\n",
              "2     73   4.0  3.0  27.0  0.0  1  0\n",
              "8     74   5.0  2.0  30.0  0.0  0  1\n",
              "9     52   3.0  2.0  30.0  0.0  1  0\n",
              "..   ...   ...  ...   ...  ... .. ..\n",
              "329   77  20.0  1.0  23.0  1.0  0  1\n",
              "330   79  20.0  1.0  25.0  1.0  0  1\n",
              "331   78  12.0  3.0  23.0  1.0  0  1\n",
              "332   80  12.0  3.0  17.0  1.0  0  1\n",
              "366   73  16.0  3.0  21.0  1.0  1  0\n",
              "\n",
              "[264 rows x 7 columns]"
            ]
          },
          "metadata": {
            "tags": []
          },
          "execution_count": 239
        }
      ]
    },
    {
      "cell_type": "code",
      "metadata": {
        "id": "FEh0_AEu6o2a",
        "outputId": "dfec3f91-6379-4ffd-cd18-d556c7717101",
        "colab": {
          "base_uri": "https://localhost:8080/"
        }
      },
      "source": [
        "df_normal = df[df['CDR'] == 0]\n",
        "df_dementia = df[df['CDR'] == 1]\n",
        "\n",
        "print(df_normal.tail())\n",
        "print(df_dementia.tail())\n",
        "print()\n",
        "print(len(df_normal))\n",
        "print(len(df_dementia))"
      ],
      "execution_count": 318,
      "outputs": [
        {
          "output_type": "stream",
          "text": [
            "    Age  EDUC  SES  MMSE  CDR  F  M\n",
            "8    83  12.0  4.0  29.0  0.0  0  1\n",
            "9    85  12.0  4.0  30.0  0.0  0  1\n",
            "13   93  14.0  2.0  30.0  0.0  1  0\n",
            "14   95  14.0  2.0  29.0  0.0  1  0\n",
            "15   68  12.0  2.0  27.0  0.0  0  1\n",
            "     Age  EDUC  SES  MMSE  CDR  F  M\n",
            "329   77  20.0  1.0  23.0  1.0  0  1\n",
            "330   79  20.0  1.0  25.0  1.0  0  1\n",
            "331   78  12.0  3.0  23.0  1.0  0  1\n",
            "332   80  12.0  3.0  17.0  1.0  0  1\n",
            "366   73  16.0  3.0  21.0  1.0  1  0\n",
            "\n",
            "200\n",
            "64\n"
          ],
          "name": "stdout"
        }
      ]
    },
    {
      "cell_type": "code",
      "metadata": {
        "id": "0pqiNbbkkpX1"
      },
      "source": [
        "x_normal = df_normal[['Age', 'EDUC', 'SES', 'MMSE', 'F',\t'M']].values\n",
        "y_normal = df_normal[['CDR']].values\n",
        "\n",
        "x_dementia = df_dementia[['Age', 'EDUC', 'SES', 'MMSE', 'F',\t'M']].values\n",
        "y_dementia = df_dementia[['CDR']].values"
      ],
      "execution_count": 241,
      "outputs": []
    },
    {
      "cell_type": "code",
      "metadata": {
        "colab": {
          "base_uri": "https://localhost:8080/"
        },
        "id": "pz49HmC2mbD_",
        "outputId": "18c62e46-ae8c-4db4-e16a-baf92540b7b0"
      },
      "source": [
        "split = 0.2\n",
        "x_train_normal, x_test_normal, y_train_normal, y_test_normal = train_test_split(x_normal, y_normal, test_size=split, random_state=42)\n",
        "x_train_dementia, x_test_dementia, y_train_dementia, y_test_dementia = train_test_split(x_dementia, y_dementia, test_size=split, random_state=42)\n",
        "\n",
        "print(len(x_test_normal))\n",
        "print(len(x_test_dementia))"
      ],
      "execution_count": 242,
      "outputs": [
        {
          "output_type": "stream",
          "text": [
            "40\n",
            "13\n"
          ],
          "name": "stdout"
        }
      ]
    },
    {
      "cell_type": "code",
      "metadata": {
        "id": "8PwtKiVZnyfz"
      },
      "source": [
        "x_train = (x_train_normal, x_train_dementia)\n",
        "x_test = (x_test_normal, x_test_dementia)\n",
        "y_train = (y_train_normal, y_train_dementia)\n",
        "y_test = (y_test_normal, y_test_dementia)"
      ],
      "execution_count": 243,
      "outputs": []
    },
    {
      "cell_type": "code",
      "metadata": {
        "id": "ZZqxdT46llkv"
      },
      "source": [
        "x_train, x_test, y_train, y_test = np.concatenate(x_train), np.concatenate(x_test), np.concatenate(y_train), np.concatenate(y_test)"
      ],
      "execution_count": 244,
      "outputs": []
    },
    {
      "cell_type": "code",
      "metadata": {
        "id": "UTbSWoF8mDJZ",
        "colab": {
          "base_uri": "https://localhost:8080/"
        },
        "outputId": "2c0ce02f-800b-468d-bddc-be390be95bd6"
      },
      "source": [
        "print(x_train.shape)\n",
        "print(x_test.shape)"
      ],
      "execution_count": 245,
      "outputs": [
        {
          "output_type": "stream",
          "text": [
            "(211, 6)\n",
            "(53, 6)\n"
          ],
          "name": "stdout"
        }
      ]
    },
    {
      "cell_type": "code",
      "metadata": {
        "id": "8WPCmv1Iwr-x"
      },
      "source": [
        "scaler = MinMaxScaler().fit(x_train)\n",
        "x_train_scaled = scaler.transform(x_train)\n",
        "x_test_scaled = scaler.transform(x_test)"
      ],
      "execution_count": 246,
      "outputs": []
    },
    {
      "cell_type": "code",
      "metadata": {
        "id": "2IxblKM3ltbL",
        "colab": {
          "base_uri": "https://localhost:8080/"
        },
        "outputId": "acd27a98-a160-4927-a148-6db24ec62781"
      },
      "source": [
        "model = tf.keras.Sequential([\n",
        "                             tf.keras.layers.Dense(16, activation='relu', input_shape=[6]),\n",
        "                             tf.keras.layers.Dropout(0.2),\n",
        "                             tf.keras.layers.Dense(8, activation='relu'),\n",
        "                             tf.keras.layers.Dropout(0.2),\n",
        "                             tf.keras.layers.Dense(1, activation='sigmoid')    \n",
        "])\n",
        "\n",
        "model.compile(\n",
        "    optimizer=tf.keras.optimizers.Adam(),\n",
        "    loss='binary_crossentropy',\n",
        "    metrics=['accuracy']\n",
        ")\n",
        "\n",
        "model.summary()"
      ],
      "execution_count": 295,
      "outputs": [
        {
          "output_type": "stream",
          "text": [
            "Model: \"sequential_21\"\n",
            "_________________________________________________________________\n",
            "Layer (type)                 Output Shape              Param #   \n",
            "=================================================================\n",
            "dense_63 (Dense)             (None, 16)                112       \n",
            "_________________________________________________________________\n",
            "dropout_42 (Dropout)         (None, 16)                0         \n",
            "_________________________________________________________________\n",
            "dense_64 (Dense)             (None, 8)                 136       \n",
            "_________________________________________________________________\n",
            "dropout_43 (Dropout)         (None, 8)                 0         \n",
            "_________________________________________________________________\n",
            "dense_65 (Dense)             (None, 1)                 9         \n",
            "=================================================================\n",
            "Total params: 257\n",
            "Trainable params: 257\n",
            "Non-trainable params: 0\n",
            "_________________________________________________________________\n"
          ],
          "name": "stdout"
        }
      ]
    },
    {
      "cell_type": "code",
      "metadata": {
        "id": "Q-HBgN4USNUL"
      },
      "source": [
        "class StopTraining(tf.keras.callbacks.Callback):\n",
        "  def on_epoch_end(self, epoch, logs=None):\n",
        "    accuracy = 0.90\n",
        "    loss = 0.3\n",
        "    if(logs.get('accuracy') >= accuracy and logs.get('val_accuracy') >= accuracy and\n",
        "       logs.get('loss') <= loss and logs.get('val_loss') <= loss):\n",
        "      print('\\nSudah mencapai akurasi {}%, proses training berhenti'.format(accuracy*100))\n",
        "      self.model.stop_training = True\n",
        "\n",
        "mc = ModelCheckpoint('best_model.h5', monitor='val_loss', save_best_only=True)\n",
        "es = EarlyStopping(monitor='val_loss', patience=100)\n",
        "st = StopTraining()"
      ],
      "execution_count": 296,
      "outputs": []
    },
    {
      "cell_type": "code",
      "metadata": {
        "id": "Q7rlcFzunmen",
        "colab": {
          "base_uri": "https://localhost:8080/"
        },
        "outputId": "81190f97-abd9-4181-9524-d715dd032e72"
      },
      "source": [
        "history = model.fit(x_train_scaled, y_train, epochs=500, validation_data=(x_test_scaled, y_test), callbacks=[mc, es, st], verbose=2)"
      ],
      "execution_count": 297,
      "outputs": [
        {
          "output_type": "stream",
          "text": [
            "Epoch 1/500\n",
            "7/7 - 1s - loss: 0.5957 - accuracy: 0.7441 - val_loss: 0.5610 - val_accuracy: 0.7547\n",
            "Epoch 2/500\n",
            "7/7 - 0s - loss: 0.5632 - accuracy: 0.7630 - val_loss: 0.5457 - val_accuracy: 0.7547\n",
            "Epoch 3/500\n",
            "7/7 - 0s - loss: 0.5586 - accuracy: 0.7678 - val_loss: 0.5317 - val_accuracy: 0.7547\n",
            "Epoch 4/500\n",
            "7/7 - 0s - loss: 0.5150 - accuracy: 0.7773 - val_loss: 0.5204 - val_accuracy: 0.7547\n",
            "Epoch 5/500\n",
            "7/7 - 0s - loss: 0.5376 - accuracy: 0.7488 - val_loss: 0.5105 - val_accuracy: 0.7547\n",
            "Epoch 6/500\n",
            "7/7 - 0s - loss: 0.5175 - accuracy: 0.7583 - val_loss: 0.5023 - val_accuracy: 0.7547\n",
            "Epoch 7/500\n",
            "7/7 - 0s - loss: 0.5217 - accuracy: 0.7536 - val_loss: 0.4955 - val_accuracy: 0.7547\n",
            "Epoch 8/500\n",
            "7/7 - 0s - loss: 0.5066 - accuracy: 0.7536 - val_loss: 0.4887 - val_accuracy: 0.7547\n",
            "Epoch 9/500\n",
            "7/7 - 0s - loss: 0.5272 - accuracy: 0.7583 - val_loss: 0.4818 - val_accuracy: 0.7547\n",
            "Epoch 10/500\n",
            "7/7 - 0s - loss: 0.5145 - accuracy: 0.7678 - val_loss: 0.4744 - val_accuracy: 0.7547\n",
            "Epoch 11/500\n",
            "7/7 - 0s - loss: 0.4868 - accuracy: 0.7678 - val_loss: 0.4661 - val_accuracy: 0.7547\n",
            "Epoch 12/500\n",
            "7/7 - 0s - loss: 0.5038 - accuracy: 0.7630 - val_loss: 0.4589 - val_accuracy: 0.7547\n",
            "Epoch 13/500\n",
            "7/7 - 0s - loss: 0.4737 - accuracy: 0.7725 - val_loss: 0.4530 - val_accuracy: 0.7547\n",
            "Epoch 14/500\n",
            "7/7 - 0s - loss: 0.4732 - accuracy: 0.7820 - val_loss: 0.4472 - val_accuracy: 0.7547\n",
            "Epoch 15/500\n",
            "7/7 - 0s - loss: 0.4572 - accuracy: 0.7678 - val_loss: 0.4415 - val_accuracy: 0.7736\n",
            "Epoch 16/500\n",
            "7/7 - 0s - loss: 0.4746 - accuracy: 0.7773 - val_loss: 0.4360 - val_accuracy: 0.7736\n",
            "Epoch 17/500\n",
            "7/7 - 0s - loss: 0.4773 - accuracy: 0.7678 - val_loss: 0.4303 - val_accuracy: 0.7736\n",
            "Epoch 18/500\n",
            "7/7 - 0s - loss: 0.4737 - accuracy: 0.7678 - val_loss: 0.4255 - val_accuracy: 0.7736\n",
            "Epoch 19/500\n",
            "7/7 - 0s - loss: 0.4720 - accuracy: 0.7962 - val_loss: 0.4208 - val_accuracy: 0.7736\n",
            "Epoch 20/500\n",
            "7/7 - 0s - loss: 0.4579 - accuracy: 0.7820 - val_loss: 0.4170 - val_accuracy: 0.7736\n",
            "Epoch 21/500\n",
            "7/7 - 0s - loss: 0.4812 - accuracy: 0.7725 - val_loss: 0.4125 - val_accuracy: 0.7736\n",
            "Epoch 22/500\n",
            "7/7 - 0s - loss: 0.4418 - accuracy: 0.7962 - val_loss: 0.4084 - val_accuracy: 0.7925\n",
            "Epoch 23/500\n",
            "7/7 - 0s - loss: 0.4504 - accuracy: 0.8104 - val_loss: 0.4042 - val_accuracy: 0.8113\n",
            "Epoch 24/500\n",
            "7/7 - 0s - loss: 0.4414 - accuracy: 0.8057 - val_loss: 0.4010 - val_accuracy: 0.8113\n",
            "Epoch 25/500\n",
            "7/7 - 0s - loss: 0.4224 - accuracy: 0.8199 - val_loss: 0.3977 - val_accuracy: 0.8113\n",
            "Epoch 26/500\n",
            "7/7 - 0s - loss: 0.4284 - accuracy: 0.8246 - val_loss: 0.3934 - val_accuracy: 0.8113\n",
            "Epoch 27/500\n",
            "7/7 - 0s - loss: 0.4307 - accuracy: 0.8057 - val_loss: 0.3894 - val_accuracy: 0.8302\n",
            "Epoch 28/500\n",
            "7/7 - 0s - loss: 0.4349 - accuracy: 0.8246 - val_loss: 0.3858 - val_accuracy: 0.8302\n",
            "Epoch 29/500\n",
            "7/7 - 0s - loss: 0.4159 - accuracy: 0.8246 - val_loss: 0.3823 - val_accuracy: 0.8302\n",
            "Epoch 30/500\n",
            "7/7 - 0s - loss: 0.4081 - accuracy: 0.8389 - val_loss: 0.3770 - val_accuracy: 0.8302\n",
            "Epoch 31/500\n",
            "7/7 - 0s - loss: 0.4202 - accuracy: 0.8531 - val_loss: 0.3738 - val_accuracy: 0.8302\n",
            "Epoch 32/500\n",
            "7/7 - 0s - loss: 0.4174 - accuracy: 0.8294 - val_loss: 0.3707 - val_accuracy: 0.8302\n",
            "Epoch 33/500\n",
            "7/7 - 0s - loss: 0.4149 - accuracy: 0.8246 - val_loss: 0.3676 - val_accuracy: 0.8302\n",
            "Epoch 34/500\n",
            "7/7 - 0s - loss: 0.4117 - accuracy: 0.8436 - val_loss: 0.3646 - val_accuracy: 0.8302\n",
            "Epoch 35/500\n",
            "7/7 - 0s - loss: 0.3897 - accuracy: 0.8389 - val_loss: 0.3624 - val_accuracy: 0.8302\n",
            "Epoch 36/500\n",
            "7/7 - 0s - loss: 0.3995 - accuracy: 0.8483 - val_loss: 0.3605 - val_accuracy: 0.8302\n",
            "Epoch 37/500\n",
            "7/7 - 0s - loss: 0.4134 - accuracy: 0.8341 - val_loss: 0.3587 - val_accuracy: 0.8302\n",
            "Epoch 38/500\n",
            "7/7 - 0s - loss: 0.3762 - accuracy: 0.8152 - val_loss: 0.3554 - val_accuracy: 0.8302\n",
            "Epoch 39/500\n",
            "7/7 - 0s - loss: 0.3767 - accuracy: 0.8673 - val_loss: 0.3529 - val_accuracy: 0.8302\n",
            "Epoch 40/500\n",
            "7/7 - 0s - loss: 0.3944 - accuracy: 0.8341 - val_loss: 0.3485 - val_accuracy: 0.8302\n",
            "Epoch 41/500\n",
            "7/7 - 0s - loss: 0.4021 - accuracy: 0.8294 - val_loss: 0.3458 - val_accuracy: 0.8302\n",
            "Epoch 42/500\n",
            "7/7 - 0s - loss: 0.3798 - accuracy: 0.8483 - val_loss: 0.3437 - val_accuracy: 0.8302\n",
            "Epoch 43/500\n",
            "7/7 - 0s - loss: 0.4063 - accuracy: 0.8389 - val_loss: 0.3424 - val_accuracy: 0.8302\n",
            "Epoch 44/500\n",
            "7/7 - 0s - loss: 0.3884 - accuracy: 0.8341 - val_loss: 0.3394 - val_accuracy: 0.8491\n",
            "Epoch 45/500\n",
            "7/7 - 0s - loss: 0.4072 - accuracy: 0.8389 - val_loss: 0.3360 - val_accuracy: 0.8491\n",
            "Epoch 46/500\n",
            "7/7 - 0s - loss: 0.3814 - accuracy: 0.8436 - val_loss: 0.3342 - val_accuracy: 0.8491\n",
            "Epoch 47/500\n",
            "7/7 - 0s - loss: 0.3693 - accuracy: 0.8436 - val_loss: 0.3340 - val_accuracy: 0.8491\n",
            "Epoch 48/500\n",
            "7/7 - 0s - loss: 0.3690 - accuracy: 0.8341 - val_loss: 0.3315 - val_accuracy: 0.8679\n",
            "Epoch 49/500\n",
            "7/7 - 0s - loss: 0.3339 - accuracy: 0.8815 - val_loss: 0.3291 - val_accuracy: 0.8679\n",
            "Epoch 50/500\n",
            "7/7 - 0s - loss: 0.3872 - accuracy: 0.8578 - val_loss: 0.3258 - val_accuracy: 0.8868\n",
            "Epoch 51/500\n",
            "7/7 - 0s - loss: 0.3520 - accuracy: 0.8768 - val_loss: 0.3239 - val_accuracy: 0.8868\n",
            "Epoch 52/500\n",
            "7/7 - 0s - loss: 0.3794 - accuracy: 0.8531 - val_loss: 0.3222 - val_accuracy: 0.8679\n",
            "Epoch 53/500\n",
            "7/7 - 0s - loss: 0.3426 - accuracy: 0.8578 - val_loss: 0.3191 - val_accuracy: 0.8868\n",
            "Epoch 54/500\n",
            "7/7 - 0s - loss: 0.3532 - accuracy: 0.8578 - val_loss: 0.3157 - val_accuracy: 0.8868\n",
            "Epoch 55/500\n",
            "7/7 - 0s - loss: 0.3431 - accuracy: 0.8389 - val_loss: 0.3136 - val_accuracy: 0.9057\n",
            "Epoch 56/500\n",
            "7/7 - 0s - loss: 0.3513 - accuracy: 0.8436 - val_loss: 0.3119 - val_accuracy: 0.9057\n",
            "Epoch 57/500\n",
            "7/7 - 0s - loss: 0.3482 - accuracy: 0.8578 - val_loss: 0.3103 - val_accuracy: 0.9245\n",
            "Epoch 58/500\n",
            "7/7 - 0s - loss: 0.3557 - accuracy: 0.8578 - val_loss: 0.3086 - val_accuracy: 0.9245\n",
            "Epoch 59/500\n",
            "7/7 - 0s - loss: 0.3496 - accuracy: 0.8673 - val_loss: 0.3057 - val_accuracy: 0.9245\n",
            "Epoch 60/500\n",
            "7/7 - 0s - loss: 0.3432 - accuracy: 0.8626 - val_loss: 0.3061 - val_accuracy: 0.9245\n",
            "Epoch 61/500\n",
            "7/7 - 0s - loss: 0.3395 - accuracy: 0.8436 - val_loss: 0.3072 - val_accuracy: 0.9245\n",
            "Epoch 62/500\n",
            "7/7 - 0s - loss: 0.3602 - accuracy: 0.8436 - val_loss: 0.3063 - val_accuracy: 0.9245\n",
            "Epoch 63/500\n",
            "7/7 - 0s - loss: 0.3815 - accuracy: 0.8483 - val_loss: 0.3025 - val_accuracy: 0.9245\n",
            "Epoch 64/500\n",
            "7/7 - 0s - loss: 0.3652 - accuracy: 0.8436 - val_loss: 0.3008 - val_accuracy: 0.9245\n",
            "Epoch 65/500\n",
            "7/7 - 0s - loss: 0.3582 - accuracy: 0.8626 - val_loss: 0.2991 - val_accuracy: 0.9245\n",
            "Epoch 66/500\n",
            "7/7 - 0s - loss: 0.3638 - accuracy: 0.8483 - val_loss: 0.3008 - val_accuracy: 0.9245\n",
            "Epoch 67/500\n",
            "7/7 - 0s - loss: 0.3620 - accuracy: 0.8294 - val_loss: 0.3036 - val_accuracy: 0.9245\n",
            "Epoch 68/500\n",
            "7/7 - 0s - loss: 0.3292 - accuracy: 0.8673 - val_loss: 0.3042 - val_accuracy: 0.9245\n",
            "Epoch 69/500\n",
            "7/7 - 0s - loss: 0.3504 - accuracy: 0.8578 - val_loss: 0.3065 - val_accuracy: 0.9245\n",
            "Epoch 70/500\n",
            "7/7 - 0s - loss: 0.3374 - accuracy: 0.8483 - val_loss: 0.3060 - val_accuracy: 0.9245\n",
            "Epoch 71/500\n",
            "7/7 - 0s - loss: 0.3335 - accuracy: 0.8673 - val_loss: 0.3037 - val_accuracy: 0.9245\n",
            "Epoch 72/500\n",
            "7/7 - 0s - loss: 0.3480 - accuracy: 0.8483 - val_loss: 0.3023 - val_accuracy: 0.9245\n",
            "Epoch 73/500\n",
            "7/7 - 0s - loss: 0.3424 - accuracy: 0.8389 - val_loss: 0.3007 - val_accuracy: 0.9245\n",
            "Epoch 74/500\n",
            "7/7 - 0s - loss: 0.3127 - accuracy: 0.8768 - val_loss: 0.2991 - val_accuracy: 0.9245\n",
            "Epoch 75/500\n",
            "7/7 - 0s - loss: 0.3145 - accuracy: 0.8910 - val_loss: 0.2986 - val_accuracy: 0.9245\n",
            "Epoch 76/500\n",
            "7/7 - 0s - loss: 0.3165 - accuracy: 0.8483 - val_loss: 0.3000 - val_accuracy: 0.9245\n",
            "Epoch 77/500\n",
            "7/7 - 0s - loss: 0.3593 - accuracy: 0.8578 - val_loss: 0.3003 - val_accuracy: 0.9245\n",
            "Epoch 78/500\n",
            "7/7 - 0s - loss: 0.3464 - accuracy: 0.8626 - val_loss: 0.3027 - val_accuracy: 0.9245\n",
            "Epoch 79/500\n",
            "7/7 - 0s - loss: 0.3279 - accuracy: 0.8626 - val_loss: 0.3044 - val_accuracy: 0.9245\n",
            "Epoch 80/500\n",
            "7/7 - 0s - loss: 0.3150 - accuracy: 0.8673 - val_loss: 0.3056 - val_accuracy: 0.9245\n",
            "Epoch 81/500\n",
            "7/7 - 0s - loss: 0.3249 - accuracy: 0.8673 - val_loss: 0.3037 - val_accuracy: 0.9245\n",
            "Epoch 82/500\n",
            "7/7 - 0s - loss: 0.3132 - accuracy: 0.8578 - val_loss: 0.3022 - val_accuracy: 0.9245\n",
            "Epoch 83/500\n",
            "7/7 - 0s - loss: 0.3149 - accuracy: 0.8815 - val_loss: 0.2982 - val_accuracy: 0.9245\n",
            "Epoch 84/500\n",
            "7/7 - 0s - loss: 0.3078 - accuracy: 0.8673 - val_loss: 0.2941 - val_accuracy: 0.9245\n",
            "Epoch 85/500\n",
            "7/7 - 0s - loss: 0.3284 - accuracy: 0.8436 - val_loss: 0.2936 - val_accuracy: 0.9245\n",
            "Epoch 86/500\n",
            "7/7 - 0s - loss: 0.3123 - accuracy: 0.8578 - val_loss: 0.2916 - val_accuracy: 0.9245\n",
            "Epoch 87/500\n",
            "7/7 - 0s - loss: 0.3095 - accuracy: 0.8768 - val_loss: 0.2901 - val_accuracy: 0.9245\n",
            "Epoch 88/500\n",
            "7/7 - 0s - loss: 0.2831 - accuracy: 0.8673 - val_loss: 0.2920 - val_accuracy: 0.9245\n",
            "Epoch 89/500\n",
            "7/7 - 0s - loss: 0.3005 - accuracy: 0.8626 - val_loss: 0.2920 - val_accuracy: 0.9245\n",
            "Epoch 90/500\n",
            "7/7 - 0s - loss: 0.2727 - accuracy: 0.8720 - val_loss: 0.2899 - val_accuracy: 0.9245\n",
            "Epoch 91/500\n",
            "7/7 - 0s - loss: 0.3114 - accuracy: 0.8578 - val_loss: 0.2904 - val_accuracy: 0.9245\n",
            "Epoch 92/500\n",
            "7/7 - 0s - loss: 0.2978 - accuracy: 0.8768 - val_loss: 0.2921 - val_accuracy: 0.9245\n",
            "Epoch 93/500\n",
            "7/7 - 0s - loss: 0.2994 - accuracy: 0.8768 - val_loss: 0.2937 - val_accuracy: 0.9245\n",
            "Epoch 94/500\n",
            "7/7 - 0s - loss: 0.3197 - accuracy: 0.8389 - val_loss: 0.2961 - val_accuracy: 0.9245\n",
            "Epoch 95/500\n",
            "7/7 - 0s - loss: 0.3355 - accuracy: 0.8436 - val_loss: 0.2965 - val_accuracy: 0.9245\n",
            "Epoch 96/500\n",
            "7/7 - 0s - loss: 0.2961 - accuracy: 0.8673 - val_loss: 0.2972 - val_accuracy: 0.9245\n",
            "Epoch 97/500\n",
            "7/7 - 0s - loss: 0.3073 - accuracy: 0.8768 - val_loss: 0.2960 - val_accuracy: 0.9245\n",
            "Epoch 98/500\n",
            "7/7 - 0s - loss: 0.3048 - accuracy: 0.8720 - val_loss: 0.2917 - val_accuracy: 0.9245\n",
            "Epoch 99/500\n",
            "7/7 - 0s - loss: 0.2894 - accuracy: 0.8768 - val_loss: 0.2876 - val_accuracy: 0.9245\n",
            "Epoch 100/500\n",
            "7/7 - 0s - loss: 0.2796 - accuracy: 0.8815 - val_loss: 0.2852 - val_accuracy: 0.9245\n",
            "Epoch 101/500\n",
            "7/7 - 0s - loss: 0.2977 - accuracy: 0.8531 - val_loss: 0.2853 - val_accuracy: 0.9245\n",
            "Epoch 102/500\n",
            "7/7 - 0s - loss: 0.2801 - accuracy: 0.8768 - val_loss: 0.2901 - val_accuracy: 0.9245\n",
            "Epoch 103/500\n",
            "7/7 - 0s - loss: 0.3115 - accuracy: 0.8389 - val_loss: 0.2913 - val_accuracy: 0.9245\n",
            "Epoch 104/500\n",
            "7/7 - 0s - loss: 0.2788 - accuracy: 0.8768 - val_loss: 0.2913 - val_accuracy: 0.9245\n",
            "Epoch 105/500\n",
            "7/7 - 0s - loss: 0.2815 - accuracy: 0.8578 - val_loss: 0.2911 - val_accuracy: 0.9245\n",
            "Epoch 106/500\n",
            "7/7 - 0s - loss: 0.3055 - accuracy: 0.8720 - val_loss: 0.2916 - val_accuracy: 0.9245\n",
            "Epoch 107/500\n",
            "7/7 - 0s - loss: 0.3071 - accuracy: 0.8531 - val_loss: 0.2935 - val_accuracy: 0.9245\n",
            "Epoch 108/500\n",
            "7/7 - 0s - loss: 0.3024 - accuracy: 0.8626 - val_loss: 0.2930 - val_accuracy: 0.9245\n",
            "Epoch 109/500\n",
            "7/7 - 0s - loss: 0.2664 - accuracy: 0.8957 - val_loss: 0.2916 - val_accuracy: 0.9245\n",
            "Epoch 110/500\n",
            "7/7 - 0s - loss: 0.2757 - accuracy: 0.8720 - val_loss: 0.2900 - val_accuracy: 0.9245\n",
            "Epoch 111/500\n",
            "7/7 - 0s - loss: 0.3053 - accuracy: 0.8673 - val_loss: 0.2886 - val_accuracy: 0.9245\n",
            "Epoch 112/500\n",
            "7/7 - 0s - loss: 0.2780 - accuracy: 0.8531 - val_loss: 0.2917 - val_accuracy: 0.9245\n",
            "Epoch 113/500\n",
            "7/7 - 0s - loss: 0.2968 - accuracy: 0.8673 - val_loss: 0.2907 - val_accuracy: 0.9245\n",
            "Epoch 114/500\n",
            "7/7 - 0s - loss: 0.2955 - accuracy: 0.8815 - val_loss: 0.2900 - val_accuracy: 0.9057\n",
            "Epoch 115/500\n",
            "7/7 - 0s - loss: 0.3028 - accuracy: 0.8768 - val_loss: 0.2889 - val_accuracy: 0.9057\n",
            "Epoch 116/500\n",
            "7/7 - 0s - loss: 0.2930 - accuracy: 0.8910 - val_loss: 0.2878 - val_accuracy: 0.9057\n",
            "Epoch 117/500\n",
            "7/7 - 0s - loss: 0.2888 - accuracy: 0.8626 - val_loss: 0.2899 - val_accuracy: 0.9057\n",
            "Epoch 118/500\n",
            "7/7 - 0s - loss: 0.2857 - accuracy: 0.8720 - val_loss: 0.2889 - val_accuracy: 0.9057\n",
            "Epoch 119/500\n",
            "7/7 - 0s - loss: 0.3022 - accuracy: 0.8483 - val_loss: 0.2849 - val_accuracy: 0.9057\n",
            "Epoch 120/500\n",
            "7/7 - 0s - loss: 0.2807 - accuracy: 0.8910 - val_loss: 0.2855 - val_accuracy: 0.9057\n",
            "Epoch 121/500\n",
            "7/7 - 0s - loss: 0.2753 - accuracy: 0.8673 - val_loss: 0.2872 - val_accuracy: 0.9057\n",
            "Epoch 122/500\n",
            "7/7 - 0s - loss: 0.2721 - accuracy: 0.8957 - val_loss: 0.2886 - val_accuracy: 0.9057\n",
            "Epoch 123/500\n",
            "7/7 - 0s - loss: 0.2955 - accuracy: 0.8436 - val_loss: 0.2902 - val_accuracy: 0.9057\n",
            "Epoch 124/500\n",
            "7/7 - 0s - loss: 0.2712 - accuracy: 0.8910 - val_loss: 0.2914 - val_accuracy: 0.9057\n",
            "Epoch 125/500\n",
            "7/7 - 0s - loss: 0.2735 - accuracy: 0.8910 - val_loss: 0.2943 - val_accuracy: 0.9057\n",
            "Epoch 126/500\n",
            "7/7 - 0s - loss: 0.2731 - accuracy: 0.9194 - val_loss: 0.2929 - val_accuracy: 0.9057\n",
            "\n",
            "Sudah mencapai akurasi 90.0%, proses training berhenti\n"
          ],
          "name": "stdout"
        }
      ]
    },
    {
      "cell_type": "code",
      "metadata": {
        "id": "OOjG9HxXn8yY",
        "colab": {
          "base_uri": "https://localhost:8080/",
          "height": 545
        },
        "outputId": "39fbbee5-a179-49e9-f68c-1acb23fbccee"
      },
      "source": [
        "acc = history.history['accuracy']\n",
        "val_acc = history.history['val_accuracy']\n",
        "loss = history.history['loss']\n",
        "val_loss = history.history['val_loss']\n",
        "epochs = range(len(acc))\n",
        "\n",
        "plt.plot(epochs, acc, 'r', label='Training accuracy')\n",
        "plt.plot(epochs, val_acc, 'b', label='Validation accuracy')\n",
        "plt.title('Training and validation accuracy')\n",
        "plt.legend(loc=0)\n",
        "plt.figure()\n",
        "\n",
        "plt.plot(epochs, loss, 'r', label='Training loss')\n",
        "plt.plot(epochs, val_loss, 'b', label='Validation loss')\n",
        "plt.title('Training and validation loss')\n",
        "plt.legend(loc=0)\n",
        "\n",
        "plt.show()"
      ],
      "execution_count": 298,
      "outputs": [
        {
          "output_type": "display_data",
          "data": {
            "image/png": "[encoded data removed]",
            "text/plain": [
              "<Figure size 432x288 with 1 Axes>"
            ]
          },
          "metadata": {
            "tags": [],
            "needs_background": "light"
          }
        },
        {
          "output_type": "display_data",
          "data": {
            "image/png": "[encoded data removed]",
            "text/plain": [
              "<Figure size 432x288 with 1 Axes>"
            ]
          },
          "metadata": {
            "tags": [],
            "needs_background": "light"
          }
        }
      ]
    },
    {
      "cell_type": "code",
      "metadata": {
        "id": "Pq3qpizbfyb-",
        "colab": {
          "base_uri": "https://localhost:8080/"
        },
        "outputId": "c524c800-529c-45df-b18d-1f6d1ba38af9"
      },
      "source": [
        "saved_model = load_model('best_model.h5')\n",
        "\n",
        "loss, acc = saved_model.evaluate(x_test_scaled, y_test)\n",
        "print(\"Accuracy: \", acc)\n",
        "print(\"Loss: \", loss)"
      ],
      "execution_count": 299,
      "outputs": [
        {
          "output_type": "stream",
          "text": [
            "2/2 [==============================] - 0s 6ms/step - loss: 0.2849 - accuracy: 0.9057\n",
            "Accuracy:  0.9056603908538818\n",
            "Loss:  0.2848898768424988\n"
          ],
          "name": "stdout"
        }
      ]
    },
    {
      "cell_type": "code",
      "metadata": {
        "id": "pp9qzlaopFLL"
      },
      "source": [
        "normal = [[83,  12.0,  4.0,  29.0,  0,  1],\n",
        "          [85,  12.0,  4.0,  30.0,  0,  1],\n",
        "          [70,  14.0,  2.0,  30.0,  1,  0],\n",
        "          [68,  12.0,  2.0,  27.0,  0,  1]]\n",
        "\n",
        "dementia = [[77,  20.0,  1.0,  23.0,  0,  1],\n",
        "            [79,  20.0,  1.0,  25.0,  0,  1],\n",
        "            [80,  12.0,  3.0,  17.0,  0,  1],\n",
        "            [73,  16.0,  3.0,  21.0,  1,  0]] "
      ],
      "execution_count": 322,
      "outputs": []
    },
    {
      "cell_type": "code",
      "metadata": {
        "id": "VUoAMk39uoLz",
        "outputId": "682a7d9a-41d2-40c3-f805-aaa5bdd1cab6",
        "colab": {
          "base_uri": "https://localhost:8080/"
        }
      },
      "source": [
        "for row in normal:\n",
        "  classes = model.predict(scaler.transform([row]))\n",
        "\n",
        "  print(row)\n",
        "  print(classes)\n",
        "  if classes[0] < 0.5:\n",
        "    print(\"Normal\")\n",
        "  else:\n",
        "    print(\"Dementia\")\n",
        "  \n",
        "  print()"
      ],
      "execution_count": 323,
      "outputs": [
        {
          "output_type": "stream",
          "text": [
            "[83, 12.0, 4.0, 29.0, 0, 1]\n",
            "[[0.27472487]]\n",
            "Normal\n",
            "\n",
            "[85, 12.0, 4.0, 30.0, 0, 1]\n",
            "[[0.21402538]]\n",
            "Normal\n",
            "\n",
            "[70, 14.0, 2.0, 30.0, 1, 0]\n",
            "[[0.45131993]]\n",
            "Normal\n",
            "\n",
            "[68, 12.0, 2.0, 27.0, 0, 1]\n",
            "[[0.3434567]]\n",
            "Normal\n",
            "\n"
          ],
          "name": "stdout"
        }
      ]
    },
    {
      "cell_type": "code",
      "metadata": {
        "id": "NJQH_EoVxeua",
        "outputId": "ede9393d-a97b-49bf-ddf3-f17882ae2b2b",
        "colab": {
          "base_uri": "https://localhost:8080/"
        }
      },
      "source": [
        "for row in dementia:\n",
        "  classes = model.predict(scaler.transform([row]))\n",
        "\n",
        "  print(row)\n",
        "  print(classes)\n",
        "  if classes[0] < 0.5:\n",
        "    print(\"Normal\")\n",
        "  else:\n",
        "    print(\"Dementia\")\n",
        "  \n",
        "  print()"
      ],
      "execution_count": 324,
      "outputs": [
        {
          "output_type": "stream",
          "text": [
            "[77, 20.0, 1.0, 23.0, 0, 1]\n",
            "[[0.906765]]\n",
            "Dementia\n",
            "\n",
            "[79, 20.0, 1.0, 25.0, 0, 1]\n",
            "[[0.8851657]]\n",
            "Dementia\n",
            "\n",
            "[80, 12.0, 3.0, 17.0, 0, 1]\n",
            "[[0.87559754]]\n",
            "Dementia\n",
            "\n",
            "[73, 16.0, 3.0, 21.0, 1, 0]\n",
            "[[0.8378089]]\n",
            "Dementia\n",
            "\n"
          ],
          "name": "stdout"
        }
      ]
    },
    {
      "cell_type": "code",
      "metadata": {
        "id": "TRWurQnpxl0g"
      },
      "source": [
        ""
      ],
      "execution_count": null,
      "outputs": []
    }
  ]
}