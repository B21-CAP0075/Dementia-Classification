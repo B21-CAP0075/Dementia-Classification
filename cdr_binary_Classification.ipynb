{
  "nbformat": 4,
  "nbformat_minor": 0,
  "metadata": {
    "colab": {
      "name": "Dementia_SaDem.ipynb",
      "provenance": [],
      "collapsed_sections": [],
      "authorship_tag": "ABX9TyPkx/GG7NUAQM0uiUvT7cNV",
      "include_colab_link": true
    },
    "kernelspec": {
      "name": "python3",
      "display_name": "Python 3"
    },
    "accelerator": "GPU"
  },
  "cells": [
    {
      "cell_type": "markdown",
      "metadata": {
        "id": "view-in-github",
        "colab_type": "text"
      },
      "source": [
        "<a href=\"https://colab.research.google.com/github/B21-CAP0075/Dementia-Classification/blob/development/cdr_binary_Classification.ipynb\" target=\"_parent\"><img src=\"https://colab.research.google.com/assets/colab-badge.svg\" alt=\"Open In Colab\"/></a>"
      ]
    },
    {
      "cell_type": "code",
      "metadata": {
        "id": "xkN7mkLaVTJ4"
      },
      "source": [
        "import zipfile\n",
        "import pandas as pd\n",
        "import numpy as np\n",
        "import seaborn as sns\n",
        "import matplotlib.pyplot as plt\n",
        "\n",
        "from google.colab import drive\n",
        "from sklearn.preprocessing import MinMaxScaler\n",
        "from sklearn.preprocessing import StandardScaler \n",
        "from sklearn.model_selection import train_test_split\n",
        "\n",
        "import tensorflow as tf\n",
        "from keras.models import load_model\n",
        "from keras.callbacks import EarlyStopping\n",
        "from keras.callbacks import ModelCheckpoint"
      ],
      "execution_count": 1,
      "outputs": []
    },
    {
      "cell_type": "code",
      "metadata": {
        "id": "oI_kzNi_Vi6i",
        "colab": {
          "base_uri": "https://localhost:8080/"
        },
        "outputId": "7b6dd676-953e-4f8b-adc1-cafb1bf79c0d"
      },
      "source": [
        "drive.mount('/content/drive')"
      ],
      "execution_count": 2,
      "outputs": [
        {
          "output_type": "stream",
          "text": [
            "Mounted at /content/drive\n"
          ],
          "name": "stdout"
        }
      ]
    },
    {
      "cell_type": "code",
      "metadata": {
        "id": "7VU7nNaaVscM",
        "colab": {
          "base_uri": "https://localhost:8080/"
        },
        "outputId": "4619a011-d016-4afa-e186-465d5518a67a"
      },
      "source": [
        "! pip install --upgrade --force-reinstall --no-deps kaggle\n",
        "! mkdir /root/.kaggle/\n",
        "! cp \"/content/drive/My Drive/Machine Learning/kaggle.json\" /root/.kaggle/\n",
        "! chmod 600 /root/.kaggle/kaggle.json"
      ],
      "execution_count": 3,
      "outputs": [
        {
          "output_type": "stream",
          "text": [
            "Collecting kaggle\n",
            "\u001b[?25l  Downloading https://files.pythonhosted.org/packages/3a/e7/3bac01547d2ed3d308ac92a0878fbdb0ed0f3d41fb1906c319ccbba1bfbc/kaggle-1.5.12.tar.gz (58kB)\n",
            "\r\u001b[K     |█████▋                          | 10kB 23.6MB/s eta 0:00:01\r\u001b[K     |███████████▏                    | 20kB 29.8MB/s eta 0:00:01\r\u001b[K     |████████████████▊               | 30kB 23.5MB/s eta 0:00:01\r\u001b[K     |██████████████████████▎         | 40kB 23.3MB/s eta 0:00:01\r\u001b[K     |███████████████████████████▉    | 51kB 20.6MB/s eta 0:00:01\r\u001b[K     |████████████████████████████████| 61kB 8.5MB/s \n",
            "\u001b[?25hBuilding wheels for collected packages: kaggle\n",
            "  Building wheel for kaggle (setup.py) ... \u001b[?25l\u001b[?25hdone\n",
            "  Created wheel for kaggle: filename=kaggle-1.5.12-cp37-none-any.whl size=73053 sha256=60be80cf7d9efcdb4dae80df4f23526bb7b6d35d29b73e5d60622579a47fd843\n",
            "  Stored in directory: /root/.cache/pip/wheels/a1/6a/26/d30b7499ff85a4a4593377a87ecf55f7d08af42f0de9b60303\n",
            "Successfully built kaggle\n",
            "Installing collected packages: kaggle\n",
            "  Found existing installation: kaggle 1.5.12\n",
            "    Uninstalling kaggle-1.5.12:\n",
            "      Successfully uninstalled kaggle-1.5.12\n",
            "Successfully installed kaggle-1.5.12\n"
          ],
          "name": "stdout"
        }
      ]
    },
    {
      "cell_type": "code",
      "metadata": {
        "id": "0zSmgeF7V14w",
        "colab": {
          "base_uri": "https://localhost:8080/"
        },
        "outputId": "d912c9d5-e405-4371-d894-7a4e70a58ac6"
      },
      "source": [
        "! kaggle datasets download -d jboysen/mri-and-alzheimers"
      ],
      "execution_count": 4,
      "outputs": [
        {
          "output_type": "stream",
          "text": [
            "Downloading mri-and-alzheimers.zip to /content\n",
            "\r  0% 0.00/12.6k [00:00<?, ?B/s]\n",
            "\r100% 12.6k/12.6k [00:00<00:00, 10.8MB/s]\n"
          ],
          "name": "stdout"
        }
      ]
    },
    {
      "cell_type": "code",
      "metadata": {
        "id": "JYXIttu8V69G"
      },
      "source": [
        "zip_ref = zipfile.ZipFile('mri-and-alzheimers.zip', 'r')\n",
        "zip_ref.extractall()\n",
        "zip_ref.close()"
      ],
      "execution_count": 5,
      "outputs": []
    },
    {
      "cell_type": "code",
      "metadata": {
        "id": "FzoA4JxdWX95",
        "colab": {
          "base_uri": "https://localhost:8080/",
          "height": 204
        },
        "outputId": "a2b817b7-141c-47b2-fce4-e97be66d3ec4"
      },
      "source": [
        "df_cross = pd.read_csv('oasis_cross-sectional.csv')\n",
        "df_cross.head()"
      ],
      "execution_count": 6,
      "outputs": [
        {
          "output_type": "execute_result",
          "data": {
            "text/html": [
              "<div>\n",
              "<style scoped>\n",
              "    .dataframe tbody tr th:only-of-type {\n",
              "        vertical-align: middle;\n",
              "    }\n",
              "\n",
              "    .dataframe tbody tr th {\n",
              "        vertical-align: top;\n",
              "    }\n",
              "\n",
              "    .dataframe thead th {\n",
              "        text-align: right;\n",
              "    }\n",
              "</style>\n",
              "<table border=\"1\" class=\"dataframe\">\n",
              "  <thead>\n",
              "    <tr style=\"text-align: right;\">\n",
              "      <th></th>\n",
              "      <th>ID</th>\n",
              "      <th>M/F</th>\n",
              "      <th>Hand</th>\n",
              "      <th>Age</th>\n",
              "      <th>Educ</th>\n",
              "      <th>SES</th>\n",
              "      <th>MMSE</th>\n",
              "      <th>CDR</th>\n",
              "      <th>eTIV</th>\n",
              "      <th>nWBV</th>\n",
              "      <th>ASF</th>\n",
              "      <th>Delay</th>\n",
              "    </tr>\n",
              "  </thead>\n",
              "  <tbody>\n",
              "    <tr>\n",
              "      <th>0</th>\n",
              "      <td>OAS1_0001_MR1</td>\n",
              "      <td>F</td>\n",
              "      <td>R</td>\n",
              "      <td>74</td>\n",
              "      <td>2.0</td>\n",
              "      <td>3.0</td>\n",
              "      <td>29.0</td>\n",
              "      <td>0.0</td>\n",
              "      <td>1344</td>\n",
              "      <td>0.743</td>\n",
              "      <td>1.306</td>\n",
              "      <td>NaN</td>\n",
              "    </tr>\n",
              "    <tr>\n",
              "      <th>1</th>\n",
              "      <td>OAS1_0002_MR1</td>\n",
              "      <td>F</td>\n",
              "      <td>R</td>\n",
              "      <td>55</td>\n",
              "      <td>4.0</td>\n",
              "      <td>1.0</td>\n",
              "      <td>29.0</td>\n",
              "      <td>0.0</td>\n",
              "      <td>1147</td>\n",
              "      <td>0.810</td>\n",
              "      <td>1.531</td>\n",
              "      <td>NaN</td>\n",
              "    </tr>\n",
              "    <tr>\n",
              "      <th>2</th>\n",
              "      <td>OAS1_0003_MR1</td>\n",
              "      <td>F</td>\n",
              "      <td>R</td>\n",
              "      <td>73</td>\n",
              "      <td>4.0</td>\n",
              "      <td>3.0</td>\n",
              "      <td>27.0</td>\n",
              "      <td>0.5</td>\n",
              "      <td>1454</td>\n",
              "      <td>0.708</td>\n",
              "      <td>1.207</td>\n",
              "      <td>NaN</td>\n",
              "    </tr>\n",
              "    <tr>\n",
              "      <th>3</th>\n",
              "      <td>OAS1_0004_MR1</td>\n",
              "      <td>M</td>\n",
              "      <td>R</td>\n",
              "      <td>28</td>\n",
              "      <td>NaN</td>\n",
              "      <td>NaN</td>\n",
              "      <td>NaN</td>\n",
              "      <td>NaN</td>\n",
              "      <td>1588</td>\n",
              "      <td>0.803</td>\n",
              "      <td>1.105</td>\n",
              "      <td>NaN</td>\n",
              "    </tr>\n",
              "    <tr>\n",
              "      <th>4</th>\n",
              "      <td>OAS1_0005_MR1</td>\n",
              "      <td>M</td>\n",
              "      <td>R</td>\n",
              "      <td>18</td>\n",
              "      <td>NaN</td>\n",
              "      <td>NaN</td>\n",
              "      <td>NaN</td>\n",
              "      <td>NaN</td>\n",
              "      <td>1737</td>\n",
              "      <td>0.848</td>\n",
              "      <td>1.010</td>\n",
              "      <td>NaN</td>\n",
              "    </tr>\n",
              "  </tbody>\n",
              "</table>\n",
              "</div>"
            ],
            "text/plain": [
              "              ID M/F Hand  Age  Educ  SES  MMSE  CDR  eTIV   nWBV    ASF  Delay\n",
              "0  OAS1_0001_MR1   F    R   74   2.0  3.0  29.0  0.0  1344  0.743  1.306    NaN\n",
              "1  OAS1_0002_MR1   F    R   55   4.0  1.0  29.0  0.0  1147  0.810  1.531    NaN\n",
              "2  OAS1_0003_MR1   F    R   73   4.0  3.0  27.0  0.5  1454  0.708  1.207    NaN\n",
              "3  OAS1_0004_MR1   M    R   28   NaN  NaN   NaN  NaN  1588  0.803  1.105    NaN\n",
              "4  OAS1_0005_MR1   M    R   18   NaN  NaN   NaN  NaN  1737  0.848  1.010    NaN"
            ]
          },
          "metadata": {
            "tags": []
          },
          "execution_count": 6
        }
      ]
    },
    {
      "cell_type": "code",
      "metadata": {
        "id": "PjGgxdovWyOT",
        "colab": {
          "base_uri": "https://localhost:8080/",
          "height": 204
        },
        "outputId": "af71e753-20ec-47e4-e50a-659bf4584423"
      },
      "source": [
        "df_long = pd.read_csv('oasis_longitudinal.csv')\n",
        "df_long.head()"
      ],
      "execution_count": 7,
      "outputs": [
        {
          "output_type": "execute_result",
          "data": {
            "text/html": [
              "<div>\n",
              "<style scoped>\n",
              "    .dataframe tbody tr th:only-of-type {\n",
              "        vertical-align: middle;\n",
              "    }\n",
              "\n",
              "    .dataframe tbody tr th {\n",
              "        vertical-align: top;\n",
              "    }\n",
              "\n",
              "    .dataframe thead th {\n",
              "        text-align: right;\n",
              "    }\n",
              "</style>\n",
              "<table border=\"1\" class=\"dataframe\">\n",
              "  <thead>\n",
              "    <tr style=\"text-align: right;\">\n",
              "      <th></th>\n",
              "      <th>Subject ID</th>\n",
              "      <th>MRI ID</th>\n",
              "      <th>Group</th>\n",
              "      <th>Visit</th>\n",
              "      <th>MR Delay</th>\n",
              "      <th>M/F</th>\n",
              "      <th>Hand</th>\n",
              "      <th>Age</th>\n",
              "      <th>EDUC</th>\n",
              "      <th>SES</th>\n",
              "      <th>MMSE</th>\n",
              "      <th>CDR</th>\n",
              "      <th>eTIV</th>\n",
              "      <th>nWBV</th>\n",
              "      <th>ASF</th>\n",
              "    </tr>\n",
              "  </thead>\n",
              "  <tbody>\n",
              "    <tr>\n",
              "      <th>0</th>\n",
              "      <td>OAS2_0001</td>\n",
              "      <td>OAS2_0001_MR1</td>\n",
              "      <td>Nondemented</td>\n",
              "      <td>1</td>\n",
              "      <td>0</td>\n",
              "      <td>M</td>\n",
              "      <td>R</td>\n",
              "      <td>87</td>\n",
              "      <td>14</td>\n",
              "      <td>2.0</td>\n",
              "      <td>27.0</td>\n",
              "      <td>0.0</td>\n",
              "      <td>1987</td>\n",
              "      <td>0.696</td>\n",
              "      <td>0.883</td>\n",
              "    </tr>\n",
              "    <tr>\n",
              "      <th>1</th>\n",
              "      <td>OAS2_0001</td>\n",
              "      <td>OAS2_0001_MR2</td>\n",
              "      <td>Nondemented</td>\n",
              "      <td>2</td>\n",
              "      <td>457</td>\n",
              "      <td>M</td>\n",
              "      <td>R</td>\n",
              "      <td>88</td>\n",
              "      <td>14</td>\n",
              "      <td>2.0</td>\n",
              "      <td>30.0</td>\n",
              "      <td>0.0</td>\n",
              "      <td>2004</td>\n",
              "      <td>0.681</td>\n",
              "      <td>0.876</td>\n",
              "    </tr>\n",
              "    <tr>\n",
              "      <th>2</th>\n",
              "      <td>OAS2_0002</td>\n",
              "      <td>OAS2_0002_MR1</td>\n",
              "      <td>Demented</td>\n",
              "      <td>1</td>\n",
              "      <td>0</td>\n",
              "      <td>M</td>\n",
              "      <td>R</td>\n",
              "      <td>75</td>\n",
              "      <td>12</td>\n",
              "      <td>NaN</td>\n",
              "      <td>23.0</td>\n",
              "      <td>0.5</td>\n",
              "      <td>1678</td>\n",
              "      <td>0.736</td>\n",
              "      <td>1.046</td>\n",
              "    </tr>\n",
              "    <tr>\n",
              "      <th>3</th>\n",
              "      <td>OAS2_0002</td>\n",
              "      <td>OAS2_0002_MR2</td>\n",
              "      <td>Demented</td>\n",
              "      <td>2</td>\n",
              "      <td>560</td>\n",
              "      <td>M</td>\n",
              "      <td>R</td>\n",
              "      <td>76</td>\n",
              "      <td>12</td>\n",
              "      <td>NaN</td>\n",
              "      <td>28.0</td>\n",
              "      <td>0.5</td>\n",
              "      <td>1738</td>\n",
              "      <td>0.713</td>\n",
              "      <td>1.010</td>\n",
              "    </tr>\n",
              "    <tr>\n",
              "      <th>4</th>\n",
              "      <td>OAS2_0002</td>\n",
              "      <td>OAS2_0002_MR3</td>\n",
              "      <td>Demented</td>\n",
              "      <td>3</td>\n",
              "      <td>1895</td>\n",
              "      <td>M</td>\n",
              "      <td>R</td>\n",
              "      <td>80</td>\n",
              "      <td>12</td>\n",
              "      <td>NaN</td>\n",
              "      <td>22.0</td>\n",
              "      <td>0.5</td>\n",
              "      <td>1698</td>\n",
              "      <td>0.701</td>\n",
              "      <td>1.034</td>\n",
              "    </tr>\n",
              "  </tbody>\n",
              "</table>\n",
              "</div>"
            ],
            "text/plain": [
              "  Subject ID         MRI ID        Group  Visit  ...  CDR  eTIV   nWBV    ASF\n",
              "0  OAS2_0001  OAS2_0001_MR1  Nondemented      1  ...  0.0  1987  0.696  0.883\n",
              "1  OAS2_0001  OAS2_0001_MR2  Nondemented      2  ...  0.0  2004  0.681  0.876\n",
              "2  OAS2_0002  OAS2_0002_MR1     Demented      1  ...  0.5  1678  0.736  1.046\n",
              "3  OAS2_0002  OAS2_0002_MR2     Demented      2  ...  0.5  1738  0.713  1.010\n",
              "4  OAS2_0002  OAS2_0002_MR3     Demented      3  ...  0.5  1698  0.701  1.034\n",
              "\n",
              "[5 rows x 15 columns]"
            ]
          },
          "metadata": {
            "tags": []
          },
          "execution_count": 7
        }
      ]
    },
    {
      "cell_type": "code",
      "metadata": {
        "colab": {
          "base_uri": "https://localhost:8080/",
          "height": 204
        },
        "id": "HKrQoLWSOUu-",
        "outputId": "e61ec0f6-395c-4483-80a0-9477cc1d1f5f"
      },
      "source": [
        "df_cross = df_cross.drop(columns=['ID', 'Delay', 'Hand', 'eTIV', 'nWBV', 'ASF'])\n",
        "df_cross.columns = ['M/F', 'Age',\t'EDUC',\t'SES',\t'MMSE',\t'CDR']\n",
        "df_cross.head()"
      ],
      "execution_count": 8,
      "outputs": [
        {
          "output_type": "execute_result",
          "data": {
            "text/html": [
              "<div>\n",
              "<style scoped>\n",
              "    .dataframe tbody tr th:only-of-type {\n",
              "        vertical-align: middle;\n",
              "    }\n",
              "\n",
              "    .dataframe tbody tr th {\n",
              "        vertical-align: top;\n",
              "    }\n",
              "\n",
              "    .dataframe thead th {\n",
              "        text-align: right;\n",
              "    }\n",
              "</style>\n",
              "<table border=\"1\" class=\"dataframe\">\n",
              "  <thead>\n",
              "    <tr style=\"text-align: right;\">\n",
              "      <th></th>\n",
              "      <th>M/F</th>\n",
              "      <th>Age</th>\n",
              "      <th>EDUC</th>\n",
              "      <th>SES</th>\n",
              "      <th>MMSE</th>\n",
              "      <th>CDR</th>\n",
              "    </tr>\n",
              "  </thead>\n",
              "  <tbody>\n",
              "    <tr>\n",
              "      <th>0</th>\n",
              "      <td>F</td>\n",
              "      <td>74</td>\n",
              "      <td>2.0</td>\n",
              "      <td>3.0</td>\n",
              "      <td>29.0</td>\n",
              "      <td>0.0</td>\n",
              "    </tr>\n",
              "    <tr>\n",
              "      <th>1</th>\n",
              "      <td>F</td>\n",
              "      <td>55</td>\n",
              "      <td>4.0</td>\n",
              "      <td>1.0</td>\n",
              "      <td>29.0</td>\n",
              "      <td>0.0</td>\n",
              "    </tr>\n",
              "    <tr>\n",
              "      <th>2</th>\n",
              "      <td>F</td>\n",
              "      <td>73</td>\n",
              "      <td>4.0</td>\n",
              "      <td>3.0</td>\n",
              "      <td>27.0</td>\n",
              "      <td>0.5</td>\n",
              "    </tr>\n",
              "    <tr>\n",
              "      <th>3</th>\n",
              "      <td>M</td>\n",
              "      <td>28</td>\n",
              "      <td>NaN</td>\n",
              "      <td>NaN</td>\n",
              "      <td>NaN</td>\n",
              "      <td>NaN</td>\n",
              "    </tr>\n",
              "    <tr>\n",
              "      <th>4</th>\n",
              "      <td>M</td>\n",
              "      <td>18</td>\n",
              "      <td>NaN</td>\n",
              "      <td>NaN</td>\n",
              "      <td>NaN</td>\n",
              "      <td>NaN</td>\n",
              "    </tr>\n",
              "  </tbody>\n",
              "</table>\n",
              "</div>"
            ],
            "text/plain": [
              "  M/F  Age  EDUC  SES  MMSE  CDR\n",
              "0   F   74   2.0  3.0  29.0  0.0\n",
              "1   F   55   4.0  1.0  29.0  0.0\n",
              "2   F   73   4.0  3.0  27.0  0.5\n",
              "3   M   28   NaN  NaN   NaN  NaN\n",
              "4   M   18   NaN  NaN   NaN  NaN"
            ]
          },
          "metadata": {
            "tags": []
          },
          "execution_count": 8
        }
      ]
    },
    {
      "cell_type": "code",
      "metadata": {
        "colab": {
          "base_uri": "https://localhost:8080/",
          "height": 204
        },
        "id": "xUdR7IqrNrTW",
        "outputId": "2358b2f8-dd20-47fd-e2f5-4692662a9fba"
      },
      "source": [
        "df_long = df_long.drop(columns=['Subject ID', 'MRI ID', 'Visit', 'MR Delay', 'Hand', 'eTIV', 'nWBV', 'ASF', 'Group'])\n",
        "df_long.head()"
      ],
      "execution_count": 9,
      "outputs": [
        {
          "output_type": "execute_result",
          "data": {
            "text/html": [
              "<div>\n",
              "<style scoped>\n",
              "    .dataframe tbody tr th:only-of-type {\n",
              "        vertical-align: middle;\n",
              "    }\n",
              "\n",
              "    .dataframe tbody tr th {\n",
              "        vertical-align: top;\n",
              "    }\n",
              "\n",
              "    .dataframe thead th {\n",
              "        text-align: right;\n",
              "    }\n",
              "</style>\n",
              "<table border=\"1\" class=\"dataframe\">\n",
              "  <thead>\n",
              "    <tr style=\"text-align: right;\">\n",
              "      <th></th>\n",
              "      <th>M/F</th>\n",
              "      <th>Age</th>\n",
              "      <th>EDUC</th>\n",
              "      <th>SES</th>\n",
              "      <th>MMSE</th>\n",
              "      <th>CDR</th>\n",
              "    </tr>\n",
              "  </thead>\n",
              "  <tbody>\n",
              "    <tr>\n",
              "      <th>0</th>\n",
              "      <td>M</td>\n",
              "      <td>87</td>\n",
              "      <td>14</td>\n",
              "      <td>2.0</td>\n",
              "      <td>27.0</td>\n",
              "      <td>0.0</td>\n",
              "    </tr>\n",
              "    <tr>\n",
              "      <th>1</th>\n",
              "      <td>M</td>\n",
              "      <td>88</td>\n",
              "      <td>14</td>\n",
              "      <td>2.0</td>\n",
              "      <td>30.0</td>\n",
              "      <td>0.0</td>\n",
              "    </tr>\n",
              "    <tr>\n",
              "      <th>2</th>\n",
              "      <td>M</td>\n",
              "      <td>75</td>\n",
              "      <td>12</td>\n",
              "      <td>NaN</td>\n",
              "      <td>23.0</td>\n",
              "      <td>0.5</td>\n",
              "    </tr>\n",
              "    <tr>\n",
              "      <th>3</th>\n",
              "      <td>M</td>\n",
              "      <td>76</td>\n",
              "      <td>12</td>\n",
              "      <td>NaN</td>\n",
              "      <td>28.0</td>\n",
              "      <td>0.5</td>\n",
              "    </tr>\n",
              "    <tr>\n",
              "      <th>4</th>\n",
              "      <td>M</td>\n",
              "      <td>80</td>\n",
              "      <td>12</td>\n",
              "      <td>NaN</td>\n",
              "      <td>22.0</td>\n",
              "      <td>0.5</td>\n",
              "    </tr>\n",
              "  </tbody>\n",
              "</table>\n",
              "</div>"
            ],
            "text/plain": [
              "  M/F  Age  EDUC  SES  MMSE  CDR\n",
              "0   M   87    14  2.0  27.0  0.0\n",
              "1   M   88    14  2.0  30.0  0.0\n",
              "2   M   75    12  NaN  23.0  0.5\n",
              "3   M   76    12  NaN  28.0  0.5\n",
              "4   M   80    12  NaN  22.0  0.5"
            ]
          },
          "metadata": {
            "tags": []
          },
          "execution_count": 9
        }
      ]
    },
    {
      "cell_type": "code",
      "metadata": {
        "colab": {
          "base_uri": "https://localhost:8080/",
          "height": 419
        },
        "id": "J2bRBrchR4M9",
        "outputId": "8da95974-2bcf-4f72-89a0-e2fb9413a604"
      },
      "source": [
        "df = pd.concat([df_cross, df_long])\n",
        "df = df[df['CDR'].notna()]\n",
        "df = df[df['SES'].notna()]\n",
        "df = df[df['MMSE'].notna()]\n",
        "df"
      ],
      "execution_count": 10,
      "outputs": [
        {
          "output_type": "execute_result",
          "data": {
            "text/html": [
              "<div>\n",
              "<style scoped>\n",
              "    .dataframe tbody tr th:only-of-type {\n",
              "        vertical-align: middle;\n",
              "    }\n",
              "\n",
              "    .dataframe tbody tr th {\n",
              "        vertical-align: top;\n",
              "    }\n",
              "\n",
              "    .dataframe thead th {\n",
              "        text-align: right;\n",
              "    }\n",
              "</style>\n",
              "<table border=\"1\" class=\"dataframe\">\n",
              "  <thead>\n",
              "    <tr style=\"text-align: right;\">\n",
              "      <th></th>\n",
              "      <th>M/F</th>\n",
              "      <th>Age</th>\n",
              "      <th>EDUC</th>\n",
              "      <th>SES</th>\n",
              "      <th>MMSE</th>\n",
              "      <th>CDR</th>\n",
              "    </tr>\n",
              "  </thead>\n",
              "  <tbody>\n",
              "    <tr>\n",
              "      <th>0</th>\n",
              "      <td>F</td>\n",
              "      <td>74</td>\n",
              "      <td>2.0</td>\n",
              "      <td>3.0</td>\n",
              "      <td>29.0</td>\n",
              "      <td>0.0</td>\n",
              "    </tr>\n",
              "    <tr>\n",
              "      <th>1</th>\n",
              "      <td>F</td>\n",
              "      <td>55</td>\n",
              "      <td>4.0</td>\n",
              "      <td>1.0</td>\n",
              "      <td>29.0</td>\n",
              "      <td>0.0</td>\n",
              "    </tr>\n",
              "    <tr>\n",
              "      <th>2</th>\n",
              "      <td>F</td>\n",
              "      <td>73</td>\n",
              "      <td>4.0</td>\n",
              "      <td>3.0</td>\n",
              "      <td>27.0</td>\n",
              "      <td>0.5</td>\n",
              "    </tr>\n",
              "    <tr>\n",
              "      <th>8</th>\n",
              "      <td>M</td>\n",
              "      <td>74</td>\n",
              "      <td>5.0</td>\n",
              "      <td>2.0</td>\n",
              "      <td>30.0</td>\n",
              "      <td>0.0</td>\n",
              "    </tr>\n",
              "    <tr>\n",
              "      <th>9</th>\n",
              "      <td>F</td>\n",
              "      <td>52</td>\n",
              "      <td>3.0</td>\n",
              "      <td>2.0</td>\n",
              "      <td>30.0</td>\n",
              "      <td>0.0</td>\n",
              "    </tr>\n",
              "    <tr>\n",
              "      <th>...</th>\n",
              "      <td>...</td>\n",
              "      <td>...</td>\n",
              "      <td>...</td>\n",
              "      <td>...</td>\n",
              "      <td>...</td>\n",
              "      <td>...</td>\n",
              "    </tr>\n",
              "    <tr>\n",
              "      <th>368</th>\n",
              "      <td>M</td>\n",
              "      <td>82</td>\n",
              "      <td>16.0</td>\n",
              "      <td>1.0</td>\n",
              "      <td>28.0</td>\n",
              "      <td>0.5</td>\n",
              "    </tr>\n",
              "    <tr>\n",
              "      <th>369</th>\n",
              "      <td>M</td>\n",
              "      <td>86</td>\n",
              "      <td>16.0</td>\n",
              "      <td>1.0</td>\n",
              "      <td>26.0</td>\n",
              "      <td>0.5</td>\n",
              "    </tr>\n",
              "    <tr>\n",
              "      <th>370</th>\n",
              "      <td>F</td>\n",
              "      <td>61</td>\n",
              "      <td>13.0</td>\n",
              "      <td>2.0</td>\n",
              "      <td>30.0</td>\n",
              "      <td>0.0</td>\n",
              "    </tr>\n",
              "    <tr>\n",
              "      <th>371</th>\n",
              "      <td>F</td>\n",
              "      <td>63</td>\n",
              "      <td>13.0</td>\n",
              "      <td>2.0</td>\n",
              "      <td>30.0</td>\n",
              "      <td>0.0</td>\n",
              "    </tr>\n",
              "    <tr>\n",
              "      <th>372</th>\n",
              "      <td>F</td>\n",
              "      <td>65</td>\n",
              "      <td>13.0</td>\n",
              "      <td>2.0</td>\n",
              "      <td>30.0</td>\n",
              "      <td>0.0</td>\n",
              "    </tr>\n",
              "  </tbody>\n",
              "</table>\n",
              "<p>570 rows × 6 columns</p>\n",
              "</div>"
            ],
            "text/plain": [
              "    M/F  Age  EDUC  SES  MMSE  CDR\n",
              "0     F   74   2.0  3.0  29.0  0.0\n",
              "1     F   55   4.0  1.0  29.0  0.0\n",
              "2     F   73   4.0  3.0  27.0  0.5\n",
              "8     M   74   5.0  2.0  30.0  0.0\n",
              "9     F   52   3.0  2.0  30.0  0.0\n",
              "..   ..  ...   ...  ...   ...  ...\n",
              "368   M   82  16.0  1.0  28.0  0.5\n",
              "369   M   86  16.0  1.0  26.0  0.5\n",
              "370   F   61  13.0  2.0  30.0  0.0\n",
              "371   F   63  13.0  2.0  30.0  0.0\n",
              "372   F   65  13.0  2.0  30.0  0.0\n",
              "\n",
              "[570 rows x 6 columns]"
            ]
          },
          "metadata": {
            "tags": []
          },
          "execution_count": 10
        }
      ]
    },
    {
      "cell_type": "code",
      "metadata": {
        "colab": {
          "base_uri": "https://localhost:8080/"
        },
        "id": "phbSyBE8TPw6",
        "outputId": "3f06afc5-bedc-4325-d2b0-370e8c6846d5"
      },
      "source": [
        "df['CDR'] = df['CDR'].replace(\n",
        "    [0.0, 0.5, 1.0, 2.0],\n",
        "    [0, 0, 1, 1]\n",
        ")\n",
        "\n",
        "print(df['CDR'].unique())"
      ],
      "execution_count": 11,
      "outputs": [
        {
          "output_type": "stream",
          "text": [
            "[0. 1.]\n"
          ],
          "name": "stdout"
        }
      ]
    },
    {
      "cell_type": "code",
      "metadata": {
        "id": "UtHuJxCs6eyc",
        "colab": {
          "base_uri": "https://localhost:8080/"
        },
        "outputId": "6b7bab54-361c-4630-f177-24be832bd850"
      },
      "source": [
        "df_temp = df[df['CDR'] == 0]\n",
        "df_temp = df_temp[:200]\n",
        "new_df = df_temp.append(df[df['CDR'] == 1])\n",
        "\n",
        "df = new_df\n",
        "print(len(df))"
      ],
      "execution_count": 12,
      "outputs": [
        {
          "output_type": "stream",
          "text": [
            "264\n"
          ],
          "name": "stdout"
        }
      ]
    },
    {
      "cell_type": "code",
      "metadata": {
        "id": "FiwtFqhdePTK",
        "colab": {
          "base_uri": "https://localhost:8080/",
          "height": 356
        },
        "outputId": "184c26fa-d96e-4a27-e11a-d4298a019b16"
      },
      "source": [
        "sns.countplot(df['CDR'])"
      ],
      "execution_count": 13,
      "outputs": [
        {
          "output_type": "stream",
          "text": [
            "/usr/local/lib/python3.7/dist-packages/seaborn/_decorators.py:43: FutureWarning: Pass the following variable as a keyword arg: x. From version 0.12, the only valid positional argument will be `data`, and passing other arguments without an explicit keyword will result in an error or misinterpretation.\n",
            "  FutureWarning\n"
          ],
          "name": "stderr"
        },
        {
          "output_type": "execute_result",
          "data": {
            "text/plain": [
              "<matplotlib.axes._subplots.AxesSubplot at 0x7f4972232150>"
            ]
          },
          "metadata": {
            "tags": []
          },
          "execution_count": 13
        },
        {
          "output_type": "display_data",
          "data": {
            "image/png": "[encoded data removed]",
            "text/plain": [
              "<Figure size 432x288 with 1 Axes>"
            ]
          },
          "metadata": {
            "tags": [],
            "needs_background": "light"
          }
        }
      ]
    },
    {
      "cell_type": "code",
      "metadata": {
        "id": "AIBauZZzgnP7",
        "colab": {
          "base_uri": "https://localhost:8080/"
        },
        "outputId": "4d57586c-4006-44f3-b00d-110cc145e0b4"
      },
      "source": [
        "df.isnull().sum()"
      ],
      "execution_count": 14,
      "outputs": [
        {
          "output_type": "execute_result",
          "data": {
            "text/plain": [
              "M/F     0\n",
              "Age     0\n",
              "EDUC    0\n",
              "SES     0\n",
              "MMSE    0\n",
              "CDR     0\n",
              "dtype: int64"
            ]
          },
          "metadata": {
            "tags": []
          },
          "execution_count": 14
        }
      ]
    },
    {
      "cell_type": "code",
      "metadata": {
        "colab": {
          "base_uri": "https://localhost:8080/",
          "height": 419
        },
        "id": "Kvh4GkShXqaZ",
        "outputId": "a003e80c-317f-4cbb-c48d-fb5e7d64b4e7"
      },
      "source": [
        "gender = pd.get_dummies(df['M/F'])\n",
        "\n",
        "df = df.drop(columns=['M/F'])\n",
        "df = pd.concat([df, gender], axis=1)\n",
        "df"
      ],
      "execution_count": 15,
      "outputs": [
        {
          "output_type": "execute_result",
          "data": {
            "text/html": [
              "<div>\n",
              "<style scoped>\n",
              "    .dataframe tbody tr th:only-of-type {\n",
              "        vertical-align: middle;\n",
              "    }\n",
              "\n",
              "    .dataframe tbody tr th {\n",
              "        vertical-align: top;\n",
              "    }\n",
              "\n",
              "    .dataframe thead th {\n",
              "        text-align: right;\n",
              "    }\n",
              "</style>\n",
              "<table border=\"1\" class=\"dataframe\">\n",
              "  <thead>\n",
              "    <tr style=\"text-align: right;\">\n",
              "      <th></th>\n",
              "      <th>Age</th>\n",
              "      <th>EDUC</th>\n",
              "      <th>SES</th>\n",
              "      <th>MMSE</th>\n",
              "      <th>CDR</th>\n",
              "      <th>F</th>\n",
              "      <th>M</th>\n",
              "    </tr>\n",
              "  </thead>\n",
              "  <tbody>\n",
              "    <tr>\n",
              "      <th>0</th>\n",
              "      <td>74</td>\n",
              "      <td>2.0</td>\n",
              "      <td>3.0</td>\n",
              "      <td>29.0</td>\n",
              "      <td>0.0</td>\n",
              "      <td>1</td>\n",
              "      <td>0</td>\n",
              "    </tr>\n",
              "    <tr>\n",
              "      <th>1</th>\n",
              "      <td>55</td>\n",
              "      <td>4.0</td>\n",
              "      <td>1.0</td>\n",
              "      <td>29.0</td>\n",
              "      <td>0.0</td>\n",
              "      <td>1</td>\n",
              "      <td>0</td>\n",
              "    </tr>\n",
              "    <tr>\n",
              "      <th>2</th>\n",
              "      <td>73</td>\n",
              "      <td>4.0</td>\n",
              "      <td>3.0</td>\n",
              "      <td>27.0</td>\n",
              "      <td>0.0</td>\n",
              "      <td>1</td>\n",
              "      <td>0</td>\n",
              "    </tr>\n",
              "    <tr>\n",
              "      <th>8</th>\n",
              "      <td>74</td>\n",
              "      <td>5.0</td>\n",
              "      <td>2.0</td>\n",
              "      <td>30.0</td>\n",
              "      <td>0.0</td>\n",
              "      <td>0</td>\n",
              "      <td>1</td>\n",
              "    </tr>\n",
              "    <tr>\n",
              "      <th>9</th>\n",
              "      <td>52</td>\n",
              "      <td>3.0</td>\n",
              "      <td>2.0</td>\n",
              "      <td>30.0</td>\n",
              "      <td>0.0</td>\n",
              "      <td>1</td>\n",
              "      <td>0</td>\n",
              "    </tr>\n",
              "    <tr>\n",
              "      <th>...</th>\n",
              "      <td>...</td>\n",
              "      <td>...</td>\n",
              "      <td>...</td>\n",
              "      <td>...</td>\n",
              "      <td>...</td>\n",
              "      <td>...</td>\n",
              "      <td>...</td>\n",
              "    </tr>\n",
              "    <tr>\n",
              "      <th>329</th>\n",
              "      <td>77</td>\n",
              "      <td>20.0</td>\n",
              "      <td>1.0</td>\n",
              "      <td>23.0</td>\n",
              "      <td>1.0</td>\n",
              "      <td>0</td>\n",
              "      <td>1</td>\n",
              "    </tr>\n",
              "    <tr>\n",
              "      <th>330</th>\n",
              "      <td>79</td>\n",
              "      <td>20.0</td>\n",
              "      <td>1.0</td>\n",
              "      <td>25.0</td>\n",
              "      <td>1.0</td>\n",
              "      <td>0</td>\n",
              "      <td>1</td>\n",
              "    </tr>\n",
              "    <tr>\n",
              "      <th>331</th>\n",
              "      <td>78</td>\n",
              "      <td>12.0</td>\n",
              "      <td>3.0</td>\n",
              "      <td>23.0</td>\n",
              "      <td>1.0</td>\n",
              "      <td>0</td>\n",
              "      <td>1</td>\n",
              "    </tr>\n",
              "    <tr>\n",
              "      <th>332</th>\n",
              "      <td>80</td>\n",
              "      <td>12.0</td>\n",
              "      <td>3.0</td>\n",
              "      <td>17.0</td>\n",
              "      <td>1.0</td>\n",
              "      <td>0</td>\n",
              "      <td>1</td>\n",
              "    </tr>\n",
              "    <tr>\n",
              "      <th>366</th>\n",
              "      <td>73</td>\n",
              "      <td>16.0</td>\n",
              "      <td>3.0</td>\n",
              "      <td>21.0</td>\n",
              "      <td>1.0</td>\n",
              "      <td>1</td>\n",
              "      <td>0</td>\n",
              "    </tr>\n",
              "  </tbody>\n",
              "</table>\n",
              "<p>264 rows × 7 columns</p>\n",
              "</div>"
            ],
            "text/plain": [
              "     Age  EDUC  SES  MMSE  CDR  F  M\n",
              "0     74   2.0  3.0  29.0  0.0  1  0\n",
              "1     55   4.0  1.0  29.0  0.0  1  0\n",
              "2     73   4.0  3.0  27.0  0.0  1  0\n",
              "8     74   5.0  2.0  30.0  0.0  0  1\n",
              "9     52   3.0  2.0  30.0  0.0  1  0\n",
              "..   ...   ...  ...   ...  ... .. ..\n",
              "329   77  20.0  1.0  23.0  1.0  0  1\n",
              "330   79  20.0  1.0  25.0  1.0  0  1\n",
              "331   78  12.0  3.0  23.0  1.0  0  1\n",
              "332   80  12.0  3.0  17.0  1.0  0  1\n",
              "366   73  16.0  3.0  21.0  1.0  1  0\n",
              "\n",
              "[264 rows x 7 columns]"
            ]
          },
          "metadata": {
            "tags": []
          },
          "execution_count": 15
        }
      ]
    },
    {
      "cell_type": "code",
      "metadata": {
        "id": "FEh0_AEu6o2a",
        "colab": {
          "base_uri": "https://localhost:8080/"
        },
        "outputId": "fa7fa238-7ae2-4257-d45e-7bb1ffef72d6"
      },
      "source": [
        "df_normal = df[df['CDR'] == 0]\n",
        "df_dementia = df[df['CDR'] == 1]\n",
        "\n",
        "print(df_normal.tail())\n",
        "print(df_dementia.tail())\n",
        "print()\n",
        "print(len(df_normal))\n",
        "print(len(df_dementia))"
      ],
      "execution_count": 16,
      "outputs": [
        {
          "output_type": "stream",
          "text": [
            "    Age  EDUC  SES  MMSE  CDR  F  M\n",
            "8    83  12.0  4.0  29.0  0.0  0  1\n",
            "9    85  12.0  4.0  30.0  0.0  0  1\n",
            "13   93  14.0  2.0  30.0  0.0  1  0\n",
            "14   95  14.0  2.0  29.0  0.0  1  0\n",
            "15   68  12.0  2.0  27.0  0.0  0  1\n",
            "     Age  EDUC  SES  MMSE  CDR  F  M\n",
            "329   77  20.0  1.0  23.0  1.0  0  1\n",
            "330   79  20.0  1.0  25.0  1.0  0  1\n",
            "331   78  12.0  3.0  23.0  1.0  0  1\n",
            "332   80  12.0  3.0  17.0  1.0  0  1\n",
            "366   73  16.0  3.0  21.0  1.0  1  0\n",
            "\n",
            "200\n",
            "64\n"
          ],
          "name": "stdout"
        }
      ]
    },
    {
      "cell_type": "code",
      "metadata": {
        "id": "0pqiNbbkkpX1"
      },
      "source": [
        "x_normal = df_normal[['Age', 'EDUC', 'SES', 'MMSE', 'F',\t'M']].values\n",
        "y_normal = df_normal[['CDR']].values\n",
        "\n",
        "x_dementia = df_dementia[['Age', 'EDUC', 'SES', 'MMSE', 'F',\t'M']].values\n",
        "y_dementia = df_dementia[['CDR']].values"
      ],
      "execution_count": 17,
      "outputs": []
    },
    {
      "cell_type": "code",
      "metadata": {
        "colab": {
          "base_uri": "https://localhost:8080/"
        },
        "id": "pz49HmC2mbD_",
        "outputId": "1de8677b-67b4-4f52-bf75-24c747b64d9f"
      },
      "source": [
        "split = 0.2\n",
        "x_train_normal, x_test_normal, y_train_normal, y_test_normal = train_test_split(x_normal, y_normal, test_size=split, random_state=42)\n",
        "x_train_dementia, x_test_dementia, y_train_dementia, y_test_dementia = train_test_split(x_dementia, y_dementia, test_size=split, random_state=42)\n",
        "\n",
        "print(len(x_test_normal))\n",
        "print(len(x_test_dementia))"
      ],
      "execution_count": 18,
      "outputs": [
        {
          "output_type": "stream",
          "text": [
            "40\n",
            "13\n"
          ],
          "name": "stdout"
        }
      ]
    },
    {
      "cell_type": "code",
      "metadata": {
        "id": "8PwtKiVZnyfz"
      },
      "source": [
        "x_train = (x_train_normal, x_train_dementia)\n",
        "x_test = (x_test_normal, x_test_dementia)\n",
        "y_train = (y_train_normal, y_train_dementia)\n",
        "y_test = (y_test_normal, y_test_dementia)"
      ],
      "execution_count": 19,
      "outputs": []
    },
    {
      "cell_type": "code",
      "metadata": {
        "id": "ZZqxdT46llkv"
      },
      "source": [
        "x_train, x_test, y_train, y_test = np.concatenate(x_train), np.concatenate(x_test), np.concatenate(y_train), np.concatenate(y_test)"
      ],
      "execution_count": 20,
      "outputs": []
    },
    {
      "cell_type": "code",
      "metadata": {
        "id": "UTbSWoF8mDJZ",
        "colab": {
          "base_uri": "https://localhost:8080/"
        },
        "outputId": "10ce5762-f126-4742-cafb-0acf517625c4"
      },
      "source": [
        "print(x_train.shape)\n",
        "print(x_test.shape)"
      ],
      "execution_count": 21,
      "outputs": [
        {
          "output_type": "stream",
          "text": [
            "(211, 6)\n",
            "(53, 6)\n"
          ],
          "name": "stdout"
        }
      ]
    },
    {
      "cell_type": "code",
      "metadata": {
        "id": "8WPCmv1Iwr-x"
      },
      "source": [
        "scaler = MinMaxScaler().fit(np.concatenate((x_train, x_test)))\n",
        "x_train_scaled = scaler.transform(x_train)\n",
        "x_test_scaled = scaler.transform(x_test)"
      ],
      "execution_count": 23,
      "outputs": []
    },
    {
      "cell_type": "code",
      "metadata": {
        "id": "bOvWkkSdkCUl"
      },
      "source": [
        "# save feature numpy as scaler at backend\n",
        "np.savetxt(\"scaler.csv\", np.concatenate((x_train, x_test)), delimiter=\",\")"
      ],
      "execution_count": 33,
      "outputs": []
    },
    {
      "cell_type": "code",
      "metadata": {
        "id": "2IxblKM3ltbL",
        "colab": {
          "base_uri": "https://localhost:8080/"
        },
        "outputId": "939e6ad4-b39a-41f7-fdb8-8e97c807f51b"
      },
      "source": [
        "model = tf.keras.Sequential([\n",
        "                             tf.keras.layers.Dense(16, activation='relu', input_shape=[6]),\n",
        "                             tf.keras.layers.Dropout(0.2),\n",
        "                             tf.keras.layers.Dense(8, activation='relu'),\n",
        "                             tf.keras.layers.Dropout(0.2),\n",
        "                             tf.keras.layers.Dense(1, activation='sigmoid')    \n",
        "])\n",
        "\n",
        "model.compile(\n",
        "    optimizer=tf.keras.optimizers.Adam(),\n",
        "    loss='binary_crossentropy',\n",
        "    metrics=['accuracy']\n",
        ")\n",
        "\n",
        "model.summary()"
      ],
      "execution_count": 24,
      "outputs": [
        {
          "output_type": "stream",
          "text": [
            "Model: \"sequential\"\n",
            "_________________________________________________________________\n",
            "Layer (type)                 Output Shape              Param #   \n",
            "=================================================================\n",
            "dense (Dense)                (None, 16)                112       \n",
            "_________________________________________________________________\n",
            "dropout (Dropout)            (None, 16)                0         \n",
            "_________________________________________________________________\n",
            "dense_1 (Dense)              (None, 8)                 136       \n",
            "_________________________________________________________________\n",
            "dropout_1 (Dropout)          (None, 8)                 0         \n",
            "_________________________________________________________________\n",
            "dense_2 (Dense)              (None, 1)                 9         \n",
            "=================================================================\n",
            "Total params: 257\n",
            "Trainable params: 257\n",
            "Non-trainable params: 0\n",
            "_________________________________________________________________\n"
          ],
          "name": "stdout"
        }
      ]
    },
    {
      "cell_type": "code",
      "metadata": {
        "id": "Q-HBgN4USNUL"
      },
      "source": [
        "class StopTraining(tf.keras.callbacks.Callback):\n",
        "  def on_epoch_end(self, epoch, logs=None):\n",
        "    accuracy = 0.90\n",
        "    loss = 0.3\n",
        "    if(logs.get('accuracy') >= accuracy and logs.get('val_accuracy') >= accuracy and\n",
        "       logs.get('loss') <= loss and logs.get('val_loss') <= loss):\n",
        "      print('\\nSudah mencapai akurasi {}%, proses training berhenti'.format(accuracy*100))\n",
        "      self.model.stop_training = True\n",
        "\n",
        "mc = ModelCheckpoint('best_model.h5', monitor='val_loss', save_best_only=True)\n",
        "es = EarlyStopping(monitor='val_loss', patience=100)\n",
        "st = StopTraining()"
      ],
      "execution_count": 26,
      "outputs": []
    },
    {
      "cell_type": "code",
      "metadata": {
        "id": "Q7rlcFzunmen",
        "colab": {
          "base_uri": "https://localhost:8080/"
        },
        "outputId": "79e05b92-60cf-48f5-da2b-77d37a733c00"
      },
      "source": [
        "history = model.fit(x_train_scaled, y_train, epochs=500, validation_data=(x_test_scaled, y_test), callbacks=[mc, es, st], verbose=2)"
      ],
      "execution_count": 27,
      "outputs": [
        {
          "output_type": "stream",
          "text": [
            "Epoch 1/500\n",
            "7/7 - 4s - loss: 0.6577 - accuracy: 0.7251 - val_loss: 0.6549 - val_accuracy: 0.7547\n",
            "Epoch 2/500\n",
            "7/7 - 0s - loss: 0.6621 - accuracy: 0.7204 - val_loss: 0.6418 - val_accuracy: 0.7547\n",
            "Epoch 3/500\n",
            "7/7 - 0s - loss: 0.6439 - accuracy: 0.7488 - val_loss: 0.6293 - val_accuracy: 0.7547\n",
            "Epoch 4/500\n",
            "7/7 - 0s - loss: 0.6399 - accuracy: 0.7441 - val_loss: 0.6156 - val_accuracy: 0.7547\n",
            "Epoch 5/500\n",
            "7/7 - 0s - loss: 0.6267 - accuracy: 0.7441 - val_loss: 0.6032 - val_accuracy: 0.7547\n",
            "Epoch 6/500\n",
            "7/7 - 0s - loss: 0.6142 - accuracy: 0.7583 - val_loss: 0.5920 - val_accuracy: 0.7547\n",
            "Epoch 7/500\n",
            "7/7 - 0s - loss: 0.6115 - accuracy: 0.7536 - val_loss: 0.5816 - val_accuracy: 0.7547\n",
            "Epoch 8/500\n",
            "7/7 - 0s - loss: 0.6060 - accuracy: 0.7346 - val_loss: 0.5722 - val_accuracy: 0.7547\n",
            "Epoch 9/500\n",
            "7/7 - 0s - loss: 0.5618 - accuracy: 0.7630 - val_loss: 0.5631 - val_accuracy: 0.7547\n",
            "Epoch 10/500\n",
            "7/7 - 0s - loss: 0.5637 - accuracy: 0.7488 - val_loss: 0.5545 - val_accuracy: 0.7547\n",
            "Epoch 11/500\n",
            "7/7 - 0s - loss: 0.5425 - accuracy: 0.7773 - val_loss: 0.5471 - val_accuracy: 0.7547\n",
            "Epoch 12/500\n",
            "7/7 - 0s - loss: 0.5635 - accuracy: 0.7583 - val_loss: 0.5403 - val_accuracy: 0.7547\n",
            "Epoch 13/500\n",
            "7/7 - 0s - loss: 0.5401 - accuracy: 0.7630 - val_loss: 0.5346 - val_accuracy: 0.7547\n",
            "Epoch 14/500\n",
            "7/7 - 0s - loss: 0.5475 - accuracy: 0.7583 - val_loss: 0.5287 - val_accuracy: 0.7547\n",
            "Epoch 15/500\n",
            "7/7 - 0s - loss: 0.5304 - accuracy: 0.7630 - val_loss: 0.5234 - val_accuracy: 0.7547\n",
            "Epoch 16/500\n",
            "7/7 - 0s - loss: 0.5548 - accuracy: 0.7630 - val_loss: 0.5179 - val_accuracy: 0.7547\n",
            "Epoch 17/500\n",
            "7/7 - 0s - loss: 0.5357 - accuracy: 0.7583 - val_loss: 0.5123 - val_accuracy: 0.7547\n",
            "Epoch 18/500\n",
            "7/7 - 0s - loss: 0.5108 - accuracy: 0.7630 - val_loss: 0.5067 - val_accuracy: 0.7547\n",
            "Epoch 19/500\n",
            "7/7 - 0s - loss: 0.5160 - accuracy: 0.7536 - val_loss: 0.5016 - val_accuracy: 0.7547\n",
            "Epoch 20/500\n",
            "7/7 - 0s - loss: 0.4845 - accuracy: 0.7773 - val_loss: 0.4966 - val_accuracy: 0.7547\n",
            "Epoch 21/500\n",
            "7/7 - 0s - loss: 0.4933 - accuracy: 0.7725 - val_loss: 0.4912 - val_accuracy: 0.7547\n",
            "Epoch 22/500\n",
            "7/7 - 0s - loss: 0.5320 - accuracy: 0.7583 - val_loss: 0.4851 - val_accuracy: 0.7547\n",
            "Epoch 23/500\n",
            "7/7 - 0s - loss: 0.4840 - accuracy: 0.7630 - val_loss: 0.4789 - val_accuracy: 0.7547\n",
            "Epoch 24/500\n",
            "7/7 - 0s - loss: 0.4700 - accuracy: 0.7678 - val_loss: 0.4738 - val_accuracy: 0.7547\n",
            "Epoch 25/500\n",
            "7/7 - 0s - loss: 0.5001 - accuracy: 0.7678 - val_loss: 0.4674 - val_accuracy: 0.7547\n",
            "Epoch 26/500\n",
            "7/7 - 0s - loss: 0.4772 - accuracy: 0.7773 - val_loss: 0.4616 - val_accuracy: 0.7547\n",
            "Epoch 27/500\n",
            "7/7 - 0s - loss: 0.4546 - accuracy: 0.7725 - val_loss: 0.4565 - val_accuracy: 0.7547\n",
            "Epoch 28/500\n",
            "7/7 - 0s - loss: 0.4581 - accuracy: 0.7962 - val_loss: 0.4515 - val_accuracy: 0.7547\n",
            "Epoch 29/500\n",
            "7/7 - 0s - loss: 0.4554 - accuracy: 0.8057 - val_loss: 0.4458 - val_accuracy: 0.7547\n",
            "Epoch 30/500\n",
            "7/7 - 0s - loss: 0.4540 - accuracy: 0.7962 - val_loss: 0.4399 - val_accuracy: 0.7547\n",
            "Epoch 31/500\n",
            "7/7 - 0s - loss: 0.4569 - accuracy: 0.8057 - val_loss: 0.4348 - val_accuracy: 0.7547\n",
            "Epoch 32/500\n",
            "7/7 - 0s - loss: 0.4525 - accuracy: 0.8009 - val_loss: 0.4294 - val_accuracy: 0.7547\n",
            "Epoch 33/500\n",
            "7/7 - 0s - loss: 0.4419 - accuracy: 0.8152 - val_loss: 0.4231 - val_accuracy: 0.7736\n",
            "Epoch 34/500\n",
            "7/7 - 0s - loss: 0.4514 - accuracy: 0.8104 - val_loss: 0.4165 - val_accuracy: 0.7736\n",
            "Epoch 35/500\n",
            "7/7 - 0s - loss: 0.4558 - accuracy: 0.8199 - val_loss: 0.4108 - val_accuracy: 0.8113\n",
            "Epoch 36/500\n",
            "7/7 - 0s - loss: 0.4438 - accuracy: 0.8104 - val_loss: 0.4069 - val_accuracy: 0.8113\n",
            "Epoch 37/500\n",
            "7/7 - 0s - loss: 0.3974 - accuracy: 0.8389 - val_loss: 0.4036 - val_accuracy: 0.8113\n",
            "Epoch 38/500\n",
            "7/7 - 0s - loss: 0.4013 - accuracy: 0.8436 - val_loss: 0.3993 - val_accuracy: 0.8302\n",
            "Epoch 39/500\n",
            "7/7 - 0s - loss: 0.3926 - accuracy: 0.8389 - val_loss: 0.3956 - val_accuracy: 0.8302\n",
            "Epoch 40/500\n",
            "7/7 - 0s - loss: 0.4258 - accuracy: 0.8152 - val_loss: 0.3912 - val_accuracy: 0.8302\n",
            "Epoch 41/500\n",
            "7/7 - 0s - loss: 0.4025 - accuracy: 0.8341 - val_loss: 0.3856 - val_accuracy: 0.8302\n",
            "Epoch 42/500\n",
            "7/7 - 0s - loss: 0.4107 - accuracy: 0.8483 - val_loss: 0.3812 - val_accuracy: 0.8302\n",
            "Epoch 43/500\n",
            "7/7 - 0s - loss: 0.3795 - accuracy: 0.8531 - val_loss: 0.3799 - val_accuracy: 0.8302\n",
            "Epoch 44/500\n",
            "7/7 - 0s - loss: 0.4139 - accuracy: 0.8436 - val_loss: 0.3771 - val_accuracy: 0.8302\n",
            "Epoch 45/500\n",
            "7/7 - 0s - loss: 0.4239 - accuracy: 0.8341 - val_loss: 0.3735 - val_accuracy: 0.8302\n",
            "Epoch 46/500\n",
            "7/7 - 0s - loss: 0.3980 - accuracy: 0.8294 - val_loss: 0.3684 - val_accuracy: 0.8302\n",
            "Epoch 47/500\n",
            "7/7 - 0s - loss: 0.4097 - accuracy: 0.8531 - val_loss: 0.3634 - val_accuracy: 0.8302\n",
            "Epoch 48/500\n",
            "7/7 - 0s - loss: 0.3718 - accuracy: 0.8483 - val_loss: 0.3603 - val_accuracy: 0.8491\n",
            "Epoch 49/500\n",
            "7/7 - 0s - loss: 0.3584 - accuracy: 0.8626 - val_loss: 0.3572 - val_accuracy: 0.8491\n",
            "Epoch 50/500\n",
            "7/7 - 0s - loss: 0.3777 - accuracy: 0.8720 - val_loss: 0.3543 - val_accuracy: 0.8679\n",
            "Epoch 51/500\n",
            "7/7 - 0s - loss: 0.3994 - accuracy: 0.8389 - val_loss: 0.3527 - val_accuracy: 0.8491\n",
            "Epoch 52/500\n",
            "7/7 - 0s - loss: 0.3892 - accuracy: 0.8531 - val_loss: 0.3509 - val_accuracy: 0.8491\n",
            "Epoch 53/500\n",
            "7/7 - 0s - loss: 0.3560 - accuracy: 0.8483 - val_loss: 0.3476 - val_accuracy: 0.8679\n",
            "Epoch 54/500\n",
            "7/7 - 0s - loss: 0.3879 - accuracy: 0.8673 - val_loss: 0.3432 - val_accuracy: 0.8868\n",
            "Epoch 55/500\n",
            "7/7 - 0s - loss: 0.3656 - accuracy: 0.8531 - val_loss: 0.3406 - val_accuracy: 0.8868\n",
            "Epoch 56/500\n",
            "7/7 - 0s - loss: 0.4018 - accuracy: 0.8341 - val_loss: 0.3392 - val_accuracy: 0.8868\n",
            "Epoch 57/500\n",
            "7/7 - 0s - loss: 0.4104 - accuracy: 0.8152 - val_loss: 0.3361 - val_accuracy: 0.8868\n",
            "Epoch 58/500\n",
            "7/7 - 0s - loss: 0.3914 - accuracy: 0.8436 - val_loss: 0.3341 - val_accuracy: 0.8868\n",
            "Epoch 59/500\n",
            "7/7 - 0s - loss: 0.3657 - accuracy: 0.8673 - val_loss: 0.3339 - val_accuracy: 0.8868\n",
            "Epoch 60/500\n",
            "7/7 - 0s - loss: 0.3743 - accuracy: 0.8483 - val_loss: 0.3334 - val_accuracy: 0.8868\n",
            "Epoch 61/500\n",
            "7/7 - 0s - loss: 0.3776 - accuracy: 0.8578 - val_loss: 0.3352 - val_accuracy: 0.8868\n",
            "Epoch 62/500\n",
            "7/7 - 0s - loss: 0.3440 - accuracy: 0.8815 - val_loss: 0.3391 - val_accuracy: 0.8491\n",
            "Epoch 63/500\n",
            "7/7 - 0s - loss: 0.3688 - accuracy: 0.8483 - val_loss: 0.3354 - val_accuracy: 0.8868\n",
            "Epoch 64/500\n",
            "7/7 - 0s - loss: 0.3496 - accuracy: 0.8815 - val_loss: 0.3315 - val_accuracy: 0.8868\n",
            "Epoch 65/500\n",
            "7/7 - 0s - loss: 0.3450 - accuracy: 0.8626 - val_loss: 0.3292 - val_accuracy: 0.8868\n",
            "Epoch 66/500\n",
            "7/7 - 0s - loss: 0.3469 - accuracy: 0.8768 - val_loss: 0.3257 - val_accuracy: 0.9057\n",
            "Epoch 67/500\n",
            "7/7 - 0s - loss: 0.3727 - accuracy: 0.8578 - val_loss: 0.3234 - val_accuracy: 0.9057\n",
            "Epoch 68/500\n",
            "7/7 - 0s - loss: 0.3916 - accuracy: 0.8436 - val_loss: 0.3198 - val_accuracy: 0.9245\n",
            "Epoch 69/500\n",
            "7/7 - 0s - loss: 0.3747 - accuracy: 0.8720 - val_loss: 0.3176 - val_accuracy: 0.9245\n",
            "Epoch 70/500\n",
            "7/7 - 0s - loss: 0.3384 - accuracy: 0.8720 - val_loss: 0.3171 - val_accuracy: 0.9245\n",
            "Epoch 71/500\n",
            "7/7 - 0s - loss: 0.3595 - accuracy: 0.8626 - val_loss: 0.3176 - val_accuracy: 0.9245\n",
            "Epoch 72/500\n",
            "7/7 - 0s - loss: 0.3632 - accuracy: 0.8341 - val_loss: 0.3187 - val_accuracy: 0.9245\n",
            "Epoch 73/500\n",
            "7/7 - 0s - loss: 0.3703 - accuracy: 0.8578 - val_loss: 0.3223 - val_accuracy: 0.9245\n",
            "Epoch 74/500\n",
            "7/7 - 0s - loss: 0.3384 - accuracy: 0.8673 - val_loss: 0.3243 - val_accuracy: 0.9245\n",
            "Epoch 75/500\n",
            "7/7 - 0s - loss: 0.3110 - accuracy: 0.8720 - val_loss: 0.3229 - val_accuracy: 0.9245\n",
            "Epoch 76/500\n",
            "7/7 - 0s - loss: 0.3428 - accuracy: 0.8483 - val_loss: 0.3202 - val_accuracy: 0.9245\n",
            "Epoch 77/500\n",
            "7/7 - 0s - loss: 0.3584 - accuracy: 0.8483 - val_loss: 0.3198 - val_accuracy: 0.9245\n",
            "Epoch 78/500\n",
            "7/7 - 0s - loss: 0.3527 - accuracy: 0.8389 - val_loss: 0.3154 - val_accuracy: 0.9245\n",
            "Epoch 79/500\n",
            "7/7 - 0s - loss: 0.3369 - accuracy: 0.8531 - val_loss: 0.3130 - val_accuracy: 0.9245\n",
            "Epoch 80/500\n",
            "7/7 - 0s - loss: 0.3351 - accuracy: 0.8673 - val_loss: 0.3123 - val_accuracy: 0.9245\n",
            "Epoch 81/500\n",
            "7/7 - 0s - loss: 0.3355 - accuracy: 0.8673 - val_loss: 0.3113 - val_accuracy: 0.9245\n",
            "Epoch 82/500\n",
            "7/7 - 0s - loss: 0.3109 - accuracy: 0.8815 - val_loss: 0.3102 - val_accuracy: 0.9245\n",
            "Epoch 83/500\n",
            "7/7 - 0s - loss: 0.3199 - accuracy: 0.8626 - val_loss: 0.3113 - val_accuracy: 0.9245\n",
            "Epoch 84/500\n",
            "7/7 - 0s - loss: 0.3321 - accuracy: 0.8578 - val_loss: 0.3082 - val_accuracy: 0.9245\n",
            "Epoch 85/500\n",
            "7/7 - 0s - loss: 0.3534 - accuracy: 0.8626 - val_loss: 0.3060 - val_accuracy: 0.9245\n",
            "Epoch 86/500\n",
            "7/7 - 0s - loss: 0.3358 - accuracy: 0.8626 - val_loss: 0.3036 - val_accuracy: 0.9245\n",
            "Epoch 87/500\n",
            "7/7 - 0s - loss: 0.3151 - accuracy: 0.8815 - val_loss: 0.3014 - val_accuracy: 0.9245\n",
            "Epoch 88/500\n",
            "7/7 - 0s - loss: 0.3310 - accuracy: 0.8578 - val_loss: 0.3011 - val_accuracy: 0.9245\n",
            "Epoch 89/500\n",
            "7/7 - 0s - loss: 0.3400 - accuracy: 0.8815 - val_loss: 0.2990 - val_accuracy: 0.9245\n",
            "Epoch 90/500\n",
            "7/7 - 0s - loss: 0.3103 - accuracy: 0.8768 - val_loss: 0.2961 - val_accuracy: 0.9245\n",
            "Epoch 91/500\n",
            "7/7 - 0s - loss: 0.3132 - accuracy: 0.8815 - val_loss: 0.2935 - val_accuracy: 0.9245\n",
            "Epoch 92/500\n",
            "7/7 - 0s - loss: 0.3033 - accuracy: 0.8531 - val_loss: 0.2940 - val_accuracy: 0.9245\n",
            "Epoch 93/500\n",
            "7/7 - 0s - loss: 0.3390 - accuracy: 0.8673 - val_loss: 0.2940 - val_accuracy: 0.9245\n",
            "Epoch 94/500\n",
            "7/7 - 0s - loss: 0.2912 - accuracy: 0.8863 - val_loss: 0.2919 - val_accuracy: 0.9245\n",
            "Epoch 95/500\n",
            "7/7 - 0s - loss: 0.2934 - accuracy: 0.8957 - val_loss: 0.2869 - val_accuracy: 0.9245\n",
            "Epoch 96/500\n",
            "7/7 - 0s - loss: 0.3013 - accuracy: 0.8768 - val_loss: 0.2839 - val_accuracy: 0.9245\n",
            "Epoch 97/500\n",
            "7/7 - 0s - loss: 0.2909 - accuracy: 0.8863 - val_loss: 0.2833 - val_accuracy: 0.9245\n",
            "Epoch 98/500\n",
            "7/7 - 0s - loss: 0.3187 - accuracy: 0.8673 - val_loss: 0.2867 - val_accuracy: 0.9245\n",
            "Epoch 99/500\n",
            "7/7 - 0s - loss: 0.3418 - accuracy: 0.8720 - val_loss: 0.2897 - val_accuracy: 0.9245\n",
            "Epoch 100/500\n",
            "7/7 - 0s - loss: 0.2879 - accuracy: 0.8815 - val_loss: 0.2933 - val_accuracy: 0.9245\n",
            "Epoch 101/500\n",
            "7/7 - 0s - loss: 0.3392 - accuracy: 0.8768 - val_loss: 0.2912 - val_accuracy: 0.9245\n",
            "Epoch 102/500\n",
            "7/7 - 0s - loss: 0.3283 - accuracy: 0.8720 - val_loss: 0.2852 - val_accuracy: 0.9245\n",
            "Epoch 103/500\n",
            "7/7 - 0s - loss: 0.3363 - accuracy: 0.8720 - val_loss: 0.2860 - val_accuracy: 0.9245\n",
            "Epoch 104/500\n",
            "7/7 - 0s - loss: 0.3161 - accuracy: 0.8673 - val_loss: 0.2860 - val_accuracy: 0.9245\n",
            "Epoch 105/500\n",
            "7/7 - 0s - loss: 0.2851 - accuracy: 0.8863 - val_loss: 0.2872 - val_accuracy: 0.9245\n",
            "Epoch 106/500\n",
            "7/7 - 0s - loss: 0.2810 - accuracy: 0.8815 - val_loss: 0.2888 - val_accuracy: 0.9245\n",
            "Epoch 107/500\n",
            "7/7 - 0s - loss: 0.2942 - accuracy: 0.8910 - val_loss: 0.2867 - val_accuracy: 0.9245\n",
            "Epoch 108/500\n",
            "7/7 - 0s - loss: 0.3149 - accuracy: 0.8578 - val_loss: 0.2835 - val_accuracy: 0.9245\n",
            "Epoch 109/500\n",
            "7/7 - 0s - loss: 0.3293 - accuracy: 0.8720 - val_loss: 0.2842 - val_accuracy: 0.9245\n",
            "Epoch 110/500\n",
            "7/7 - 0s - loss: 0.2917 - accuracy: 0.8531 - val_loss: 0.2853 - val_accuracy: 0.9245\n",
            "Epoch 111/500\n",
            "7/7 - 0s - loss: 0.3023 - accuracy: 0.8673 - val_loss: 0.2859 - val_accuracy: 0.9245\n",
            "Epoch 112/500\n",
            "7/7 - 0s - loss: 0.3013 - accuracy: 0.8815 - val_loss: 0.2854 - val_accuracy: 0.9245\n",
            "Epoch 113/500\n",
            "7/7 - 0s - loss: 0.2955 - accuracy: 0.8768 - val_loss: 0.2863 - val_accuracy: 0.9245\n",
            "Epoch 114/500\n",
            "7/7 - 0s - loss: 0.3310 - accuracy: 0.8673 - val_loss: 0.2904 - val_accuracy: 0.9245\n",
            "Epoch 115/500\n",
            "7/7 - 0s - loss: 0.2973 - accuracy: 0.8626 - val_loss: 0.2916 - val_accuracy: 0.9245\n",
            "Epoch 116/500\n",
            "7/7 - 0s - loss: 0.2892 - accuracy: 0.8863 - val_loss: 0.2873 - val_accuracy: 0.9245\n",
            "Epoch 117/500\n",
            "7/7 - 0s - loss: 0.2797 - accuracy: 0.8768 - val_loss: 0.2849 - val_accuracy: 0.9245\n",
            "Epoch 118/500\n",
            "7/7 - 0s - loss: 0.3096 - accuracy: 0.8626 - val_loss: 0.2832 - val_accuracy: 0.9245\n",
            "Epoch 119/500\n",
            "7/7 - 0s - loss: 0.2923 - accuracy: 0.8720 - val_loss: 0.2843 - val_accuracy: 0.9245\n",
            "Epoch 120/500\n",
            "7/7 - 0s - loss: 0.2941 - accuracy: 0.8673 - val_loss: 0.2852 - val_accuracy: 0.9245\n",
            "Epoch 121/500\n",
            "7/7 - 0s - loss: 0.2918 - accuracy: 0.8910 - val_loss: 0.2837 - val_accuracy: 0.9245\n",
            "Epoch 122/500\n",
            "7/7 - 0s - loss: 0.3011 - accuracy: 0.8720 - val_loss: 0.2821 - val_accuracy: 0.9245\n",
            "Epoch 123/500\n",
            "7/7 - 0s - loss: 0.2894 - accuracy: 0.8578 - val_loss: 0.2812 - val_accuracy: 0.9245\n",
            "Epoch 124/500\n",
            "7/7 - 0s - loss: 0.2853 - accuracy: 0.8957 - val_loss: 0.2776 - val_accuracy: 0.9245\n",
            "Epoch 125/500\n",
            "7/7 - 0s - loss: 0.3021 - accuracy: 0.8720 - val_loss: 0.2781 - val_accuracy: 0.9245\n",
            "Epoch 126/500\n",
            "7/7 - 0s - loss: 0.3023 - accuracy: 0.8720 - val_loss: 0.2778 - val_accuracy: 0.9057\n",
            "Epoch 127/500\n",
            "7/7 - 0s - loss: 0.2694 - accuracy: 0.9005 - val_loss: 0.2783 - val_accuracy: 0.9057\n",
            "\n",
            "Sudah mencapai akurasi 90.0%, proses training berhenti\n"
          ],
          "name": "stdout"
        }
      ]
    },
    {
      "cell_type": "code",
      "metadata": {
        "id": "OOjG9HxXn8yY",
        "colab": {
          "base_uri": "https://localhost:8080/",
          "height": 545
        },
        "outputId": "4b4bbb95-85c5-4d68-89dd-c0324a7ba05f"
      },
      "source": [
        "acc = history.history['accuracy']\n",
        "val_acc = history.history['val_accuracy']\n",
        "loss = history.history['loss']\n",
        "val_loss = history.history['val_loss']\n",
        "epochs = range(len(acc))\n",
        "\n",
        "plt.plot(epochs, acc, 'r', label='Training accuracy')\n",
        "plt.plot(epochs, val_acc, 'b', label='Validation accuracy')\n",
        "plt.title('Training and validation accuracy')\n",
        "plt.legend(loc=0)\n",
        "plt.figure()\n",
        "\n",
        "plt.plot(epochs, loss, 'r', label='Training loss')\n",
        "plt.plot(epochs, val_loss, 'b', label='Validation loss')\n",
        "plt.title('Training and validation loss')\n",
        "plt.legend(loc=0)\n",
        "\n",
        "plt.show()"
      ],
      "execution_count": 28,
      "outputs": [
        {
          "output_type": "display_data",
          "data": {
            "image/png": "[encoded data removed]",
            "text/plain": [
              "<Figure size 432x288 with 1 Axes>"
            ]
          },
          "metadata": {
            "tags": [],
            "needs_background": "light"
          }
        },
        {
          "output_type": "display_data",
          "data": {
            "image/png": "[encoded data removed]",
            "text/plain": [
              "<Figure size 432x288 with 1 Axes>"
            ]
          },
          "metadata": {
            "tags": [],
            "needs_background": "light"
          }
        }
      ]
    },
    {
      "cell_type": "code",
      "metadata": {
        "id": "Pq3qpizbfyb-",
        "colab": {
          "base_uri": "https://localhost:8080/"
        },
        "outputId": "f7a91a0e-3f73-4cd3-e05c-7f65efe0289b"
      },
      "source": [
        "saved_model = load_model('best_model.h5')\n",
        "\n",
        "loss, acc = saved_model.evaluate(x_test_scaled, y_test)\n",
        "print(\"Accuracy: \", acc)\n",
        "print(\"Loss: \", loss)"
      ],
      "execution_count": 29,
      "outputs": [
        {
          "output_type": "stream",
          "text": [
            "2/2 [==============================] - 0s 6ms/step - loss: 0.2776 - accuracy: 0.9245\n",
            "Accuracy:  0.9245283007621765\n",
            "Loss:  0.2776189148426056\n"
          ],
          "name": "stdout"
        }
      ]
    },
    {
      "cell_type": "code",
      "metadata": {
        "id": "pp9qzlaopFLL"
      },
      "source": [
        "normal = [[83,  12.0,  4.0,  29.0,  0,  1],\n",
        "          [85,  12.0,  4.0,  30.0,  0,  1],\n",
        "          [70,  14.0,  2.0,  30.0,  1,  0],\n",
        "          [68,  12.0,  2.0,  27.0,  0,  1]]\n",
        "\n",
        "dementia = [[77,  20.0,  1.0,  23.0,  0,  1],\n",
        "            [79,  20.0,  1.0,  25.0,  0,  1],\n",
        "            [80,  12.0,  3.0,  17.0,  0,  1],\n",
        "            [73,  16.0,  3.0,  21.0,  1,  0]] "
      ],
      "execution_count": 30,
      "outputs": []
    },
    {
      "cell_type": "code",
      "metadata": {
        "id": "VUoAMk39uoLz",
        "colab": {
          "base_uri": "https://localhost:8080/"
        },
        "outputId": "cc04ae90-422e-42c3-f288-14667dc179ec"
      },
      "source": [
        "for row in normal:\n",
        "  classes = model.predict(scaler.transform([row]))\n",
        "\n",
        "  print(row)\n",
        "  print(classes)\n",
        "  if classes[0] < 0.5:\n",
        "    print(\"Normal\")\n",
        "  else:\n",
        "    print(\"Dementia\")\n",
        "  \n",
        "  print()"
      ],
      "execution_count": 31,
      "outputs": [
        {
          "output_type": "stream",
          "text": [
            "[83, 12.0, 4.0, 29.0, 0, 1]\n",
            "[[0.36164877]]\n",
            "Normal\n",
            "\n",
            "[85, 12.0, 4.0, 30.0, 0, 1]\n",
            "[[0.3058967]]\n",
            "Normal\n",
            "\n",
            "[70, 14.0, 2.0, 30.0, 1, 0]\n",
            "[[0.46836326]]\n",
            "Normal\n",
            "\n",
            "[68, 12.0, 2.0, 27.0, 0, 1]\n",
            "[[0.36646762]]\n",
            "Normal\n",
            "\n"
          ],
          "name": "stdout"
        }
      ]
    },
    {
      "cell_type": "code",
      "metadata": {
        "id": "NJQH_EoVxeua",
        "colab": {
          "base_uri": "https://localhost:8080/"
        },
        "outputId": "0a778d9d-abeb-4adc-aab0-fa6458058c1a"
      },
      "source": [
        "for row in dementia:\n",
        "  classes = model.predict(scaler.transform([row]))\n",
        "\n",
        "  print(row)\n",
        "  print(classes)\n",
        "  if classes[0] < 0.5:\n",
        "    print(\"Normal\")\n",
        "  else:\n",
        "    print(\"Dementia\")\n",
        "  \n",
        "  print()"
      ],
      "execution_count": 32,
      "outputs": [
        {
          "output_type": "stream",
          "text": [
            "[77, 20.0, 1.0, 23.0, 0, 1]\n",
            "[[0.8839016]]\n",
            "Dementia\n",
            "\n",
            "[79, 20.0, 1.0, 25.0, 0, 1]\n",
            "[[0.8627554]]\n",
            "Dementia\n",
            "\n",
            "[80, 12.0, 3.0, 17.0, 0, 1]\n",
            "[[0.86778307]]\n",
            "Dementia\n",
            "\n",
            "[73, 16.0, 3.0, 21.0, 1, 0]\n",
            "[[0.8852278]]\n",
            "Dementia\n",
            "\n"
          ],
          "name": "stdout"
        }
      ]
    },
    {
      "cell_type": "code",
      "metadata": {
        "id": "TRWurQnpxl0g"
      },
      "source": [
        ""
      ],
      "execution_count": null,
      "outputs": []
    }
  ]
}