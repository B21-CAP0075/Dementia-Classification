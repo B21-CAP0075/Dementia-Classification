{
  "nbformat": 4,
  "nbformat_minor": 0,
  "metadata": {
    "colab": {
      "name": "Dementia_SaDem.ipynb",
      "provenance": [],
      "collapsed_sections": [],
      "authorship_tag": "ABX9TyNJpXzz5igYM0OmBVTXYoGo",
      "include_colab_link": true
    },
    "kernelspec": {
      "name": "python3",
      "display_name": "Python 3"
    },
    "accelerator": "GPU"
  },
  "cells": [
    {
      "cell_type": "markdown",
      "metadata": {
        "id": "view-in-github",
        "colab_type": "text"
      },
      "source": [
        "<a href=\"https://colab.research.google.com/github/B21-CAP0075/Dementia-Classification/blob/development/Dementia_CDR_Classification.ipynb\" target=\"_parent\"><img src=\"https://colab.research.google.com/assets/colab-badge.svg\" alt=\"Open In Colab\"/></a>"
      ]
    },
    {
      "cell_type": "code",
      "metadata": {
        "id": "xkN7mkLaVTJ4"
      },
      "source": [
        "import zipfile\n",
        "import pandas as pd\n",
        "import numpy as np\n",
        "import seaborn as sns\n",
        "import matplotlib.pyplot as plt\n",
        "\n",
        "from google.colab import drive\n",
        "from sklearn.preprocessing import MinMaxScaler\n",
        "from sklearn.preprocessing import StandardScaler \n",
        "from sklearn.model_selection import train_test_split\n",
        "\n",
        "import tensorflow as tf\n",
        "from keras.models import load_model\n",
        "from keras.callbacks import EarlyStopping\n",
        "from keras.callbacks import ModelCheckpoint"
      ],
      "execution_count": 1,
      "outputs": []
    },
    {
      "cell_type": "code",
      "metadata": {
        "id": "oI_kzNi_Vi6i",
        "colab": {
          "base_uri": "https://localhost:8080/"
        },
        "outputId": "34372072-a721-4fb6-e113-99b0b66f5d8d"
      },
      "source": [
        "drive.mount('/content/drive')"
      ],
      "execution_count": 2,
      "outputs": [
        {
          "output_type": "stream",
          "text": [
            "Mounted at /content/drive\n"
          ],
          "name": "stdout"
        }
      ]
    },
    {
      "cell_type": "code",
      "metadata": {
        "id": "7VU7nNaaVscM",
        "colab": {
          "base_uri": "https://localhost:8080/"
        },
        "outputId": "6e183085-91e4-4b36-d0e0-1616239a77f9"
      },
      "source": [
        "! pip install --upgrade --force-reinstall --no-deps kaggle\n",
        "! mkdir /root/.kaggle/\n",
        "! cp \"/content/drive/My Drive/Machine Learning/kaggle.json\" /root/.kaggle/\n",
        "! chmod 600 /root/.kaggle/kaggle.json"
      ],
      "execution_count": 3,
      "outputs": [
        {
          "output_type": "stream",
          "text": [
            "Collecting kaggle\n",
            "\u001b[?25l  Downloading https://files.pythonhosted.org/packages/3a/e7/3bac01547d2ed3d308ac92a0878fbdb0ed0f3d41fb1906c319ccbba1bfbc/kaggle-1.5.12.tar.gz (58kB)\n",
            "\r\u001b[K     |█████▋                          | 10kB 24.2MB/s eta 0:00:01\r\u001b[K     |███████████▏                    | 20kB 29.4MB/s eta 0:00:01\r\u001b[K     |████████████████▊               | 30kB 33.4MB/s eta 0:00:01\r\u001b[K     |██████████████████████▎         | 40kB 27.0MB/s eta 0:00:01\r\u001b[K     |███████████████████████████▉    | 51kB 27.8MB/s eta 0:00:01\r\u001b[K     |████████████████████████████████| 61kB 9.3MB/s \n",
            "\u001b[?25hBuilding wheels for collected packages: kaggle\n",
            "  Building wheel for kaggle (setup.py) ... \u001b[?25l\u001b[?25hdone\n",
            "  Created wheel for kaggle: filename=kaggle-1.5.12-cp37-none-any.whl size=73053 sha256=65fb0a8ddb0483e731d683f485c414db762dde72fcf54da43f8c189fbe75e9bf\n",
            "  Stored in directory: /root/.cache/pip/wheels/a1/6a/26/d30b7499ff85a4a4593377a87ecf55f7d08af42f0de9b60303\n",
            "Successfully built kaggle\n",
            "Installing collected packages: kaggle\n",
            "  Found existing installation: kaggle 1.5.12\n",
            "    Uninstalling kaggle-1.5.12:\n",
            "      Successfully uninstalled kaggle-1.5.12\n",
            "Successfully installed kaggle-1.5.12\n"
          ],
          "name": "stdout"
        }
      ]
    },
    {
      "cell_type": "code",
      "metadata": {
        "id": "0zSmgeF7V14w",
        "colab": {
          "base_uri": "https://localhost:8080/"
        },
        "outputId": "70818986-c21e-43f0-83ad-3d4bbe7416a2"
      },
      "source": [
        "! kaggle datasets download -d jboysen/mri-and-alzheimers"
      ],
      "execution_count": 4,
      "outputs": [
        {
          "output_type": "stream",
          "text": [
            "Downloading mri-and-alzheimers.zip to /content\n",
            "\r  0% 0.00/12.6k [00:00<?, ?B/s]\n",
            "\r100% 12.6k/12.6k [00:00<00:00, 12.3MB/s]\n"
          ],
          "name": "stdout"
        }
      ]
    },
    {
      "cell_type": "code",
      "metadata": {
        "id": "JYXIttu8V69G"
      },
      "source": [
        "zip_ref = zipfile.ZipFile('mri-and-alzheimers.zip', 'r')\n",
        "zip_ref.extractall()\n",
        "zip_ref.close()"
      ],
      "execution_count": 5,
      "outputs": []
    },
    {
      "cell_type": "code",
      "metadata": {
        "id": "FzoA4JxdWX95",
        "colab": {
          "base_uri": "https://localhost:8080/",
          "height": 204
        },
        "outputId": "dddd5704-8bc6-45fa-aa09-8377e452a496"
      },
      "source": [
        "df_cross = pd.read_csv('oasis_cross-sectional.csv')\n",
        "df_cross.head()"
      ],
      "execution_count": 142,
      "outputs": [
        {
          "output_type": "execute_result",
          "data": {
            "text/html": [
              "<div>\n",
              "<style scoped>\n",
              "    .dataframe tbody tr th:only-of-type {\n",
              "        vertical-align: middle;\n",
              "    }\n",
              "\n",
              "    .dataframe tbody tr th {\n",
              "        vertical-align: top;\n",
              "    }\n",
              "\n",
              "    .dataframe thead th {\n",
              "        text-align: right;\n",
              "    }\n",
              "</style>\n",
              "<table border=\"1\" class=\"dataframe\">\n",
              "  <thead>\n",
              "    <tr style=\"text-align: right;\">\n",
              "      <th></th>\n",
              "      <th>ID</th>\n",
              "      <th>M/F</th>\n",
              "      <th>Hand</th>\n",
              "      <th>Age</th>\n",
              "      <th>Educ</th>\n",
              "      <th>SES</th>\n",
              "      <th>MMSE</th>\n",
              "      <th>CDR</th>\n",
              "      <th>eTIV</th>\n",
              "      <th>nWBV</th>\n",
              "      <th>ASF</th>\n",
              "      <th>Delay</th>\n",
              "    </tr>\n",
              "  </thead>\n",
              "  <tbody>\n",
              "    <tr>\n",
              "      <th>0</th>\n",
              "      <td>OAS1_0001_MR1</td>\n",
              "      <td>F</td>\n",
              "      <td>R</td>\n",
              "      <td>74</td>\n",
              "      <td>2.0</td>\n",
              "      <td>3.0</td>\n",
              "      <td>29.0</td>\n",
              "      <td>0.0</td>\n",
              "      <td>1344</td>\n",
              "      <td>0.743</td>\n",
              "      <td>1.306</td>\n",
              "      <td>NaN</td>\n",
              "    </tr>\n",
              "    <tr>\n",
              "      <th>1</th>\n",
              "      <td>OAS1_0002_MR1</td>\n",
              "      <td>F</td>\n",
              "      <td>R</td>\n",
              "      <td>55</td>\n",
              "      <td>4.0</td>\n",
              "      <td>1.0</td>\n",
              "      <td>29.0</td>\n",
              "      <td>0.0</td>\n",
              "      <td>1147</td>\n",
              "      <td>0.810</td>\n",
              "      <td>1.531</td>\n",
              "      <td>NaN</td>\n",
              "    </tr>\n",
              "    <tr>\n",
              "      <th>2</th>\n",
              "      <td>OAS1_0003_MR1</td>\n",
              "      <td>F</td>\n",
              "      <td>R</td>\n",
              "      <td>73</td>\n",
              "      <td>4.0</td>\n",
              "      <td>3.0</td>\n",
              "      <td>27.0</td>\n",
              "      <td>0.5</td>\n",
              "      <td>1454</td>\n",
              "      <td>0.708</td>\n",
              "      <td>1.207</td>\n",
              "      <td>NaN</td>\n",
              "    </tr>\n",
              "    <tr>\n",
              "      <th>3</th>\n",
              "      <td>OAS1_0004_MR1</td>\n",
              "      <td>M</td>\n",
              "      <td>R</td>\n",
              "      <td>28</td>\n",
              "      <td>NaN</td>\n",
              "      <td>NaN</td>\n",
              "      <td>NaN</td>\n",
              "      <td>NaN</td>\n",
              "      <td>1588</td>\n",
              "      <td>0.803</td>\n",
              "      <td>1.105</td>\n",
              "      <td>NaN</td>\n",
              "    </tr>\n",
              "    <tr>\n",
              "      <th>4</th>\n",
              "      <td>OAS1_0005_MR1</td>\n",
              "      <td>M</td>\n",
              "      <td>R</td>\n",
              "      <td>18</td>\n",
              "      <td>NaN</td>\n",
              "      <td>NaN</td>\n",
              "      <td>NaN</td>\n",
              "      <td>NaN</td>\n",
              "      <td>1737</td>\n",
              "      <td>0.848</td>\n",
              "      <td>1.010</td>\n",
              "      <td>NaN</td>\n",
              "    </tr>\n",
              "  </tbody>\n",
              "</table>\n",
              "</div>"
            ],
            "text/plain": [
              "              ID M/F Hand  Age  Educ  SES  MMSE  CDR  eTIV   nWBV    ASF  Delay\n",
              "0  OAS1_0001_MR1   F    R   74   2.0  3.0  29.0  0.0  1344  0.743  1.306    NaN\n",
              "1  OAS1_0002_MR1   F    R   55   4.0  1.0  29.0  0.0  1147  0.810  1.531    NaN\n",
              "2  OAS1_0003_MR1   F    R   73   4.0  3.0  27.0  0.5  1454  0.708  1.207    NaN\n",
              "3  OAS1_0004_MR1   M    R   28   NaN  NaN   NaN  NaN  1588  0.803  1.105    NaN\n",
              "4  OAS1_0005_MR1   M    R   18   NaN  NaN   NaN  NaN  1737  0.848  1.010    NaN"
            ]
          },
          "metadata": {
            "tags": []
          },
          "execution_count": 142
        }
      ]
    },
    {
      "cell_type": "code",
      "metadata": {
        "id": "PjGgxdovWyOT",
        "colab": {
          "base_uri": "https://localhost:8080/",
          "height": 204
        },
        "outputId": "c0032cb4-060e-49d9-e70a-38d6447a7528"
      },
      "source": [
        "df_long = pd.read_csv('oasis_longitudinal.csv')\n",
        "df_long.head()"
      ],
      "execution_count": 143,
      "outputs": [
        {
          "output_type": "execute_result",
          "data": {
            "text/html": [
              "<div>\n",
              "<style scoped>\n",
              "    .dataframe tbody tr th:only-of-type {\n",
              "        vertical-align: middle;\n",
              "    }\n",
              "\n",
              "    .dataframe tbody tr th {\n",
              "        vertical-align: top;\n",
              "    }\n",
              "\n",
              "    .dataframe thead th {\n",
              "        text-align: right;\n",
              "    }\n",
              "</style>\n",
              "<table border=\"1\" class=\"dataframe\">\n",
              "  <thead>\n",
              "    <tr style=\"text-align: right;\">\n",
              "      <th></th>\n",
              "      <th>Subject ID</th>\n",
              "      <th>MRI ID</th>\n",
              "      <th>Group</th>\n",
              "      <th>Visit</th>\n",
              "      <th>MR Delay</th>\n",
              "      <th>M/F</th>\n",
              "      <th>Hand</th>\n",
              "      <th>Age</th>\n",
              "      <th>EDUC</th>\n",
              "      <th>SES</th>\n",
              "      <th>MMSE</th>\n",
              "      <th>CDR</th>\n",
              "      <th>eTIV</th>\n",
              "      <th>nWBV</th>\n",
              "      <th>ASF</th>\n",
              "    </tr>\n",
              "  </thead>\n",
              "  <tbody>\n",
              "    <tr>\n",
              "      <th>0</th>\n",
              "      <td>OAS2_0001</td>\n",
              "      <td>OAS2_0001_MR1</td>\n",
              "      <td>Nondemented</td>\n",
              "      <td>1</td>\n",
              "      <td>0</td>\n",
              "      <td>M</td>\n",
              "      <td>R</td>\n",
              "      <td>87</td>\n",
              "      <td>14</td>\n",
              "      <td>2.0</td>\n",
              "      <td>27.0</td>\n",
              "      <td>0.0</td>\n",
              "      <td>1987</td>\n",
              "      <td>0.696</td>\n",
              "      <td>0.883</td>\n",
              "    </tr>\n",
              "    <tr>\n",
              "      <th>1</th>\n",
              "      <td>OAS2_0001</td>\n",
              "      <td>OAS2_0001_MR2</td>\n",
              "      <td>Nondemented</td>\n",
              "      <td>2</td>\n",
              "      <td>457</td>\n",
              "      <td>M</td>\n",
              "      <td>R</td>\n",
              "      <td>88</td>\n",
              "      <td>14</td>\n",
              "      <td>2.0</td>\n",
              "      <td>30.0</td>\n",
              "      <td>0.0</td>\n",
              "      <td>2004</td>\n",
              "      <td>0.681</td>\n",
              "      <td>0.876</td>\n",
              "    </tr>\n",
              "    <tr>\n",
              "      <th>2</th>\n",
              "      <td>OAS2_0002</td>\n",
              "      <td>OAS2_0002_MR1</td>\n",
              "      <td>Demented</td>\n",
              "      <td>1</td>\n",
              "      <td>0</td>\n",
              "      <td>M</td>\n",
              "      <td>R</td>\n",
              "      <td>75</td>\n",
              "      <td>12</td>\n",
              "      <td>NaN</td>\n",
              "      <td>23.0</td>\n",
              "      <td>0.5</td>\n",
              "      <td>1678</td>\n",
              "      <td>0.736</td>\n",
              "      <td>1.046</td>\n",
              "    </tr>\n",
              "    <tr>\n",
              "      <th>3</th>\n",
              "      <td>OAS2_0002</td>\n",
              "      <td>OAS2_0002_MR2</td>\n",
              "      <td>Demented</td>\n",
              "      <td>2</td>\n",
              "      <td>560</td>\n",
              "      <td>M</td>\n",
              "      <td>R</td>\n",
              "      <td>76</td>\n",
              "      <td>12</td>\n",
              "      <td>NaN</td>\n",
              "      <td>28.0</td>\n",
              "      <td>0.5</td>\n",
              "      <td>1738</td>\n",
              "      <td>0.713</td>\n",
              "      <td>1.010</td>\n",
              "    </tr>\n",
              "    <tr>\n",
              "      <th>4</th>\n",
              "      <td>OAS2_0002</td>\n",
              "      <td>OAS2_0002_MR3</td>\n",
              "      <td>Demented</td>\n",
              "      <td>3</td>\n",
              "      <td>1895</td>\n",
              "      <td>M</td>\n",
              "      <td>R</td>\n",
              "      <td>80</td>\n",
              "      <td>12</td>\n",
              "      <td>NaN</td>\n",
              "      <td>22.0</td>\n",
              "      <td>0.5</td>\n",
              "      <td>1698</td>\n",
              "      <td>0.701</td>\n",
              "      <td>1.034</td>\n",
              "    </tr>\n",
              "  </tbody>\n",
              "</table>\n",
              "</div>"
            ],
            "text/plain": [
              "  Subject ID         MRI ID        Group  Visit  ...  CDR  eTIV   nWBV    ASF\n",
              "0  OAS2_0001  OAS2_0001_MR1  Nondemented      1  ...  0.0  1987  0.696  0.883\n",
              "1  OAS2_0001  OAS2_0001_MR2  Nondemented      2  ...  0.0  2004  0.681  0.876\n",
              "2  OAS2_0002  OAS2_0002_MR1     Demented      1  ...  0.5  1678  0.736  1.046\n",
              "3  OAS2_0002  OAS2_0002_MR2     Demented      2  ...  0.5  1738  0.713  1.010\n",
              "4  OAS2_0002  OAS2_0002_MR3     Demented      3  ...  0.5  1698  0.701  1.034\n",
              "\n",
              "[5 rows x 15 columns]"
            ]
          },
          "metadata": {
            "tags": []
          },
          "execution_count": 143
        }
      ]
    },
    {
      "cell_type": "code",
      "metadata": {
        "id": "HKrQoLWSOUu-",
        "outputId": "90471db2-3282-4184-a92c-9dc19f9befb7",
        "colab": {
          "base_uri": "https://localhost:8080/",
          "height": 204
        }
      },
      "source": [
        "df_cross = df_cross.drop(columns=['ID', 'Delay', 'Hand', 'eTIV', 'nWBV', 'ASF'])\n",
        "df_cross.columns = ['M/F', 'Age',\t'EDUC',\t'SES',\t'MMSE',\t'CDR']\n",
        "df_cross.head()"
      ],
      "execution_count": 144,
      "outputs": [
        {
          "output_type": "execute_result",
          "data": {
            "text/html": [
              "<div>\n",
              "<style scoped>\n",
              "    .dataframe tbody tr th:only-of-type {\n",
              "        vertical-align: middle;\n",
              "    }\n",
              "\n",
              "    .dataframe tbody tr th {\n",
              "        vertical-align: top;\n",
              "    }\n",
              "\n",
              "    .dataframe thead th {\n",
              "        text-align: right;\n",
              "    }\n",
              "</style>\n",
              "<table border=\"1\" class=\"dataframe\">\n",
              "  <thead>\n",
              "    <tr style=\"text-align: right;\">\n",
              "      <th></th>\n",
              "      <th>M/F</th>\n",
              "      <th>Age</th>\n",
              "      <th>EDUC</th>\n",
              "      <th>SES</th>\n",
              "      <th>MMSE</th>\n",
              "      <th>CDR</th>\n",
              "    </tr>\n",
              "  </thead>\n",
              "  <tbody>\n",
              "    <tr>\n",
              "      <th>0</th>\n",
              "      <td>F</td>\n",
              "      <td>74</td>\n",
              "      <td>2.0</td>\n",
              "      <td>3.0</td>\n",
              "      <td>29.0</td>\n",
              "      <td>0.0</td>\n",
              "    </tr>\n",
              "    <tr>\n",
              "      <th>1</th>\n",
              "      <td>F</td>\n",
              "      <td>55</td>\n",
              "      <td>4.0</td>\n",
              "      <td>1.0</td>\n",
              "      <td>29.0</td>\n",
              "      <td>0.0</td>\n",
              "    </tr>\n",
              "    <tr>\n",
              "      <th>2</th>\n",
              "      <td>F</td>\n",
              "      <td>73</td>\n",
              "      <td>4.0</td>\n",
              "      <td>3.0</td>\n",
              "      <td>27.0</td>\n",
              "      <td>0.5</td>\n",
              "    </tr>\n",
              "    <tr>\n",
              "      <th>3</th>\n",
              "      <td>M</td>\n",
              "      <td>28</td>\n",
              "      <td>NaN</td>\n",
              "      <td>NaN</td>\n",
              "      <td>NaN</td>\n",
              "      <td>NaN</td>\n",
              "    </tr>\n",
              "    <tr>\n",
              "      <th>4</th>\n",
              "      <td>M</td>\n",
              "      <td>18</td>\n",
              "      <td>NaN</td>\n",
              "      <td>NaN</td>\n",
              "      <td>NaN</td>\n",
              "      <td>NaN</td>\n",
              "    </tr>\n",
              "  </tbody>\n",
              "</table>\n",
              "</div>"
            ],
            "text/plain": [
              "  M/F  Age  EDUC  SES  MMSE  CDR\n",
              "0   F   74   2.0  3.0  29.0  0.0\n",
              "1   F   55   4.0  1.0  29.0  0.0\n",
              "2   F   73   4.0  3.0  27.0  0.5\n",
              "3   M   28   NaN  NaN   NaN  NaN\n",
              "4   M   18   NaN  NaN   NaN  NaN"
            ]
          },
          "metadata": {
            "tags": []
          },
          "execution_count": 144
        }
      ]
    },
    {
      "cell_type": "code",
      "metadata": {
        "id": "xUdR7IqrNrTW",
        "outputId": "a1d7e4ca-56c9-47a6-e63e-3d3f7cd1ef26",
        "colab": {
          "base_uri": "https://localhost:8080/",
          "height": 204
        }
      },
      "source": [
        "df_long = df_long.drop(columns=['Subject ID', 'MRI ID', 'Visit', 'MR Delay', 'Hand', 'eTIV', 'nWBV', 'ASF', 'Group'])\n",
        "df_long.head()"
      ],
      "execution_count": 145,
      "outputs": [
        {
          "output_type": "execute_result",
          "data": {
            "text/html": [
              "<div>\n",
              "<style scoped>\n",
              "    .dataframe tbody tr th:only-of-type {\n",
              "        vertical-align: middle;\n",
              "    }\n",
              "\n",
              "    .dataframe tbody tr th {\n",
              "        vertical-align: top;\n",
              "    }\n",
              "\n",
              "    .dataframe thead th {\n",
              "        text-align: right;\n",
              "    }\n",
              "</style>\n",
              "<table border=\"1\" class=\"dataframe\">\n",
              "  <thead>\n",
              "    <tr style=\"text-align: right;\">\n",
              "      <th></th>\n",
              "      <th>M/F</th>\n",
              "      <th>Age</th>\n",
              "      <th>EDUC</th>\n",
              "      <th>SES</th>\n",
              "      <th>MMSE</th>\n",
              "      <th>CDR</th>\n",
              "    </tr>\n",
              "  </thead>\n",
              "  <tbody>\n",
              "    <tr>\n",
              "      <th>0</th>\n",
              "      <td>M</td>\n",
              "      <td>87</td>\n",
              "      <td>14</td>\n",
              "      <td>2.0</td>\n",
              "      <td>27.0</td>\n",
              "      <td>0.0</td>\n",
              "    </tr>\n",
              "    <tr>\n",
              "      <th>1</th>\n",
              "      <td>M</td>\n",
              "      <td>88</td>\n",
              "      <td>14</td>\n",
              "      <td>2.0</td>\n",
              "      <td>30.0</td>\n",
              "      <td>0.0</td>\n",
              "    </tr>\n",
              "    <tr>\n",
              "      <th>2</th>\n",
              "      <td>M</td>\n",
              "      <td>75</td>\n",
              "      <td>12</td>\n",
              "      <td>NaN</td>\n",
              "      <td>23.0</td>\n",
              "      <td>0.5</td>\n",
              "    </tr>\n",
              "    <tr>\n",
              "      <th>3</th>\n",
              "      <td>M</td>\n",
              "      <td>76</td>\n",
              "      <td>12</td>\n",
              "      <td>NaN</td>\n",
              "      <td>28.0</td>\n",
              "      <td>0.5</td>\n",
              "    </tr>\n",
              "    <tr>\n",
              "      <th>4</th>\n",
              "      <td>M</td>\n",
              "      <td>80</td>\n",
              "      <td>12</td>\n",
              "      <td>NaN</td>\n",
              "      <td>22.0</td>\n",
              "      <td>0.5</td>\n",
              "    </tr>\n",
              "  </tbody>\n",
              "</table>\n",
              "</div>"
            ],
            "text/plain": [
              "  M/F  Age  EDUC  SES  MMSE  CDR\n",
              "0   M   87    14  2.0  27.0  0.0\n",
              "1   M   88    14  2.0  30.0  0.0\n",
              "2   M   75    12  NaN  23.0  0.5\n",
              "3   M   76    12  NaN  28.0  0.5\n",
              "4   M   80    12  NaN  22.0  0.5"
            ]
          },
          "metadata": {
            "tags": []
          },
          "execution_count": 145
        }
      ]
    },
    {
      "cell_type": "code",
      "metadata": {
        "id": "J2bRBrchR4M9",
        "outputId": "41185686-7862-495a-ec9a-0c9aad4593a5",
        "colab": {
          "base_uri": "https://localhost:8080/",
          "height": 419
        }
      },
      "source": [
        "df = pd.concat([df_cross, df_long])\n",
        "df = df[df['CDR'].notna()]\n",
        "df"
      ],
      "execution_count": 190,
      "outputs": [
        {
          "output_type": "execute_result",
          "data": {
            "text/html": [
              "<div>\n",
              "<style scoped>\n",
              "    .dataframe tbody tr th:only-of-type {\n",
              "        vertical-align: middle;\n",
              "    }\n",
              "\n",
              "    .dataframe tbody tr th {\n",
              "        vertical-align: top;\n",
              "    }\n",
              "\n",
              "    .dataframe thead th {\n",
              "        text-align: right;\n",
              "    }\n",
              "</style>\n",
              "<table border=\"1\" class=\"dataframe\">\n",
              "  <thead>\n",
              "    <tr style=\"text-align: right;\">\n",
              "      <th></th>\n",
              "      <th>M/F</th>\n",
              "      <th>Age</th>\n",
              "      <th>EDUC</th>\n",
              "      <th>SES</th>\n",
              "      <th>MMSE</th>\n",
              "      <th>CDR</th>\n",
              "    </tr>\n",
              "  </thead>\n",
              "  <tbody>\n",
              "    <tr>\n",
              "      <th>0</th>\n",
              "      <td>F</td>\n",
              "      <td>74</td>\n",
              "      <td>2.0</td>\n",
              "      <td>3.0</td>\n",
              "      <td>29.0</td>\n",
              "      <td>0.0</td>\n",
              "    </tr>\n",
              "    <tr>\n",
              "      <th>1</th>\n",
              "      <td>F</td>\n",
              "      <td>55</td>\n",
              "      <td>4.0</td>\n",
              "      <td>1.0</td>\n",
              "      <td>29.0</td>\n",
              "      <td>0.0</td>\n",
              "    </tr>\n",
              "    <tr>\n",
              "      <th>2</th>\n",
              "      <td>F</td>\n",
              "      <td>73</td>\n",
              "      <td>4.0</td>\n",
              "      <td>3.0</td>\n",
              "      <td>27.0</td>\n",
              "      <td>0.5</td>\n",
              "    </tr>\n",
              "    <tr>\n",
              "      <th>8</th>\n",
              "      <td>M</td>\n",
              "      <td>74</td>\n",
              "      <td>5.0</td>\n",
              "      <td>2.0</td>\n",
              "      <td>30.0</td>\n",
              "      <td>0.0</td>\n",
              "    </tr>\n",
              "    <tr>\n",
              "      <th>9</th>\n",
              "      <td>F</td>\n",
              "      <td>52</td>\n",
              "      <td>3.0</td>\n",
              "      <td>2.0</td>\n",
              "      <td>30.0</td>\n",
              "      <td>0.0</td>\n",
              "    </tr>\n",
              "    <tr>\n",
              "      <th>...</th>\n",
              "      <td>...</td>\n",
              "      <td>...</td>\n",
              "      <td>...</td>\n",
              "      <td>...</td>\n",
              "      <td>...</td>\n",
              "      <td>...</td>\n",
              "    </tr>\n",
              "    <tr>\n",
              "      <th>368</th>\n",
              "      <td>M</td>\n",
              "      <td>82</td>\n",
              "      <td>16.0</td>\n",
              "      <td>1.0</td>\n",
              "      <td>28.0</td>\n",
              "      <td>0.5</td>\n",
              "    </tr>\n",
              "    <tr>\n",
              "      <th>369</th>\n",
              "      <td>M</td>\n",
              "      <td>86</td>\n",
              "      <td>16.0</td>\n",
              "      <td>1.0</td>\n",
              "      <td>26.0</td>\n",
              "      <td>0.5</td>\n",
              "    </tr>\n",
              "    <tr>\n",
              "      <th>370</th>\n",
              "      <td>F</td>\n",
              "      <td>61</td>\n",
              "      <td>13.0</td>\n",
              "      <td>2.0</td>\n",
              "      <td>30.0</td>\n",
              "      <td>0.0</td>\n",
              "    </tr>\n",
              "    <tr>\n",
              "      <th>371</th>\n",
              "      <td>F</td>\n",
              "      <td>63</td>\n",
              "      <td>13.0</td>\n",
              "      <td>2.0</td>\n",
              "      <td>30.0</td>\n",
              "      <td>0.0</td>\n",
              "    </tr>\n",
              "    <tr>\n",
              "      <th>372</th>\n",
              "      <td>F</td>\n",
              "      <td>65</td>\n",
              "      <td>13.0</td>\n",
              "      <td>2.0</td>\n",
              "      <td>30.0</td>\n",
              "      <td>0.0</td>\n",
              "    </tr>\n",
              "  </tbody>\n",
              "</table>\n",
              "<p>608 rows × 6 columns</p>\n",
              "</div>"
            ],
            "text/plain": [
              "    M/F  Age  EDUC  SES  MMSE  CDR\n",
              "0     F   74   2.0  3.0  29.0  0.0\n",
              "1     F   55   4.0  1.0  29.0  0.0\n",
              "2     F   73   4.0  3.0  27.0  0.5\n",
              "8     M   74   5.0  2.0  30.0  0.0\n",
              "9     F   52   3.0  2.0  30.0  0.0\n",
              "..   ..  ...   ...  ...   ...  ...\n",
              "368   M   82  16.0  1.0  28.0  0.5\n",
              "369   M   86  16.0  1.0  26.0  0.5\n",
              "370   F   61  13.0  2.0  30.0  0.0\n",
              "371   F   63  13.0  2.0  30.0  0.0\n",
              "372   F   65  13.0  2.0  30.0  0.0\n",
              "\n",
              "[608 rows x 6 columns]"
            ]
          },
          "metadata": {
            "tags": []
          },
          "execution_count": 190
        }
      ]
    },
    {
      "cell_type": "code",
      "metadata": {
        "id": "phbSyBE8TPw6",
        "outputId": "86464d2d-c7bc-4dc4-ed5c-a48d5b8a4a1a",
        "colab": {
          "base_uri": "https://localhost:8080/"
        }
      },
      "source": [
        "df['CDR'] = df['CDR'].replace(\n",
        "    [0.0, 0.5, 1.0, 2.0],\n",
        "    ['normal', 'normal', 'mild', 'moderate']\n",
        ")\n",
        "\n",
        "print(df['CDR'].unique())"
      ],
      "execution_count": 191,
      "outputs": [
        {
          "output_type": "stream",
          "text": [
            "['normal' 'mild' 'moderate']\n"
          ],
          "name": "stdout"
        }
      ]
    },
    {
      "cell_type": "code",
      "metadata": {
        "id": "FiwtFqhdePTK",
        "colab": {
          "base_uri": "https://localhost:8080/",
          "height": 356
        },
        "outputId": "58240e09-f3e8-46bb-a795-bc2dbfaab585"
      },
      "source": [
        "sns.countplot(df['CDR'])"
      ],
      "execution_count": 193,
      "outputs": [
        {
          "output_type": "stream",
          "text": [
            "/usr/local/lib/python3.7/dist-packages/seaborn/_decorators.py:43: FutureWarning: Pass the following variable as a keyword arg: x. From version 0.12, the only valid positional argument will be `data`, and passing other arguments without an explicit keyword will result in an error or misinterpretation.\n",
            "  FutureWarning\n"
          ],
          "name": "stderr"
        },
        {
          "output_type": "execute_result",
          "data": {
            "text/plain": [
              "<matplotlib.axes._subplots.AxesSubplot at 0x7f0aa96f7ed0>"
            ]
          },
          "metadata": {
            "tags": []
          },
          "execution_count": 193
        },
        {
          "output_type": "display_data",
          "data": {
            "image/png": "[encoded data removed]",
            "text/plain": [
              "<Figure size 432x288 with 1 Axes>"
            ]
          },
          "metadata": {
            "tags": [],
            "needs_background": "light"
          }
        }
      ]
    },
    {
      "cell_type": "code",
      "metadata": {
        "id": "AIBauZZzgnP7",
        "colab": {
          "base_uri": "https://localhost:8080/"
        },
        "outputId": "a0c6a63b-b441-4fc3-903b-2073fca0a33c"
      },
      "source": [
        "df.isnull().sum()"
      ],
      "execution_count": 194,
      "outputs": [
        {
          "output_type": "execute_result",
          "data": {
            "text/plain": [
              "M/F      0\n",
              "Age      0\n",
              "EDUC     0\n",
              "SES     38\n",
              "MMSE     2\n",
              "CDR      0\n",
              "dtype: int64"
            ]
          },
          "metadata": {
            "tags": []
          },
          "execution_count": 194
        }
      ]
    },
    {
      "cell_type": "code",
      "metadata": {
        "id": "KHh-kp5MhB9E",
        "colab": {
          "base_uri": "https://localhost:8080/",
          "height": 204
        },
        "outputId": "531348fb-7351-4e75-badd-a86ec8973e2d"
      },
      "source": [
        "df_null = df[df.isnull().any(axis=1)]\n",
        "df_null.head()"
      ],
      "execution_count": 195,
      "outputs": [
        {
          "output_type": "execute_result",
          "data": {
            "text/html": [
              "<div>\n",
              "<style scoped>\n",
              "    .dataframe tbody tr th:only-of-type {\n",
              "        vertical-align: middle;\n",
              "    }\n",
              "\n",
              "    .dataframe tbody tr th {\n",
              "        vertical-align: top;\n",
              "    }\n",
              "\n",
              "    .dataframe thead th {\n",
              "        text-align: right;\n",
              "    }\n",
              "</style>\n",
              "<table border=\"1\" class=\"dataframe\">\n",
              "  <thead>\n",
              "    <tr style=\"text-align: right;\">\n",
              "      <th></th>\n",
              "      <th>M/F</th>\n",
              "      <th>Age</th>\n",
              "      <th>EDUC</th>\n",
              "      <th>SES</th>\n",
              "      <th>MMSE</th>\n",
              "      <th>CDR</th>\n",
              "    </tr>\n",
              "  </thead>\n",
              "  <tbody>\n",
              "    <tr>\n",
              "      <th>13</th>\n",
              "      <td>M</td>\n",
              "      <td>76</td>\n",
              "      <td>2.0</td>\n",
              "      <td>NaN</td>\n",
              "      <td>28.0</td>\n",
              "      <td>normal</td>\n",
              "    </tr>\n",
              "    <tr>\n",
              "      <th>37</th>\n",
              "      <td>F</td>\n",
              "      <td>62</td>\n",
              "      <td>2.0</td>\n",
              "      <td>NaN</td>\n",
              "      <td>28.0</td>\n",
              "      <td>normal</td>\n",
              "    </tr>\n",
              "    <tr>\n",
              "      <th>42</th>\n",
              "      <td>M</td>\n",
              "      <td>64</td>\n",
              "      <td>2.0</td>\n",
              "      <td>NaN</td>\n",
              "      <td>22.0</td>\n",
              "      <td>normal</td>\n",
              "    </tr>\n",
              "    <tr>\n",
              "      <th>55</th>\n",
              "      <td>M</td>\n",
              "      <td>79</td>\n",
              "      <td>4.0</td>\n",
              "      <td>NaN</td>\n",
              "      <td>29.0</td>\n",
              "      <td>normal</td>\n",
              "    </tr>\n",
              "    <tr>\n",
              "      <th>69</th>\n",
              "      <td>M</td>\n",
              "      <td>43</td>\n",
              "      <td>4.0</td>\n",
              "      <td>NaN</td>\n",
              "      <td>30.0</td>\n",
              "      <td>normal</td>\n",
              "    </tr>\n",
              "  </tbody>\n",
              "</table>\n",
              "</div>"
            ],
            "text/plain": [
              "   M/F  Age  EDUC  SES  MMSE     CDR\n",
              "13   M   76   2.0  NaN  28.0  normal\n",
              "37   F   62   2.0  NaN  28.0  normal\n",
              "42   M   64   2.0  NaN  22.0  normal\n",
              "55   M   79   4.0  NaN  29.0  normal\n",
              "69   M   43   4.0  NaN  30.0  normal"
            ]
          },
          "metadata": {
            "tags": []
          },
          "execution_count": 195
        }
      ]
    },
    {
      "cell_type": "code",
      "metadata": {
        "id": "WG9pLO9ejT0J",
        "colab": {
          "base_uri": "https://localhost:8080/"
        },
        "outputId": "555df43b-89c1-4fae-e80e-9b383a3708af"
      },
      "source": [
        "median_mmse = df['MMSE'].median()\n",
        "median_ses = df['SES'].median()\n",
        "print(median_mmse)\n",
        "print(median_ses)"
      ],
      "execution_count": 196,
      "outputs": [
        {
          "output_type": "stream",
          "text": [
            "29.0\n",
            "2.0\n"
          ],
          "name": "stdout"
        }
      ]
    },
    {
      "cell_type": "code",
      "metadata": {
        "id": "Xun0SP_2jqnW",
        "colab": {
          "base_uri": "https://localhost:8080/"
        },
        "outputId": "1ad65351-1dcd-44b9-b1f9-1da939c83937"
      },
      "source": [
        "df['MMSE'].fillna(median_mmse, inplace=True)\n",
        "df['SES'].fillna(median_ses, inplace=True)\n",
        "df.isnull().sum()"
      ],
      "execution_count": 197,
      "outputs": [
        {
          "output_type": "execute_result",
          "data": {
            "text/plain": [
              "M/F     0\n",
              "Age     0\n",
              "EDUC    0\n",
              "SES     0\n",
              "MMSE    0\n",
              "CDR     0\n",
              "dtype: int64"
            ]
          },
          "metadata": {
            "tags": []
          },
          "execution_count": 197
        }
      ]
    },
    {
      "cell_type": "code",
      "metadata": {
        "id": "Kvh4GkShXqaZ",
        "outputId": "62ae3bb4-e0ca-4d58-e2d3-8ebc22b76e7d",
        "colab": {
          "base_uri": "https://localhost:8080/",
          "height": 419
        }
      },
      "source": [
        "category = pd.get_dummies(df['CDR'])\n",
        "gender = pd.get_dummies(df['M/F'])\n",
        "\n",
        "df = df.drop(columns=['M/F', 'CDR'])\n",
        "df = pd.concat([df, gender, category], axis=1)\n",
        "df"
      ],
      "execution_count": 198,
      "outputs": [
        {
          "output_type": "execute_result",
          "data": {
            "text/html": [
              "<div>\n",
              "<style scoped>\n",
              "    .dataframe tbody tr th:only-of-type {\n",
              "        vertical-align: middle;\n",
              "    }\n",
              "\n",
              "    .dataframe tbody tr th {\n",
              "        vertical-align: top;\n",
              "    }\n",
              "\n",
              "    .dataframe thead th {\n",
              "        text-align: right;\n",
              "    }\n",
              "</style>\n",
              "<table border=\"1\" class=\"dataframe\">\n",
              "  <thead>\n",
              "    <tr style=\"text-align: right;\">\n",
              "      <th></th>\n",
              "      <th>Age</th>\n",
              "      <th>EDUC</th>\n",
              "      <th>SES</th>\n",
              "      <th>MMSE</th>\n",
              "      <th>F</th>\n",
              "      <th>M</th>\n",
              "      <th>mild</th>\n",
              "      <th>moderate</th>\n",
              "      <th>normal</th>\n",
              "    </tr>\n",
              "  </thead>\n",
              "  <tbody>\n",
              "    <tr>\n",
              "      <th>0</th>\n",
              "      <td>74</td>\n",
              "      <td>2.0</td>\n",
              "      <td>3.0</td>\n",
              "      <td>29.0</td>\n",
              "      <td>1</td>\n",
              "      <td>0</td>\n",
              "      <td>0</td>\n",
              "      <td>0</td>\n",
              "      <td>1</td>\n",
              "    </tr>\n",
              "    <tr>\n",
              "      <th>1</th>\n",
              "      <td>55</td>\n",
              "      <td>4.0</td>\n",
              "      <td>1.0</td>\n",
              "      <td>29.0</td>\n",
              "      <td>1</td>\n",
              "      <td>0</td>\n",
              "      <td>0</td>\n",
              "      <td>0</td>\n",
              "      <td>1</td>\n",
              "    </tr>\n",
              "    <tr>\n",
              "      <th>2</th>\n",
              "      <td>73</td>\n",
              "      <td>4.0</td>\n",
              "      <td>3.0</td>\n",
              "      <td>27.0</td>\n",
              "      <td>1</td>\n",
              "      <td>0</td>\n",
              "      <td>0</td>\n",
              "      <td>0</td>\n",
              "      <td>1</td>\n",
              "    </tr>\n",
              "    <tr>\n",
              "      <th>8</th>\n",
              "      <td>74</td>\n",
              "      <td>5.0</td>\n",
              "      <td>2.0</td>\n",
              "      <td>30.0</td>\n",
              "      <td>0</td>\n",
              "      <td>1</td>\n",
              "      <td>0</td>\n",
              "      <td>0</td>\n",
              "      <td>1</td>\n",
              "    </tr>\n",
              "    <tr>\n",
              "      <th>9</th>\n",
              "      <td>52</td>\n",
              "      <td>3.0</td>\n",
              "      <td>2.0</td>\n",
              "      <td>30.0</td>\n",
              "      <td>1</td>\n",
              "      <td>0</td>\n",
              "      <td>0</td>\n",
              "      <td>0</td>\n",
              "      <td>1</td>\n",
              "    </tr>\n",
              "    <tr>\n",
              "      <th>...</th>\n",
              "      <td>...</td>\n",
              "      <td>...</td>\n",
              "      <td>...</td>\n",
              "      <td>...</td>\n",
              "      <td>...</td>\n",
              "      <td>...</td>\n",
              "      <td>...</td>\n",
              "      <td>...</td>\n",
              "      <td>...</td>\n",
              "    </tr>\n",
              "    <tr>\n",
              "      <th>368</th>\n",
              "      <td>82</td>\n",
              "      <td>16.0</td>\n",
              "      <td>1.0</td>\n",
              "      <td>28.0</td>\n",
              "      <td>0</td>\n",
              "      <td>1</td>\n",
              "      <td>0</td>\n",
              "      <td>0</td>\n",
              "      <td>1</td>\n",
              "    </tr>\n",
              "    <tr>\n",
              "      <th>369</th>\n",
              "      <td>86</td>\n",
              "      <td>16.0</td>\n",
              "      <td>1.0</td>\n",
              "      <td>26.0</td>\n",
              "      <td>0</td>\n",
              "      <td>1</td>\n",
              "      <td>0</td>\n",
              "      <td>0</td>\n",
              "      <td>1</td>\n",
              "    </tr>\n",
              "    <tr>\n",
              "      <th>370</th>\n",
              "      <td>61</td>\n",
              "      <td>13.0</td>\n",
              "      <td>2.0</td>\n",
              "      <td>30.0</td>\n",
              "      <td>1</td>\n",
              "      <td>0</td>\n",
              "      <td>0</td>\n",
              "      <td>0</td>\n",
              "      <td>1</td>\n",
              "    </tr>\n",
              "    <tr>\n",
              "      <th>371</th>\n",
              "      <td>63</td>\n",
              "      <td>13.0</td>\n",
              "      <td>2.0</td>\n",
              "      <td>30.0</td>\n",
              "      <td>1</td>\n",
              "      <td>0</td>\n",
              "      <td>0</td>\n",
              "      <td>0</td>\n",
              "      <td>1</td>\n",
              "    </tr>\n",
              "    <tr>\n",
              "      <th>372</th>\n",
              "      <td>65</td>\n",
              "      <td>13.0</td>\n",
              "      <td>2.0</td>\n",
              "      <td>30.0</td>\n",
              "      <td>1</td>\n",
              "      <td>0</td>\n",
              "      <td>0</td>\n",
              "      <td>0</td>\n",
              "      <td>1</td>\n",
              "    </tr>\n",
              "  </tbody>\n",
              "</table>\n",
              "<p>608 rows × 9 columns</p>\n",
              "</div>"
            ],
            "text/plain": [
              "     Age  EDUC  SES  MMSE  F  M  mild  moderate  normal\n",
              "0     74   2.0  3.0  29.0  1  0     0         0       1\n",
              "1     55   4.0  1.0  29.0  1  0     0         0       1\n",
              "2     73   4.0  3.0  27.0  1  0     0         0       1\n",
              "8     74   5.0  2.0  30.0  0  1     0         0       1\n",
              "9     52   3.0  2.0  30.0  1  0     0         0       1\n",
              "..   ...   ...  ...   ... .. ..   ...       ...     ...\n",
              "368   82  16.0  1.0  28.0  0  1     0         0       1\n",
              "369   86  16.0  1.0  26.0  0  1     0         0       1\n",
              "370   61  13.0  2.0  30.0  1  0     0         0       1\n",
              "371   63  13.0  2.0  30.0  1  0     0         0       1\n",
              "372   65  13.0  2.0  30.0  1  0     0         0       1\n",
              "\n",
              "[608 rows x 9 columns]"
            ]
          },
          "metadata": {
            "tags": []
          },
          "execution_count": 198
        }
      ]
    },
    {
      "cell_type": "code",
      "metadata": {
        "id": "xXHIXmvGkiZk",
        "outputId": "55bdd7aa-db4b-4a23-ec12-ded2440f8819",
        "colab": {
          "base_uri": "https://localhost:8080/"
        }
      },
      "source": [
        "df_normal = df[df['normal'] == 1]\n",
        "df_mild = df[df['mild'] == 1]\n",
        "df_moderate = df[df['moderate'] == 1]\n",
        "\n",
        "print(len(df_normal))\n",
        "print(len(df_mild))\n",
        "print(len(df_moderate))"
      ],
      "execution_count": 321,
      "outputs": [
        {
          "output_type": "stream",
          "text": [
            "534\n",
            "69\n",
            "5\n"
          ],
          "name": "stdout"
        }
      ]
    },
    {
      "cell_type": "code",
      "metadata": {
        "id": "0pqiNbbkkpX1"
      },
      "source": [
        "x_normal = df_normal[['Age', 'EDUC', 'SES', 'MMSE', 'F',\t'M']].values\n",
        "y_normal = df_normal[['mild',\t'moderate',\t'normal']].values\n",
        "\n",
        "x_mild = df_mild[['Age', 'EDUC', 'SES', 'MMSE', 'F',\t'M']].values\n",
        "y_mild = df_mild[['mild',\t'moderate',\t'normal']].values\n",
        "\n",
        "x_moderate = df_moderate[['Age', 'EDUC', 'SES', 'MMSE', 'F',\t'M']].values\n",
        "y_moderate = df_moderate[['mild',\t'moderate',\t'normal']].values"
      ],
      "execution_count": 322,
      "outputs": []
    },
    {
      "cell_type": "code",
      "metadata": {
        "id": "pz49HmC2mbD_",
        "outputId": "e6990c44-78ac-4b16-b530-620586dae5e8",
        "colab": {
          "base_uri": "https://localhost:8080/"
        }
      },
      "source": [
        "split = 0.2\n",
        "x_train_normal, x_test_normal, y_train_normal, y_test_normal = train_test_split(x_normal, y_normal, test_size=split, random_state=42)\n",
        "x_train_mild, x_test_mild, y_train_mild, y_test_mild = train_test_split(x_mild, y_mild, test_size=split, random_state=42)\n",
        "x_train_moderate, x_test_moderate, y_train_moderate, y_test_moderate = train_test_split(x_moderate, y_moderate, test_size=split, random_state=42)\n",
        "\n",
        "print(len(x_test_normal))\n",
        "print(len(x_test_mild))\n",
        "print(len(x_test_moderate))"
      ],
      "execution_count": 323,
      "outputs": [
        {
          "output_type": "stream",
          "text": [
            "107\n",
            "14\n",
            "1\n"
          ],
          "name": "stdout"
        }
      ]
    },
    {
      "cell_type": "code",
      "metadata": {
        "id": "8PwtKiVZnyfz"
      },
      "source": [
        "x_train = (x_train_normal, x_train_mild, x_train_moderate)\n",
        "x_test = (x_test_normal, x_test_mild, x_test_moderate)\n",
        "y_train = (y_train_normal, y_train_mild, y_train_moderate)\n",
        "y_test = (y_test_normal, y_test_mild, y_test_moderate)"
      ],
      "execution_count": 348,
      "outputs": []
    },
    {
      "cell_type": "code",
      "metadata": {
        "id": "ZZqxdT46llkv"
      },
      "source": [
        "x_train, x_test, y_train, y_test = np.concatenate(x_train), np.concatenate(x_test), np.concatenate(y_train), np.concatenate(y_test)"
      ],
      "execution_count": 349,
      "outputs": []
    },
    {
      "cell_type": "code",
      "metadata": {
        "id": "UTbSWoF8mDJZ",
        "colab": {
          "base_uri": "https://localhost:8080/"
        },
        "outputId": "ef48d3db-5a9d-457f-8e53-6eab8a8fd14b"
      },
      "source": [
        "print(x_train.shape)\n",
        "print(x_test.shape)"
      ],
      "execution_count": 350,
      "outputs": [
        {
          "output_type": "stream",
          "text": [
            "(486, 6)\n",
            "(122, 6)\n"
          ],
          "name": "stdout"
        }
      ]
    },
    {
      "cell_type": "code",
      "metadata": {
        "id": "8WPCmv1Iwr-x"
      },
      "source": [
        "scaler = MinMaxScaler().fit(x_train)\n",
        "x_train_scaled = scaler.transform(x_train)\n",
        "x_test_scaled = scaler.transform(x_test)"
      ],
      "execution_count": 351,
      "outputs": []
    },
    {
      "cell_type": "code",
      "metadata": {
        "id": "2IxblKM3ltbL",
        "outputId": "921873f7-3f5d-4571-ee94-071d4f776c51",
        "colab": {
          "base_uri": "https://localhost:8080/"
        }
      },
      "source": [
        "model = tf.keras.Sequential([\n",
        "                             tf.keras.layers.Dense(16, activation='relu', input_shape=[6]),\n",
        "                             tf.keras.layers.Dropout(0.25),\n",
        "                             tf.keras.layers.Dense(8, activation='relu'),\n",
        "                             tf.keras.layers.Dropout(0.2),\n",
        "                             tf.keras.layers.Dense(3, activation='softmax')    \n",
        "])\n",
        "\n",
        "model.compile(\n",
        "    optimizer=tf.keras.optimizers.Adam(),\n",
        "    loss='categorical_crossentropy',\n",
        "    metrics=['accuracy']\n",
        ")\n",
        "\n",
        "model.summary()"
      ],
      "execution_count": 387,
      "outputs": [
        {
          "output_type": "stream",
          "text": [
            "Model: \"sequential_50\"\n",
            "_________________________________________________________________\n",
            "Layer (type)                 Output Shape              Param #   \n",
            "=================================================================\n",
            "dense_153 (Dense)            (None, 16)                112       \n",
            "_________________________________________________________________\n",
            "dropout_65 (Dropout)         (None, 16)                0         \n",
            "_________________________________________________________________\n",
            "dense_154 (Dense)            (None, 8)                 136       \n",
            "_________________________________________________________________\n",
            "dropout_66 (Dropout)         (None, 8)                 0         \n",
            "_________________________________________________________________\n",
            "dense_155 (Dense)            (None, 3)                 27        \n",
            "=================================================================\n",
            "Total params: 275\n",
            "Trainable params: 275\n",
            "Non-trainable params: 0\n",
            "_________________________________________________________________\n"
          ],
          "name": "stdout"
        }
      ]
    },
    {
      "cell_type": "code",
      "metadata": {
        "id": "Q-HBgN4USNUL"
      },
      "source": [
        "class StopTraining(tf.keras.callbacks.Callback):\n",
        "  def on_epoch_end(self, epoch, logs=None):\n",
        "    accuracy = 0.9\n",
        "    loss = 0.29\n",
        "    if(logs.get('accuracy') >= accuracy and logs.get('val_accuracy') >= accuracy and\n",
        "       logs.get('loss') <= loss and logs.get('val_loss') <= loss):\n",
        "      print('\\nSudah mencapai akurasi {}%, proses training berhenti'.format(accuracy*100))\n",
        "      self.model.stop_training = True\n",
        "\n",
        "mc = ModelCheckpoint('best_model.h5', monitor='val_accuracy', save_best_only=True)\n",
        "es = EarlyStopping(monitor='val_loss', patience=75)\n",
        "st = StopTraining()"
      ],
      "execution_count": 388,
      "outputs": []
    },
    {
      "cell_type": "code",
      "metadata": {
        "id": "Q7rlcFzunmen",
        "colab": {
          "base_uri": "https://localhost:8080/"
        },
        "outputId": "d0047629-e435-42f4-b295-dd84a281e181"
      },
      "source": [
        "history = model.fit(x_train_scaled, y_train, epochs=500, validation_data=(x_test_scaled, y_test), callbacks=[mc, es, st], verbose=2)"
      ],
      "execution_count": 389,
      "outputs": [
        {
          "output_type": "stream",
          "text": [
            "Epoch 1/500\n",
            "16/16 - 1s - loss: 1.1305 - accuracy: 0.3642 - val_loss: 1.0164 - val_accuracy: 0.7213\n",
            "Epoch 2/500\n",
            "16/16 - 0s - loss: 0.9914 - accuracy: 0.6523 - val_loss: 0.9202 - val_accuracy: 0.8770\n",
            "Epoch 3/500\n",
            "16/16 - 0s - loss: 0.9173 - accuracy: 0.7140 - val_loss: 0.8477 - val_accuracy: 0.8770\n",
            "Epoch 4/500\n",
            "16/16 - 0s - loss: 0.8481 - accuracy: 0.8189 - val_loss: 0.7828 - val_accuracy: 0.8770\n",
            "Epoch 5/500\n",
            "16/16 - 0s - loss: 0.7893 - accuracy: 0.8498 - val_loss: 0.7181 - val_accuracy: 0.8770\n",
            "Epoch 6/500\n",
            "16/16 - 0s - loss: 0.7454 - accuracy: 0.8601 - val_loss: 0.6573 - val_accuracy: 0.8770\n",
            "Epoch 7/500\n",
            "16/16 - 0s - loss: 0.6481 - accuracy: 0.8663 - val_loss: 0.5967 - val_accuracy: 0.8770\n",
            "Epoch 8/500\n",
            "16/16 - 0s - loss: 0.6104 - accuracy: 0.8765 - val_loss: 0.5479 - val_accuracy: 0.8770\n",
            "Epoch 9/500\n",
            "16/16 - 0s - loss: 0.5703 - accuracy: 0.8786 - val_loss: 0.5016 - val_accuracy: 0.8770\n",
            "Epoch 10/500\n",
            "16/16 - 0s - loss: 0.5341 - accuracy: 0.8786 - val_loss: 0.4606 - val_accuracy: 0.8770\n",
            "Epoch 11/500\n",
            "16/16 - 0s - loss: 0.4933 - accuracy: 0.8786 - val_loss: 0.4341 - val_accuracy: 0.8770\n",
            "Epoch 12/500\n",
            "16/16 - 0s - loss: 0.4838 - accuracy: 0.8786 - val_loss: 0.4175 - val_accuracy: 0.8770\n",
            "Epoch 13/500\n",
            "16/16 - 0s - loss: 0.4690 - accuracy: 0.8786 - val_loss: 0.4079 - val_accuracy: 0.8770\n",
            "Epoch 14/500\n",
            "16/16 - 0s - loss: 0.4499 - accuracy: 0.8786 - val_loss: 0.4014 - val_accuracy: 0.8770\n",
            "Epoch 15/500\n",
            "16/16 - 0s - loss: 0.4611 - accuracy: 0.8786 - val_loss: 0.3975 - val_accuracy: 0.8770\n",
            "Epoch 16/500\n",
            "16/16 - 0s - loss: 0.4535 - accuracy: 0.8786 - val_loss: 0.3939 - val_accuracy: 0.8770\n",
            "Epoch 17/500\n",
            "16/16 - 0s - loss: 0.4414 - accuracy: 0.8786 - val_loss: 0.3919 - val_accuracy: 0.8770\n",
            "Epoch 18/500\n",
            "16/16 - 0s - loss: 0.4488 - accuracy: 0.8786 - val_loss: 0.3904 - val_accuracy: 0.8770\n",
            "Epoch 19/500\n",
            "16/16 - 0s - loss: 0.4399 - accuracy: 0.8786 - val_loss: 0.3895 - val_accuracy: 0.8770\n",
            "Epoch 20/500\n",
            "16/16 - 0s - loss: 0.4509 - accuracy: 0.8786 - val_loss: 0.3888 - val_accuracy: 0.8770\n",
            "Epoch 21/500\n",
            "16/16 - 0s - loss: 0.4277 - accuracy: 0.8786 - val_loss: 0.3882 - val_accuracy: 0.8770\n",
            "Epoch 22/500\n",
            "16/16 - 0s - loss: 0.4288 - accuracy: 0.8765 - val_loss: 0.3872 - val_accuracy: 0.8770\n",
            "Epoch 23/500\n",
            "16/16 - 0s - loss: 0.4356 - accuracy: 0.8786 - val_loss: 0.3861 - val_accuracy: 0.8770\n",
            "Epoch 24/500\n",
            "16/16 - 0s - loss: 0.4247 - accuracy: 0.8786 - val_loss: 0.3854 - val_accuracy: 0.8770\n",
            "Epoch 25/500\n",
            "16/16 - 0s - loss: 0.4381 - accuracy: 0.8786 - val_loss: 0.3851 - val_accuracy: 0.8770\n",
            "Epoch 26/500\n",
            "16/16 - 0s - loss: 0.4399 - accuracy: 0.8765 - val_loss: 0.3846 - val_accuracy: 0.8770\n",
            "Epoch 27/500\n",
            "16/16 - 0s - loss: 0.4271 - accuracy: 0.8786 - val_loss: 0.3859 - val_accuracy: 0.8770\n",
            "Epoch 28/500\n",
            "16/16 - 0s - loss: 0.4266 - accuracy: 0.8786 - val_loss: 0.3857 - val_accuracy: 0.8770\n",
            "Epoch 29/500\n",
            "16/16 - 0s - loss: 0.4255 - accuracy: 0.8786 - val_loss: 0.3826 - val_accuracy: 0.8770\n",
            "Epoch 30/500\n",
            "16/16 - 0s - loss: 0.3998 - accuracy: 0.8786 - val_loss: 0.3807 - val_accuracy: 0.8770\n",
            "Epoch 31/500\n",
            "16/16 - 0s - loss: 0.4331 - accuracy: 0.8786 - val_loss: 0.3802 - val_accuracy: 0.8770\n",
            "Epoch 32/500\n",
            "16/16 - 0s - loss: 0.4127 - accuracy: 0.8786 - val_loss: 0.3789 - val_accuracy: 0.8770\n",
            "Epoch 33/500\n",
            "16/16 - 0s - loss: 0.4273 - accuracy: 0.8786 - val_loss: 0.3777 - val_accuracy: 0.8770\n",
            "Epoch 34/500\n",
            "16/16 - 0s - loss: 0.3983 - accuracy: 0.8786 - val_loss: 0.3772 - val_accuracy: 0.8770\n",
            "Epoch 35/500\n",
            "16/16 - 0s - loss: 0.4119 - accuracy: 0.8786 - val_loss: 0.3785 - val_accuracy: 0.8770\n",
            "Epoch 36/500\n",
            "16/16 - 0s - loss: 0.4226 - accuracy: 0.8786 - val_loss: 0.3781 - val_accuracy: 0.8770\n",
            "Epoch 37/500\n",
            "16/16 - 0s - loss: 0.4155 - accuracy: 0.8786 - val_loss: 0.3772 - val_accuracy: 0.8770\n",
            "Epoch 38/500\n",
            "16/16 - 0s - loss: 0.4154 - accuracy: 0.8786 - val_loss: 0.3803 - val_accuracy: 0.8770\n",
            "Epoch 39/500\n",
            "16/16 - 0s - loss: 0.4027 - accuracy: 0.8786 - val_loss: 0.3748 - val_accuracy: 0.8770\n",
            "Epoch 40/500\n",
            "16/16 - 0s - loss: 0.3846 - accuracy: 0.8786 - val_loss: 0.3738 - val_accuracy: 0.8770\n",
            "Epoch 41/500\n",
            "16/16 - 0s - loss: 0.4160 - accuracy: 0.8786 - val_loss: 0.3710 - val_accuracy: 0.8770\n",
            "Epoch 42/500\n",
            "16/16 - 0s - loss: 0.3999 - accuracy: 0.8786 - val_loss: 0.3707 - val_accuracy: 0.8770\n",
            "Epoch 43/500\n",
            "16/16 - 0s - loss: 0.4158 - accuracy: 0.8786 - val_loss: 0.3693 - val_accuracy: 0.8770\n",
            "Epoch 44/500\n",
            "16/16 - 0s - loss: 0.4070 - accuracy: 0.8786 - val_loss: 0.3705 - val_accuracy: 0.8770\n",
            "Epoch 45/500\n",
            "16/16 - 0s - loss: 0.4064 - accuracy: 0.8786 - val_loss: 0.3678 - val_accuracy: 0.8770\n",
            "Epoch 46/500\n",
            "16/16 - 0s - loss: 0.3954 - accuracy: 0.8786 - val_loss: 0.3676 - val_accuracy: 0.8770\n",
            "Epoch 47/500\n",
            "16/16 - 0s - loss: 0.4065 - accuracy: 0.8786 - val_loss: 0.3669 - val_accuracy: 0.8770\n",
            "Epoch 48/500\n",
            "16/16 - 0s - loss: 0.3983 - accuracy: 0.8786 - val_loss: 0.3656 - val_accuracy: 0.8770\n",
            "Epoch 49/500\n",
            "16/16 - 0s - loss: 0.4080 - accuracy: 0.8786 - val_loss: 0.3648 - val_accuracy: 0.8770\n",
            "Epoch 50/500\n",
            "16/16 - 0s - loss: 0.4071 - accuracy: 0.8786 - val_loss: 0.3638 - val_accuracy: 0.8770\n",
            "Epoch 51/500\n",
            "16/16 - 0s - loss: 0.3942 - accuracy: 0.8786 - val_loss: 0.3635 - val_accuracy: 0.8770\n",
            "Epoch 52/500\n",
            "16/16 - 0s - loss: 0.3874 - accuracy: 0.8786 - val_loss: 0.3617 - val_accuracy: 0.8770\n",
            "Epoch 53/500\n",
            "16/16 - 0s - loss: 0.4076 - accuracy: 0.8786 - val_loss: 0.3608 - val_accuracy: 0.8770\n",
            "Epoch 54/500\n",
            "16/16 - 0s - loss: 0.4033 - accuracy: 0.8786 - val_loss: 0.3601 - val_accuracy: 0.8770\n",
            "Epoch 55/500\n",
            "16/16 - 0s - loss: 0.3979 - accuracy: 0.8786 - val_loss: 0.3600 - val_accuracy: 0.8770\n",
            "Epoch 56/500\n",
            "16/16 - 0s - loss: 0.3831 - accuracy: 0.8786 - val_loss: 0.3584 - val_accuracy: 0.8770\n",
            "Epoch 57/500\n",
            "16/16 - 0s - loss: 0.3824 - accuracy: 0.8786 - val_loss: 0.3579 - val_accuracy: 0.8770\n",
            "Epoch 58/500\n",
            "16/16 - 0s - loss: 0.3606 - accuracy: 0.8786 - val_loss: 0.3567 - val_accuracy: 0.8770\n",
            "Epoch 59/500\n",
            "16/16 - 0s - loss: 0.3772 - accuracy: 0.8786 - val_loss: 0.3556 - val_accuracy: 0.8770\n",
            "Epoch 60/500\n",
            "16/16 - 0s - loss: 0.4106 - accuracy: 0.8786 - val_loss: 0.3550 - val_accuracy: 0.8770\n",
            "Epoch 61/500\n",
            "16/16 - 0s - loss: 0.3692 - accuracy: 0.8786 - val_loss: 0.3543 - val_accuracy: 0.8770\n",
            "Epoch 62/500\n",
            "16/16 - 0s - loss: 0.3849 - accuracy: 0.8786 - val_loss: 0.3531 - val_accuracy: 0.8770\n",
            "Epoch 63/500\n",
            "16/16 - 0s - loss: 0.3702 - accuracy: 0.8786 - val_loss: 0.3533 - val_accuracy: 0.8770\n",
            "Epoch 64/500\n",
            "16/16 - 0s - loss: 0.3807 - accuracy: 0.8786 - val_loss: 0.3510 - val_accuracy: 0.8770\n",
            "Epoch 65/500\n",
            "16/16 - 0s - loss: 0.3610 - accuracy: 0.8786 - val_loss: 0.3498 - val_accuracy: 0.8770\n",
            "Epoch 66/500\n",
            "16/16 - 0s - loss: 0.3822 - accuracy: 0.8786 - val_loss: 0.3492 - val_accuracy: 0.8770\n",
            "Epoch 67/500\n",
            "16/16 - 0s - loss: 0.3721 - accuracy: 0.8786 - val_loss: 0.3473 - val_accuracy: 0.8770\n",
            "Epoch 68/500\n",
            "16/16 - 0s - loss: 0.3917 - accuracy: 0.8786 - val_loss: 0.3477 - val_accuracy: 0.8770\n",
            "Epoch 69/500\n",
            "16/16 - 0s - loss: 0.3789 - accuracy: 0.8786 - val_loss: 0.3482 - val_accuracy: 0.8770\n",
            "Epoch 70/500\n",
            "16/16 - 0s - loss: 0.3665 - accuracy: 0.8786 - val_loss: 0.3464 - val_accuracy: 0.8770\n",
            "Epoch 71/500\n",
            "16/16 - 0s - loss: 0.3725 - accuracy: 0.8786 - val_loss: 0.3456 - val_accuracy: 0.8770\n",
            "Epoch 72/500\n",
            "16/16 - 0s - loss: 0.3856 - accuracy: 0.8786 - val_loss: 0.3472 - val_accuracy: 0.8770\n",
            "Epoch 73/500\n",
            "16/16 - 0s - loss: 0.3587 - accuracy: 0.8786 - val_loss: 0.3444 - val_accuracy: 0.8770\n",
            "Epoch 74/500\n",
            "16/16 - 0s - loss: 0.3773 - accuracy: 0.8786 - val_loss: 0.3437 - val_accuracy: 0.8770\n",
            "Epoch 75/500\n",
            "16/16 - 0s - loss: 0.3787 - accuracy: 0.8786 - val_loss: 0.3442 - val_accuracy: 0.8770\n",
            "Epoch 76/500\n",
            "16/16 - 0s - loss: 0.3711 - accuracy: 0.8786 - val_loss: 0.3433 - val_accuracy: 0.8770\n",
            "Epoch 77/500\n",
            "16/16 - 0s - loss: 0.3846 - accuracy: 0.8786 - val_loss: 0.3429 - val_accuracy: 0.8770\n",
            "Epoch 78/500\n",
            "16/16 - 0s - loss: 0.3712 - accuracy: 0.8786 - val_loss: 0.3446 - val_accuracy: 0.8770\n",
            "Epoch 79/500\n",
            "16/16 - 0s - loss: 0.3533 - accuracy: 0.8786 - val_loss: 0.3429 - val_accuracy: 0.8770\n",
            "Epoch 80/500\n",
            "16/16 - 0s - loss: 0.3494 - accuracy: 0.8786 - val_loss: 0.3411 - val_accuracy: 0.8770\n",
            "Epoch 81/500\n",
            "16/16 - 0s - loss: 0.3644 - accuracy: 0.8786 - val_loss: 0.3399 - val_accuracy: 0.8770\n",
            "Epoch 82/500\n",
            "16/16 - 0s - loss: 0.3570 - accuracy: 0.8786 - val_loss: 0.3397 - val_accuracy: 0.8770\n",
            "Epoch 83/500\n",
            "16/16 - 0s - loss: 0.3669 - accuracy: 0.8786 - val_loss: 0.3389 - val_accuracy: 0.8770\n",
            "Epoch 84/500\n",
            "16/16 - 0s - loss: 0.3650 - accuracy: 0.8786 - val_loss: 0.3386 - val_accuracy: 0.8770\n",
            "Epoch 85/500\n",
            "16/16 - 0s - loss: 0.3654 - accuracy: 0.8786 - val_loss: 0.3387 - val_accuracy: 0.8770\n",
            "Epoch 86/500\n",
            "16/16 - 0s - loss: 0.3578 - accuracy: 0.8786 - val_loss: 0.3391 - val_accuracy: 0.8770\n",
            "Epoch 87/500\n",
            "16/16 - 0s - loss: 0.3561 - accuracy: 0.8786 - val_loss: 0.3366 - val_accuracy: 0.8770\n",
            "Epoch 88/500\n",
            "16/16 - 0s - loss: 0.3678 - accuracy: 0.8786 - val_loss: 0.3358 - val_accuracy: 0.8770\n",
            "Epoch 89/500\n",
            "16/16 - 0s - loss: 0.3674 - accuracy: 0.8786 - val_loss: 0.3394 - val_accuracy: 0.8770\n",
            "Epoch 90/500\n",
            "16/16 - 0s - loss: 0.3576 - accuracy: 0.8786 - val_loss: 0.3355 - val_accuracy: 0.8770\n",
            "Epoch 91/500\n",
            "16/16 - 0s - loss: 0.3432 - accuracy: 0.8786 - val_loss: 0.3332 - val_accuracy: 0.8770\n",
            "Epoch 92/500\n",
            "16/16 - 0s - loss: 0.3714 - accuracy: 0.8786 - val_loss: 0.3323 - val_accuracy: 0.8770\n",
            "Epoch 93/500\n",
            "16/16 - 0s - loss: 0.3615 - accuracy: 0.8786 - val_loss: 0.3315 - val_accuracy: 0.8770\n",
            "Epoch 94/500\n",
            "16/16 - 0s - loss: 0.3464 - accuracy: 0.8786 - val_loss: 0.3305 - val_accuracy: 0.8770\n",
            "Epoch 95/500\n",
            "16/16 - 0s - loss: 0.3426 - accuracy: 0.8786 - val_loss: 0.3293 - val_accuracy: 0.8770\n",
            "Epoch 96/500\n",
            "16/16 - 0s - loss: 0.3532 - accuracy: 0.8786 - val_loss: 0.3278 - val_accuracy: 0.8770\n",
            "Epoch 97/500\n",
            "16/16 - 0s - loss: 0.3644 - accuracy: 0.8786 - val_loss: 0.3263 - val_accuracy: 0.8770\n",
            "Epoch 98/500\n",
            "16/16 - 0s - loss: 0.3514 - accuracy: 0.8786 - val_loss: 0.3259 - val_accuracy: 0.8770\n",
            "Epoch 99/500\n",
            "16/16 - 0s - loss: 0.3367 - accuracy: 0.8786 - val_loss: 0.3252 - val_accuracy: 0.8770\n",
            "Epoch 100/500\n",
            "16/16 - 0s - loss: 0.3574 - accuracy: 0.8786 - val_loss: 0.3248 - val_accuracy: 0.8770\n",
            "Epoch 101/500\n",
            "16/16 - 0s - loss: 0.3365 - accuracy: 0.8786 - val_loss: 0.3239 - val_accuracy: 0.8770\n",
            "Epoch 102/500\n",
            "16/16 - 0s - loss: 0.3421 - accuracy: 0.8786 - val_loss: 0.3237 - val_accuracy: 0.8770\n",
            "Epoch 103/500\n",
            "16/16 - 0s - loss: 0.3353 - accuracy: 0.8786 - val_loss: 0.3228 - val_accuracy: 0.8770\n",
            "Epoch 104/500\n",
            "16/16 - 0s - loss: 0.3486 - accuracy: 0.8786 - val_loss: 0.3213 - val_accuracy: 0.8770\n",
            "Epoch 105/500\n",
            "16/16 - 0s - loss: 0.3353 - accuracy: 0.8786 - val_loss: 0.3220 - val_accuracy: 0.8770\n",
            "Epoch 106/500\n",
            "16/16 - 0s - loss: 0.3377 - accuracy: 0.8786 - val_loss: 0.3208 - val_accuracy: 0.8770\n",
            "Epoch 107/500\n",
            "16/16 - 0s - loss: 0.3436 - accuracy: 0.8786 - val_loss: 0.3206 - val_accuracy: 0.8770\n",
            "Epoch 108/500\n",
            "16/16 - 0s - loss: 0.3250 - accuracy: 0.8786 - val_loss: 0.3199 - val_accuracy: 0.8770\n",
            "Epoch 109/500\n",
            "16/16 - 0s - loss: 0.3351 - accuracy: 0.8786 - val_loss: 0.3188 - val_accuracy: 0.8770\n",
            "Epoch 110/500\n",
            "16/16 - 0s - loss: 0.3181 - accuracy: 0.8786 - val_loss: 0.3187 - val_accuracy: 0.8770\n",
            "Epoch 111/500\n",
            "16/16 - 0s - loss: 0.3180 - accuracy: 0.8786 - val_loss: 0.3176 - val_accuracy: 0.8770\n",
            "Epoch 112/500\n",
            "16/16 - 0s - loss: 0.3559 - accuracy: 0.8786 - val_loss: 0.3178 - val_accuracy: 0.8770\n",
            "Epoch 113/500\n",
            "16/16 - 0s - loss: 0.3374 - accuracy: 0.8786 - val_loss: 0.3173 - val_accuracy: 0.8770\n",
            "Epoch 114/500\n",
            "16/16 - 0s - loss: 0.3383 - accuracy: 0.8786 - val_loss: 0.3170 - val_accuracy: 0.8770\n",
            "Epoch 115/500\n",
            "16/16 - 0s - loss: 0.3302 - accuracy: 0.8786 - val_loss: 0.3154 - val_accuracy: 0.8770\n",
            "Epoch 116/500\n",
            "16/16 - 0s - loss: 0.3328 - accuracy: 0.8786 - val_loss: 0.3152 - val_accuracy: 0.8770\n",
            "Epoch 117/500\n",
            "16/16 - 0s - loss: 0.3229 - accuracy: 0.8786 - val_loss: 0.3153 - val_accuracy: 0.8770\n",
            "Epoch 118/500\n",
            "16/16 - 0s - loss: 0.3133 - accuracy: 0.8786 - val_loss: 0.3137 - val_accuracy: 0.8770\n",
            "Epoch 119/500\n",
            "16/16 - 0s - loss: 0.3484 - accuracy: 0.8786 - val_loss: 0.3135 - val_accuracy: 0.8770\n",
            "Epoch 120/500\n",
            "16/16 - 0s - loss: 0.3393 - accuracy: 0.8786 - val_loss: 0.3128 - val_accuracy: 0.8770\n",
            "Epoch 121/500\n",
            "16/16 - 0s - loss: 0.3278 - accuracy: 0.8786 - val_loss: 0.3131 - val_accuracy: 0.8770\n",
            "Epoch 122/500\n",
            "16/16 - 0s - loss: 0.3391 - accuracy: 0.8786 - val_loss: 0.3124 - val_accuracy: 0.8770\n",
            "Epoch 123/500\n",
            "16/16 - 0s - loss: 0.3294 - accuracy: 0.8786 - val_loss: 0.3110 - val_accuracy: 0.8770\n",
            "Epoch 124/500\n",
            "16/16 - 0s - loss: 0.3282 - accuracy: 0.8786 - val_loss: 0.3102 - val_accuracy: 0.8770\n",
            "Epoch 125/500\n",
            "16/16 - 0s - loss: 0.3158 - accuracy: 0.8786 - val_loss: 0.3099 - val_accuracy: 0.8770\n",
            "Epoch 126/500\n",
            "16/16 - 0s - loss: 0.3233 - accuracy: 0.8786 - val_loss: 0.3091 - val_accuracy: 0.8770\n",
            "Epoch 127/500\n",
            "16/16 - 0s - loss: 0.3053 - accuracy: 0.8786 - val_loss: 0.3080 - val_accuracy: 0.8770\n",
            "Epoch 128/500\n",
            "16/16 - 0s - loss: 0.3248 - accuracy: 0.8786 - val_loss: 0.3076 - val_accuracy: 0.8770\n",
            "Epoch 129/500\n",
            "16/16 - 0s - loss: 0.3305 - accuracy: 0.8786 - val_loss: 0.3075 - val_accuracy: 0.8770\n",
            "Epoch 130/500\n",
            "16/16 - 0s - loss: 0.3276 - accuracy: 0.8786 - val_loss: 0.3060 - val_accuracy: 0.8770\n",
            "Epoch 131/500\n",
            "16/16 - 0s - loss: 0.3219 - accuracy: 0.8786 - val_loss: 0.3046 - val_accuracy: 0.8770\n",
            "Epoch 132/500\n",
            "16/16 - 0s - loss: 0.3181 - accuracy: 0.8786 - val_loss: 0.3052 - val_accuracy: 0.8770\n",
            "Epoch 133/500\n",
            "16/16 - 0s - loss: 0.3098 - accuracy: 0.8786 - val_loss: 0.3045 - val_accuracy: 0.8770\n",
            "Epoch 134/500\n",
            "16/16 - 0s - loss: 0.3023 - accuracy: 0.8786 - val_loss: 0.3051 - val_accuracy: 0.8770\n",
            "Epoch 135/500\n",
            "16/16 - 0s - loss: 0.3217 - accuracy: 0.8786 - val_loss: 0.3035 - val_accuracy: 0.8770\n",
            "Epoch 136/500\n",
            "16/16 - 0s - loss: 0.3218 - accuracy: 0.8807 - val_loss: 0.3035 - val_accuracy: 0.8770\n",
            "Epoch 137/500\n",
            "16/16 - 0s - loss: 0.3204 - accuracy: 0.8827 - val_loss: 0.3037 - val_accuracy: 0.8770\n",
            "Epoch 138/500\n",
            "16/16 - 0s - loss: 0.2978 - accuracy: 0.8807 - val_loss: 0.3021 - val_accuracy: 0.8770\n",
            "Epoch 139/500\n",
            "16/16 - 0s - loss: 0.2981 - accuracy: 0.8848 - val_loss: 0.3003 - val_accuracy: 0.8770\n",
            "Epoch 140/500\n",
            "16/16 - 0s - loss: 0.3143 - accuracy: 0.8827 - val_loss: 0.2985 - val_accuracy: 0.8770\n",
            "Epoch 141/500\n",
            "16/16 - 0s - loss: 0.3029 - accuracy: 0.8848 - val_loss: 0.2990 - val_accuracy: 0.8770\n",
            "Epoch 142/500\n",
            "16/16 - 0s - loss: 0.2980 - accuracy: 0.8848 - val_loss: 0.2977 - val_accuracy: 0.8770\n",
            "Epoch 143/500\n",
            "16/16 - 0s - loss: 0.3163 - accuracy: 0.8848 - val_loss: 0.2962 - val_accuracy: 0.8770\n",
            "Epoch 144/500\n",
            "16/16 - 0s - loss: 0.2907 - accuracy: 0.8889 - val_loss: 0.2951 - val_accuracy: 0.8770\n",
            "Epoch 145/500\n",
            "16/16 - 0s - loss: 0.3064 - accuracy: 0.8889 - val_loss: 0.2951 - val_accuracy: 0.8770\n",
            "Epoch 146/500\n",
            "16/16 - 0s - loss: 0.3060 - accuracy: 0.8889 - val_loss: 0.2945 - val_accuracy: 0.8770\n",
            "Epoch 147/500\n",
            "16/16 - 0s - loss: 0.2949 - accuracy: 0.8930 - val_loss: 0.2920 - val_accuracy: 0.8770\n",
            "Epoch 148/500\n",
            "16/16 - 0s - loss: 0.3279 - accuracy: 0.8868 - val_loss: 0.2919 - val_accuracy: 0.8770\n",
            "Epoch 149/500\n",
            "16/16 - 0s - loss: 0.3031 - accuracy: 0.8827 - val_loss: 0.2943 - val_accuracy: 0.8770\n",
            "Epoch 150/500\n",
            "16/16 - 0s - loss: 0.2979 - accuracy: 0.8868 - val_loss: 0.2927 - val_accuracy: 0.8770\n",
            "Epoch 151/500\n",
            "16/16 - 0s - loss: 0.3103 - accuracy: 0.8951 - val_loss: 0.2931 - val_accuracy: 0.8770\n",
            "Epoch 152/500\n",
            "16/16 - 0s - loss: 0.2955 - accuracy: 0.8786 - val_loss: 0.2907 - val_accuracy: 0.8770\n",
            "Epoch 153/500\n",
            "16/16 - 0s - loss: 0.3022 - accuracy: 0.8930 - val_loss: 0.2891 - val_accuracy: 0.8770\n",
            "Epoch 154/500\n",
            "16/16 - 0s - loss: 0.3053 - accuracy: 0.8951 - val_loss: 0.2878 - val_accuracy: 0.8770\n",
            "Epoch 155/500\n",
            "16/16 - 0s - loss: 0.2990 - accuracy: 0.8868 - val_loss: 0.2871 - val_accuracy: 0.8934\n",
            "Epoch 156/500\n",
            "16/16 - 0s - loss: 0.3040 - accuracy: 0.8848 - val_loss: 0.2872 - val_accuracy: 0.8852\n",
            "Epoch 157/500\n",
            "16/16 - 0s - loss: 0.3127 - accuracy: 0.8951 - val_loss: 0.2898 - val_accuracy: 0.8770\n",
            "Epoch 158/500\n",
            "16/16 - 0s - loss: 0.3022 - accuracy: 0.8827 - val_loss: 0.2886 - val_accuracy: 0.8770\n",
            "Epoch 159/500\n",
            "16/16 - 0s - loss: 0.3191 - accuracy: 0.8992 - val_loss: 0.2890 - val_accuracy: 0.8770\n",
            "Epoch 160/500\n",
            "16/16 - 0s - loss: 0.2944 - accuracy: 0.8889 - val_loss: 0.2891 - val_accuracy: 0.8770\n",
            "Epoch 161/500\n",
            "16/16 - 0s - loss: 0.2871 - accuracy: 0.8848 - val_loss: 0.2887 - val_accuracy: 0.8852\n",
            "Epoch 162/500\n",
            "16/16 - 0s - loss: 0.2853 - accuracy: 0.8930 - val_loss: 0.2864 - val_accuracy: 0.8934\n",
            "Epoch 163/500\n",
            "16/16 - 0s - loss: 0.3084 - accuracy: 0.9012 - val_loss: 0.2866 - val_accuracy: 0.9016\n",
            "Epoch 164/500\n",
            "16/16 - 0s - loss: 0.3084 - accuracy: 0.8848 - val_loss: 0.2869 - val_accuracy: 0.8934\n",
            "Epoch 165/500\n",
            "16/16 - 0s - loss: 0.2917 - accuracy: 0.8909 - val_loss: 0.2878 - val_accuracy: 0.9016\n",
            "Epoch 166/500\n",
            "16/16 - 0s - loss: 0.3092 - accuracy: 0.8807 - val_loss: 0.2886 - val_accuracy: 0.9016\n",
            "Epoch 167/500\n",
            "16/16 - 0s - loss: 0.2873 - accuracy: 0.8971 - val_loss: 0.2878 - val_accuracy: 0.8934\n",
            "Epoch 168/500\n",
            "16/16 - 0s - loss: 0.2825 - accuracy: 0.8889 - val_loss: 0.2859 - val_accuracy: 0.9016\n",
            "Epoch 169/500\n",
            "16/16 - 0s - loss: 0.2870 - accuracy: 0.8848 - val_loss: 0.2834 - val_accuracy: 0.9098\n",
            "Epoch 170/500\n",
            "16/16 - 0s - loss: 0.2995 - accuracy: 0.8848 - val_loss: 0.2851 - val_accuracy: 0.9016\n",
            "Epoch 171/500\n",
            "16/16 - 0s - loss: 0.2963 - accuracy: 0.8930 - val_loss: 0.2867 - val_accuracy: 0.9016\n",
            "Epoch 172/500\n",
            "16/16 - 0s - loss: 0.2904 - accuracy: 0.9012 - val_loss: 0.2876 - val_accuracy: 0.9016\n",
            "Epoch 173/500\n",
            "16/16 - 0s - loss: 0.2879 - accuracy: 0.9012 - val_loss: 0.2863 - val_accuracy: 0.9016\n",
            "\n",
            "Sudah mencapai akurasi 90.0%, proses training berhenti\n"
          ],
          "name": "stdout"
        }
      ]
    },
    {
      "cell_type": "code",
      "metadata": {
        "id": "OOjG9HxXn8yY",
        "colab": {
          "base_uri": "https://localhost:8080/",
          "height": 545
        },
        "outputId": "f0bd60a4-2f0e-49e2-f4ed-af4c760a11b0"
      },
      "source": [
        "acc = history.history['accuracy']\n",
        "val_acc = history.history['val_accuracy']\n",
        "loss = history.history['loss']\n",
        "val_loss = history.history['val_loss']\n",
        "epochs = range(len(acc))\n",
        "\n",
        "plt.plot(epochs, acc, 'r', label='Training accuracy')\n",
        "plt.plot(epochs, val_acc, 'b', label='Validation accuracy')\n",
        "plt.title('Training and validation accuracy')\n",
        "plt.legend(loc=0)\n",
        "plt.figure()\n",
        "\n",
        "plt.plot(epochs, loss, 'r', label='Training loss')\n",
        "plt.plot(epochs, val_loss, 'b', label='Validation loss')\n",
        "plt.title('Training and validation loss')\n",
        "plt.legend(loc=0)\n",
        "\n",
        "plt.show()"
      ],
      "execution_count": 390,
      "outputs": [
        {
          "output_type": "display_data",
          "data": {
            "image/png": "[encoded data removed]",
            "text/plain": [
              "<Figure size 432x288 with 1 Axes>"
            ]
          },
          "metadata": {
            "tags": [],
            "needs_background": "light"
          }
        },
        {
          "output_type": "display_data",
          "data": {
            "image/png": "[encoded data removed]",
            "text/plain": [
              "<Figure size 432x288 with 1 Axes>"
            ]
          },
          "metadata": {
            "tags": [],
            "needs_background": "light"
          }
        }
      ]
    },
    {
      "cell_type": "code",
      "metadata": {
        "id": "Pq3qpizbfyb-",
        "colab": {
          "base_uri": "https://localhost:8080/"
        },
        "outputId": "3528129b-6e20-41b9-c885-47e55f4ba2dc"
      },
      "source": [
        "saved_model = load_model('best_model.h5')\n",
        "\n",
        "loss, acc = saved_model.evaluate(x_test_scaled, y_test)\n",
        "print(\"Accuracy: \", acc)\n",
        "print(\"Loss: \", loss)"
      ],
      "execution_count": 391,
      "outputs": [
        {
          "output_type": "stream",
          "text": [
            "4/4 [==============================] - 0s 4ms/step - loss: 0.2834 - accuracy: 0.9098\n",
            "Accuracy:  0.9098360538482666\n",
            "Loss:  0.2834383547306061\n"
          ],
          "name": "stdout"
        }
      ]
    },
    {
      "cell_type": "code",
      "metadata": {
        "id": "pp9qzlaopFLL"
      },
      "source": [
        ""
      ],
      "execution_count": null,
      "outputs": []
    }
  ]
}