{
  "nbformat": 4,
  "nbformat_minor": 0,
  "metadata": {
    "colab": {
      "name": "Dementia_Care_Logreg.ipynb",
      "provenance": [],
      "collapsed_sections": [],
      "authorship_tag": "ABX9TyMIUJSUEmm4NyUWs5rR3kjV",
      "include_colab_link": true
    },
    "kernelspec": {
      "name": "python3",
      "display_name": "Python 3"
    },
    "language_info": {
      "name": "python"
    }
  },
  "cells": [
    {
      "cell_type": "markdown",
      "metadata": {
        "id": "view-in-github",
        "colab_type": "text"
      },
      "source": [
        "<a href=\"https://colab.research.google.com/github/B21-CAP0075/Dementia-Classification/blob/development/Dementia_Care_Logreg.ipynb\" target=\"_parent\"><img src=\"https://colab.research.google.com/assets/colab-badge.svg\" alt=\"Open In Colab\"/></a>"
      ]
    },
    {
      "cell_type": "code",
      "metadata": {
        "id": "MqsBbVydN_Rd",
        "colab": {
          "base_uri": "https://localhost:8080/"
        },
        "outputId": "4b650dd8-5cbf-4643-ecca-136e6de12b4d"
      },
      "source": [
        "import zipfile\n",
        "import pandas as pd\n",
        "import numpy as np\n",
        "import seaborn as sns\n",
        "import matplotlib.pyplot as plt\n",
        "\n",
        "from google.colab import drive\n",
        "from sklearn.model_selection import train_test_split\n",
        "from sklearn.experimental import enable_iterative_imputer\n",
        "from sklearn.impute import IterativeImputer\n",
        "from sklearn.linear_model import LogisticRegression\n",
        "from sklearn import preprocessing\n",
        "from sklearn.metrics import f1_score\n",
        "from sklearn.metrics import recall_score\n",
        "from sklearn.metrics import precision_score\n",
        "from sklearn.metrics import plot_confusion_matrix\n",
        "\n",
        "import tensorflow as tf\n",
        "\n",
        "from __future__ import absolute_import, division, print_function\n",
        "from IPython.display import clear_output\n",
        "from imblearn.over_sampling import RandomOverSampler\n",
        "from imblearn.under_sampling import RandomUnderSampler \n",
        "from imblearn.over_sampling import SMOTE"
      ],
      "execution_count": 1,
      "outputs": [
        {
          "output_type": "stream",
          "text": [
            "/usr/local/lib/python3.7/dist-packages/sklearn/externals/six.py:31: FutureWarning: The module is deprecated in version 0.21 and will be removed in version 0.23 since we've dropped support for Python 2.7. Please rely on the official version of six (https://pypi.org/project/six/).\n",
            "  \"(https://pypi.org/project/six/).\", FutureWarning)\n",
            "/usr/local/lib/python3.7/dist-packages/sklearn/utils/deprecation.py:144: FutureWarning: The sklearn.neighbors.base module is  deprecated in version 0.22 and will be removed in version 0.24. The corresponding classes / functions should instead be imported from sklearn.neighbors. Anything that cannot be imported from sklearn.neighbors is now part of the private API.\n",
            "  warnings.warn(message, FutureWarning)\n"
          ],
          "name": "stderr"
        }
      ]
    },
    {
      "cell_type": "code",
      "metadata": {
        "colab": {
          "base_uri": "https://localhost:8080/"
        },
        "id": "qxa63xKAYp16",
        "outputId": "b2abc969-7122-4fed-9260-e92c78a6a034"
      },
      "source": [
        "drive.mount('/content/drive')"
      ],
      "execution_count": 2,
      "outputs": [
        {
          "output_type": "stream",
          "text": [
            "Mounted at /content/drive\n"
          ],
          "name": "stdout"
        }
      ]
    },
    {
      "cell_type": "code",
      "metadata": {
        "colab": {
          "base_uri": "https://localhost:8080/"
        },
        "id": "DnP9LbYsY1Ej",
        "outputId": "4d7c9437-22f1-498d-99fd-fe6bb67ce52e"
      },
      "source": [
        "! pip install --upgrade --force-reinstall --no-deps kaggle\n",
        "! mkdir /root/.kaggle/\n",
        "! cp \"/content/drive/My Drive/Machine Learning/kaggle.json\" /root/.kaggle/\n",
        "! chmod 600 /root/.kaggle/kaggle.json"
      ],
      "execution_count": 3,
      "outputs": [
        {
          "output_type": "stream",
          "text": [
            "Collecting kaggle\n",
            "\u001b[?25l  Downloading https://files.pythonhosted.org/packages/3a/e7/3bac01547d2ed3d308ac92a0878fbdb0ed0f3d41fb1906c319ccbba1bfbc/kaggle-1.5.12.tar.gz (58kB)\n",
            "\r\u001b[K     |█████▋                          | 10kB 14.9MB/s eta 0:00:01\r\u001b[K     |███████████▏                    | 20kB 21.4MB/s eta 0:00:01\r\u001b[K     |████████████████▊               | 30kB 25.1MB/s eta 0:00:01\r\u001b[K     |██████████████████████▎         | 40kB 25.7MB/s eta 0:00:01\r\u001b[K     |███████████████████████████▉    | 51kB 27.9MB/s eta 0:00:01\r\u001b[K     |████████████████████████████████| 61kB 7.6MB/s \n",
            "\u001b[?25hBuilding wheels for collected packages: kaggle\n",
            "  Building wheel for kaggle (setup.py) ... \u001b[?25l\u001b[?25hdone\n",
            "  Created wheel for kaggle: filename=kaggle-1.5.12-cp37-none-any.whl size=73053 sha256=7d385c64f2411556738b7acc540d50edd183f660caff7261d492d57bd4ecb595\n",
            "  Stored in directory: /root/.cache/pip/wheels/a1/6a/26/d30b7499ff85a4a4593377a87ecf55f7d08af42f0de9b60303\n",
            "Successfully built kaggle\n",
            "Installing collected packages: kaggle\n",
            "  Found existing installation: kaggle 1.5.12\n",
            "    Uninstalling kaggle-1.5.12:\n",
            "      Successfully uninstalled kaggle-1.5.12\n",
            "Successfully installed kaggle-1.5.12\n"
          ],
          "name": "stdout"
        }
      ]
    },
    {
      "cell_type": "code",
      "metadata": {
        "colab": {
          "base_uri": "https://localhost:8080/"
        },
        "id": "_zMycMUEZBSy",
        "outputId": "b84892ec-b5b1-4b6c-8dd2-1421d14a5e29"
      },
      "source": [
        "! kaggle datasets download -d jboysen/mri-and-alzheimers"
      ],
      "execution_count": 4,
      "outputs": [
        {
          "output_type": "stream",
          "text": [
            "Downloading mri-and-alzheimers.zip to /content\n",
            "\r  0% 0.00/12.6k [00:00<?, ?B/s]\n",
            "\r100% 12.6k/12.6k [00:00<00:00, 10.7MB/s]\n"
          ],
          "name": "stdout"
        }
      ]
    },
    {
      "cell_type": "code",
      "metadata": {
        "id": "FhadEo59ZIEK"
      },
      "source": [
        "zip_ref = zipfile.ZipFile('mri-and-alzheimers.zip', 'r')\n",
        "zip_ref.extractall()\n",
        "zip_ref.close()"
      ],
      "execution_count": 5,
      "outputs": []
    },
    {
      "cell_type": "markdown",
      "metadata": {
        "id": "fWiMY9E5Zsei"
      },
      "source": [
        "### Cross Sectional Data"
      ]
    },
    {
      "cell_type": "code",
      "metadata": {
        "colab": {
          "base_uri": "https://localhost:8080/",
          "height": 195
        },
        "id": "tMR0oZz0ZKbJ",
        "outputId": "88c4a460-566b-4cfe-82cd-f27926d766e2"
      },
      "source": [
        "df_cross = pd.read_csv('oasis_cross-sectional.csv')\n",
        "df_cross = df_cross.drop(columns=['ID']) #remove unused column\n",
        "df_cross = df_cross.drop_duplicates() #remove duplicate\n",
        "df_cross.head()"
      ],
      "execution_count": 6,
      "outputs": [
        {
          "output_type": "execute_result",
          "data": {
            "text/html": [
              "<div>\n",
              "<style scoped>\n",
              "    .dataframe tbody tr th:only-of-type {\n",
              "        vertical-align: middle;\n",
              "    }\n",
              "\n",
              "    .dataframe tbody tr th {\n",
              "        vertical-align: top;\n",
              "    }\n",
              "\n",
              "    .dataframe thead th {\n",
              "        text-align: right;\n",
              "    }\n",
              "</style>\n",
              "<table border=\"1\" class=\"dataframe\">\n",
              "  <thead>\n",
              "    <tr style=\"text-align: right;\">\n",
              "      <th></th>\n",
              "      <th>M/F</th>\n",
              "      <th>Hand</th>\n",
              "      <th>Age</th>\n",
              "      <th>Educ</th>\n",
              "      <th>SES</th>\n",
              "      <th>MMSE</th>\n",
              "      <th>CDR</th>\n",
              "      <th>eTIV</th>\n",
              "      <th>nWBV</th>\n",
              "      <th>ASF</th>\n",
              "      <th>Delay</th>\n",
              "    </tr>\n",
              "  </thead>\n",
              "  <tbody>\n",
              "    <tr>\n",
              "      <th>0</th>\n",
              "      <td>F</td>\n",
              "      <td>R</td>\n",
              "      <td>74</td>\n",
              "      <td>2.0</td>\n",
              "      <td>3.0</td>\n",
              "      <td>29.0</td>\n",
              "      <td>0.0</td>\n",
              "      <td>1344</td>\n",
              "      <td>0.743</td>\n",
              "      <td>1.306</td>\n",
              "      <td>NaN</td>\n",
              "    </tr>\n",
              "    <tr>\n",
              "      <th>1</th>\n",
              "      <td>F</td>\n",
              "      <td>R</td>\n",
              "      <td>55</td>\n",
              "      <td>4.0</td>\n",
              "      <td>1.0</td>\n",
              "      <td>29.0</td>\n",
              "      <td>0.0</td>\n",
              "      <td>1147</td>\n",
              "      <td>0.810</td>\n",
              "      <td>1.531</td>\n",
              "      <td>NaN</td>\n",
              "    </tr>\n",
              "    <tr>\n",
              "      <th>2</th>\n",
              "      <td>F</td>\n",
              "      <td>R</td>\n",
              "      <td>73</td>\n",
              "      <td>4.0</td>\n",
              "      <td>3.0</td>\n",
              "      <td>27.0</td>\n",
              "      <td>0.5</td>\n",
              "      <td>1454</td>\n",
              "      <td>0.708</td>\n",
              "      <td>1.207</td>\n",
              "      <td>NaN</td>\n",
              "    </tr>\n",
              "    <tr>\n",
              "      <th>3</th>\n",
              "      <td>M</td>\n",
              "      <td>R</td>\n",
              "      <td>28</td>\n",
              "      <td>NaN</td>\n",
              "      <td>NaN</td>\n",
              "      <td>NaN</td>\n",
              "      <td>NaN</td>\n",
              "      <td>1588</td>\n",
              "      <td>0.803</td>\n",
              "      <td>1.105</td>\n",
              "      <td>NaN</td>\n",
              "    </tr>\n",
              "    <tr>\n",
              "      <th>4</th>\n",
              "      <td>M</td>\n",
              "      <td>R</td>\n",
              "      <td>18</td>\n",
              "      <td>NaN</td>\n",
              "      <td>NaN</td>\n",
              "      <td>NaN</td>\n",
              "      <td>NaN</td>\n",
              "      <td>1737</td>\n",
              "      <td>0.848</td>\n",
              "      <td>1.010</td>\n",
              "      <td>NaN</td>\n",
              "    </tr>\n",
              "  </tbody>\n",
              "</table>\n",
              "</div>"
            ],
            "text/plain": [
              "  M/F Hand  Age  Educ  SES  MMSE  CDR  eTIV   nWBV    ASF  Delay\n",
              "0   F    R   74   2.0  3.0  29.0  0.0  1344  0.743  1.306    NaN\n",
              "1   F    R   55   4.0  1.0  29.0  0.0  1147  0.810  1.531    NaN\n",
              "2   F    R   73   4.0  3.0  27.0  0.5  1454  0.708  1.207    NaN\n",
              "3   M    R   28   NaN  NaN   NaN  NaN  1588  0.803  1.105    NaN\n",
              "4   M    R   18   NaN  NaN   NaN  NaN  1737  0.848  1.010    NaN"
            ]
          },
          "metadata": {
            "tags": []
          },
          "execution_count": 6
        }
      ]
    },
    {
      "cell_type": "code",
      "metadata": {
        "colab": {
          "base_uri": "https://localhost:8080/"
        },
        "id": "PmkzKvs0DVFq",
        "outputId": "7b775369-fb59-469b-80f3-120ba0bfd1d9"
      },
      "source": [
        "df_cross = df_cross.drop(columns=['Delay', 'Hand', 'eTIV', 'nWBV', 'ASF']) #removed bcs user don't have this data\n",
        "df_cross = df_cross.drop_duplicates()\n",
        "df_cross.info()"
      ],
      "execution_count": 7,
      "outputs": [
        {
          "output_type": "stream",
          "text": [
            "<class 'pandas.core.frame.DataFrame'>\n",
            "Int64Index: 283 entries, 0 to 415\n",
            "Data columns (total 6 columns):\n",
            " #   Column  Non-Null Count  Dtype  \n",
            "---  ------  --------------  -----  \n",
            " 0   M/F     283 non-null    object \n",
            " 1   Age     283 non-null    int64  \n",
            " 2   Educ    231 non-null    float64\n",
            " 3   SES     212 non-null    float64\n",
            " 4   MMSE    231 non-null    float64\n",
            " 5   CDR     231 non-null    float64\n",
            "dtypes: float64(4), int64(1), object(1)\n",
            "memory usage: 15.5+ KB\n"
          ],
          "name": "stdout"
        }
      ]
    },
    {
      "cell_type": "code",
      "metadata": {
        "colab": {
          "base_uri": "https://localhost:8080/"
        },
        "id": "VbZVvsgkauJh",
        "outputId": "d6245ff7-a82b-49cb-cc7b-61113f928804"
      },
      "source": [
        "for column in df_cross.columns:\n",
        "    if df_cross[column].dtypes == \"object\":\n",
        "        print(\"Column name: {}\".format(column))\n",
        "        print(\"Number of unique entry: {}\".format(len(df_cross[column].unique())))\n",
        "        print(\"Unique entry: {}\".format(df_cross[column].unique()))\n",
        "        print()\n",
        "\n",
        "print(\"Column name: {}\".format(\"Educ\"))\n",
        "print(\"Number of unique entry: {}\".format(len(df_cross[\"Educ\"].unique())))\n",
        "print(\"Unique entry: {}\".format(df_cross[\"Educ\"].unique()))\n",
        "print()\n",
        "\n",
        "print(\"Column name: {}\".format(\"CDR\"))\n",
        "print(\"Number of unique entry: {}\".format(len(df_cross[\"CDR\"].unique())))\n",
        "print(\"Unique entry: {}\".format(df_cross[\"CDR\"].unique()))\n",
        "print()"
      ],
      "execution_count": 8,
      "outputs": [
        {
          "output_type": "stream",
          "text": [
            "Column name: M/F\n",
            "Number of unique entry: 2\n",
            "Unique entry: ['F' 'M']\n",
            "\n",
            "Column name: Educ\n",
            "Number of unique entry: 6\n",
            "Unique entry: [ 2.  4. nan  5.  3.  1.]\n",
            "\n",
            "Column name: CDR\n",
            "Number of unique entry: 5\n",
            "Unique entry: [0.  0.5 nan 1.  2. ]\n",
            "\n"
          ],
          "name": "stdout"
        }
      ]
    },
    {
      "cell_type": "code",
      "metadata": {
        "colab": {
          "base_uri": "https://localhost:8080/",
          "height": 284
        },
        "id": "7RaCj8yianVL",
        "outputId": "b7e5da10-1cb8-43cf-fd97-537f5b72a666"
      },
      "source": [
        "df_cross.describe()"
      ],
      "execution_count": 9,
      "outputs": [
        {
          "output_type": "execute_result",
          "data": {
            "text/html": [
              "<div>\n",
              "<style scoped>\n",
              "    .dataframe tbody tr th:only-of-type {\n",
              "        vertical-align: middle;\n",
              "    }\n",
              "\n",
              "    .dataframe tbody tr th {\n",
              "        vertical-align: top;\n",
              "    }\n",
              "\n",
              "    .dataframe thead th {\n",
              "        text-align: right;\n",
              "    }\n",
              "</style>\n",
              "<table border=\"1\" class=\"dataframe\">\n",
              "  <thead>\n",
              "    <tr style=\"text-align: right;\">\n",
              "      <th></th>\n",
              "      <th>Age</th>\n",
              "      <th>Educ</th>\n",
              "      <th>SES</th>\n",
              "      <th>MMSE</th>\n",
              "      <th>CDR</th>\n",
              "    </tr>\n",
              "  </thead>\n",
              "  <tbody>\n",
              "    <tr>\n",
              "      <th>count</th>\n",
              "      <td>283.000000</td>\n",
              "      <td>231.000000</td>\n",
              "      <td>212.000000</td>\n",
              "      <td>231.000000</td>\n",
              "      <td>231.000000</td>\n",
              "    </tr>\n",
              "    <tr>\n",
              "      <th>mean</th>\n",
              "      <td>65.318021</td>\n",
              "      <td>3.164502</td>\n",
              "      <td>2.500000</td>\n",
              "      <td>27.021645</td>\n",
              "      <td>0.290043</td>\n",
              "    </tr>\n",
              "    <tr>\n",
              "      <th>std</th>\n",
              "      <td>19.081514</td>\n",
              "      <td>1.308416</td>\n",
              "      <td>1.124901</td>\n",
              "      <td>3.714187</td>\n",
              "      <td>0.384861</td>\n",
              "    </tr>\n",
              "    <tr>\n",
              "      <th>min</th>\n",
              "      <td>18.000000</td>\n",
              "      <td>1.000000</td>\n",
              "      <td>1.000000</td>\n",
              "      <td>14.000000</td>\n",
              "      <td>0.000000</td>\n",
              "    </tr>\n",
              "    <tr>\n",
              "      <th>25%</th>\n",
              "      <td>54.000000</td>\n",
              "      <td>2.000000</td>\n",
              "      <td>2.000000</td>\n",
              "      <td>26.000000</td>\n",
              "      <td>0.000000</td>\n",
              "    </tr>\n",
              "    <tr>\n",
              "      <th>50%</th>\n",
              "      <td>71.000000</td>\n",
              "      <td>3.000000</td>\n",
              "      <td>2.000000</td>\n",
              "      <td>29.000000</td>\n",
              "      <td>0.000000</td>\n",
              "    </tr>\n",
              "    <tr>\n",
              "      <th>75%</th>\n",
              "      <td>80.000000</td>\n",
              "      <td>4.000000</td>\n",
              "      <td>3.000000</td>\n",
              "      <td>30.000000</td>\n",
              "      <td>0.500000</td>\n",
              "    </tr>\n",
              "    <tr>\n",
              "      <th>max</th>\n",
              "      <td>96.000000</td>\n",
              "      <td>5.000000</td>\n",
              "      <td>5.000000</td>\n",
              "      <td>30.000000</td>\n",
              "      <td>2.000000</td>\n",
              "    </tr>\n",
              "  </tbody>\n",
              "</table>\n",
              "</div>"
            ],
            "text/plain": [
              "              Age        Educ         SES        MMSE         CDR\n",
              "count  283.000000  231.000000  212.000000  231.000000  231.000000\n",
              "mean    65.318021    3.164502    2.500000   27.021645    0.290043\n",
              "std     19.081514    1.308416    1.124901    3.714187    0.384861\n",
              "min     18.000000    1.000000    1.000000   14.000000    0.000000\n",
              "25%     54.000000    2.000000    2.000000   26.000000    0.000000\n",
              "50%     71.000000    3.000000    2.000000   29.000000    0.000000\n",
              "75%     80.000000    4.000000    3.000000   30.000000    0.500000\n",
              "max     96.000000    5.000000    5.000000   30.000000    2.000000"
            ]
          },
          "metadata": {
            "tags": []
          },
          "execution_count": 9
        }
      ]
    },
    {
      "cell_type": "code",
      "metadata": {
        "colab": {
          "base_uri": "https://localhost:8080/"
        },
        "id": "v3Y3beTIg7-W",
        "outputId": "21998c55-a8c1-4839-d3a8-5f907bff189f"
      },
      "source": [
        "df_cross[\"CDR\"].value_counts()"
      ],
      "execution_count": 10,
      "outputs": [
        {
          "output_type": "execute_result",
          "data": {
            "text/plain": [
              "0.0    131\n",
              "0.5     70\n",
              "1.0     28\n",
              "2.0      2\n",
              "Name: CDR, dtype: int64"
            ]
          },
          "metadata": {
            "tags": []
          },
          "execution_count": 10
        }
      ]
    },
    {
      "cell_type": "markdown",
      "metadata": {
        "id": "8eN0kjj4Z4lU"
      },
      "source": [
        "## Longitudinal Data\n"
      ]
    },
    {
      "cell_type": "code",
      "metadata": {
        "colab": {
          "base_uri": "https://localhost:8080/",
          "height": 195
        },
        "id": "0XeskLkxZTCy",
        "outputId": "7620c83d-7555-490b-8005-f79a200e0f45"
      },
      "source": [
        "df_long = pd.read_csv('oasis_longitudinal.csv')\n",
        "df_long = df_long.drop(columns=['Subject ID', 'MRI ID']) #remove unused column\n",
        "df_long.head()"
      ],
      "execution_count": 11,
      "outputs": [
        {
          "output_type": "execute_result",
          "data": {
            "text/html": [
              "<div>\n",
              "<style scoped>\n",
              "    .dataframe tbody tr th:only-of-type {\n",
              "        vertical-align: middle;\n",
              "    }\n",
              "\n",
              "    .dataframe tbody tr th {\n",
              "        vertical-align: top;\n",
              "    }\n",
              "\n",
              "    .dataframe thead th {\n",
              "        text-align: right;\n",
              "    }\n",
              "</style>\n",
              "<table border=\"1\" class=\"dataframe\">\n",
              "  <thead>\n",
              "    <tr style=\"text-align: right;\">\n",
              "      <th></th>\n",
              "      <th>Group</th>\n",
              "      <th>Visit</th>\n",
              "      <th>MR Delay</th>\n",
              "      <th>M/F</th>\n",
              "      <th>Hand</th>\n",
              "      <th>Age</th>\n",
              "      <th>EDUC</th>\n",
              "      <th>SES</th>\n",
              "      <th>MMSE</th>\n",
              "      <th>CDR</th>\n",
              "      <th>eTIV</th>\n",
              "      <th>nWBV</th>\n",
              "      <th>ASF</th>\n",
              "    </tr>\n",
              "  </thead>\n",
              "  <tbody>\n",
              "    <tr>\n",
              "      <th>0</th>\n",
              "      <td>Nondemented</td>\n",
              "      <td>1</td>\n",
              "      <td>0</td>\n",
              "      <td>M</td>\n",
              "      <td>R</td>\n",
              "      <td>87</td>\n",
              "      <td>14</td>\n",
              "      <td>2.0</td>\n",
              "      <td>27.0</td>\n",
              "      <td>0.0</td>\n",
              "      <td>1987</td>\n",
              "      <td>0.696</td>\n",
              "      <td>0.883</td>\n",
              "    </tr>\n",
              "    <tr>\n",
              "      <th>1</th>\n",
              "      <td>Nondemented</td>\n",
              "      <td>2</td>\n",
              "      <td>457</td>\n",
              "      <td>M</td>\n",
              "      <td>R</td>\n",
              "      <td>88</td>\n",
              "      <td>14</td>\n",
              "      <td>2.0</td>\n",
              "      <td>30.0</td>\n",
              "      <td>0.0</td>\n",
              "      <td>2004</td>\n",
              "      <td>0.681</td>\n",
              "      <td>0.876</td>\n",
              "    </tr>\n",
              "    <tr>\n",
              "      <th>2</th>\n",
              "      <td>Demented</td>\n",
              "      <td>1</td>\n",
              "      <td>0</td>\n",
              "      <td>M</td>\n",
              "      <td>R</td>\n",
              "      <td>75</td>\n",
              "      <td>12</td>\n",
              "      <td>NaN</td>\n",
              "      <td>23.0</td>\n",
              "      <td>0.5</td>\n",
              "      <td>1678</td>\n",
              "      <td>0.736</td>\n",
              "      <td>1.046</td>\n",
              "    </tr>\n",
              "    <tr>\n",
              "      <th>3</th>\n",
              "      <td>Demented</td>\n",
              "      <td>2</td>\n",
              "      <td>560</td>\n",
              "      <td>M</td>\n",
              "      <td>R</td>\n",
              "      <td>76</td>\n",
              "      <td>12</td>\n",
              "      <td>NaN</td>\n",
              "      <td>28.0</td>\n",
              "      <td>0.5</td>\n",
              "      <td>1738</td>\n",
              "      <td>0.713</td>\n",
              "      <td>1.010</td>\n",
              "    </tr>\n",
              "    <tr>\n",
              "      <th>4</th>\n",
              "      <td>Demented</td>\n",
              "      <td>3</td>\n",
              "      <td>1895</td>\n",
              "      <td>M</td>\n",
              "      <td>R</td>\n",
              "      <td>80</td>\n",
              "      <td>12</td>\n",
              "      <td>NaN</td>\n",
              "      <td>22.0</td>\n",
              "      <td>0.5</td>\n",
              "      <td>1698</td>\n",
              "      <td>0.701</td>\n",
              "      <td>1.034</td>\n",
              "    </tr>\n",
              "  </tbody>\n",
              "</table>\n",
              "</div>"
            ],
            "text/plain": [
              "         Group  Visit  MR Delay M/F Hand  ...  MMSE  CDR  eTIV   nWBV    ASF\n",
              "0  Nondemented      1         0   M    R  ...  27.0  0.0  1987  0.696  0.883\n",
              "1  Nondemented      2       457   M    R  ...  30.0  0.0  2004  0.681  0.876\n",
              "2     Demented      1         0   M    R  ...  23.0  0.5  1678  0.736  1.046\n",
              "3     Demented      2       560   M    R  ...  28.0  0.5  1738  0.713  1.010\n",
              "4     Demented      3      1895   M    R  ...  22.0  0.5  1698  0.701  1.034\n",
              "\n",
              "[5 rows x 13 columns]"
            ]
          },
          "metadata": {
            "tags": []
          },
          "execution_count": 11
        }
      ]
    },
    {
      "cell_type": "code",
      "metadata": {
        "colab": {
          "base_uri": "https://localhost:8080/"
        },
        "id": "6fI96HKJDvD7",
        "outputId": "e84e7447-81bb-4f45-c363-92864a11f60a"
      },
      "source": [
        "df_long = df_long.drop(columns=['Visit', 'MR Delay', 'Hand', 'eTIV', 'nWBV', 'ASF', 'Group']) #removed bcs user don't have this data\n",
        "df_long = df_long.drop_duplicates() #remove duplicate\n",
        "df_long.info()"
      ],
      "execution_count": 12,
      "outputs": [
        {
          "output_type": "stream",
          "text": [
            "<class 'pandas.core.frame.DataFrame'>\n",
            "Int64Index: 364 entries, 0 to 372\n",
            "Data columns (total 6 columns):\n",
            " #   Column  Non-Null Count  Dtype  \n",
            "---  ------  --------------  -----  \n",
            " 0   M/F     364 non-null    object \n",
            " 1   Age     364 non-null    int64  \n",
            " 2   EDUC    364 non-null    int64  \n",
            " 3   SES     345 non-null    float64\n",
            " 4   MMSE    362 non-null    float64\n",
            " 5   CDR     364 non-null    float64\n",
            "dtypes: float64(3), int64(2), object(1)\n",
            "memory usage: 19.9+ KB\n"
          ],
          "name": "stdout"
        }
      ]
    },
    {
      "cell_type": "code",
      "metadata": {
        "colab": {
          "base_uri": "https://localhost:8080/"
        },
        "id": "FvzhYgk9fPTu",
        "outputId": "bb28a525-60cc-407c-b854-3e3f65059bd5"
      },
      "source": [
        "for column in df_long.columns:\n",
        "    if df_long[column].dtypes == \"object\":\n",
        "        print(\"Column name: {}\".format(column))\n",
        "        print(\"Number of unique entry: {}\".format(len(df_long[column].unique())))\n",
        "        print(\"Unique entry: {}\".format(df_long[column].unique()))\n",
        "        print()\n",
        "\n",
        "print(\"Column name: {}\".format(\"Educ\"))\n",
        "print(\"Number of unique entry: {}\".format(len(df_long[\"EDUC\"].unique())))\n",
        "print(\"Unique entry: {}\".format(df_long[\"EDUC\"].unique()))\n",
        "print()\n",
        "\n",
        "print(\"Column name: {}\".format(\"CDR\"))\n",
        "print(\"Number of unique entry: {}\".format(len(df_long[\"CDR\"].unique())))\n",
        "print(\"Unique entry: {}\".format(df_long[\"CDR\"].unique()))\n",
        "print()"
      ],
      "execution_count": 13,
      "outputs": [
        {
          "output_type": "stream",
          "text": [
            "Column name: M/F\n",
            "Number of unique entry: 2\n",
            "Unique entry: ['M' 'F']\n",
            "\n",
            "Column name: Educ\n",
            "Number of unique entry: 12\n",
            "Unique entry: [14 12 18 16  8 20 13  6 17 15 23 11]\n",
            "\n",
            "Column name: CDR\n",
            "Number of unique entry: 4\n",
            "Unique entry: [0.  0.5 1.  2. ]\n",
            "\n"
          ],
          "name": "stdout"
        }
      ]
    },
    {
      "cell_type": "code",
      "metadata": {
        "colab": {
          "base_uri": "https://localhost:8080/",
          "height": 284
        },
        "id": "y839jzd-ivf8",
        "outputId": "8d85d8a6-2279-468c-eb55-96fe75bada92"
      },
      "source": [
        "df_long.describe()"
      ],
      "execution_count": 14,
      "outputs": [
        {
          "output_type": "execute_result",
          "data": {
            "text/html": [
              "<div>\n",
              "<style scoped>\n",
              "    .dataframe tbody tr th:only-of-type {\n",
              "        vertical-align: middle;\n",
              "    }\n",
              "\n",
              "    .dataframe tbody tr th {\n",
              "        vertical-align: top;\n",
              "    }\n",
              "\n",
              "    .dataframe thead th {\n",
              "        text-align: right;\n",
              "    }\n",
              "</style>\n",
              "<table border=\"1\" class=\"dataframe\">\n",
              "  <thead>\n",
              "    <tr style=\"text-align: right;\">\n",
              "      <th></th>\n",
              "      <th>Age</th>\n",
              "      <th>EDUC</th>\n",
              "      <th>SES</th>\n",
              "      <th>MMSE</th>\n",
              "      <th>CDR</th>\n",
              "    </tr>\n",
              "  </thead>\n",
              "  <tbody>\n",
              "    <tr>\n",
              "      <th>count</th>\n",
              "      <td>364.000000</td>\n",
              "      <td>364.000000</td>\n",
              "      <td>345.000000</td>\n",
              "      <td>362.000000</td>\n",
              "      <td>364.000000</td>\n",
              "    </tr>\n",
              "    <tr>\n",
              "      <th>mean</th>\n",
              "      <td>77.013736</td>\n",
              "      <td>14.560440</td>\n",
              "      <td>2.478261</td>\n",
              "      <td>27.287293</td>\n",
              "      <td>0.296703</td>\n",
              "    </tr>\n",
              "    <tr>\n",
              "      <th>std</th>\n",
              "      <td>7.609428</td>\n",
              "      <td>2.878471</td>\n",
              "      <td>1.138756</td>\n",
              "      <td>3.711225</td>\n",
              "      <td>0.376500</td>\n",
              "    </tr>\n",
              "    <tr>\n",
              "      <th>min</th>\n",
              "      <td>60.000000</td>\n",
              "      <td>6.000000</td>\n",
              "      <td>1.000000</td>\n",
              "      <td>4.000000</td>\n",
              "      <td>0.000000</td>\n",
              "    </tr>\n",
              "    <tr>\n",
              "      <th>25%</th>\n",
              "      <td>71.750000</td>\n",
              "      <td>12.000000</td>\n",
              "      <td>2.000000</td>\n",
              "      <td>27.000000</td>\n",
              "      <td>0.000000</td>\n",
              "    </tr>\n",
              "    <tr>\n",
              "      <th>50%</th>\n",
              "      <td>77.000000</td>\n",
              "      <td>14.000000</td>\n",
              "      <td>2.000000</td>\n",
              "      <td>29.000000</td>\n",
              "      <td>0.000000</td>\n",
              "    </tr>\n",
              "    <tr>\n",
              "      <th>75%</th>\n",
              "      <td>82.000000</td>\n",
              "      <td>16.000000</td>\n",
              "      <td>3.000000</td>\n",
              "      <td>30.000000</td>\n",
              "      <td>0.500000</td>\n",
              "    </tr>\n",
              "    <tr>\n",
              "      <th>max</th>\n",
              "      <td>98.000000</td>\n",
              "      <td>23.000000</td>\n",
              "      <td>5.000000</td>\n",
              "      <td>30.000000</td>\n",
              "      <td>2.000000</td>\n",
              "    </tr>\n",
              "  </tbody>\n",
              "</table>\n",
              "</div>"
            ],
            "text/plain": [
              "              Age        EDUC         SES        MMSE         CDR\n",
              "count  364.000000  364.000000  345.000000  362.000000  364.000000\n",
              "mean    77.013736   14.560440    2.478261   27.287293    0.296703\n",
              "std      7.609428    2.878471    1.138756    3.711225    0.376500\n",
              "min     60.000000    6.000000    1.000000    4.000000    0.000000\n",
              "25%     71.750000   12.000000    2.000000   27.000000    0.000000\n",
              "50%     77.000000   14.000000    2.000000   29.000000    0.000000\n",
              "75%     82.000000   16.000000    3.000000   30.000000    0.500000\n",
              "max     98.000000   23.000000    5.000000   30.000000    2.000000"
            ]
          },
          "metadata": {
            "tags": []
          },
          "execution_count": 14
        }
      ]
    },
    {
      "cell_type": "code",
      "metadata": {
        "colab": {
          "base_uri": "https://localhost:8080/"
        },
        "id": "OsTKJINmjkJ6",
        "outputId": "9c262480-94a6-41b9-89d8-22456bfcfbad"
      },
      "source": [
        "df_long[\"CDR\"].value_counts()"
      ],
      "execution_count": 15,
      "outputs": [
        {
          "output_type": "execute_result",
          "data": {
            "text/plain": [
              "0.0    198\n",
              "0.5    122\n",
              "1.0     41\n",
              "2.0      3\n",
              "Name: CDR, dtype: int64"
            ]
          },
          "metadata": {
            "tags": []
          },
          "execution_count": 15
        }
      ]
    },
    {
      "cell_type": "markdown",
      "metadata": {
        "id": "OGxg9kjdHTJc"
      },
      "source": [
        "## Data Preprocessing\n"
      ]
    },
    {
      "cell_type": "code",
      "metadata": {
        "colab": {
          "base_uri": "https://localhost:8080/"
        },
        "id": "aeI-RoVQHV2i",
        "outputId": "d99d014b-222a-4c18-e0ae-26c55fcba3ff"
      },
      "source": [
        "# Converting Longituninal Educ data into Cross-Sectional Educ Data\n",
        "df_long.loc[df_long.EDUC <= 6, 'EDUC'] =  1\n",
        "df_long.loc[(df_long.EDUC <= 9) & (df_long.EDUC > 6), 'EDUC'] =  2\n",
        "df_long.loc[(df_long.EDUC <= 12) & (df_long.EDUC > 9), 'EDUC'] =  3\n",
        "df_long.loc[(df_long.EDUC <= 16) & (df_long.EDUC > 12), 'EDUC'] =  4\n",
        "df_long.loc[df_long.EDUC > 16, 'EDUC'] =  5\n",
        "df_long = df_long.rename(columns = {'EDUC': \"Educ\"})\n",
        "\n",
        "print(\"Unique entry of Educ: {}\".format(df_long[\"Educ\"].unique()))"
      ],
      "execution_count": 16,
      "outputs": [
        {
          "output_type": "stream",
          "text": [
            "Unique entry of Educ: [4 3 5 2 1]\n"
          ],
          "name": "stdout"
        }
      ]
    },
    {
      "cell_type": "code",
      "metadata": {
        "colab": {
          "base_uri": "https://localhost:8080/"
        },
        "id": "Nn2icZ2-hyEY",
        "outputId": "cdab81a5-4694-43a0-8632-fb75f3122fdb"
      },
      "source": [
        "df_dementia = pd.concat([df_long, df_cross])\n",
        "\n",
        "df_dementia.info()"
      ],
      "execution_count": 17,
      "outputs": [
        {
          "output_type": "stream",
          "text": [
            "<class 'pandas.core.frame.DataFrame'>\n",
            "Int64Index: 647 entries, 0 to 415\n",
            "Data columns (total 6 columns):\n",
            " #   Column  Non-Null Count  Dtype  \n",
            "---  ------  --------------  -----  \n",
            " 0   M/F     647 non-null    object \n",
            " 1   Age     647 non-null    int64  \n",
            " 2   Educ    595 non-null    float64\n",
            " 3   SES     557 non-null    float64\n",
            " 4   MMSE    593 non-null    float64\n",
            " 5   CDR     595 non-null    float64\n",
            "dtypes: float64(4), int64(1), object(1)\n",
            "memory usage: 35.4+ KB\n"
          ],
          "name": "stdout"
        }
      ]
    },
    {
      "cell_type": "code",
      "metadata": {
        "colab": {
          "base_uri": "https://localhost:8080/"
        },
        "id": "RvFVYwuB168p",
        "outputId": "6ac0cfa3-f491-498c-f236-184625c52138"
      },
      "source": [
        "# Change Gender into numerical value\n",
        "\n",
        "df_dementia[\"M/F\"] = df_dementia[\"M/F\"].apply(lambda x: 1 if x==\"M\" else 0)\n",
        "\n",
        "print(\"Unique entry: {}\".format(df_dementia[\"M/F\"].unique()))"
      ],
      "execution_count": 18,
      "outputs": [
        {
          "output_type": "stream",
          "text": [
            "Unique entry: [1 0]\n"
          ],
          "name": "stdout"
        }
      ]
    },
    {
      "cell_type": "code",
      "metadata": {
        "colab": {
          "base_uri": "https://localhost:8080/"
        },
        "id": "F490CfO7h4dl",
        "outputId": "a4f2b2f2-a0f2-4c1a-b91e-77861c2ddf98"
      },
      "source": [
        "#Replace acute dementia with normal dementia\n",
        "\n",
        "df_dementia['CDR'] = df_dementia['CDR'].replace([.5, 2],[0, 1]) \n",
        "df_dementia[\"CDR\"].value_counts()"
      ],
      "execution_count": 19,
      "outputs": [
        {
          "output_type": "execute_result",
          "data": {
            "text/plain": [
              "0.0    521\n",
              "1.0     74\n",
              "Name: CDR, dtype: int64"
            ]
          },
          "metadata": {
            "tags": []
          },
          "execution_count": 19
        }
      ]
    },
    {
      "cell_type": "code",
      "metadata": {
        "colab": {
          "base_uri": "https://localhost:8080/"
        },
        "id": "W9pFzqqXlsGD",
        "outputId": "c2f693a8-a367-4e60-c831-943ab25f3acc"
      },
      "source": [
        "# Handling Missing Values with MICE Algorithm\n",
        "missing_data= df_dementia[['Age', 'Educ', 'SES', 'MMSE']]\n",
        "\n",
        "imp = IterativeImputer(max_iter=10, random_state=0)\n",
        "imp.fit(missing_data)\n",
        "\n",
        "df_dementia[['Age', 'Educ', 'SES', 'MMSE']] = np.round(imp.transform(df_dementia[['Age', 'Educ', 'SES', 'MMSE']]))\n",
        "df_dementia.info()"
      ],
      "execution_count": 20,
      "outputs": [
        {
          "output_type": "stream",
          "text": [
            "<class 'pandas.core.frame.DataFrame'>\n",
            "Int64Index: 647 entries, 0 to 415\n",
            "Data columns (total 6 columns):\n",
            " #   Column  Non-Null Count  Dtype  \n",
            "---  ------  --------------  -----  \n",
            " 0   M/F     647 non-null    int64  \n",
            " 1   Age     647 non-null    float64\n",
            " 2   Educ    647 non-null    float64\n",
            " 3   SES     647 non-null    float64\n",
            " 4   MMSE    647 non-null    float64\n",
            " 5   CDR     595 non-null    float64\n",
            "dtypes: float64(5), int64(1)\n",
            "memory usage: 35.4 KB\n"
          ],
          "name": "stdout"
        }
      ]
    },
    {
      "cell_type": "code",
      "metadata": {
        "colab": {
          "base_uri": "https://localhost:8080/"
        },
        "id": "Jptv4R6s07Af",
        "outputId": "8a33f47c-f9a1-46cd-b217-a93db92d9f86"
      },
      "source": [
        "# Removing Missing value on Output Column\n",
        "df_dementia = df_dementia.dropna(subset=['CDR'])\n",
        "df_dementia.info()"
      ],
      "execution_count": 21,
      "outputs": [
        {
          "output_type": "stream",
          "text": [
            "<class 'pandas.core.frame.DataFrame'>\n",
            "Int64Index: 595 entries, 0 to 415\n",
            "Data columns (total 6 columns):\n",
            " #   Column  Non-Null Count  Dtype  \n",
            "---  ------  --------------  -----  \n",
            " 0   M/F     595 non-null    int64  \n",
            " 1   Age     595 non-null    float64\n",
            " 2   Educ    595 non-null    float64\n",
            " 3   SES     595 non-null    float64\n",
            " 4   MMSE    595 non-null    float64\n",
            " 5   CDR     595 non-null    float64\n",
            "dtypes: float64(5), int64(1)\n",
            "memory usage: 32.5 KB\n"
          ],
          "name": "stdout"
        }
      ]
    },
    {
      "cell_type": "markdown",
      "metadata": {
        "id": "-D4gML2JfeLp"
      },
      "source": [
        "## Model w/ Scikit-Learn"
      ]
    },
    {
      "cell_type": "code",
      "metadata": {
        "colab": {
          "base_uri": "https://localhost:8080/"
        },
        "id": "BUU-F__e5RxL",
        "outputId": "cfea517d-fa12-460a-dc9c-7d01ee647051"
      },
      "source": [
        "dementia_label = df_dementia[\"CDR\"].values\n",
        "dementia_attributes = df_dementia.drop(columns=\"CDR\").values\n",
        "\n",
        "X_train_pure, X_test, y_train_pure, y_test = train_test_split(dementia_attributes, dementia_label, test_size=0.2, random_state=29)\n",
        "\n",
        "lab_enc = preprocessing.LabelEncoder()\n",
        "y_train_pure = lab_enc.fit_transform(y_train_pure)\n",
        "y_test = lab_enc.fit_transform(y_test)\n",
        "\n",
        "print(len(X_train_pure), len(X_test), len(y_train_pure), len(y_test))\n",
        "\n",
        "pd.DataFrame(y_train_pure).value_counts()\n",
        "# df_dementia.head()"
      ],
      "execution_count": 22,
      "outputs": [
        {
          "output_type": "stream",
          "text": [
            "476 119 476 119\n"
          ],
          "name": "stdout"
        },
        {
          "output_type": "execute_result",
          "data": {
            "text/plain": [
              "0    418\n",
              "1     58\n",
              "dtype: int64"
            ]
          },
          "metadata": {
            "tags": []
          },
          "execution_count": 22
        }
      ]
    },
    {
      "cell_type": "code",
      "metadata": {
        "colab": {
          "base_uri": "https://localhost:8080/"
        },
        "id": "68ND_OwUMaYo",
        "outputId": "dd227c53-a73e-4e73-a555-49f43f665e85"
      },
      "source": [
        "#Oversampling the minority Class\n",
        "\n",
        "oversampler = RandomOverSampler(sampling_strategy=0.6)\n",
        "\n",
        "# fit and apply the transform\n",
        "X_train_over, y_train_over = oversampler.fit_resample(X_train_pure, y_train_pure)\n",
        "\n",
        "pd.DataFrame(y_train_over, columns=['CDR']).value_counts()"
      ],
      "execution_count": 23,
      "outputs": [
        {
          "output_type": "stream",
          "text": [
            "/usr/local/lib/python3.7/dist-packages/sklearn/utils/deprecation.py:87: FutureWarning: Function safe_indexing is deprecated; safe_indexing is deprecated in version 0.22 and will be removed in version 0.24.\n",
            "  warnings.warn(msg, category=FutureWarning)\n"
          ],
          "name": "stderr"
        },
        {
          "output_type": "execute_result",
          "data": {
            "text/plain": [
              "CDR\n",
              "0      418\n",
              "1      250\n",
              "dtype: int64"
            ]
          },
          "metadata": {
            "tags": []
          },
          "execution_count": 23
        }
      ]
    },
    {
      "cell_type": "code",
      "metadata": {
        "colab": {
          "base_uri": "https://localhost:8080/"
        },
        "id": "P0ok87I1AX3T",
        "outputId": "b266d244-b08a-4fa7-c424-cd386f9b2ef0"
      },
      "source": [
        "pd.DataFrame(y_test).value_counts()"
      ],
      "execution_count": 24,
      "outputs": [
        {
          "output_type": "execute_result",
          "data": {
            "text/plain": [
              "0    103\n",
              "1     16\n",
              "dtype: int64"
            ]
          },
          "metadata": {
            "tags": []
          },
          "execution_count": 24
        }
      ]
    },
    {
      "cell_type": "code",
      "metadata": {
        "colab": {
          "base_uri": "https://localhost:8080/",
          "height": 0
        },
        "id": "jb28dM266icT",
        "outputId": "b8ad5e1e-7d1b-4174-936d-b682a39b0151"
      },
      "source": [
        "model = LogisticRegression(solver='lbfgs', class_weight='balanced')\n",
        "model.fit(X_train_over, y_train_over)\n",
        "\n",
        "pred_test = model.predict(X_test)\n",
        "\n",
        "#Ploting the confusion matrix\n",
        "plot_confusion_matrix(model, X_test, y_test)\n",
        "plt.show()"
      ],
      "execution_count": 25,
      "outputs": [
        {
          "output_type": "display_data",
          "data": {
            "image/png": "[encoded data removed]",
            "text/plain": [
              "<Figure size 432x288 with 2 Axes>"
            ]
          },
          "metadata": {
            "tags": [],
            "needs_background": "light"
          }
        }
      ]
    },
    {
      "cell_type": "code",
      "metadata": {
        "colab": {
          "base_uri": "https://localhost:8080/"
        },
        "id": "bzpJek1b9-6V",
        "outputId": "da0e4c62-8162-4779-a852-8b0628bade4c"
      },
      "source": [
        "f1_test = f1_score(pred_test,y_test)\n",
        "recall_test = recall_score(pred_test,y_test)\n",
        "prec_test = precision_score(pred_test,y_test)\n",
        "\n",
        "print(\"The recall score for the testing data: {}\".format(recall_test))\n",
        "print(\"The precision score for the testing data: {}\".format(prec_test))\n",
        "\n",
        "print(\"The f1 score for the testing data: {}\".format(f1_test))"
      ],
      "execution_count": 26,
      "outputs": [
        {
          "output_type": "stream",
          "text": [
            "The recall score for the testing data: 0.45454545454545453\n",
            "The precision score for the testing data: 0.9375\n",
            "The f1 score for the testing data: 0.6122448979591837\n"
          ],
          "name": "stdout"
        }
      ]
    },
    {
      "cell_type": "code",
      "metadata": {
        "colab": {
          "base_uri": "https://localhost:8080/",
          "height": 0
        },
        "id": "_VCdAc-FdGZU",
        "outputId": "98e4f766-b8fc-46db-91b7-362dc4d4fe7f"
      },
      "source": [
        "#Import svm model\n",
        "from sklearn import svm\n",
        "\n",
        "#Create a svm Classifier\n",
        "clf = svm.SVC(kernel='linear', class_weight='balanced') # Linear Kernel\n",
        "\n",
        "#Train the model using the training sets\n",
        "clf.fit(X_train_over, y_train_over)\n",
        "\n",
        "#Predict the response for test dataset\n",
        "y_pred = clf.predict(X_test)\n",
        "\n",
        "#Ploting the confusion matrix\n",
        "plot_confusion_matrix(clf, X_test, y_test, values_format='d')\n",
        "plt.show()"
      ],
      "execution_count": 27,
      "outputs": [
        {
          "output_type": "display_data",
          "data": {
            "image/png": "[encoded data removed]",
            "text/plain": [
              "<Figure size 432x288 with 2 Axes>"
            ]
          },
          "metadata": {
            "tags": [],
            "needs_background": "light"
          }
        }
      ]
    },
    {
      "cell_type": "code",
      "metadata": {
        "colab": {
          "base_uri": "https://localhost:8080/"
        },
        "id": "uqnOhFYLdXJz",
        "outputId": "130483b8-6bf3-4d78-bafc-6bad9afe9b6c"
      },
      "source": [
        "f1_test_svm = f1_score(y_pred,y_test)\n",
        "recall_test_svm = recall_score(y_pred,y_test)\n",
        "prec_test_svm = precision_score(y_pred,y_test)\n",
        "\n",
        "print(\"The recall score for the testing data: {}\".format(recall_test_svm))\n",
        "print(\"The precision score for the testing data: {}\".format(prec_test_svm))\n",
        "\n",
        "print(\"The f1 score for the testing data: {}\".format(f1_test_svm))"
      ],
      "execution_count": 28,
      "outputs": [
        {
          "output_type": "stream",
          "text": [
            "The recall score for the testing data: 0.5172413793103449\n",
            "The precision score for the testing data: 0.9375\n",
            "The f1 score for the testing data: 0.6666666666666667\n"
          ],
          "name": "stdout"
        }
      ]
    },
    {
      "cell_type": "code",
      "metadata": {
        "colab": {
          "base_uri": "https://localhost:8080/"
        },
        "id": "Sl1H6nJuXtBA",
        "outputId": "85efab64-559b-4fd9-ab20-a55a2b0a8a17"
      },
      "source": [
        "#Undersampling the majority Class\n",
        "\n",
        "undersampler = RandomUnderSampler()\n",
        "\n",
        "# fit and apply the transform\n",
        "X_train_under, y_train_under = undersampler.fit_resample(X_train_pure, y_train_pure)\n",
        "\n",
        "pd.DataFrame(y_train_under, columns=['CDR']).value_counts()"
      ],
      "execution_count": 29,
      "outputs": [
        {
          "output_type": "stream",
          "text": [
            "/usr/local/lib/python3.7/dist-packages/sklearn/utils/deprecation.py:87: FutureWarning: Function safe_indexing is deprecated; safe_indexing is deprecated in version 0.22 and will be removed in version 0.24.\n",
            "  warnings.warn(msg, category=FutureWarning)\n"
          ],
          "name": "stderr"
        },
        {
          "output_type": "execute_result",
          "data": {
            "text/plain": [
              "CDR\n",
              "1      58\n",
              "0      58\n",
              "dtype: int64"
            ]
          },
          "metadata": {
            "tags": []
          },
          "execution_count": 29
        }
      ]
    },
    {
      "cell_type": "code",
      "metadata": {
        "colab": {
          "base_uri": "https://localhost:8080/",
          "height": 0
        },
        "id": "cpBYCkaDYAPr",
        "outputId": "b785048b-5676-441a-99fd-05e5c4bbc0c8"
      },
      "source": [
        "model = LogisticRegression(solver='lbfgs', class_weight='balanced')\n",
        "model.fit(X_train_under, y_train_under)\n",
        "\n",
        "pred_test = model.predict(X_test)\n",
        "\n",
        "#Ploting the confusion matrix\n",
        "plot_confusion_matrix(model, X_test, y_test)\n",
        "plt.show()"
      ],
      "execution_count": 30,
      "outputs": [
        {
          "output_type": "display_data",
          "data": {
            "image/png": "[encoded data removed]",
            "text/plain": [
              "<Figure size 432x288 with 2 Axes>"
            ]
          },
          "metadata": {
            "tags": [],
            "needs_background": "light"
          }
        }
      ]
    },
    {
      "cell_type": "code",
      "metadata": {
        "colab": {
          "base_uri": "https://localhost:8080/"
        },
        "id": "Ii2rfnEVYEqd",
        "outputId": "58a597e2-3387-45c1-d8de-212f399ba84b"
      },
      "source": [
        "f1_test = f1_score(pred_test,y_test)\n",
        "recall_test = recall_score(pred_test,y_test)\n",
        "prec_test = precision_score(pred_test,y_test)\n",
        "\n",
        "print(\"The recall score for the testing data: {}\".format(recall_test))\n",
        "print(\"The precision score for the testing data: {}\".format(prec_test))\n",
        "\n",
        "print(\"The f1 score for the testing data: {}\".format(f1_test))"
      ],
      "execution_count": 31,
      "outputs": [
        {
          "output_type": "stream",
          "text": [
            "The recall score for the testing data: 0.4411764705882353\n",
            "The precision score for the testing data: 0.9375\n",
            "The f1 score for the testing data: 0.6\n"
          ],
          "name": "stdout"
        }
      ]
    },
    {
      "cell_type": "markdown",
      "metadata": {
        "id": "mf4zAJjtflRI"
      },
      "source": [
        "## Model w/ Tensorflow"
      ]
    },
    {
      "cell_type": "code",
      "metadata": {
        "colab": {
          "base_uri": "https://localhost:8080/"
        },
        "id": "on2Dq6-8eXjl",
        "outputId": "1f4247fd-eda8-4a0a-cc6a-bcd5a3a8d668"
      },
      "source": [
        "dfdementia = df_dementia\n",
        "dfdementia[['Educ','SES']] = dfdementia[['Educ','SES']].astype(int)\n",
        "dfdementia.info()"
      ],
      "execution_count": 32,
      "outputs": [
        {
          "output_type": "stream",
          "text": [
            "<class 'pandas.core.frame.DataFrame'>\n",
            "Int64Index: 595 entries, 0 to 415\n",
            "Data columns (total 6 columns):\n",
            " #   Column  Non-Null Count  Dtype  \n",
            "---  ------  --------------  -----  \n",
            " 0   M/F     595 non-null    int64  \n",
            " 1   Age     595 non-null    float64\n",
            " 2   Educ    595 non-null    int64  \n",
            " 3   SES     595 non-null    int64  \n",
            " 4   MMSE    595 non-null    float64\n",
            " 5   CDR     595 non-null    float64\n",
            "dtypes: float64(3), int64(3)\n",
            "memory usage: 32.5 KB\n"
          ],
          "name": "stdout"
        }
      ]
    },
    {
      "cell_type": "code",
      "metadata": {
        "colab": {
          "base_uri": "https://localhost:8080/",
          "height": 282
        },
        "id": "G1uESBaAelp1",
        "outputId": "8fdc9b5e-bdc3-4fd6-a7b7-2df3b7fa1b9c"
      },
      "source": [
        "dfdementia.Age.hist(bins=20)"
      ],
      "execution_count": 33,
      "outputs": [
        {
          "output_type": "execute_result",
          "data": {
            "text/plain": [
              "<matplotlib.axes._subplots.AxesSubplot at 0x7f50ba9db490>"
            ]
          },
          "metadata": {
            "tags": []
          },
          "execution_count": 33
        },
        {
          "output_type": "display_data",
          "data": {
            "image/png": "[encoded data removed]",
            "text/plain": [
              "<Figure size 432x288 with 1 Axes>"
            ]
          },
          "metadata": {
            "tags": [],
            "needs_background": "light"
          }
        }
      ]
    },
    {
      "cell_type": "code",
      "metadata": {
        "colab": {
          "base_uri": "https://localhost:8080/",
          "height": 282
        },
        "id": "HPcLYHNQmu2k",
        "outputId": "12436d9b-d426-49bf-fa23-11bc7d401846"
      },
      "source": [
        "dfdementia.MMSE.hist(bins=20)"
      ],
      "execution_count": 34,
      "outputs": [
        {
          "output_type": "execute_result",
          "data": {
            "text/plain": [
              "<matplotlib.axes._subplots.AxesSubplot at 0x7f50ba883950>"
            ]
          },
          "metadata": {
            "tags": []
          },
          "execution_count": 34
        },
        {
          "output_type": "display_data",
          "data": {
            "image/png": "[encoded data removed]",
            "text/plain": [
              "<Figure size 432x288 with 1 Axes>"
            ]
          },
          "metadata": {
            "tags": [],
            "needs_background": "light"
          }
        }
      ]
    },
    {
      "cell_type": "code",
      "metadata": {
        "colab": {
          "base_uri": "https://localhost:8080/",
          "height": 293
        },
        "id": "yXdTvjKNpmvY",
        "outputId": "6d4643aa-0b21-410a-b91b-60b4cb9fa164"
      },
      "source": [
        "dfdementia.groupby('SES').CDR.mean().plot(kind='bar').set_xlabel('% dementia')"
      ],
      "execution_count": 35,
      "outputs": [
        {
          "output_type": "execute_result",
          "data": {
            "text/plain": [
              "Text(0.5, 0, '% dementia')"
            ]
          },
          "metadata": {
            "tags": []
          },
          "execution_count": 35
        },
        {
          "output_type": "display_data",
          "data": {
            "image/png": "[encoded data removed]",
            "text/plain": [
              "<Figure size 432x288 with 1 Axes>"
            ]
          },
          "metadata": {
            "tags": [],
            "needs_background": "light"
          }
        }
      ]
    },
    {
      "cell_type": "code",
      "metadata": {
        "colab": {
          "base_uri": "https://localhost:8080/",
          "height": 279
        },
        "id": "kTRI3uxdp49f",
        "outputId": "b74835d8-5f38-457f-b874-d065a9db4c10"
      },
      "source": [
        "dfdementia['M/F'].value_counts().plot(kind='bar')"
      ],
      "execution_count": 36,
      "outputs": [
        {
          "output_type": "execute_result",
          "data": {
            "text/plain": [
              "<matplotlib.axes._subplots.AxesSubplot at 0x7f50ba721990>"
            ]
          },
          "metadata": {
            "tags": []
          },
          "execution_count": 36
        },
        {
          "output_type": "display_data",
          "data": {
            "image/png": "[encoded data removed]",
            "text/plain": [
              "<Figure size 432x288 with 1 Axes>"
            ]
          },
          "metadata": {
            "tags": [],
            "needs_background": "light"
          }
        }
      ]
    },
    {
      "cell_type": "code",
      "metadata": {
        "colab": {
          "base_uri": "https://localhost:8080/",
          "height": 293
        },
        "id": "51ok7Qu6qDyf",
        "outputId": "798a8dab-0672-444a-e99f-34cbfa394052"
      },
      "source": [
        "dfdementia.groupby('Educ').CDR.mean().plot(kind='bar').set_xlabel('% dementia')"
      ],
      "execution_count": 37,
      "outputs": [
        {
          "output_type": "execute_result",
          "data": {
            "text/plain": [
              "Text(0.5, 0, '% dementia')"
            ]
          },
          "metadata": {
            "tags": []
          },
          "execution_count": 37
        },
        {
          "output_type": "display_data",
          "data": {
            "image/png": "[encoded data removed]",
            "text/plain": [
              "<Figure size 432x288 with 1 Axes>"
            ]
          },
          "metadata": {
            "tags": [],
            "needs_background": "light"
          }
        }
      ]
    },
    {
      "cell_type": "code",
      "metadata": {
        "colab": {
          "base_uri": "https://localhost:8080/",
          "height": 293
        },
        "id": "5KSxtpnlo4v1",
        "outputId": "cc6a9b97-dadb-48c3-c99c-40dcc9c7b0cd"
      },
      "source": [
        "dfdementia.groupby('M/F').CDR.mean().plot(kind='bar').set_xlabel('% dementia')"
      ],
      "execution_count": 38,
      "outputs": [
        {
          "output_type": "execute_result",
          "data": {
            "text/plain": [
              "Text(0.5, 0, '% dementia')"
            ]
          },
          "metadata": {
            "tags": []
          },
          "execution_count": 38
        },
        {
          "output_type": "display_data",
          "data": {
            "image/png": "[encoded data removed]",
            "text/plain": [
              "<Figure size 432x288 with 1 Axes>"
            ]
          },
          "metadata": {
            "tags": [],
            "needs_background": "light"
          }
        }
      ]
    },
    {
      "cell_type": "code",
      "metadata": {
        "colab": {
          "base_uri": "https://localhost:8080/"
        },
        "id": "d0qbisg_FbtJ",
        "outputId": "8dbedf13-24f3-4fe3-a99f-6e9ce8b88cdd"
      },
      "source": [
        "data_label = dfdementia[\"CDR\"]\n",
        "data_attributes = dfdementia.drop(columns=\"CDR\")\n",
        "\n",
        "data_attributes.info()"
      ],
      "execution_count": 39,
      "outputs": [
        {
          "output_type": "stream",
          "text": [
            "<class 'pandas.core.frame.DataFrame'>\n",
            "Int64Index: 595 entries, 0 to 415\n",
            "Data columns (total 5 columns):\n",
            " #   Column  Non-Null Count  Dtype  \n",
            "---  ------  --------------  -----  \n",
            " 0   M/F     595 non-null    int64  \n",
            " 1   Age     595 non-null    float64\n",
            " 2   Educ    595 non-null    int64  \n",
            " 3   SES     595 non-null    int64  \n",
            " 4   MMSE    595 non-null    float64\n",
            "dtypes: float64(2), int64(3)\n",
            "memory usage: 27.9 KB\n"
          ],
          "name": "stdout"
        }
      ]
    },
    {
      "cell_type": "code",
      "metadata": {
        "id": "mbiqOYhBthzi"
      },
      "source": [
        "#splitting into train and test\n",
        "dftrain_pure, dftest, yftrain_pure, yftest = train_test_split(data_attributes, data_label, test_size=0.2, random_state=29)"
      ],
      "execution_count": 40,
      "outputs": []
    },
    {
      "cell_type": "code",
      "metadata": {
        "colab": {
          "base_uri": "https://localhost:8080/",
          "height": 315
        },
        "id": "rxhk31PQJcN6",
        "outputId": "aaa2f9e2-a611-4943-a9ad-6a7a7f2bacd1"
      },
      "source": [
        "ax = yftrain_pure.value_counts().plot(kind='barh')\n",
        "print(yftrain_pure.value_counts())"
      ],
      "execution_count": 41,
      "outputs": [
        {
          "output_type": "stream",
          "text": [
            "0.0    418\n",
            "1.0     58\n",
            "Name: CDR, dtype: int64\n"
          ],
          "name": "stdout"
        },
        {
          "output_type": "display_data",
          "data": {
            "image/png": "[encoded data removed]",
            "text/plain": [
              "<Figure size 432x288 with 1 Axes>"
            ]
          },
          "metadata": {
            "tags": [],
            "needs_background": "light"
          }
        }
      ]
    },
    {
      "cell_type": "markdown",
      "metadata": {
        "id": "WVaaaUNRrwS9"
      },
      "source": [
        "### Oversample the Data"
      ]
    },
    {
      "cell_type": "code",
      "metadata": {
        "colab": {
          "base_uri": "https://localhost:8080/"
        },
        "id": "Dn6W2YjtFSvi",
        "outputId": "fd395be7-8ec5-4d7b-9761-fe91b7e64a56"
      },
      "source": [
        "#Oversampling the minority Class\n",
        "\n",
        "oversampler = RandomOverSampler(sampling_strategy=0.8, random_state=29)\n",
        "\n",
        "# fit and apply the transform\n",
        "dftrain_over, yftrain_over = oversampler.fit_resample(dftrain_pure, yftrain_pure)\n",
        "\n",
        "dftrain_over = pd.DataFrame(dftrain_over, columns=['M/F', 'Age', 'Educ', 'SES', 'MMSE'])\n",
        "dftrain_over[['M/F','Educ','SES']] = dftrain_over[['M/F','Educ','SES']].astype(int)\n",
        "\n",
        "yftrain_over = pd.DataFrame(yftrain_over, columns=['CDR'])\n",
        "\n",
        "pd.concat([dftrain_over, yftrain_over]).info()"
      ],
      "execution_count": 42,
      "outputs": [
        {
          "output_type": "stream",
          "text": [
            "<class 'pandas.core.frame.DataFrame'>\n",
            "Int64Index: 1504 entries, 0 to 751\n",
            "Data columns (total 6 columns):\n",
            " #   Column  Non-Null Count  Dtype  \n",
            "---  ------  --------------  -----  \n",
            " 0   M/F     752 non-null    float64\n",
            " 1   Age     752 non-null    float64\n",
            " 2   Educ    752 non-null    float64\n",
            " 3   SES     752 non-null    float64\n",
            " 4   MMSE    752 non-null    float64\n",
            " 5   CDR     752 non-null    float64\n",
            "dtypes: float64(6)\n",
            "memory usage: 82.2 KB\n"
          ],
          "name": "stdout"
        },
        {
          "output_type": "stream",
          "text": [
            "/usr/local/lib/python3.7/dist-packages/sklearn/utils/deprecation.py:87: FutureWarning: Function safe_indexing is deprecated; safe_indexing is deprecated in version 0.22 and will be removed in version 0.24.\n",
            "  warnings.warn(msg, category=FutureWarning)\n"
          ],
          "name": "stderr"
        }
      ]
    },
    {
      "cell_type": "code",
      "metadata": {
        "colab": {
          "base_uri": "https://localhost:8080/",
          "height": 332
        },
        "id": "U5LSnqokcu1F",
        "outputId": "a7954ba5-3b18-44d9-b270-d2ee7305614f"
      },
      "source": [
        "yftrain_over.value_counts().plot(kind='barh')\n",
        "print(yftrain_over.value_counts())"
      ],
      "execution_count": 43,
      "outputs": [
        {
          "output_type": "stream",
          "text": [
            "CDR\n",
            "0.0    418\n",
            "1.0    334\n",
            "dtype: int64\n"
          ],
          "name": "stdout"
        },
        {
          "output_type": "display_data",
          "data": {
            "image/png": "[encoded data removed]",
            "text/plain": [
              "<Figure size 432x288 with 1 Axes>"
            ]
          },
          "metadata": {
            "tags": [],
            "needs_background": "light"
          }
        }
      ]
    },
    {
      "cell_type": "code",
      "metadata": {
        "colab": {
          "base_uri": "https://localhost:8080/"
        },
        "id": "Xd0Q7BdqcMLB",
        "outputId": "5b777516-5f6f-4206-f145-8af2729dfa06"
      },
      "source": [
        "#Dataset Preparation\n",
        "CATEGORICAL_COLUMNS = ['M/F', 'SES', 'Educ']\n",
        "NUMERIC_COLUMNS = ['MMSE', 'Age']\n",
        "\n",
        "feature_columns = []\n",
        "for feature_name in CATEGORICAL_COLUMNS:\n",
        "  vocabulary = dftrain_over[feature_name].unique()\n",
        "  feature_columns.append(tf.feature_column.categorical_column_with_vocabulary_list(feature_name, vocabulary))\n",
        "\n",
        "for feature_name in NUMERIC_COLUMNS:\n",
        "  feature_columns.append(tf.feature_column.numeric_column(feature_name, dtype=tf.float32))\n",
        "\n",
        "for value in feature_columns:\n",
        "  if not hasattr(value, 'shape'):\n",
        "    print(\"The {} column have {} as unique value with {} data type\".format(value.key,value.vocabulary_list, value.dtype))\n",
        "  else:\n",
        "    print(\"The {} column have {} shape with {} data type\".format(value.key,value.shape, value.dtype))"
      ],
      "execution_count": 44,
      "outputs": [
        {
          "output_type": "stream",
          "text": [
            "The M/F column have (0, 1) as unique value with <dtype: 'int64'> data type\n",
            "The SES column have (3, 1, 2, 4, 5) as unique value with <dtype: 'int64'> data type\n",
            "The Educ column have (3, 4, 5, 2, 1) as unique value with <dtype: 'int64'> data type\n",
            "The MMSE column have (1,) shape with <dtype: 'float32'> data type\n",
            "The Age column have (1,) shape with <dtype: 'float32'> data type\n"
          ],
          "name": "stdout"
        }
      ]
    },
    {
      "cell_type": "code",
      "metadata": {
        "id": "2SgGEzrQi2be"
      },
      "source": [
        "def make_input_fn(data_df, label_df, num_epochs=10, shuffle=True, batch_size=10):\n",
        "  def input_function():\n",
        "    ds = tf.data.Dataset.from_tensor_slices((dict(data_df), label_df))\n",
        "    if shuffle:\n",
        "      ds = ds.shuffle(1000)\n",
        "    ds = ds.batch(batch_size).repeat(num_epochs)\n",
        "    return ds\n",
        "  return input_function\n",
        "\n",
        "train_input_fn = make_input_fn(dftrain_over, yftrain_over)\n",
        "eval_input_fn = make_input_fn(dftest, yftest, num_epochs=1, shuffle=False)"
      ],
      "execution_count": 45,
      "outputs": []
    },
    {
      "cell_type": "code",
      "metadata": {
        "colab": {
          "base_uri": "https://localhost:8080/"
        },
        "id": "_qSTDX42sJWR",
        "outputId": "261b59c8-6988-40e8-f9a2-3f6833af9620"
      },
      "source": [
        "linear_est = tf.estimator.LinearClassifier(feature_columns=feature_columns)\n",
        "linear_est.train(train_input_fn)\n",
        "result = linear_est.evaluate(eval_input_fn)\n",
        "\n",
        "clear_output()\n",
        "print(result)"
      ],
      "execution_count": 46,
      "outputs": [
        {
          "output_type": "stream",
          "text": [
            "{'accuracy': 0.90756303, 'accuracy_baseline': 0.8655462, 'auc': 0.92718446, 'auc_precision_recall': 0.59450734, 'average_loss': 0.34106165, 'label/mean': 0.13445379, 'loss': 0.3419952, 'precision': 0.6086956, 'prediction/mean': 0.28371817, 'recall': 0.875, 'global_step': 760}\n"
          ],
          "name": "stdout"
        }
      ]
    },
    {
      "cell_type": "code",
      "metadata": {
        "colab": {
          "base_uri": "https://localhost:8080/",
          "height": 452
        },
        "id": "Fg2DecL_yA9y",
        "outputId": "c8433ed8-1625-4166-fd3e-7740e802c1e7"
      },
      "source": [
        "pred_dicts = list(linear_est.predict(eval_input_fn))\n",
        "probs = pd.Series([pred['probabilities'][1] for pred in pred_dicts])\n",
        "\n",
        "probs.plot(kind='hist', bins=20, title='predicted probabilities')"
      ],
      "execution_count": 47,
      "outputs": [
        {
          "output_type": "stream",
          "text": [
            "INFO:tensorflow:Calling model_fn.\n"
          ],
          "name": "stdout"
        },
        {
          "output_type": "stream",
          "text": [
            "/usr/local/lib/python3.7/dist-packages/tensorflow/python/keras/engine/base_layer_v1.py:1700: UserWarning: `layer.add_variable` is deprecated and will be removed in a future version. Please use `layer.add_weight` method instead.\n",
            "  warnings.warn('`layer.add_variable` is deprecated and '\n"
          ],
          "name": "stderr"
        },
        {
          "output_type": "stream",
          "text": [
            "INFO:tensorflow:Done calling model_fn.\n",
            "INFO:tensorflow:Graph was finalized.\n",
            "INFO:tensorflow:Restoring parameters from /tmp/tmptvxd6les/model.ckpt-760\n",
            "INFO:tensorflow:Running local_init_op.\n",
            "INFO:tensorflow:Done running local_init_op.\n"
          ],
          "name": "stdout"
        },
        {
          "output_type": "execute_result",
          "data": {
            "text/plain": [
              "<matplotlib.axes._subplots.AxesSubplot at 0x7f50b836ce50>"
            ]
          },
          "metadata": {
            "tags": []
          },
          "execution_count": 47
        },
        {
          "output_type": "display_data",
          "data": {
            "image/png": "[encoded data removed]",
            "text/plain": [
              "<Figure size 432x288 with 1 Axes>"
            ]
          },
          "metadata": {
            "tags": [],
            "needs_background": "light"
          }
        }
      ]
    },
    {
      "cell_type": "code",
      "metadata": {
        "colab": {
          "base_uri": "https://localhost:8080/",
          "height": 312
        },
        "id": "jd0X9VnyySXo",
        "outputId": "dd6975b0-ee8e-4117-e88e-76c3506e8e14"
      },
      "source": [
        "from sklearn.metrics import roc_curve\n",
        "from matplotlib import pyplot as plt\n",
        "\n",
        "fpr, tpr, _ = roc_curve(yftest, probs)\n",
        "\n",
        "plt.plot(fpr, tpr)\n",
        "plt.title('ROC curve')\n",
        "plt.xlabel('false positive rate')\n",
        "plt.ylabel('true positive rate')\n",
        "plt.xlim(0,)\n",
        "plt.ylim(0,)"
      ],
      "execution_count": 48,
      "outputs": [
        {
          "output_type": "execute_result",
          "data": {
            "text/plain": [
              "(0.0, 1.05)"
            ]
          },
          "metadata": {
            "tags": []
          },
          "execution_count": 48
        },
        {
          "output_type": "display_data",
          "data": {
            "image/png": "[encoded data removed]",
            "text/plain": [
              "<Figure size 432x288 with 1 Axes>"
            ]
          },
          "metadata": {
            "tags": [],
            "needs_background": "light"
          }
        }
      ]
    },
    {
      "cell_type": "code",
      "metadata": {
        "colab": {
          "base_uri": "https://localhost:8080/"
        },
        "id": "q1HcTxWwQdXu",
        "outputId": "8cd35892-a25b-415c-d3f6-5c4c56be81fb"
      },
      "source": [
        "res = pd.Series([pred['class_ids'][0] for pred in pred_dicts])\n",
        "res\n",
        "\n",
        "i = 0\n",
        "false_positive = []\n",
        "for index,value in enumerate(yftest):\n",
        "    if (value == 0 and res[i] == 1):\n",
        "      false_positive.append(index)\n",
        "      print(probs[i], i)\n",
        "    i += 1\n",
        "\n",
        "print()\n",
        "print(false_positive)\n",
        "print()\n",
        "\n",
        "data_fp = dfdementia[dfdementia.index.isin(false_positive)]\n",
        "\n",
        "print(data_fp)"
      ],
      "execution_count": 49,
      "outputs": [
        {
          "output_type": "stream",
          "text": [
            "0.7922684550285339 14\n",
            "0.6187832951545715 22\n",
            "0.6073552966117859 42\n",
            "0.8845605850219727 58\n",
            "0.8393357992172241 62\n",
            "0.9745053052902222 69\n",
            "0.9618729948997498 88\n",
            "0.9070231318473816 98\n",
            "0.525502622127533 110\n",
            "\n",
            "[14, 22, 42, 58, 62, 69, 88, 98, 110]\n",
            "\n",
            "     M/F   Age  Educ  SES  MMSE  CDR\n",
            "14     0  95.0     4    2  29.0  0.0\n",
            "22     0  81.0     3    4  30.0  0.0\n",
            "42     0  64.0     4    3  29.0  0.0\n",
            "58     0  88.0     3    3  30.0  0.0\n",
            "62     0  79.0     4    1  29.0  0.0\n",
            "69     0  70.0     4    4  30.0  0.0\n",
            "88     1  68.0     4    4  21.0  1.0\n",
            "98     1  66.0     4    1  21.0  1.0\n",
            "110    1  74.0     5    2  29.0  0.0\n",
            "14     1  82.0     2    4  27.0  0.0\n",
            "42     1  64.0     2    4  22.0  0.0\n",
            "62     0  71.0     4    1  27.0  1.0\n",
            "69     1  43.0     4    2  30.0  0.0\n",
            "98     0  81.0     2    4  30.0  0.0\n"
          ],
          "name": "stdout"
        }
      ]
    },
    {
      "cell_type": "code",
      "metadata": {
        "colab": {
          "base_uri": "https://localhost:8080/",
          "height": 295
        },
        "id": "XVdhnbW0AbNJ",
        "outputId": "8856be5f-df71-4288-bd23-95d1668a054c"
      },
      "source": [
        "conf_matrix = tf.math.confusion_matrix(yftest, res).numpy()\n",
        "\n",
        "df_cm = pd.DataFrame(conf_matrix, range(2), range(2))\n",
        "# plt.figure(figsize=(10,7))\n",
        "sns.set(font_scale=1.4) # for label size\n",
        "sns.heatmap(df_cm, annot=True, fmt=\"d\") # font size\n",
        "plt.xlabel(\"Predicted Label\") \n",
        "plt.ylabel(\"True Label\") \n",
        "\n",
        "plt.show()"
      ],
      "execution_count": 50,
      "outputs": [
        {
          "output_type": "display_data",
          "data": {
            "image/png": "[encoded data removed]",
            "text/plain": [
              "<Figure size 432x288 with 2 Axes>"
            ]
          },
          "metadata": {
            "tags": []
          }
        }
      ]
    },
    {
      "cell_type": "code",
      "metadata": {
        "colab": {
          "base_uri": "https://localhost:8080/"
        },
        "id": "obEBDKmNQnDC",
        "outputId": "4e96e218-1791-4d38-ad4d-f8d8ffe36c99"
      },
      "source": [
        "f1_score_tf = 2 * (result[\"precision\"] * result[\"recall\"]) / (result[\"precision\"] + result[\"recall\"])\n",
        "\n",
        "print(\"The Recall Score for our model is {}\".format(result[\"recall\"]))\n",
        "print(\"The Precision Score for our model is {}\".format(result[\"precision\"]))\n",
        "\n",
        "print(\"The F1 Score for our model is {}\".format(f1_score_tf))"
      ],
      "execution_count": 51,
      "outputs": [
        {
          "output_type": "stream",
          "text": [
            "The Recall Score for our model is 0.875\n",
            "The Precision Score for our model is 0.6086956262588501\n",
            "The F1 Score for our model is 0.7179487200088767\n"
          ],
          "name": "stdout"
        }
      ]
    },
    {
      "cell_type": "markdown",
      "metadata": {
        "id": "ZCxfqM0NRWmu"
      },
      "source": [
        "### Try to Undersample the Data"
      ]
    },
    {
      "cell_type": "code",
      "metadata": {
        "colab": {
          "base_uri": "https://localhost:8080/"
        },
        "id": "gW9ERxZJRWOj",
        "outputId": "a3dc604c-525d-40a0-9016-a298c0127390"
      },
      "source": [
        "#Undersampling the Majority Class\n",
        "\n",
        "undersampler = RandomUnderSampler(random_state=42)\n",
        "\n",
        "# fit and apply the transform\n",
        "dftrain_under, yftrain_under = undersampler.fit_resample(dftrain_pure, yftrain_pure)\n",
        "\n",
        "dftrain_under = pd.DataFrame(dftrain_under, columns=['M/F', 'Age', 'Educ', 'SES', 'MMSE'])\n",
        "dftrain_under[['M/F','Educ','SES']] = dftrain_under[['M/F','Educ','SES']].astype(int)\n",
        "\n",
        "yftrain_under = pd.DataFrame(yftrain_under, columns=['CDR'])\n",
        "\n",
        "pd.concat([dftrain_under, yftrain_under]).info()"
      ],
      "execution_count": 52,
      "outputs": [
        {
          "output_type": "stream",
          "text": [
            "<class 'pandas.core.frame.DataFrame'>\n",
            "Int64Index: 232 entries, 0 to 115\n",
            "Data columns (total 6 columns):\n",
            " #   Column  Non-Null Count  Dtype  \n",
            "---  ------  --------------  -----  \n",
            " 0   M/F     116 non-null    float64\n",
            " 1   Age     116 non-null    float64\n",
            " 2   Educ    116 non-null    float64\n",
            " 3   SES     116 non-null    float64\n",
            " 4   MMSE    116 non-null    float64\n",
            " 5   CDR     116 non-null    float64\n",
            "dtypes: float64(6)\n",
            "memory usage: 12.7 KB\n"
          ],
          "name": "stdout"
        },
        {
          "output_type": "stream",
          "text": [
            "/usr/local/lib/python3.7/dist-packages/sklearn/utils/deprecation.py:87: FutureWarning: Function safe_indexing is deprecated; safe_indexing is deprecated in version 0.22 and will be removed in version 0.24.\n",
            "  warnings.warn(msg, category=FutureWarning)\n"
          ],
          "name": "stderr"
        }
      ]
    },
    {
      "cell_type": "code",
      "metadata": {
        "colab": {
          "base_uri": "https://localhost:8080/",
          "height": 0
        },
        "id": "VHBhZ9ELTQ9S",
        "outputId": "16c2ab29-8472-4993-ad53-95123dff7fb3"
      },
      "source": [
        "yftrain_under.value_counts().plot(kind='barh')\n",
        "print(yftrain_under.value_counts())"
      ],
      "execution_count": 53,
      "outputs": [
        {
          "output_type": "stream",
          "text": [
            "CDR\n",
            "1.0    58\n",
            "0.0    58\n",
            "dtype: int64\n"
          ],
          "name": "stdout"
        },
        {
          "output_type": "display_data",
          "data": {
            "image/png": "[encoded data removed]",
            "text/plain": [
              "<Figure size 432x288 with 1 Axes>"
            ]
          },
          "metadata": {
            "tags": []
          }
        }
      ]
    },
    {
      "cell_type": "code",
      "metadata": {
        "colab": {
          "base_uri": "https://localhost:8080/"
        },
        "id": "PpRc1sNRTmQT",
        "outputId": "e76b8f35-477e-4410-ab59-698974161b71"
      },
      "source": [
        "#Dataset Preparation\n",
        "CATEGORICAL_COLUMNS = ['M/F', 'Educ', 'SES']\n",
        "NUMERIC_COLUMNS = ['MMSE', 'Age']\n",
        "\n",
        "feature_columns = []\n",
        "for feature_name in CATEGORICAL_COLUMNS:\n",
        "  vocabulary = dftrain_under[feature_name].unique()\n",
        "  feature_columns.append(tf.feature_column.categorical_column_with_vocabulary_list(feature_name, vocabulary))\n",
        "\n",
        "for feature_name in NUMERIC_COLUMNS:\n",
        "  feature_columns.append(tf.feature_column.numeric_column(feature_name, dtype=tf.float32))\n",
        "\n",
        "for value in feature_columns:\n",
        "  if not hasattr(value, 'shape'):\n",
        "    print(\"The {} column have {} as unique value with {} data type\".format(value.key,value.vocabulary_list, value.dtype))\n",
        "  else:\n",
        "    print(\"The {} column have {} shape with {} data type\".format(value.key,value.shape, value.dtype))"
      ],
      "execution_count": 54,
      "outputs": [
        {
          "output_type": "stream",
          "text": [
            "The M/F column have (1, 0) as unique value with <dtype: 'int64'> data type\n",
            "The Educ column have (4, 3, 5, 2, 1) as unique value with <dtype: 'int64'> data type\n",
            "The SES column have (3, 2, 4, 1, 5) as unique value with <dtype: 'int64'> data type\n",
            "The MMSE column have (1,) shape with <dtype: 'float32'> data type\n",
            "The Age column have (1,) shape with <dtype: 'float32'> data type\n"
          ],
          "name": "stdout"
        }
      ]
    },
    {
      "cell_type": "code",
      "metadata": {
        "id": "ivGWoVs9TtGL"
      },
      "source": [
        "train_input_fn = make_input_fn(dftrain_under, yftrain_under)\n",
        "eval_input_fn = make_input_fn(dftest, yftest, num_epochs=1, shuffle=False)"
      ],
      "execution_count": 55,
      "outputs": []
    },
    {
      "cell_type": "code",
      "metadata": {
        "colab": {
          "base_uri": "https://localhost:8080/"
        },
        "id": "hTOlfZ7BTyaR",
        "outputId": "a959fbcb-eace-40ab-c39c-be6b3873848e"
      },
      "source": [
        "linear_est = tf.estimator.LinearClassifier(feature_columns=feature_columns)\n",
        "linear_est.train(train_input_fn)\n",
        "result = linear_est.evaluate(eval_input_fn)\n",
        "\n",
        "clear_output()\n",
        "print(result)"
      ],
      "execution_count": 56,
      "outputs": [
        {
          "output_type": "stream",
          "text": [
            "{'accuracy': 0.45378152, 'accuracy_baseline': 0.8655462, 'auc': 0.9086772, 'auc_precision_recall': 0.5338969, 'average_loss': 0.9521306, 'label/mean': 0.13445379, 'loss': 0.9562053, 'precision': 0.19753087, 'prediction/mean': 0.598816, 'recall': 1.0, 'global_step': 120}\n"
          ],
          "name": "stdout"
        }
      ]
    },
    {
      "cell_type": "code",
      "metadata": {
        "colab": {
          "base_uri": "https://localhost:8080/",
          "height": 0
        },
        "id": "Kmq7LbmtT7Yq",
        "outputId": "0ed0c2d5-169b-489f-a2d5-8e63507f8999"
      },
      "source": [
        "pred_dicts = list(linear_est.predict(eval_input_fn))\n",
        "probs = pd.Series([pred['probabilities'][1] for pred in pred_dicts])\n",
        "\n",
        "probs.plot(kind='hist', bins=20, title='predicted probabilities')"
      ],
      "execution_count": 57,
      "outputs": [
        {
          "output_type": "stream",
          "text": [
            "INFO:tensorflow:Calling model_fn.\n"
          ],
          "name": "stdout"
        },
        {
          "output_type": "stream",
          "text": [
            "/usr/local/lib/python3.7/dist-packages/tensorflow/python/keras/engine/base_layer_v1.py:1700: UserWarning: `layer.add_variable` is deprecated and will be removed in a future version. Please use `layer.add_weight` method instead.\n",
            "  warnings.warn('`layer.add_variable` is deprecated and '\n"
          ],
          "name": "stderr"
        },
        {
          "output_type": "stream",
          "text": [
            "INFO:tensorflow:Done calling model_fn.\n",
            "INFO:tensorflow:Graph was finalized.\n",
            "INFO:tensorflow:Restoring parameters from /tmp/tmpbg_2aett/model.ckpt-120\n",
            "INFO:tensorflow:Running local_init_op.\n",
            "INFO:tensorflow:Done running local_init_op.\n"
          ],
          "name": "stdout"
        },
        {
          "output_type": "execute_result",
          "data": {
            "text/plain": [
              "<matplotlib.axes._subplots.AxesSubplot at 0x7f50b4e25650>"
            ]
          },
          "metadata": {
            "tags": []
          },
          "execution_count": 57
        },
        {
          "output_type": "display_data",
          "data": {
            "image/png": "[encoded data removed]",
            "text/plain": [
              "<Figure size 432x288 with 1 Axes>"
            ]
          },
          "metadata": {
            "tags": []
          }
        }
      ]
    },
    {
      "cell_type": "code",
      "metadata": {
        "colab": {
          "base_uri": "https://localhost:8080/",
          "height": 0
        },
        "id": "ddKz1xnMT-NR",
        "outputId": "1bf9b046-5917-4dee-dce6-7a30280cda5b"
      },
      "source": [
        "from sklearn.metrics import roc_curve\n",
        "from matplotlib import pyplot as plt\n",
        "\n",
        "fpr, tpr, _ = roc_curve(yftest, probs)\n",
        "\n",
        "plt.plot(fpr, tpr)\n",
        "plt.title('ROC curve')\n",
        "plt.xlabel('false positive rate')\n",
        "plt.ylabel('true positive rate')\n",
        "plt.xlim(0,)\n",
        "plt.ylim(0,)"
      ],
      "execution_count": 58,
      "outputs": [
        {
          "output_type": "execute_result",
          "data": {
            "text/plain": [
              "(0.0, 1.05)"
            ]
          },
          "metadata": {
            "tags": []
          },
          "execution_count": 58
        },
        {
          "output_type": "display_data",
          "data": {
            "image/png": "[encoded data removed]",
            "text/plain": [
              "<Figure size 432x288 with 1 Axes>"
            ]
          },
          "metadata": {
            "tags": []
          }
        }
      ]
    },
    {
      "cell_type": "code",
      "metadata": {
        "colab": {
          "base_uri": "https://localhost:8080/"
        },
        "id": "m7HKtiRzUBZQ",
        "outputId": "49a75a1b-ffb7-4adf-c2f1-a71ba95cb43a"
      },
      "source": [
        "res = pd.Series([pred['class_ids'][0] for pred in pred_dicts])\n",
        "res"
      ],
      "execution_count": 59,
      "outputs": [
        {
          "output_type": "execute_result",
          "data": {
            "text/plain": [
              "0      0\n",
              "1      1\n",
              "2      1\n",
              "3      1\n",
              "4      1\n",
              "      ..\n",
              "114    1\n",
              "115    1\n",
              "116    1\n",
              "117    0\n",
              "118    1\n",
              "Length: 119, dtype: int64"
            ]
          },
          "metadata": {
            "tags": []
          },
          "execution_count": 59
        }
      ]
    },
    {
      "cell_type": "code",
      "metadata": {
        "colab": {
          "base_uri": "https://localhost:8080/",
          "height": 0
        },
        "id": "Z2fR_10bUGpf",
        "outputId": "4cd2dce5-650b-491f-f7cc-3ba6af479f2f"
      },
      "source": [
        "conf_matrix = tf.math.confusion_matrix(yftest, res).numpy()\n",
        "\n",
        "df_cm = pd.DataFrame(conf_matrix, range(2), range(2))\n",
        "# plt.figure(figsize=(10,7))\n",
        "sns.set(font_scale=1.4) # for label size\n",
        "sns.heatmap(df_cm, annot=True, fmt=\"d\") # font size\n",
        "plt.xlabel(\"Predicted Label\") \n",
        "plt.ylabel(\"True Label\") \n",
        "\n",
        "plt.show()"
      ],
      "execution_count": 60,
      "outputs": [
        {
          "output_type": "display_data",
          "data": {
            "image/png": "[encoded data removed]",
            "text/plain": [
              "<Figure size 432x288 with 2 Axes>"
            ]
          },
          "metadata": {
            "tags": []
          }
        }
      ]
    },
    {
      "cell_type": "code",
      "metadata": {
        "colab": {
          "base_uri": "https://localhost:8080/"
        },
        "id": "8XLmA51mUJrL",
        "outputId": "370203a4-5b0c-431f-a523-64ad38338687"
      },
      "source": [
        "f1_score_tf = 2 * (result[\"precision\"] * result[\"recall\"]) / (result[\"precision\"] + result[\"recall\"])\n",
        "\n",
        "print(\"The Recall Score for our model is {}\".format(result[\"recall\"]))\n",
        "print(\"The Precision Score for our model is {}\".format(result[\"precision\"]))\n",
        "\n",
        "print(\"The F1 Score for our model is {}\".format(f1_score_tf))"
      ],
      "execution_count": 61,
      "outputs": [
        {
          "output_type": "stream",
          "text": [
            "The Recall Score for our model is 1.0\n",
            "The Precision Score for our model is 0.1975308656692505\n",
            "The F1 Score for our model is 0.3298969092689877\n"
          ],
          "name": "stdout"
        }
      ]
    },
    {
      "cell_type": "markdown",
      "metadata": {
        "id": "I6C-ZK9ThuLy"
      },
      "source": [
        "### Generate Synthetic dataset with SMOTE"
      ]
    },
    {
      "cell_type": "code",
      "metadata": {
        "colab": {
          "base_uri": "https://localhost:8080/"
        },
        "id": "tvYkrJrfhx6K",
        "outputId": "0ffbe8e9-9550-42dd-9d31-13501bf78c3e"
      },
      "source": [
        "#Creating Synthetic Dataset\n",
        "\n",
        "smote = SMOTE(random_state=29, sampling_strategy=0.8)\n",
        "\n",
        "# fit and apply the transform\n",
        "dftrain_smote, yftrain_smote = smote.fit_resample(dftrain_pure, yftrain_pure)\n",
        "\n",
        "dftrain_smote = pd.DataFrame(dftrain_smote, columns=['M/F', 'Age', 'Educ', 'SES', 'MMSE'])\n",
        "dftrain_smote[['M/F','Educ','SES']] = dftrain_smote[['M/F','Educ','SES']].astype(int)\n",
        "\n",
        "yftrain_smote = pd.DataFrame(yftrain_smote, columns=['CDR'])\n",
        "\n",
        "pd.concat([dftrain_smote, yftrain_smote]).info()"
      ],
      "execution_count": 62,
      "outputs": [
        {
          "output_type": "stream",
          "text": [
            "<class 'pandas.core.frame.DataFrame'>\n",
            "Int64Index: 1504 entries, 0 to 751\n",
            "Data columns (total 6 columns):\n",
            " #   Column  Non-Null Count  Dtype  \n",
            "---  ------  --------------  -----  \n",
            " 0   M/F     752 non-null    float64\n",
            " 1   Age     752 non-null    float64\n",
            " 2   Educ    752 non-null    float64\n",
            " 3   SES     752 non-null    float64\n",
            " 4   MMSE    752 non-null    float64\n",
            " 5   CDR     752 non-null    float64\n",
            "dtypes: float64(6)\n",
            "memory usage: 82.2 KB\n"
          ],
          "name": "stdout"
        },
        {
          "output_type": "stream",
          "text": [
            "/usr/local/lib/python3.7/dist-packages/sklearn/utils/deprecation.py:87: FutureWarning: Function safe_indexing is deprecated; safe_indexing is deprecated in version 0.22 and will be removed in version 0.24.\n",
            "  warnings.warn(msg, category=FutureWarning)\n"
          ],
          "name": "stderr"
        }
      ]
    },
    {
      "cell_type": "code",
      "metadata": {
        "colab": {
          "base_uri": "https://localhost:8080/",
          "height": 0
        },
        "id": "6xtKiG0KiUFd",
        "outputId": "a543eeb0-5257-4f85-976a-e42eb106dd29"
      },
      "source": [
        "yftrain_smote.value_counts().plot(kind='barh')\n",
        "print(yftrain_smote.value_counts())"
      ],
      "execution_count": 63,
      "outputs": [
        {
          "output_type": "stream",
          "text": [
            "CDR\n",
            "0.0    418\n",
            "1.0    334\n",
            "dtype: int64\n"
          ],
          "name": "stdout"
        },
        {
          "output_type": "display_data",
          "data": {
            "image/png": "[encoded data removed]",
            "text/plain": [
              "<Figure size 432x288 with 1 Axes>"
            ]
          },
          "metadata": {
            "tags": []
          }
        }
      ]
    },
    {
      "cell_type": "code",
      "metadata": {
        "colab": {
          "base_uri": "https://localhost:8080/"
        },
        "id": "yVf8LLjDiYio",
        "outputId": "1ea67126-7a70-4ae5-eaf4-f51976a440c0"
      },
      "source": [
        "#Dataset Preparation\n",
        "CATEGORICAL_COLUMNS = ['M/F', 'Educ', 'SES']\n",
        "NUMERIC_COLUMNS = ['MMSE', 'Age']\n",
        "\n",
        "feature_columns = []\n",
        "for feature_name in CATEGORICAL_COLUMNS:\n",
        "  vocabulary = dftrain_smote[feature_name].unique()\n",
        "  feature_columns.append(tf.feature_column.categorical_column_with_vocabulary_list(feature_name, vocabulary))\n",
        "\n",
        "for feature_name in NUMERIC_COLUMNS:\n",
        "  feature_columns.append(tf.feature_column.numeric_column(feature_name, dtype=tf.float32))\n",
        "\n",
        "for value in feature_columns:\n",
        "  if not hasattr(value, 'shape'):\n",
        "    print(\"The {} column have {} as unique value with {} data type\".format(value.key,value.vocabulary_list, value.dtype))\n",
        "  else:\n",
        "    print(\"The {} column have {} shape with {} data type\".format(value.key,value.shape, value.dtype))"
      ],
      "execution_count": 64,
      "outputs": [
        {
          "output_type": "stream",
          "text": [
            "The M/F column have (0, 1) as unique value with <dtype: 'int64'> data type\n",
            "The Educ column have (3, 4, 5, 2, 1) as unique value with <dtype: 'int64'> data type\n",
            "The SES column have (3, 1, 2, 4, 5) as unique value with <dtype: 'int64'> data type\n",
            "The MMSE column have (1,) shape with <dtype: 'float32'> data type\n",
            "The Age column have (1,) shape with <dtype: 'float32'> data type\n"
          ],
          "name": "stdout"
        }
      ]
    },
    {
      "cell_type": "code",
      "metadata": {
        "id": "LYJB7HtTibSk"
      },
      "source": [
        "train_input_fn = make_input_fn(dftrain_smote, yftrain_smote)\n",
        "eval_input_fn = make_input_fn(dftest, yftest, num_epochs=1, shuffle=False)"
      ],
      "execution_count": 65,
      "outputs": []
    },
    {
      "cell_type": "code",
      "metadata": {
        "colab": {
          "base_uri": "https://localhost:8080/"
        },
        "id": "IkPx6IW3iels",
        "outputId": "8357de8b-256f-4aaa-c7cf-bf78374ebfc5"
      },
      "source": [
        "linear_est = tf.estimator.LinearClassifier(feature_columns=feature_columns)\n",
        "linear_est.train(train_input_fn)\n",
        "result = linear_est.evaluate(eval_input_fn)\n",
        "\n",
        "clear_output()\n",
        "print(result)"
      ],
      "execution_count": 66,
      "outputs": [
        {
          "output_type": "stream",
          "text": [
            "{'accuracy': 0.8907563, 'accuracy_baseline': 0.8655462, 'auc': 0.93992716, 'auc_precision_recall': 0.647802, 'average_loss': 0.30413422, 'label/mean': 0.13445379, 'loss': 0.30441973, 'precision': 0.56, 'prediction/mean': 0.26083755, 'recall': 0.875, 'global_step': 760}\n"
          ],
          "name": "stdout"
        }
      ]
    },
    {
      "cell_type": "code",
      "metadata": {
        "colab": {
          "base_uri": "https://localhost:8080/",
          "height": 0
        },
        "id": "oghr_slyii4p",
        "outputId": "d3c7b6c6-be47-45a5-8dfc-f72e9591e278"
      },
      "source": [
        "pred_dicts = list(linear_est.predict(eval_input_fn))\n",
        "probs = pd.Series([pred['probabilities'][1] for pred in pred_dicts])\n",
        "\n",
        "probs.plot(kind='hist', bins=20, title='predicted probabilities')"
      ],
      "execution_count": 67,
      "outputs": [
        {
          "output_type": "stream",
          "text": [
            "INFO:tensorflow:Calling model_fn.\n"
          ],
          "name": "stdout"
        },
        {
          "output_type": "stream",
          "text": [
            "/usr/local/lib/python3.7/dist-packages/tensorflow/python/keras/engine/base_layer_v1.py:1700: UserWarning: `layer.add_variable` is deprecated and will be removed in a future version. Please use `layer.add_weight` method instead.\n",
            "  warnings.warn('`layer.add_variable` is deprecated and '\n"
          ],
          "name": "stderr"
        },
        {
          "output_type": "stream",
          "text": [
            "INFO:tensorflow:Done calling model_fn.\n",
            "INFO:tensorflow:Graph was finalized.\n",
            "INFO:tensorflow:Restoring parameters from /tmp/tmpl0om8uwd/model.ckpt-760\n",
            "INFO:tensorflow:Running local_init_op.\n",
            "INFO:tensorflow:Done running local_init_op.\n"
          ],
          "name": "stdout"
        },
        {
          "output_type": "execute_result",
          "data": {
            "text/plain": [
              "<matplotlib.axes._subplots.AxesSubplot at 0x7f50a85b13d0>"
            ]
          },
          "metadata": {
            "tags": []
          },
          "execution_count": 67
        },
        {
          "output_type": "display_data",
          "data": {
            "image/png": "[encoded data removed]",
            "text/plain": [
              "<Figure size 432x288 with 1 Axes>"
            ]
          },
          "metadata": {
            "tags": []
          }
        }
      ]
    },
    {
      "cell_type": "code",
      "metadata": {
        "colab": {
          "base_uri": "https://localhost:8080/"
        },
        "id": "Hm9kqfw2ioPb",
        "outputId": "ffa17829-9bc6-480f-b677-93e9a739125b"
      },
      "source": [
        "res = pd.Series([pred['class_ids'][0] for pred in pred_dicts])\n",
        "res"
      ],
      "execution_count": 68,
      "outputs": [
        {
          "output_type": "execute_result",
          "data": {
            "text/plain": [
              "0      0\n",
              "1      0\n",
              "2      0\n",
              "3      0\n",
              "4      0\n",
              "      ..\n",
              "114    0\n",
              "115    0\n",
              "116    0\n",
              "117    0\n",
              "118    0\n",
              "Length: 119, dtype: int64"
            ]
          },
          "metadata": {
            "tags": []
          },
          "execution_count": 68
        }
      ]
    },
    {
      "cell_type": "code",
      "metadata": {
        "colab": {
          "base_uri": "https://localhost:8080/",
          "height": 0
        },
        "id": "agmixYUAiqZE",
        "outputId": "5fe8e496-577a-4ba0-e32e-1545b86234db"
      },
      "source": [
        "conf_matrix = tf.math.confusion_matrix(yftest, res).numpy()\n",
        "\n",
        "df_cm = pd.DataFrame(conf_matrix, range(2), range(2))\n",
        "# plt.figure(figsize=(10,7))\n",
        "sns.set(font_scale=1.4) # for label size\n",
        "sns.heatmap(df_cm, annot=True, fmt=\"d\") # font size\n",
        "plt.xlabel(\"Predicted Label\") \n",
        "plt.ylabel(\"True Label\") \n",
        "\n",
        "plt.show()"
      ],
      "execution_count": 69,
      "outputs": [
        {
          "output_type": "display_data",
          "data": {
            "image/png": "[encoded data removed]",
            "text/plain": [
              "<Figure size 432x288 with 2 Axes>"
            ]
          },
          "metadata": {
            "tags": []
          }
        }
      ]
    },
    {
      "cell_type": "code",
      "metadata": {
        "colab": {
          "base_uri": "https://localhost:8080/"
        },
        "id": "JDXi9ennisZc",
        "outputId": "44598ec2-01d7-404a-b736-d1bffed317a2"
      },
      "source": [
        "f1_score_tf = 2 * (result[\"precision\"] * result[\"recall\"]) / (result[\"precision\"] + result[\"recall\"])\n",
        "\n",
        "print(\"The Recall Score for our model is {}\".format(result[\"recall\"]))\n",
        "print(\"The Precision Score for our model is {}\".format(result[\"precision\"]))\n",
        "\n",
        "print(\"The F1 Score for our model is {}\".format(f1_score_tf))"
      ],
      "execution_count": 70,
      "outputs": [
        {
          "output_type": "stream",
          "text": [
            "The Recall Score for our model is 0.875\n",
            "The Precision Score for our model is 0.5600000023841858\n",
            "The F1 Score for our model is 0.6829268697915507\n"
          ],
          "name": "stdout"
        }
      ]
    }
  ]
}