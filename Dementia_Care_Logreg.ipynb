{
  "nbformat": 4,
  "nbformat_minor": 0,
  "metadata": {
    "colab": {
      "name": "Dementia_Care_Logreg.ipynb",
      "provenance": [],
      "authorship_tag": "ABX9TyNrMpe6sNGBqJ06RuVgiAny",
      "include_colab_link": true
    },
    "kernelspec": {
      "name": "python3",
      "display_name": "Python 3"
    },
    "language_info": {
      "name": "python"
    }
  },
  "cells": [
    {
      "cell_type": "markdown",
      "metadata": {
        "id": "view-in-github",
        "colab_type": "text"
      },
      "source": [
        "<a href=\"https://colab.research.google.com/github/B21-CAP0075/Dementia-Classification/blob/development/Dementia_Care_Logreg.ipynb\" target=\"_parent\"><img src=\"https://colab.research.google.com/assets/colab-badge.svg\" alt=\"Open In Colab\"/></a>"
      ]
    },
    {
      "cell_type": "code",
      "metadata": {
        "id": "MqsBbVydN_Rd"
      },
      "source": [
        "import zipfile\n",
        "import pandas as pd\n",
        "import numpy as np\n",
        "import seaborn as sns\n",
        "import matplotlib.pyplot as plt\n",
        "\n",
        "from google.colab import drive\n",
        "from sklearn.preprocessing import MinMaxScaler\n",
        "from sklearn.preprocessing import StandardScaler \n",
        "from sklearn.model_selection import train_test_split\n",
        "from sklearn.experimental import enable_iterative_imputer\n",
        "from sklearn.impute import IterativeImputer\n",
        "from sklearn.linear_model import LogisticRegression\n",
        "from sklearn import preprocessing\n",
        "from sklearn.metrics import f1_score\n",
        "from sklearn.metrics import plot_confusion_matrix\n",
        "\n",
        "import tensorflow as tf\n",
        "from keras.models import load_model\n",
        "from keras.callbacks import EarlyStopping\n",
        "from keras.callbacks import ModelCheckpoint"
      ],
      "execution_count": null,
      "outputs": []
    },
    {
      "cell_type": "code",
      "metadata": {
        "colab": {
          "base_uri": "https://localhost:8080/"
        },
        "id": "qxa63xKAYp16",
        "outputId": "951b0ffb-dae8-4758-cda6-2ab58cc02e50"
      },
      "source": [
        "drive.mount('/content/drive')"
      ],
      "execution_count": null,
      "outputs": [
        {
          "output_type": "stream",
          "text": [
            "Drive already mounted at /content/drive; to attempt to forcibly remount, call drive.mount(\"/content/drive\", force_remount=True).\n"
          ],
          "name": "stdout"
        }
      ]
    },
    {
      "cell_type": "code",
      "metadata": {
        "colab": {
          "base_uri": "https://localhost:8080/"
        },
        "id": "DnP9LbYsY1Ej",
        "outputId": "37d0f1d5-3c0d-4e8b-e9d5-b216143a085d"
      },
      "source": [
        "! pip install --upgrade --force-reinstall --no-deps kaggle\n",
        "! mkdir /root/.kaggle/\n",
        "! cp \"/content/drive/My Drive/Machine Learning/kaggle.json\" /root/.kaggle/\n",
        "! chmod 600 /root/.kaggle/kaggle.json"
      ],
      "execution_count": null,
      "outputs": [
        {
          "output_type": "stream",
          "text": [
            "Processing /root/.cache/pip/wheels/a1/6a/26/d30b7499ff85a4a4593377a87ecf55f7d08af42f0de9b60303/kaggle-1.5.12-cp37-none-any.whl\n",
            "Installing collected packages: kaggle\n",
            "  Found existing installation: kaggle 1.5.12\n",
            "    Uninstalling kaggle-1.5.12:\n",
            "      Successfully uninstalled kaggle-1.5.12\n",
            "Successfully installed kaggle-1.5.12\n",
            "mkdir: cannot create directory ‘/root/.kaggle/’: File exists\n"
          ],
          "name": "stdout"
        }
      ]
    },
    {
      "cell_type": "code",
      "metadata": {
        "colab": {
          "base_uri": "https://localhost:8080/"
        },
        "id": "_zMycMUEZBSy",
        "outputId": "b8fd3cb7-d14a-47af-c35a-5d944ad13430"
      },
      "source": [
        "! kaggle datasets download -d jboysen/mri-and-alzheimers"
      ],
      "execution_count": null,
      "outputs": [
        {
          "output_type": "stream",
          "text": [
            "mri-and-alzheimers.zip: Skipping, found more recently modified local copy (use --force to force download)\n"
          ],
          "name": "stdout"
        }
      ]
    },
    {
      "cell_type": "code",
      "metadata": {
        "id": "FhadEo59ZIEK"
      },
      "source": [
        "zip_ref = zipfile.ZipFile('mri-and-alzheimers.zip', 'r')\n",
        "zip_ref.extractall()\n",
        "zip_ref.close()"
      ],
      "execution_count": null,
      "outputs": []
    },
    {
      "cell_type": "markdown",
      "metadata": {
        "id": "fWiMY9E5Zsei"
      },
      "source": [
        "### Cross Sectional Data"
      ]
    },
    {
      "cell_type": "code",
      "metadata": {
        "colab": {
          "base_uri": "https://localhost:8080/",
          "height": 195
        },
        "id": "tMR0oZz0ZKbJ",
        "outputId": "868e1b6f-f4d3-42a6-cae9-eab73927d557"
      },
      "source": [
        "df_cross = pd.read_csv('oasis_cross-sectional.csv')\n",
        "df_cross = df_cross.drop(columns=['ID']) #remove unused column\n",
        "df_cross = df_cross.drop_duplicates() #remove duplicate\n",
        "df_cross.head()"
      ],
      "execution_count": null,
      "outputs": [
        {
          "output_type": "execute_result",
          "data": {
            "text/html": [
              "<div>\n",
              "<style scoped>\n",
              "    .dataframe tbody tr th:only-of-type {\n",
              "        vertical-align: middle;\n",
              "    }\n",
              "\n",
              "    .dataframe tbody tr th {\n",
              "        vertical-align: top;\n",
              "    }\n",
              "\n",
              "    .dataframe thead th {\n",
              "        text-align: right;\n",
              "    }\n",
              "</style>\n",
              "<table border=\"1\" class=\"dataframe\">\n",
              "  <thead>\n",
              "    <tr style=\"text-align: right;\">\n",
              "      <th></th>\n",
              "      <th>M/F</th>\n",
              "      <th>Hand</th>\n",
              "      <th>Age</th>\n",
              "      <th>Educ</th>\n",
              "      <th>SES</th>\n",
              "      <th>MMSE</th>\n",
              "      <th>CDR</th>\n",
              "      <th>eTIV</th>\n",
              "      <th>nWBV</th>\n",
              "      <th>ASF</th>\n",
              "      <th>Delay</th>\n",
              "    </tr>\n",
              "  </thead>\n",
              "  <tbody>\n",
              "    <tr>\n",
              "      <th>0</th>\n",
              "      <td>F</td>\n",
              "      <td>R</td>\n",
              "      <td>74</td>\n",
              "      <td>2.0</td>\n",
              "      <td>3.0</td>\n",
              "      <td>29.0</td>\n",
              "      <td>0.0</td>\n",
              "      <td>1344</td>\n",
              "      <td>0.743</td>\n",
              "      <td>1.306</td>\n",
              "      <td>NaN</td>\n",
              "    </tr>\n",
              "    <tr>\n",
              "      <th>1</th>\n",
              "      <td>F</td>\n",
              "      <td>R</td>\n",
              "      <td>55</td>\n",
              "      <td>4.0</td>\n",
              "      <td>1.0</td>\n",
              "      <td>29.0</td>\n",
              "      <td>0.0</td>\n",
              "      <td>1147</td>\n",
              "      <td>0.810</td>\n",
              "      <td>1.531</td>\n",
              "      <td>NaN</td>\n",
              "    </tr>\n",
              "    <tr>\n",
              "      <th>2</th>\n",
              "      <td>F</td>\n",
              "      <td>R</td>\n",
              "      <td>73</td>\n",
              "      <td>4.0</td>\n",
              "      <td>3.0</td>\n",
              "      <td>27.0</td>\n",
              "      <td>0.5</td>\n",
              "      <td>1454</td>\n",
              "      <td>0.708</td>\n",
              "      <td>1.207</td>\n",
              "      <td>NaN</td>\n",
              "    </tr>\n",
              "    <tr>\n",
              "      <th>3</th>\n",
              "      <td>M</td>\n",
              "      <td>R</td>\n",
              "      <td>28</td>\n",
              "      <td>NaN</td>\n",
              "      <td>NaN</td>\n",
              "      <td>NaN</td>\n",
              "      <td>NaN</td>\n",
              "      <td>1588</td>\n",
              "      <td>0.803</td>\n",
              "      <td>1.105</td>\n",
              "      <td>NaN</td>\n",
              "    </tr>\n",
              "    <tr>\n",
              "      <th>4</th>\n",
              "      <td>M</td>\n",
              "      <td>R</td>\n",
              "      <td>18</td>\n",
              "      <td>NaN</td>\n",
              "      <td>NaN</td>\n",
              "      <td>NaN</td>\n",
              "      <td>NaN</td>\n",
              "      <td>1737</td>\n",
              "      <td>0.848</td>\n",
              "      <td>1.010</td>\n",
              "      <td>NaN</td>\n",
              "    </tr>\n",
              "  </tbody>\n",
              "</table>\n",
              "</div>"
            ],
            "text/plain": [
              "  M/F Hand  Age  Educ  SES  MMSE  CDR  eTIV   nWBV    ASF  Delay\n",
              "0   F    R   74   2.0  3.0  29.0  0.0  1344  0.743  1.306    NaN\n",
              "1   F    R   55   4.0  1.0  29.0  0.0  1147  0.810  1.531    NaN\n",
              "2   F    R   73   4.0  3.0  27.0  0.5  1454  0.708  1.207    NaN\n",
              "3   M    R   28   NaN  NaN   NaN  NaN  1588  0.803  1.105    NaN\n",
              "4   M    R   18   NaN  NaN   NaN  NaN  1737  0.848  1.010    NaN"
            ]
          },
          "metadata": {
            "tags": []
          },
          "execution_count": 6
        }
      ]
    },
    {
      "cell_type": "code",
      "metadata": {
        "colab": {
          "base_uri": "https://localhost:8080/"
        },
        "id": "PmkzKvs0DVFq",
        "outputId": "05c8adf1-a5a7-49fa-c66a-db421b0e9d73"
      },
      "source": [
        "df_cross = df_cross.drop(columns=['Delay', 'Hand', 'eTIV', 'nWBV', 'ASF']) #removed bcs user don't have this data\n",
        "df_cross = df_cross.drop_duplicates()\n",
        "df_cross.info()"
      ],
      "execution_count": null,
      "outputs": [
        {
          "output_type": "stream",
          "text": [
            "<class 'pandas.core.frame.DataFrame'>\n",
            "Int64Index: 283 entries, 0 to 415\n",
            "Data columns (total 6 columns):\n",
            " #   Column  Non-Null Count  Dtype  \n",
            "---  ------  --------------  -----  \n",
            " 0   M/F     283 non-null    object \n",
            " 1   Age     283 non-null    int64  \n",
            " 2   Educ    231 non-null    float64\n",
            " 3   SES     212 non-null    float64\n",
            " 4   MMSE    231 non-null    float64\n",
            " 5   CDR     231 non-null    float64\n",
            "dtypes: float64(4), int64(1), object(1)\n",
            "memory usage: 15.5+ KB\n"
          ],
          "name": "stdout"
        }
      ]
    },
    {
      "cell_type": "code",
      "metadata": {
        "colab": {
          "base_uri": "https://localhost:8080/"
        },
        "id": "VbZVvsgkauJh",
        "outputId": "a2e9613f-ebb6-4027-e9c6-ee6b89f7c297"
      },
      "source": [
        "for column in df_cross.columns:\n",
        "    if df_cross[column].dtypes == \"object\":\n",
        "        print(\"Column name: {}\".format(column))\n",
        "        print(\"Number of unique entry: {}\".format(len(df_cross[column].unique())))\n",
        "        print(\"Unique entry: {}\".format(df_cross[column].unique()))\n",
        "        print()\n",
        "\n",
        "print(\"Column name: {}\".format(\"Educ\"))\n",
        "print(\"Number of unique entry: {}\".format(len(df_cross[\"Educ\"].unique())))\n",
        "print(\"Unique entry: {}\".format(df_cross[\"Educ\"].unique()))\n",
        "print()\n",
        "\n",
        "print(\"Column name: {}\".format(\"CDR\"))\n",
        "print(\"Number of unique entry: {}\".format(len(df_cross[\"CDR\"].unique())))\n",
        "print(\"Unique entry: {}\".format(df_cross[\"CDR\"].unique()))\n",
        "print()"
      ],
      "execution_count": null,
      "outputs": [
        {
          "output_type": "stream",
          "text": [
            "Column name: M/F\n",
            "Number of unique entry: 2\n",
            "Unique entry: ['F' 'M']\n",
            "\n",
            "Column name: Educ\n",
            "Number of unique entry: 6\n",
            "Unique entry: [ 2.  4. nan  5.  3.  1.]\n",
            "\n",
            "Column name: CDR\n",
            "Number of unique entry: 5\n",
            "Unique entry: [0.  0.5 nan 1.  2. ]\n",
            "\n"
          ],
          "name": "stdout"
        }
      ]
    },
    {
      "cell_type": "code",
      "metadata": {
        "colab": {
          "base_uri": "https://localhost:8080/",
          "height": 284
        },
        "id": "7RaCj8yianVL",
        "outputId": "ca3d16bb-4034-4e34-e12b-2abccaf153f4"
      },
      "source": [
        "df_cross.describe()"
      ],
      "execution_count": null,
      "outputs": [
        {
          "output_type": "execute_result",
          "data": {
            "text/html": [
              "<div>\n",
              "<style scoped>\n",
              "    .dataframe tbody tr th:only-of-type {\n",
              "        vertical-align: middle;\n",
              "    }\n",
              "\n",
              "    .dataframe tbody tr th {\n",
              "        vertical-align: top;\n",
              "    }\n",
              "\n",
              "    .dataframe thead th {\n",
              "        text-align: right;\n",
              "    }\n",
              "</style>\n",
              "<table border=\"1\" class=\"dataframe\">\n",
              "  <thead>\n",
              "    <tr style=\"text-align: right;\">\n",
              "      <th></th>\n",
              "      <th>Age</th>\n",
              "      <th>Educ</th>\n",
              "      <th>SES</th>\n",
              "      <th>MMSE</th>\n",
              "      <th>CDR</th>\n",
              "    </tr>\n",
              "  </thead>\n",
              "  <tbody>\n",
              "    <tr>\n",
              "      <th>count</th>\n",
              "      <td>283.000000</td>\n",
              "      <td>231.000000</td>\n",
              "      <td>212.000000</td>\n",
              "      <td>231.000000</td>\n",
              "      <td>231.000000</td>\n",
              "    </tr>\n",
              "    <tr>\n",
              "      <th>mean</th>\n",
              "      <td>65.318021</td>\n",
              "      <td>3.164502</td>\n",
              "      <td>2.500000</td>\n",
              "      <td>27.021645</td>\n",
              "      <td>0.290043</td>\n",
              "    </tr>\n",
              "    <tr>\n",
              "      <th>std</th>\n",
              "      <td>19.081514</td>\n",
              "      <td>1.308416</td>\n",
              "      <td>1.124901</td>\n",
              "      <td>3.714187</td>\n",
              "      <td>0.384861</td>\n",
              "    </tr>\n",
              "    <tr>\n",
              "      <th>min</th>\n",
              "      <td>18.000000</td>\n",
              "      <td>1.000000</td>\n",
              "      <td>1.000000</td>\n",
              "      <td>14.000000</td>\n",
              "      <td>0.000000</td>\n",
              "    </tr>\n",
              "    <tr>\n",
              "      <th>25%</th>\n",
              "      <td>54.000000</td>\n",
              "      <td>2.000000</td>\n",
              "      <td>2.000000</td>\n",
              "      <td>26.000000</td>\n",
              "      <td>0.000000</td>\n",
              "    </tr>\n",
              "    <tr>\n",
              "      <th>50%</th>\n",
              "      <td>71.000000</td>\n",
              "      <td>3.000000</td>\n",
              "      <td>2.000000</td>\n",
              "      <td>29.000000</td>\n",
              "      <td>0.000000</td>\n",
              "    </tr>\n",
              "    <tr>\n",
              "      <th>75%</th>\n",
              "      <td>80.000000</td>\n",
              "      <td>4.000000</td>\n",
              "      <td>3.000000</td>\n",
              "      <td>30.000000</td>\n",
              "      <td>0.500000</td>\n",
              "    </tr>\n",
              "    <tr>\n",
              "      <th>max</th>\n",
              "      <td>96.000000</td>\n",
              "      <td>5.000000</td>\n",
              "      <td>5.000000</td>\n",
              "      <td>30.000000</td>\n",
              "      <td>2.000000</td>\n",
              "    </tr>\n",
              "  </tbody>\n",
              "</table>\n",
              "</div>"
            ],
            "text/plain": [
              "              Age        Educ         SES        MMSE         CDR\n",
              "count  283.000000  231.000000  212.000000  231.000000  231.000000\n",
              "mean    65.318021    3.164502    2.500000   27.021645    0.290043\n",
              "std     19.081514    1.308416    1.124901    3.714187    0.384861\n",
              "min     18.000000    1.000000    1.000000   14.000000    0.000000\n",
              "25%     54.000000    2.000000    2.000000   26.000000    0.000000\n",
              "50%     71.000000    3.000000    2.000000   29.000000    0.000000\n",
              "75%     80.000000    4.000000    3.000000   30.000000    0.500000\n",
              "max     96.000000    5.000000    5.000000   30.000000    2.000000"
            ]
          },
          "metadata": {
            "tags": []
          },
          "execution_count": 9
        }
      ]
    },
    {
      "cell_type": "code",
      "metadata": {
        "colab": {
          "base_uri": "https://localhost:8080/",
          "height": 296
        },
        "id": "GeJxMbvhbfRL",
        "outputId": "f558762c-41df-4cab-d098-fb975fc73a90"
      },
      "source": [
        "sns.boxplot(x=df_cross['Age'])"
      ],
      "execution_count": null,
      "outputs": [
        {
          "output_type": "execute_result",
          "data": {
            "text/plain": [
              "<matplotlib.axes._subplots.AxesSubplot at 0x7efd79925f50>"
            ]
          },
          "metadata": {
            "tags": []
          },
          "execution_count": 10
        },
        {
          "output_type": "display_data",
          "data": {
            "image/png": "[encoded data removed]",
            "text/plain": [
              "<Figure size 432x288 with 1 Axes>"
            ]
          },
          "metadata": {
            "tags": [],
            "needs_background": "light"
          }
        }
      ]
    },
    {
      "cell_type": "code",
      "metadata": {
        "colab": {
          "base_uri": "https://localhost:8080/",
          "height": 296
        },
        "id": "5iiX5ihDdiIr",
        "outputId": "9cc4da48-7803-4393-d9e5-c975d2ea6a0f"
      },
      "source": [
        "sns.boxplot(x=df_cross['Educ'])"
      ],
      "execution_count": null,
      "outputs": [
        {
          "output_type": "execute_result",
          "data": {
            "text/plain": [
              "<matplotlib.axes._subplots.AxesSubplot at 0x7efd448e2bd0>"
            ]
          },
          "metadata": {
            "tags": []
          },
          "execution_count": 11
        },
        {
          "output_type": "display_data",
          "data": {
            "image/png": "[encoded data removed]",
            "text/plain": [
              "<Figure size 432x288 with 1 Axes>"
            ]
          },
          "metadata": {
            "tags": [],
            "needs_background": "light"
          }
        }
      ]
    },
    {
      "cell_type": "code",
      "metadata": {
        "colab": {
          "base_uri": "https://localhost:8080/",
          "height": 296
        },
        "id": "QfiaW49Hdo25",
        "outputId": "7d613881-436f-4147-eb54-709ed0394d69"
      },
      "source": [
        "sns.boxplot(x=df_cross['SES'])"
      ],
      "execution_count": null,
      "outputs": [
        {
          "output_type": "execute_result",
          "data": {
            "text/plain": [
              "<matplotlib.axes._subplots.AxesSubplot at 0x7efd44412f50>"
            ]
          },
          "metadata": {
            "tags": []
          },
          "execution_count": 12
        },
        {
          "output_type": "display_data",
          "data": {
            "image/png": "[encoded data removed]",
            "text/plain": [
              "<Figure size 432x288 with 1 Axes>"
            ]
          },
          "metadata": {
            "tags": [],
            "needs_background": "light"
          }
        }
      ]
    },
    {
      "cell_type": "code",
      "metadata": {
        "colab": {
          "base_uri": "https://localhost:8080/",
          "height": 296
        },
        "id": "nlJ3R8Z0dz0L",
        "outputId": "209a41de-508c-4b3c-a8c7-8b3423fa88b8"
      },
      "source": [
        "sns.boxplot(x=df_cross['MMSE'])"
      ],
      "execution_count": null,
      "outputs": [
        {
          "output_type": "execute_result",
          "data": {
            "text/plain": [
              "<matplotlib.axes._subplots.AxesSubplot at 0x7efd44388a50>"
            ]
          },
          "metadata": {
            "tags": []
          },
          "execution_count": 13
        },
        {
          "output_type": "display_data",
          "data": {
            "image/png": "[encoded data removed]",
            "text/plain": [
              "<Figure size 432x288 with 1 Axes>"
            ]
          },
          "metadata": {
            "tags": [],
            "needs_background": "light"
          }
        }
      ]
    },
    {
      "cell_type": "code",
      "metadata": {
        "colab": {
          "base_uri": "https://localhost:8080/"
        },
        "id": "v3Y3beTIg7-W",
        "outputId": "8f7cc984-d33f-4358-ee5d-bbc4e0fa79e5"
      },
      "source": [
        "df_cross[\"CDR\"].value_counts()"
      ],
      "execution_count": null,
      "outputs": [
        {
          "output_type": "execute_result",
          "data": {
            "text/plain": [
              "0.0    131\n",
              "0.5     70\n",
              "1.0     28\n",
              "2.0      2\n",
              "Name: CDR, dtype: int64"
            ]
          },
          "metadata": {
            "tags": []
          },
          "execution_count": 14
        }
      ]
    },
    {
      "cell_type": "markdown",
      "metadata": {
        "id": "8eN0kjj4Z4lU"
      },
      "source": [
        "## Longitudinal Data\n"
      ]
    },
    {
      "cell_type": "code",
      "metadata": {
        "colab": {
          "base_uri": "https://localhost:8080/",
          "height": 195
        },
        "id": "0XeskLkxZTCy",
        "outputId": "c9968a7b-8b02-4b47-abab-0a72fcb1eca2"
      },
      "source": [
        "df_long = pd.read_csv('oasis_longitudinal.csv')\n",
        "df_long = df_long.drop(columns=['Subject ID', 'MRI ID']) #remove unused column\n",
        "df_long.head()"
      ],
      "execution_count": null,
      "outputs": [
        {
          "output_type": "execute_result",
          "data": {
            "text/html": [
              "<div>\n",
              "<style scoped>\n",
              "    .dataframe tbody tr th:only-of-type {\n",
              "        vertical-align: middle;\n",
              "    }\n",
              "\n",
              "    .dataframe tbody tr th {\n",
              "        vertical-align: top;\n",
              "    }\n",
              "\n",
              "    .dataframe thead th {\n",
              "        text-align: right;\n",
              "    }\n",
              "</style>\n",
              "<table border=\"1\" class=\"dataframe\">\n",
              "  <thead>\n",
              "    <tr style=\"text-align: right;\">\n",
              "      <th></th>\n",
              "      <th>Group</th>\n",
              "      <th>Visit</th>\n",
              "      <th>MR Delay</th>\n",
              "      <th>M/F</th>\n",
              "      <th>Hand</th>\n",
              "      <th>Age</th>\n",
              "      <th>EDUC</th>\n",
              "      <th>SES</th>\n",
              "      <th>MMSE</th>\n",
              "      <th>CDR</th>\n",
              "      <th>eTIV</th>\n",
              "      <th>nWBV</th>\n",
              "      <th>ASF</th>\n",
              "    </tr>\n",
              "  </thead>\n",
              "  <tbody>\n",
              "    <tr>\n",
              "      <th>0</th>\n",
              "      <td>Nondemented</td>\n",
              "      <td>1</td>\n",
              "      <td>0</td>\n",
              "      <td>M</td>\n",
              "      <td>R</td>\n",
              "      <td>87</td>\n",
              "      <td>14</td>\n",
              "      <td>2.0</td>\n",
              "      <td>27.0</td>\n",
              "      <td>0.0</td>\n",
              "      <td>1987</td>\n",
              "      <td>0.696</td>\n",
              "      <td>0.883</td>\n",
              "    </tr>\n",
              "    <tr>\n",
              "      <th>1</th>\n",
              "      <td>Nondemented</td>\n",
              "      <td>2</td>\n",
              "      <td>457</td>\n",
              "      <td>M</td>\n",
              "      <td>R</td>\n",
              "      <td>88</td>\n",
              "      <td>14</td>\n",
              "      <td>2.0</td>\n",
              "      <td>30.0</td>\n",
              "      <td>0.0</td>\n",
              "      <td>2004</td>\n",
              "      <td>0.681</td>\n",
              "      <td>0.876</td>\n",
              "    </tr>\n",
              "    <tr>\n",
              "      <th>2</th>\n",
              "      <td>Demented</td>\n",
              "      <td>1</td>\n",
              "      <td>0</td>\n",
              "      <td>M</td>\n",
              "      <td>R</td>\n",
              "      <td>75</td>\n",
              "      <td>12</td>\n",
              "      <td>NaN</td>\n",
              "      <td>23.0</td>\n",
              "      <td>0.5</td>\n",
              "      <td>1678</td>\n",
              "      <td>0.736</td>\n",
              "      <td>1.046</td>\n",
              "    </tr>\n",
              "    <tr>\n",
              "      <th>3</th>\n",
              "      <td>Demented</td>\n",
              "      <td>2</td>\n",
              "      <td>560</td>\n",
              "      <td>M</td>\n",
              "      <td>R</td>\n",
              "      <td>76</td>\n",
              "      <td>12</td>\n",
              "      <td>NaN</td>\n",
              "      <td>28.0</td>\n",
              "      <td>0.5</td>\n",
              "      <td>1738</td>\n",
              "      <td>0.713</td>\n",
              "      <td>1.010</td>\n",
              "    </tr>\n",
              "    <tr>\n",
              "      <th>4</th>\n",
              "      <td>Demented</td>\n",
              "      <td>3</td>\n",
              "      <td>1895</td>\n",
              "      <td>M</td>\n",
              "      <td>R</td>\n",
              "      <td>80</td>\n",
              "      <td>12</td>\n",
              "      <td>NaN</td>\n",
              "      <td>22.0</td>\n",
              "      <td>0.5</td>\n",
              "      <td>1698</td>\n",
              "      <td>0.701</td>\n",
              "      <td>1.034</td>\n",
              "    </tr>\n",
              "  </tbody>\n",
              "</table>\n",
              "</div>"
            ],
            "text/plain": [
              "         Group  Visit  MR Delay M/F Hand  ...  MMSE  CDR  eTIV   nWBV    ASF\n",
              "0  Nondemented      1         0   M    R  ...  27.0  0.0  1987  0.696  0.883\n",
              "1  Nondemented      2       457   M    R  ...  30.0  0.0  2004  0.681  0.876\n",
              "2     Demented      1         0   M    R  ...  23.0  0.5  1678  0.736  1.046\n",
              "3     Demented      2       560   M    R  ...  28.0  0.5  1738  0.713  1.010\n",
              "4     Demented      3      1895   M    R  ...  22.0  0.5  1698  0.701  1.034\n",
              "\n",
              "[5 rows x 13 columns]"
            ]
          },
          "metadata": {
            "tags": []
          },
          "execution_count": 15
        }
      ]
    },
    {
      "cell_type": "code",
      "metadata": {
        "colab": {
          "base_uri": "https://localhost:8080/"
        },
        "id": "6fI96HKJDvD7",
        "outputId": "954d64f1-5b06-41c6-de5a-10feda6cffa7"
      },
      "source": [
        "df_long = df_long.drop(columns=['Visit', 'MR Delay', 'Hand', 'eTIV', 'nWBV', 'ASF', 'Group']) #removed bcs user don't have this data\n",
        "df_long = df_long.drop_duplicates() #remove duplicate\n",
        "df_long.info()"
      ],
      "execution_count": null,
      "outputs": [
        {
          "output_type": "stream",
          "text": [
            "<class 'pandas.core.frame.DataFrame'>\n",
            "Int64Index: 364 entries, 0 to 372\n",
            "Data columns (total 6 columns):\n",
            " #   Column  Non-Null Count  Dtype  \n",
            "---  ------  --------------  -----  \n",
            " 0   M/F     364 non-null    object \n",
            " 1   Age     364 non-null    int64  \n",
            " 2   EDUC    364 non-null    int64  \n",
            " 3   SES     345 non-null    float64\n",
            " 4   MMSE    362 non-null    float64\n",
            " 5   CDR     364 non-null    float64\n",
            "dtypes: float64(3), int64(2), object(1)\n",
            "memory usage: 19.9+ KB\n"
          ],
          "name": "stdout"
        }
      ]
    },
    {
      "cell_type": "code",
      "metadata": {
        "colab": {
          "base_uri": "https://localhost:8080/"
        },
        "id": "FvzhYgk9fPTu",
        "outputId": "ffa4a26b-cc16-4d93-e574-c43c81c3566f"
      },
      "source": [
        "for column in df_long.columns:\n",
        "    if df_long[column].dtypes == \"object\":\n",
        "        print(\"Column name: {}\".format(column))\n",
        "        print(\"Number of unique entry: {}\".format(len(df_long[column].unique())))\n",
        "        print(\"Unique entry: {}\".format(df_long[column].unique()))\n",
        "        print()\n",
        "\n",
        "print(\"Column name: {}\".format(\"Educ\"))\n",
        "print(\"Number of unique entry: {}\".format(len(df_long[\"EDUC\"].unique())))\n",
        "print(\"Unique entry: {}\".format(df_long[\"EDUC\"].unique()))\n",
        "print()\n",
        "\n",
        "print(\"Column name: {}\".format(\"CDR\"))\n",
        "print(\"Number of unique entry: {}\".format(len(df_long[\"CDR\"].unique())))\n",
        "print(\"Unique entry: {}\".format(df_long[\"CDR\"].unique()))\n",
        "print()"
      ],
      "execution_count": null,
      "outputs": [
        {
          "output_type": "stream",
          "text": [
            "Column name: M/F\n",
            "Number of unique entry: 2\n",
            "Unique entry: ['M' 'F']\n",
            "\n",
            "Column name: Educ\n",
            "Number of unique entry: 12\n",
            "Unique entry: [14 12 18 16  8 20 13  6 17 15 23 11]\n",
            "\n",
            "Column name: CDR\n",
            "Number of unique entry: 4\n",
            "Unique entry: [0.  0.5 1.  2. ]\n",
            "\n"
          ],
          "name": "stdout"
        }
      ]
    },
    {
      "cell_type": "code",
      "metadata": {
        "colab": {
          "base_uri": "https://localhost:8080/",
          "height": 284
        },
        "id": "y839jzd-ivf8",
        "outputId": "a1c4d154-66f1-41a4-a642-2e523dbb7ad7"
      },
      "source": [
        "df_long.describe()"
      ],
      "execution_count": null,
      "outputs": [
        {
          "output_type": "execute_result",
          "data": {
            "text/html": [
              "<div>\n",
              "<style scoped>\n",
              "    .dataframe tbody tr th:only-of-type {\n",
              "        vertical-align: middle;\n",
              "    }\n",
              "\n",
              "    .dataframe tbody tr th {\n",
              "        vertical-align: top;\n",
              "    }\n",
              "\n",
              "    .dataframe thead th {\n",
              "        text-align: right;\n",
              "    }\n",
              "</style>\n",
              "<table border=\"1\" class=\"dataframe\">\n",
              "  <thead>\n",
              "    <tr style=\"text-align: right;\">\n",
              "      <th></th>\n",
              "      <th>Age</th>\n",
              "      <th>EDUC</th>\n",
              "      <th>SES</th>\n",
              "      <th>MMSE</th>\n",
              "      <th>CDR</th>\n",
              "    </tr>\n",
              "  </thead>\n",
              "  <tbody>\n",
              "    <tr>\n",
              "      <th>count</th>\n",
              "      <td>364.000000</td>\n",
              "      <td>364.000000</td>\n",
              "      <td>345.000000</td>\n",
              "      <td>362.000000</td>\n",
              "      <td>364.000000</td>\n",
              "    </tr>\n",
              "    <tr>\n",
              "      <th>mean</th>\n",
              "      <td>77.013736</td>\n",
              "      <td>14.560440</td>\n",
              "      <td>2.478261</td>\n",
              "      <td>27.287293</td>\n",
              "      <td>0.296703</td>\n",
              "    </tr>\n",
              "    <tr>\n",
              "      <th>std</th>\n",
              "      <td>7.609428</td>\n",
              "      <td>2.878471</td>\n",
              "      <td>1.138756</td>\n",
              "      <td>3.711225</td>\n",
              "      <td>0.376500</td>\n",
              "    </tr>\n",
              "    <tr>\n",
              "      <th>min</th>\n",
              "      <td>60.000000</td>\n",
              "      <td>6.000000</td>\n",
              "      <td>1.000000</td>\n",
              "      <td>4.000000</td>\n",
              "      <td>0.000000</td>\n",
              "    </tr>\n",
              "    <tr>\n",
              "      <th>25%</th>\n",
              "      <td>71.750000</td>\n",
              "      <td>12.000000</td>\n",
              "      <td>2.000000</td>\n",
              "      <td>27.000000</td>\n",
              "      <td>0.000000</td>\n",
              "    </tr>\n",
              "    <tr>\n",
              "      <th>50%</th>\n",
              "      <td>77.000000</td>\n",
              "      <td>14.000000</td>\n",
              "      <td>2.000000</td>\n",
              "      <td>29.000000</td>\n",
              "      <td>0.000000</td>\n",
              "    </tr>\n",
              "    <tr>\n",
              "      <th>75%</th>\n",
              "      <td>82.000000</td>\n",
              "      <td>16.000000</td>\n",
              "      <td>3.000000</td>\n",
              "      <td>30.000000</td>\n",
              "      <td>0.500000</td>\n",
              "    </tr>\n",
              "    <tr>\n",
              "      <th>max</th>\n",
              "      <td>98.000000</td>\n",
              "      <td>23.000000</td>\n",
              "      <td>5.000000</td>\n",
              "      <td>30.000000</td>\n",
              "      <td>2.000000</td>\n",
              "    </tr>\n",
              "  </tbody>\n",
              "</table>\n",
              "</div>"
            ],
            "text/plain": [
              "              Age        EDUC         SES        MMSE         CDR\n",
              "count  364.000000  364.000000  345.000000  362.000000  364.000000\n",
              "mean    77.013736   14.560440    2.478261   27.287293    0.296703\n",
              "std      7.609428    2.878471    1.138756    3.711225    0.376500\n",
              "min     60.000000    6.000000    1.000000    4.000000    0.000000\n",
              "25%     71.750000   12.000000    2.000000   27.000000    0.000000\n",
              "50%     77.000000   14.000000    2.000000   29.000000    0.000000\n",
              "75%     82.000000   16.000000    3.000000   30.000000    0.500000\n",
              "max     98.000000   23.000000    5.000000   30.000000    2.000000"
            ]
          },
          "metadata": {
            "tags": []
          },
          "execution_count": 18
        }
      ]
    },
    {
      "cell_type": "code",
      "metadata": {
        "colab": {
          "base_uri": "https://localhost:8080/",
          "height": 296
        },
        "id": "cADFSryJi2hz",
        "outputId": "cd9f0600-c141-4018-9947-30adfbab559d"
      },
      "source": [
        "sns.boxplot(x=df_long['Age'])"
      ],
      "execution_count": null,
      "outputs": [
        {
          "output_type": "execute_result",
          "data": {
            "text/plain": [
              "<matplotlib.axes._subplots.AxesSubplot at 0x7efd443cac50>"
            ]
          },
          "metadata": {
            "tags": []
          },
          "execution_count": 19
        },
        {
          "output_type": "display_data",
          "data": {
            "image/png": "[encoded data removed]",
            "text/plain": [
              "<Figure size 432x288 with 1 Axes>"
            ]
          },
          "metadata": {
            "tags": [],
            "needs_background": "light"
          }
        }
      ]
    },
    {
      "cell_type": "code",
      "metadata": {
        "colab": {
          "base_uri": "https://localhost:8080/",
          "height": 296
        },
        "id": "F5o_qGUljTO0",
        "outputId": "712f5571-43a2-4e6f-e963-2b562ecb60ab"
      },
      "source": [
        "sns.boxplot(x=df_long['EDUC'])"
      ],
      "execution_count": null,
      "outputs": [
        {
          "output_type": "execute_result",
          "data": {
            "text/plain": [
              "<matplotlib.axes._subplots.AxesSubplot at 0x7efd44289f10>"
            ]
          },
          "metadata": {
            "tags": []
          },
          "execution_count": 20
        },
        {
          "output_type": "display_data",
          "data": {
            "image/png": "[encoded data removed]",
            "text/plain": [
              "<Figure size 432x288 with 1 Axes>"
            ]
          },
          "metadata": {
            "tags": [],
            "needs_background": "light"
          }
        }
      ]
    },
    {
      "cell_type": "code",
      "metadata": {
        "colab": {
          "base_uri": "https://localhost:8080/",
          "height": 296
        },
        "id": "5NJQ55i9jZAq",
        "outputId": "6f9b19d1-ad10-4b6e-d085-eed23c3c0e15"
      },
      "source": [
        "sns.boxplot(x=df_long['SES'])"
      ],
      "execution_count": null,
      "outputs": [
        {
          "output_type": "execute_result",
          "data": {
            "text/plain": [
              "<matplotlib.axes._subplots.AxesSubplot at 0x7efd44239e90>"
            ]
          },
          "metadata": {
            "tags": []
          },
          "execution_count": 21
        },
        {
          "output_type": "display_data",
          "data": {
            "image/png": "[encoded data removed]",
            "text/plain": [
              "<Figure size 432x288 with 1 Axes>"
            ]
          },
          "metadata": {
            "tags": [],
            "needs_background": "light"
          }
        }
      ]
    },
    {
      "cell_type": "code",
      "metadata": {
        "colab": {
          "base_uri": "https://localhost:8080/",
          "height": 296
        },
        "id": "tOXoz3eWjcbW",
        "outputId": "b7e76c3c-645d-431b-c1c8-065c35dfe7f8"
      },
      "source": [
        "sns.boxplot(x=df_long['MMSE'])"
      ],
      "execution_count": null,
      "outputs": [
        {
          "output_type": "execute_result",
          "data": {
            "text/plain": [
              "<matplotlib.axes._subplots.AxesSubplot at 0x7efd441e0e50>"
            ]
          },
          "metadata": {
            "tags": []
          },
          "execution_count": 22
        },
        {
          "output_type": "display_data",
          "data": {
            "image/png": "[encoded data removed]",
            "text/plain": [
              "<Figure size 432x288 with 1 Axes>"
            ]
          },
          "metadata": {
            "tags": [],
            "needs_background": "light"
          }
        }
      ]
    },
    {
      "cell_type": "code",
      "metadata": {
        "colab": {
          "base_uri": "https://localhost:8080/"
        },
        "id": "OsTKJINmjkJ6",
        "outputId": "1db070a4-bd1a-4446-bcf8-33d9a7f85ceb"
      },
      "source": [
        "df_long[\"CDR\"].value_counts()"
      ],
      "execution_count": null,
      "outputs": [
        {
          "output_type": "execute_result",
          "data": {
            "text/plain": [
              "0.0    198\n",
              "0.5    122\n",
              "1.0     41\n",
              "2.0      3\n",
              "Name: CDR, dtype: int64"
            ]
          },
          "metadata": {
            "tags": []
          },
          "execution_count": 23
        }
      ]
    },
    {
      "cell_type": "markdown",
      "metadata": {
        "id": "OGxg9kjdHTJc"
      },
      "source": [
        "## Data Preprocessing\n"
      ]
    },
    {
      "cell_type": "code",
      "metadata": {
        "colab": {
          "base_uri": "https://localhost:8080/"
        },
        "id": "aeI-RoVQHV2i",
        "outputId": "f749a1fd-a914-43ae-88fa-8b0960870c61"
      },
      "source": [
        "# Converting Longituninal Educ data into Cross-Sectional Educ Data\n",
        "df_long.loc[df_long.EDUC <= 6, 'EDUC'] =  1\n",
        "df_long.loc[(df_long.EDUC <= 9) & (df_long.EDUC > 6), 'EDUC'] =  2\n",
        "df_long.loc[(df_long.EDUC <= 12) & (df_long.EDUC > 9), 'EDUC'] =  3\n",
        "df_long.loc[(df_long.EDUC <= 16) & (df_long.EDUC > 12), 'EDUC'] =  4\n",
        "df_long.loc[df_long.EDUC > 16, 'EDUC'] =  5\n",
        "df_long = df_long.rename(columns = {'EDUC': \"Educ\"})\n",
        "\n",
        "print(\"Unique entry of Educ: {}\".format(df_long[\"Educ\"].unique()))"
      ],
      "execution_count": null,
      "outputs": [
        {
          "output_type": "stream",
          "text": [
            "Unique entry of Educ: [4 3 5 2 1]\n"
          ],
          "name": "stdout"
        }
      ]
    },
    {
      "cell_type": "code",
      "metadata": {
        "colab": {
          "base_uri": "https://localhost:8080/"
        },
        "id": "Nn2icZ2-hyEY",
        "outputId": "94c63916-73aa-4317-8a10-c40add7eeac3"
      },
      "source": [
        "df_dementia = pd.concat([df_long, df_cross])\n",
        "\n",
        "df_dementia.info()"
      ],
      "execution_count": null,
      "outputs": [
        {
          "output_type": "stream",
          "text": [
            "<class 'pandas.core.frame.DataFrame'>\n",
            "Int64Index: 647 entries, 0 to 415\n",
            "Data columns (total 6 columns):\n",
            " #   Column  Non-Null Count  Dtype  \n",
            "---  ------  --------------  -----  \n",
            " 0   M/F     647 non-null    object \n",
            " 1   Age     647 non-null    int64  \n",
            " 2   Educ    595 non-null    float64\n",
            " 3   SES     557 non-null    float64\n",
            " 4   MMSE    593 non-null    float64\n",
            " 5   CDR     595 non-null    float64\n",
            "dtypes: float64(4), int64(1), object(1)\n",
            "memory usage: 35.4+ KB\n"
          ],
          "name": "stdout"
        }
      ]
    },
    {
      "cell_type": "code",
      "metadata": {
        "colab": {
          "base_uri": "https://localhost:8080/"
        },
        "id": "RvFVYwuB168p",
        "outputId": "e1da726b-1886-4927-c946-91a2cbcebaef"
      },
      "source": [
        "# Change Gender into numerical value\n",
        "\n",
        "df_dementia[\"M/F\"] = df_dementia[\"M/F\"].apply(lambda x: 1 if x==\"M\" else 0)\n",
        "\n",
        "print(\"Unique entry: {}\".format(df_dementia[\"M/F\"].unique()))"
      ],
      "execution_count": null,
      "outputs": [
        {
          "output_type": "stream",
          "text": [
            "Unique entry: [1 0]\n"
          ],
          "name": "stdout"
        }
      ]
    },
    {
      "cell_type": "code",
      "metadata": {
        "colab": {
          "base_uri": "https://localhost:8080/"
        },
        "id": "F490CfO7h4dl",
        "outputId": "4beadbf0-2a6b-4412-c9b0-de0bade5944b"
      },
      "source": [
        "#Replace acute dementia with normal dementia\n",
        "\n",
        "df_dementia['CDR'] = df_dementia['CDR'].replace([0.5,2],[0,1]) \n",
        "df_dementia[\"CDR\"].value_counts()"
      ],
      "execution_count": null,
      "outputs": [
        {
          "output_type": "execute_result",
          "data": {
            "text/plain": [
              "0.0    521\n",
              "1.0     74\n",
              "Name: CDR, dtype: int64"
            ]
          },
          "metadata": {
            "tags": []
          },
          "execution_count": 27
        }
      ]
    },
    {
      "cell_type": "code",
      "metadata": {
        "colab": {
          "base_uri": "https://localhost:8080/"
        },
        "id": "W9pFzqqXlsGD",
        "outputId": "e8cb8913-7db5-4d84-f3eb-508b0f2e0636"
      },
      "source": [
        "# Handling Missing Values with MICE Algorithm\n",
        "missing_data= df_dementia[['Age', 'Educ', 'SES', 'MMSE']]\n",
        "\n",
        "imp = IterativeImputer(max_iter=10, random_state=0)\n",
        "imp.fit(missing_data)\n",
        "\n",
        "df_dementia[['Age', 'Educ', 'SES', 'MMSE']] = np.round(imp.transform(df_dementia[['Age', 'Educ', 'SES', 'MMSE']]))\n",
        "df_dementia.info()"
      ],
      "execution_count": null,
      "outputs": [
        {
          "output_type": "stream",
          "text": [
            "<class 'pandas.core.frame.DataFrame'>\n",
            "Int64Index: 647 entries, 0 to 415\n",
            "Data columns (total 6 columns):\n",
            " #   Column  Non-Null Count  Dtype  \n",
            "---  ------  --------------  -----  \n",
            " 0   M/F     647 non-null    int64  \n",
            " 1   Age     647 non-null    float64\n",
            " 2   Educ    647 non-null    float64\n",
            " 3   SES     647 non-null    float64\n",
            " 4   MMSE    647 non-null    float64\n",
            " 5   CDR     595 non-null    float64\n",
            "dtypes: float64(5), int64(1)\n",
            "memory usage: 35.4 KB\n"
          ],
          "name": "stdout"
        }
      ]
    },
    {
      "cell_type": "code",
      "metadata": {
        "colab": {
          "base_uri": "https://localhost:8080/"
        },
        "id": "Jptv4R6s07Af",
        "outputId": "d98d73cf-7bbf-48c2-cd6f-f7057528dfaa"
      },
      "source": [
        "# Removing Missing value on Output Column\n",
        "df_dementia = df_dementia.dropna(subset=['CDR'])\n",
        "df_dementia.info()"
      ],
      "execution_count": null,
      "outputs": [
        {
          "output_type": "stream",
          "text": [
            "<class 'pandas.core.frame.DataFrame'>\n",
            "Int64Index: 595 entries, 0 to 415\n",
            "Data columns (total 6 columns):\n",
            " #   Column  Non-Null Count  Dtype  \n",
            "---  ------  --------------  -----  \n",
            " 0   M/F     595 non-null    int64  \n",
            " 1   Age     595 non-null    float64\n",
            " 2   Educ    595 non-null    float64\n",
            " 3   SES     595 non-null    float64\n",
            " 4   MMSE    595 non-null    float64\n",
            " 5   CDR     595 non-null    float64\n",
            "dtypes: float64(5), int64(1)\n",
            "memory usage: 32.5 KB\n"
          ],
          "name": "stdout"
        }
      ]
    },
    {
      "cell_type": "code",
      "metadata": {
        "colab": {
          "base_uri": "https://localhost:8080/"
        },
        "id": "BUU-F__e5RxL",
        "outputId": "2d801e86-1cb2-48f2-de21-79b26dc7d7ed"
      },
      "source": [
        "dementia_label = df_dementia[\"CDR\"].values\n",
        "dementia_attributes = df_dementia.drop(columns=\"CDR\").values\n",
        "\n",
        "X_train, X_test, y_train, y_test = train_test_split(dementia_attributes, dementia_label, test_size=0.2, random_state=42)\n",
        "\n",
        "lab_enc = preprocessing.LabelEncoder()\n",
        "y_train = lab_enc.fit_transform(y_train)\n",
        "y_test = lab_enc.fit_transform(y_test)\n",
        "\n",
        "print(len(X_train), len(X_test), len(y_train), len(y_test))\n",
        "\n",
        "pd.DataFrame(y_train).value_counts()\n"
      ],
      "execution_count": null,
      "outputs": [
        {
          "output_type": "stream",
          "text": [
            "476 119 476 119\n"
          ],
          "name": "stdout"
        },
        {
          "output_type": "execute_result",
          "data": {
            "text/plain": [
              "0    413\n",
              "1     63\n",
              "dtype: int64"
            ]
          },
          "metadata": {
            "tags": []
          },
          "execution_count": 42
        }
      ]
    },
    {
      "cell_type": "code",
      "metadata": {
        "colab": {
          "base_uri": "https://localhost:8080/"
        },
        "id": "P0ok87I1AX3T",
        "outputId": "a5c7d62f-eb0f-477b-87ed-418f7358f16d"
      },
      "source": [
        "pd.DataFrame(y_test).value_counts()"
      ],
      "execution_count": null,
      "outputs": [
        {
          "output_type": "execute_result",
          "data": {
            "text/plain": [
              "0    108\n",
              "1     11\n",
              "dtype: int64"
            ]
          },
          "metadata": {
            "tags": []
          },
          "execution_count": 43
        }
      ]
    },
    {
      "cell_type": "code",
      "metadata": {
        "colab": {
          "base_uri": "https://localhost:8080/",
          "height": 279
        },
        "id": "jb28dM266icT",
        "outputId": "d15f8eb7-0051-4558-8822-d36485d36bf7"
      },
      "source": [
        "model = LogisticRegression(solver='lbfgs', class_weight='balanced')\n",
        "model.fit(X_train, y_train)\n",
        "\n",
        "pred_test = model.predict(X_test)\n",
        "\n",
        "#Ploting the confusion matrix\n",
        "plot_confusion_matrix(model, X_test, y_test)\n",
        "plt.show()"
      ],
      "execution_count": null,
      "outputs": [
        {
          "output_type": "display_data",
          "data": {
            "image/png": "[encoded data removed]",
            "text/plain": [
              "<Figure size 432x288 with 2 Axes>"
            ]
          },
          "metadata": {
            "tags": [],
            "needs_background": "light"
          }
        }
      ]
    },
    {
      "cell_type": "code",
      "metadata": {
        "colab": {
          "base_uri": "https://localhost:8080/"
        },
        "id": "bzpJek1b9-6V",
        "outputId": "25d95c9d-58a7-4d5f-cd74-9331a4587a96"
      },
      "source": [
        "print(\"Accuracy: {} %\".format(np.mean(score_tree['test_accuracy']) * 100))\n",
        "print(\"Precision: {} %\".format(np.mean(score_tree['test_precision_macro']) * 100))\n",
        "print(\"Recall: {} %\".format(np.mean(score_tree['test_recall_macro']) * 100))\n",
        "print(\"F1-score: {} %\".format(np.mean(score_tree['test_f1_macro']) * 100))"
      ],
      "execution_count": null,
      "outputs": [
        {
          "output_type": "stream",
          "text": [
            "The f1 score for the testing data: 0.8902928370186971\n"
          ],
          "name": "stdout"
        }
      ]
    }
  ]
}