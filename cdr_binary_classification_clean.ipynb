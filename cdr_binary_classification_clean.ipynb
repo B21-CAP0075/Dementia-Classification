{
  "nbformat": 4,
  "nbformat_minor": 0,
  "metadata": {
    "colab": {
      "name": "Dementia_SaDem.ipynb",
      "provenance": [],
      "collapsed_sections": [],
      "authorship_tag": "ABX9TyNEsUbtiRgFkJoGFsBZgpFY",
      "include_colab_link": true
    },
    "kernelspec": {
      "name": "python3",
      "display_name": "Python 3"
    },
    "accelerator": "GPU"
  },
  "cells": [
    {
      "cell_type": "markdown",
      "metadata": {
        "id": "view-in-github",
        "colab_type": "text"
      },
      "source": [
        "<a href=\"https://colab.research.google.com/github/B21-CAP0075/Dementia-Classification/blob/development/cdr_binary_classification_clean.ipynb\" target=\"_parent\"><img src=\"https://colab.research.google.com/assets/colab-badge.svg\" alt=\"Open In Colab\"/></a>"
      ]
    },
    {
      "cell_type": "code",
      "metadata": {
        "id": "xkN7mkLaVTJ4"
      },
      "source": [
        "import zipfile\n",
        "import pandas as pd\n",
        "import numpy as np\n",
        "import seaborn as sns\n",
        "import matplotlib.pyplot as plt\n",
        "\n",
        "from google.colab import drive\n",
        "from sklearn.preprocessing import MinMaxScaler\n",
        "from sklearn.preprocessing import StandardScaler \n",
        "from sklearn.model_selection import train_test_split\n",
        "\n",
        "import tensorflow as tf\n",
        "from keras.models import load_model\n",
        "from keras.callbacks import EarlyStopping\n",
        "from keras.callbacks import ModelCheckpoint"
      ],
      "execution_count": 1,
      "outputs": []
    },
    {
      "cell_type": "code",
      "metadata": {
        "id": "oI_kzNi_Vi6i",
        "colab": {
          "base_uri": "https://localhost:8080/"
        },
        "outputId": "de1ab9b2-ede7-421e-8c83-7d25123e58fb"
      },
      "source": [
        "drive.mount('/content/drive')"
      ],
      "execution_count": 2,
      "outputs": [
        {
          "output_type": "stream",
          "text": [
            "Mounted at /content/drive\n"
          ],
          "name": "stdout"
        }
      ]
    },
    {
      "cell_type": "code",
      "metadata": {
        "id": "7VU7nNaaVscM",
        "colab": {
          "base_uri": "https://localhost:8080/"
        },
        "outputId": "27aa586d-0a2d-421b-de57-35a8c109c96c"
      },
      "source": [
        "! pip install --upgrade --force-reinstall --no-deps kaggle\n",
        "! mkdir /root/.kaggle/\n",
        "! cp \"/content/drive/My Drive/Machine Learning/kaggle.json\" /root/.kaggle/\n",
        "! chmod 600 /root/.kaggle/kaggle.json"
      ],
      "execution_count": 3,
      "outputs": [
        {
          "output_type": "stream",
          "text": [
            "Collecting kaggle\n",
            "\u001b[?25l  Downloading https://files.pythonhosted.org/packages/3a/e7/3bac01547d2ed3d308ac92a0878fbdb0ed0f3d41fb1906c319ccbba1bfbc/kaggle-1.5.12.tar.gz (58kB)\n",
            "\r\u001b[K     |█████▋                          | 10kB 20.5MB/s eta 0:00:01\r\u001b[K     |███████████▏                    | 20kB 27.8MB/s eta 0:00:01\r\u001b[K     |████████████████▊               | 30kB 33.0MB/s eta 0:00:01\r\u001b[K     |██████████████████████▎         | 40kB 28.7MB/s eta 0:00:01\r\u001b[K     |███████████████████████████▉    | 51kB 30.3MB/s eta 0:00:01\r\u001b[K     |████████████████████████████████| 61kB 8.0MB/s \n",
            "\u001b[?25hBuilding wheels for collected packages: kaggle\n",
            "  Building wheel for kaggle (setup.py) ... \u001b[?25l\u001b[?25hdone\n",
            "  Created wheel for kaggle: filename=kaggle-1.5.12-cp37-none-any.whl size=73053 sha256=aa2ce17cc73617cd63bfd04f12301791fc2bd141aed03418f62ae85c730c7456\n",
            "  Stored in directory: /root/.cache/pip/wheels/a1/6a/26/d30b7499ff85a4a4593377a87ecf55f7d08af42f0de9b60303\n",
            "Successfully built kaggle\n",
            "Installing collected packages: kaggle\n",
            "  Found existing installation: kaggle 1.5.12\n",
            "    Uninstalling kaggle-1.5.12:\n",
            "      Successfully uninstalled kaggle-1.5.12\n",
            "Successfully installed kaggle-1.5.12\n"
          ],
          "name": "stdout"
        }
      ]
    },
    {
      "cell_type": "code",
      "metadata": {
        "id": "0zSmgeF7V14w",
        "colab": {
          "base_uri": "https://localhost:8080/"
        },
        "outputId": "cd32b7da-c3eb-4ef0-cf7b-9874bed102fd"
      },
      "source": [
        "! kaggle datasets download -d jboysen/mri-and-alzheimers"
      ],
      "execution_count": 4,
      "outputs": [
        {
          "output_type": "stream",
          "text": [
            "Downloading mri-and-alzheimers.zip to /content\n",
            "\r  0% 0.00/12.6k [00:00<?, ?B/s]\n",
            "\r100% 12.6k/12.6k [00:00<00:00, 12.1MB/s]\n"
          ],
          "name": "stdout"
        }
      ]
    },
    {
      "cell_type": "code",
      "metadata": {
        "id": "JYXIttu8V69G"
      },
      "source": [
        "zip_ref = zipfile.ZipFile('mri-and-alzheimers.zip', 'r')\n",
        "zip_ref.extractall()\n",
        "zip_ref.close()"
      ],
      "execution_count": 5,
      "outputs": []
    },
    {
      "cell_type": "code",
      "metadata": {
        "id": "FzoA4JxdWX95",
        "colab": {
          "base_uri": "https://localhost:8080/"
        },
        "outputId": "9b8ef58d-b50e-43ea-e982-25317cc995cf"
      },
      "source": [
        "df_cross = pd.read_csv('oasis_cross-sectional.csv')\n",
        "print(len(df_cross))\n",
        "print(df_cross[df_cross['CDR'] >= 1].groupby('Educ').size())"
      ],
      "execution_count": 6,
      "outputs": [
        {
          "output_type": "stream",
          "text": [
            "436\n",
            "Educ\n",
            "1.0     7\n",
            "2.0    11\n",
            "3.0     4\n",
            "4.0     5\n",
            "5.0     3\n",
            "dtype: int64\n"
          ],
          "name": "stdout"
        }
      ]
    },
    {
      "cell_type": "code",
      "metadata": {
        "id": "PjGgxdovWyOT",
        "colab": {
          "base_uri": "https://localhost:8080/"
        },
        "outputId": "4aa986df-0e95-49b0-95ef-32bab91305e3"
      },
      "source": [
        "df_long = pd.read_csv('oasis_longitudinal.csv')\n",
        "print(len(df_long))\n",
        "print(df_long.groupby('EDUC').size())"
      ],
      "execution_count": 7,
      "outputs": [
        {
          "output_type": "stream",
          "text": [
            "373\n",
            "EDUC\n",
            "6       3\n",
            "8       9\n",
            "11     11\n",
            "12    103\n",
            "13     27\n",
            "14     33\n",
            "15     17\n",
            "16     81\n",
            "17      9\n",
            "18     64\n",
            "20     13\n",
            "23      3\n",
            "dtype: int64\n"
          ],
          "name": "stdout"
        }
      ]
    },
    {
      "cell_type": "code",
      "metadata": {
        "colab": {
          "base_uri": "https://localhost:8080/",
          "height": 204
        },
        "id": "HKrQoLWSOUu-",
        "outputId": "f2123754-49e2-4965-b1a3-987e684ae5cf"
      },
      "source": [
        "df_cross = df_cross.drop(columns=['ID', 'Delay', 'Hand', 'eTIV', 'nWBV', 'ASF'])\n",
        "df_cross.columns = ['M/F', 'Age',\t'EDUC',\t'SES',\t'MMSE',\t'CDR']\n",
        "df_cross.head()"
      ],
      "execution_count": 8,
      "outputs": [
        {
          "output_type": "execute_result",
          "data": {
            "text/html": [
              "<div>\n",
              "<style scoped>\n",
              "    .dataframe tbody tr th:only-of-type {\n",
              "        vertical-align: middle;\n",
              "    }\n",
              "\n",
              "    .dataframe tbody tr th {\n",
              "        vertical-align: top;\n",
              "    }\n",
              "\n",
              "    .dataframe thead th {\n",
              "        text-align: right;\n",
              "    }\n",
              "</style>\n",
              "<table border=\"1\" class=\"dataframe\">\n",
              "  <thead>\n",
              "    <tr style=\"text-align: right;\">\n",
              "      <th></th>\n",
              "      <th>M/F</th>\n",
              "      <th>Age</th>\n",
              "      <th>EDUC</th>\n",
              "      <th>SES</th>\n",
              "      <th>MMSE</th>\n",
              "      <th>CDR</th>\n",
              "    </tr>\n",
              "  </thead>\n",
              "  <tbody>\n",
              "    <tr>\n",
              "      <th>0</th>\n",
              "      <td>F</td>\n",
              "      <td>74</td>\n",
              "      <td>2.0</td>\n",
              "      <td>3.0</td>\n",
              "      <td>29.0</td>\n",
              "      <td>0.0</td>\n",
              "    </tr>\n",
              "    <tr>\n",
              "      <th>1</th>\n",
              "      <td>F</td>\n",
              "      <td>55</td>\n",
              "      <td>4.0</td>\n",
              "      <td>1.0</td>\n",
              "      <td>29.0</td>\n",
              "      <td>0.0</td>\n",
              "    </tr>\n",
              "    <tr>\n",
              "      <th>2</th>\n",
              "      <td>F</td>\n",
              "      <td>73</td>\n",
              "      <td>4.0</td>\n",
              "      <td>3.0</td>\n",
              "      <td>27.0</td>\n",
              "      <td>0.5</td>\n",
              "    </tr>\n",
              "    <tr>\n",
              "      <th>3</th>\n",
              "      <td>M</td>\n",
              "      <td>28</td>\n",
              "      <td>NaN</td>\n",
              "      <td>NaN</td>\n",
              "      <td>NaN</td>\n",
              "      <td>NaN</td>\n",
              "    </tr>\n",
              "    <tr>\n",
              "      <th>4</th>\n",
              "      <td>M</td>\n",
              "      <td>18</td>\n",
              "      <td>NaN</td>\n",
              "      <td>NaN</td>\n",
              "      <td>NaN</td>\n",
              "      <td>NaN</td>\n",
              "    </tr>\n",
              "  </tbody>\n",
              "</table>\n",
              "</div>"
            ],
            "text/plain": [
              "  M/F  Age  EDUC  SES  MMSE  CDR\n",
              "0   F   74   2.0  3.0  29.0  0.0\n",
              "1   F   55   4.0  1.0  29.0  0.0\n",
              "2   F   73   4.0  3.0  27.0  0.5\n",
              "3   M   28   NaN  NaN   NaN  NaN\n",
              "4   M   18   NaN  NaN   NaN  NaN"
            ]
          },
          "metadata": {
            "tags": []
          },
          "execution_count": 8
        }
      ]
    },
    {
      "cell_type": "code",
      "metadata": {
        "colab": {
          "base_uri": "https://localhost:8080/",
          "height": 204
        },
        "id": "xUdR7IqrNrTW",
        "outputId": "5458388e-c917-491c-de1c-8fbbd90a76af"
      },
      "source": [
        "df_long = df_long.drop(columns=['Subject ID', 'MRI ID', 'Visit', 'MR Delay', 'Hand', 'eTIV', 'nWBV', 'ASF', 'Group'])\n",
        "df_long.head()"
      ],
      "execution_count": 9,
      "outputs": [
        {
          "output_type": "execute_result",
          "data": {
            "text/html": [
              "<div>\n",
              "<style scoped>\n",
              "    .dataframe tbody tr th:only-of-type {\n",
              "        vertical-align: middle;\n",
              "    }\n",
              "\n",
              "    .dataframe tbody tr th {\n",
              "        vertical-align: top;\n",
              "    }\n",
              "\n",
              "    .dataframe thead th {\n",
              "        text-align: right;\n",
              "    }\n",
              "</style>\n",
              "<table border=\"1\" class=\"dataframe\">\n",
              "  <thead>\n",
              "    <tr style=\"text-align: right;\">\n",
              "      <th></th>\n",
              "      <th>M/F</th>\n",
              "      <th>Age</th>\n",
              "      <th>EDUC</th>\n",
              "      <th>SES</th>\n",
              "      <th>MMSE</th>\n",
              "      <th>CDR</th>\n",
              "    </tr>\n",
              "  </thead>\n",
              "  <tbody>\n",
              "    <tr>\n",
              "      <th>0</th>\n",
              "      <td>M</td>\n",
              "      <td>87</td>\n",
              "      <td>14</td>\n",
              "      <td>2.0</td>\n",
              "      <td>27.0</td>\n",
              "      <td>0.0</td>\n",
              "    </tr>\n",
              "    <tr>\n",
              "      <th>1</th>\n",
              "      <td>M</td>\n",
              "      <td>88</td>\n",
              "      <td>14</td>\n",
              "      <td>2.0</td>\n",
              "      <td>30.0</td>\n",
              "      <td>0.0</td>\n",
              "    </tr>\n",
              "    <tr>\n",
              "      <th>2</th>\n",
              "      <td>M</td>\n",
              "      <td>75</td>\n",
              "      <td>12</td>\n",
              "      <td>NaN</td>\n",
              "      <td>23.0</td>\n",
              "      <td>0.5</td>\n",
              "    </tr>\n",
              "    <tr>\n",
              "      <th>3</th>\n",
              "      <td>M</td>\n",
              "      <td>76</td>\n",
              "      <td>12</td>\n",
              "      <td>NaN</td>\n",
              "      <td>28.0</td>\n",
              "      <td>0.5</td>\n",
              "    </tr>\n",
              "    <tr>\n",
              "      <th>4</th>\n",
              "      <td>M</td>\n",
              "      <td>80</td>\n",
              "      <td>12</td>\n",
              "      <td>NaN</td>\n",
              "      <td>22.0</td>\n",
              "      <td>0.5</td>\n",
              "    </tr>\n",
              "  </tbody>\n",
              "</table>\n",
              "</div>"
            ],
            "text/plain": [
              "  M/F  Age  EDUC  SES  MMSE  CDR\n",
              "0   M   87    14  2.0  27.0  0.0\n",
              "1   M   88    14  2.0  30.0  0.0\n",
              "2   M   75    12  NaN  23.0  0.5\n",
              "3   M   76    12  NaN  28.0  0.5\n",
              "4   M   80    12  NaN  22.0  0.5"
            ]
          },
          "metadata": {
            "tags": []
          },
          "execution_count": 9
        }
      ]
    },
    {
      "cell_type": "code",
      "metadata": {
        "id": "SjXR_It8Me-N"
      },
      "source": [
        "df_cross.loc[df_cross.EDUC == 1.0, 'EDUC'] =  6\n",
        "df_cross.loc[df_cross.EDUC == 2.0, 'EDUC'] =  12\n",
        "df_cross.loc[df_cross.EDUC == 3.0, 'EDUC'] =  15\n",
        "df_cross.loc[df_cross.EDUC == 4.0, 'EDUC'] =  16\n",
        "df_cross.loc[df_cross.EDUC == 5.0, 'EDUC'] =  23"
      ],
      "execution_count": 10,
      "outputs": []
    },
    {
      "cell_type": "code",
      "metadata": {
        "id": "xhcFSdeLrHGF",
        "outputId": "38694522-22e4-427d-96a7-a3f0122ce1bc",
        "colab": {
          "base_uri": "https://localhost:8080/",
          "height": 261
        }
      },
      "source": [
        "df_cross_dementia = df_cross[df_cross['CDR'] >= 1]\n",
        "print(len(df_cross_dementia))\n",
        "print(df_cross_dementia['CDR'].unique())\n",
        "print(df_cross_dementia['EDUC'].unique())\n",
        "df_cross_dementia.head()"
      ],
      "execution_count": 11,
      "outputs": [
        {
          "output_type": "stream",
          "text": [
            "30\n",
            "[1. 2.]\n",
            "[12.  6. 15. 16. 23.]\n"
          ],
          "name": "stdout"
        },
        {
          "output_type": "execute_result",
          "data": {
            "text/html": [
              "<div>\n",
              "<style scoped>\n",
              "    .dataframe tbody tr th:only-of-type {\n",
              "        vertical-align: middle;\n",
              "    }\n",
              "\n",
              "    .dataframe tbody tr th {\n",
              "        vertical-align: top;\n",
              "    }\n",
              "\n",
              "    .dataframe thead th {\n",
              "        text-align: right;\n",
              "    }\n",
              "</style>\n",
              "<table border=\"1\" class=\"dataframe\">\n",
              "  <thead>\n",
              "    <tr style=\"text-align: right;\">\n",
              "      <th></th>\n",
              "      <th>M/F</th>\n",
              "      <th>Age</th>\n",
              "      <th>EDUC</th>\n",
              "      <th>SES</th>\n",
              "      <th>MMSE</th>\n",
              "      <th>CDR</th>\n",
              "    </tr>\n",
              "  </thead>\n",
              "  <tbody>\n",
              "    <tr>\n",
              "      <th>25</th>\n",
              "      <td>F</td>\n",
              "      <td>86</td>\n",
              "      <td>12.0</td>\n",
              "      <td>4.0</td>\n",
              "      <td>27.0</td>\n",
              "      <td>1.0</td>\n",
              "    </tr>\n",
              "    <tr>\n",
              "      <th>28</th>\n",
              "      <td>M</td>\n",
              "      <td>88</td>\n",
              "      <td>6.0</td>\n",
              "      <td>4.0</td>\n",
              "      <td>26.0</td>\n",
              "      <td>1.0</td>\n",
              "    </tr>\n",
              "    <tr>\n",
              "      <th>32</th>\n",
              "      <td>F</td>\n",
              "      <td>84</td>\n",
              "      <td>15.0</td>\n",
              "      <td>2.0</td>\n",
              "      <td>28.0</td>\n",
              "      <td>1.0</td>\n",
              "    </tr>\n",
              "    <tr>\n",
              "      <th>47</th>\n",
              "      <td>F</td>\n",
              "      <td>78</td>\n",
              "      <td>6.0</td>\n",
              "      <td>5.0</td>\n",
              "      <td>23.0</td>\n",
              "      <td>1.0</td>\n",
              "    </tr>\n",
              "    <tr>\n",
              "      <th>48</th>\n",
              "      <td>F</td>\n",
              "      <td>83</td>\n",
              "      <td>6.0</td>\n",
              "      <td>4.0</td>\n",
              "      <td>21.0</td>\n",
              "      <td>1.0</td>\n",
              "    </tr>\n",
              "  </tbody>\n",
              "</table>\n",
              "</div>"
            ],
            "text/plain": [
              "   M/F  Age  EDUC  SES  MMSE  CDR\n",
              "25   F   86  12.0  4.0  27.0  1.0\n",
              "28   M   88   6.0  4.0  26.0  1.0\n",
              "32   F   84  15.0  2.0  28.0  1.0\n",
              "47   F   78   6.0  5.0  23.0  1.0\n",
              "48   F   83   6.0  4.0  21.0  1.0"
            ]
          },
          "metadata": {
            "tags": []
          },
          "execution_count": 11
        }
      ]
    },
    {
      "cell_type": "code",
      "metadata": {
        "colab": {
          "base_uri": "https://localhost:8080/",
          "height": 419
        },
        "id": "J2bRBrchR4M9",
        "outputId": "2e7e167a-e441-4d20-e38b-99ed35382423"
      },
      "source": [
        "df = pd.concat([df_long, df_cross_dementia])\n",
        "df = df[df['CDR'].notna()]\n",
        "df"
      ],
      "execution_count": 12,
      "outputs": [
        {
          "output_type": "execute_result",
          "data": {
            "text/html": [
              "<div>\n",
              "<style scoped>\n",
              "    .dataframe tbody tr th:only-of-type {\n",
              "        vertical-align: middle;\n",
              "    }\n",
              "\n",
              "    .dataframe tbody tr th {\n",
              "        vertical-align: top;\n",
              "    }\n",
              "\n",
              "    .dataframe thead th {\n",
              "        text-align: right;\n",
              "    }\n",
              "</style>\n",
              "<table border=\"1\" class=\"dataframe\">\n",
              "  <thead>\n",
              "    <tr style=\"text-align: right;\">\n",
              "      <th></th>\n",
              "      <th>M/F</th>\n",
              "      <th>Age</th>\n",
              "      <th>EDUC</th>\n",
              "      <th>SES</th>\n",
              "      <th>MMSE</th>\n",
              "      <th>CDR</th>\n",
              "    </tr>\n",
              "  </thead>\n",
              "  <tbody>\n",
              "    <tr>\n",
              "      <th>0</th>\n",
              "      <td>M</td>\n",
              "      <td>87</td>\n",
              "      <td>14.0</td>\n",
              "      <td>2.0</td>\n",
              "      <td>27.0</td>\n",
              "      <td>0.0</td>\n",
              "    </tr>\n",
              "    <tr>\n",
              "      <th>1</th>\n",
              "      <td>M</td>\n",
              "      <td>88</td>\n",
              "      <td>14.0</td>\n",
              "      <td>2.0</td>\n",
              "      <td>30.0</td>\n",
              "      <td>0.0</td>\n",
              "    </tr>\n",
              "    <tr>\n",
              "      <th>2</th>\n",
              "      <td>M</td>\n",
              "      <td>75</td>\n",
              "      <td>12.0</td>\n",
              "      <td>NaN</td>\n",
              "      <td>23.0</td>\n",
              "      <td>0.5</td>\n",
              "    </tr>\n",
              "    <tr>\n",
              "      <th>3</th>\n",
              "      <td>M</td>\n",
              "      <td>76</td>\n",
              "      <td>12.0</td>\n",
              "      <td>NaN</td>\n",
              "      <td>28.0</td>\n",
              "      <td>0.5</td>\n",
              "    </tr>\n",
              "    <tr>\n",
              "      <th>4</th>\n",
              "      <td>M</td>\n",
              "      <td>80</td>\n",
              "      <td>12.0</td>\n",
              "      <td>NaN</td>\n",
              "      <td>22.0</td>\n",
              "      <td>0.5</td>\n",
              "    </tr>\n",
              "    <tr>\n",
              "      <th>...</th>\n",
              "      <td>...</td>\n",
              "      <td>...</td>\n",
              "      <td>...</td>\n",
              "      <td>...</td>\n",
              "      <td>...</td>\n",
              "      <td>...</td>\n",
              "    </tr>\n",
              "    <tr>\n",
              "      <th>367</th>\n",
              "      <td>M</td>\n",
              "      <td>77</td>\n",
              "      <td>23.0</td>\n",
              "      <td>1.0</td>\n",
              "      <td>23.0</td>\n",
              "      <td>1.0</td>\n",
              "    </tr>\n",
              "    <tr>\n",
              "      <th>384</th>\n",
              "      <td>M</td>\n",
              "      <td>75</td>\n",
              "      <td>16.0</td>\n",
              "      <td>1.0</td>\n",
              "      <td>20.0</td>\n",
              "      <td>1.0</td>\n",
              "    </tr>\n",
              "    <tr>\n",
              "      <th>385</th>\n",
              "      <td>F</td>\n",
              "      <td>78</td>\n",
              "      <td>6.0</td>\n",
              "      <td>4.0</td>\n",
              "      <td>23.0</td>\n",
              "      <td>1.0</td>\n",
              "    </tr>\n",
              "    <tr>\n",
              "      <th>389</th>\n",
              "      <td>M</td>\n",
              "      <td>71</td>\n",
              "      <td>16.0</td>\n",
              "      <td>1.0</td>\n",
              "      <td>17.0</td>\n",
              "      <td>1.0</td>\n",
              "    </tr>\n",
              "    <tr>\n",
              "      <th>410</th>\n",
              "      <td>M</td>\n",
              "      <td>75</td>\n",
              "      <td>6.0</td>\n",
              "      <td>4.0</td>\n",
              "      <td>22.0</td>\n",
              "      <td>1.0</td>\n",
              "    </tr>\n",
              "  </tbody>\n",
              "</table>\n",
              "<p>403 rows × 6 columns</p>\n",
              "</div>"
            ],
            "text/plain": [
              "    M/F  Age  EDUC  SES  MMSE  CDR\n",
              "0     M   87  14.0  2.0  27.0  0.0\n",
              "1     M   88  14.0  2.0  30.0  0.0\n",
              "2     M   75  12.0  NaN  23.0  0.5\n",
              "3     M   76  12.0  NaN  28.0  0.5\n",
              "4     M   80  12.0  NaN  22.0  0.5\n",
              "..   ..  ...   ...  ...   ...  ...\n",
              "367   M   77  23.0  1.0  23.0  1.0\n",
              "384   M   75  16.0  1.0  20.0  1.0\n",
              "385   F   78   6.0  4.0  23.0  1.0\n",
              "389   M   71  16.0  1.0  17.0  1.0\n",
              "410   M   75   6.0  4.0  22.0  1.0\n",
              "\n",
              "[403 rows x 6 columns]"
            ]
          },
          "metadata": {
            "tags": []
          },
          "execution_count": 12
        }
      ]
    },
    {
      "cell_type": "code",
      "metadata": {
        "colab": {
          "base_uri": "https://localhost:8080/"
        },
        "id": "phbSyBE8TPw6",
        "outputId": "6fba8f2b-818e-44b7-fb84-42e1e0e379f8"
      },
      "source": [
        "df['CDR'] = df['CDR'].replace(\n",
        "    [0.0, 0.5, 1.0, 2.0],\n",
        "    [0, 0, 1, 1]\n",
        ")\n",
        "print(df['CDR'].unique())"
      ],
      "execution_count": 13,
      "outputs": [
        {
          "output_type": "stream",
          "text": [
            "[0. 1.]\n"
          ],
          "name": "stdout"
        }
      ]
    },
    {
      "cell_type": "code",
      "metadata": {
        "id": "UtHuJxCs6eyc",
        "colab": {
          "base_uri": "https://localhost:8080/"
        },
        "outputId": "428130a1-6fa6-4b78-b97f-3360cd442e5b"
      },
      "source": [
        "df_temp = df[df['CDR'] == 0]\n",
        "df_temp = df_temp[:len(df[df['CDR'] == 0])]\n",
        "new_df = df_temp.append(df[df['CDR'] == 1])\n",
        "\n",
        "df = new_df\n",
        "print(len(df))\n",
        "print(df.groupby('EDUC').size())"
      ],
      "execution_count": 14,
      "outputs": [
        {
          "output_type": "stream",
          "text": [
            "403\n",
            "EDUC\n",
            "6.0      10\n",
            "8.0       9\n",
            "11.0     11\n",
            "12.0    114\n",
            "13.0     27\n",
            "14.0     33\n",
            "15.0     21\n",
            "16.0     86\n",
            "17.0      9\n",
            "18.0     64\n",
            "20.0     13\n",
            "23.0      6\n",
            "dtype: int64\n"
          ],
          "name": "stdout"
        }
      ]
    },
    {
      "cell_type": "code",
      "metadata": {
        "id": "FiwtFqhdePTK",
        "colab": {
          "base_uri": "https://localhost:8080/",
          "height": 356
        },
        "outputId": "4b263f71-ef6f-4fcf-df5f-df7fd0b9ecb9"
      },
      "source": [
        "sns.countplot(df['CDR'])"
      ],
      "execution_count": 15,
      "outputs": [
        {
          "output_type": "stream",
          "text": [
            "/usr/local/lib/python3.7/dist-packages/seaborn/_decorators.py:43: FutureWarning: Pass the following variable as a keyword arg: x. From version 0.12, the only valid positional argument will be `data`, and passing other arguments without an explicit keyword will result in an error or misinterpretation.\n",
            "  FutureWarning\n"
          ],
          "name": "stderr"
        },
        {
          "output_type": "execute_result",
          "data": {
            "text/plain": [
              "<matplotlib.axes._subplots.AxesSubplot at 0x7ffb74d79f10>"
            ]
          },
          "metadata": {
            "tags": []
          },
          "execution_count": 15
        },
        {
          "output_type": "display_data",
          "data": {
            "image/png": "[encoded data removed]",
            "text/plain": [
              "<Figure size 432x288 with 1 Axes>"
            ]
          },
          "metadata": {
            "tags": [],
            "needs_background": "light"
          }
        }
      ]
    },
    {
      "cell_type": "code",
      "metadata": {
        "id": "AIBauZZzgnP7",
        "colab": {
          "base_uri": "https://localhost:8080/"
        },
        "outputId": "21c45a58-80ce-4c66-9e1f-e2390a902c7b"
      },
      "source": [
        "df.isnull().sum()"
      ],
      "execution_count": 16,
      "outputs": [
        {
          "output_type": "execute_result",
          "data": {
            "text/plain": [
              "M/F      0\n",
              "Age      0\n",
              "EDUC     0\n",
              "SES     23\n",
              "MMSE     2\n",
              "CDR      0\n",
              "dtype: int64"
            ]
          },
          "metadata": {
            "tags": []
          },
          "execution_count": 16
        }
      ]
    },
    {
      "cell_type": "code",
      "metadata": {
        "id": "iIhQJ1xeO9yh",
        "outputId": "57a02b9f-c3c1-4807-96fe-24f4a3bc0946",
        "colab": {
          "base_uri": "https://localhost:8080/"
        }
      },
      "source": [
        "mean_ses = df['SES'].mean()\n",
        "mean_mmse = df['MMSE'].mean()\n",
        "\n",
        "print(round(mean_ses))\n",
        "print(round(mean_mmse))"
      ],
      "execution_count": 17,
      "outputs": [
        {
          "output_type": "stream",
          "text": [
            "2\n",
            "27\n"
          ],
          "name": "stdout"
        }
      ]
    },
    {
      "cell_type": "code",
      "metadata": {
        "id": "yykIqlYwQ-bO",
        "outputId": "c9bdd7df-0a9f-49d3-e41b-98e713b99f60",
        "colab": {
          "base_uri": "https://localhost:8080/"
        }
      },
      "source": [
        "df['SES'].fillna(round(mean_ses), inplace=True)\n",
        "df['MMSE'].fillna(round(mean_mmse), inplace=True)\n",
        "df.isnull().sum()"
      ],
      "execution_count": 18,
      "outputs": [
        {
          "output_type": "execute_result",
          "data": {
            "text/plain": [
              "M/F     0\n",
              "Age     0\n",
              "EDUC    0\n",
              "SES     0\n",
              "MMSE    0\n",
              "CDR     0\n",
              "dtype: int64"
            ]
          },
          "metadata": {
            "tags": []
          },
          "execution_count": 18
        }
      ]
    },
    {
      "cell_type": "code",
      "metadata": {
        "colab": {
          "base_uri": "https://localhost:8080/",
          "height": 419
        },
        "id": "Kvh4GkShXqaZ",
        "outputId": "42923542-9f8d-4dc3-8b49-39075577894b"
      },
      "source": [
        "gender = pd.get_dummies(df['M/F'])\n",
        "\n",
        "df = df.drop(columns=['M/F'])\n",
        "df = pd.concat([df, gender], axis=1)\n",
        "df"
      ],
      "execution_count": 19,
      "outputs": [
        {
          "output_type": "execute_result",
          "data": {
            "text/html": [
              "<div>\n",
              "<style scoped>\n",
              "    .dataframe tbody tr th:only-of-type {\n",
              "        vertical-align: middle;\n",
              "    }\n",
              "\n",
              "    .dataframe tbody tr th {\n",
              "        vertical-align: top;\n",
              "    }\n",
              "\n",
              "    .dataframe thead th {\n",
              "        text-align: right;\n",
              "    }\n",
              "</style>\n",
              "<table border=\"1\" class=\"dataframe\">\n",
              "  <thead>\n",
              "    <tr style=\"text-align: right;\">\n",
              "      <th></th>\n",
              "      <th>Age</th>\n",
              "      <th>EDUC</th>\n",
              "      <th>SES</th>\n",
              "      <th>MMSE</th>\n",
              "      <th>CDR</th>\n",
              "      <th>F</th>\n",
              "      <th>M</th>\n",
              "    </tr>\n",
              "  </thead>\n",
              "  <tbody>\n",
              "    <tr>\n",
              "      <th>0</th>\n",
              "      <td>87</td>\n",
              "      <td>14.0</td>\n",
              "      <td>2.0</td>\n",
              "      <td>27.0</td>\n",
              "      <td>0.0</td>\n",
              "      <td>0</td>\n",
              "      <td>1</td>\n",
              "    </tr>\n",
              "    <tr>\n",
              "      <th>1</th>\n",
              "      <td>88</td>\n",
              "      <td>14.0</td>\n",
              "      <td>2.0</td>\n",
              "      <td>30.0</td>\n",
              "      <td>0.0</td>\n",
              "      <td>0</td>\n",
              "      <td>1</td>\n",
              "    </tr>\n",
              "    <tr>\n",
              "      <th>2</th>\n",
              "      <td>75</td>\n",
              "      <td>12.0</td>\n",
              "      <td>2.0</td>\n",
              "      <td>23.0</td>\n",
              "      <td>0.0</td>\n",
              "      <td>0</td>\n",
              "      <td>1</td>\n",
              "    </tr>\n",
              "    <tr>\n",
              "      <th>3</th>\n",
              "      <td>76</td>\n",
              "      <td>12.0</td>\n",
              "      <td>2.0</td>\n",
              "      <td>28.0</td>\n",
              "      <td>0.0</td>\n",
              "      <td>0</td>\n",
              "      <td>1</td>\n",
              "    </tr>\n",
              "    <tr>\n",
              "      <th>4</th>\n",
              "      <td>80</td>\n",
              "      <td>12.0</td>\n",
              "      <td>2.0</td>\n",
              "      <td>22.0</td>\n",
              "      <td>0.0</td>\n",
              "      <td>0</td>\n",
              "      <td>1</td>\n",
              "    </tr>\n",
              "    <tr>\n",
              "      <th>...</th>\n",
              "      <td>...</td>\n",
              "      <td>...</td>\n",
              "      <td>...</td>\n",
              "      <td>...</td>\n",
              "      <td>...</td>\n",
              "      <td>...</td>\n",
              "      <td>...</td>\n",
              "    </tr>\n",
              "    <tr>\n",
              "      <th>367</th>\n",
              "      <td>77</td>\n",
              "      <td>23.0</td>\n",
              "      <td>1.0</td>\n",
              "      <td>23.0</td>\n",
              "      <td>1.0</td>\n",
              "      <td>0</td>\n",
              "      <td>1</td>\n",
              "    </tr>\n",
              "    <tr>\n",
              "      <th>384</th>\n",
              "      <td>75</td>\n",
              "      <td>16.0</td>\n",
              "      <td>1.0</td>\n",
              "      <td>20.0</td>\n",
              "      <td>1.0</td>\n",
              "      <td>0</td>\n",
              "      <td>1</td>\n",
              "    </tr>\n",
              "    <tr>\n",
              "      <th>385</th>\n",
              "      <td>78</td>\n",
              "      <td>6.0</td>\n",
              "      <td>4.0</td>\n",
              "      <td>23.0</td>\n",
              "      <td>1.0</td>\n",
              "      <td>1</td>\n",
              "      <td>0</td>\n",
              "    </tr>\n",
              "    <tr>\n",
              "      <th>389</th>\n",
              "      <td>71</td>\n",
              "      <td>16.0</td>\n",
              "      <td>1.0</td>\n",
              "      <td>17.0</td>\n",
              "      <td>1.0</td>\n",
              "      <td>0</td>\n",
              "      <td>1</td>\n",
              "    </tr>\n",
              "    <tr>\n",
              "      <th>410</th>\n",
              "      <td>75</td>\n",
              "      <td>6.0</td>\n",
              "      <td>4.0</td>\n",
              "      <td>22.0</td>\n",
              "      <td>1.0</td>\n",
              "      <td>0</td>\n",
              "      <td>1</td>\n",
              "    </tr>\n",
              "  </tbody>\n",
              "</table>\n",
              "<p>403 rows × 7 columns</p>\n",
              "</div>"
            ],
            "text/plain": [
              "     Age  EDUC  SES  MMSE  CDR  F  M\n",
              "0     87  14.0  2.0  27.0  0.0  0  1\n",
              "1     88  14.0  2.0  30.0  0.0  0  1\n",
              "2     75  12.0  2.0  23.0  0.0  0  1\n",
              "3     76  12.0  2.0  28.0  0.0  0  1\n",
              "4     80  12.0  2.0  22.0  0.0  0  1\n",
              "..   ...   ...  ...   ...  ... .. ..\n",
              "367   77  23.0  1.0  23.0  1.0  0  1\n",
              "384   75  16.0  1.0  20.0  1.0  0  1\n",
              "385   78   6.0  4.0  23.0  1.0  1  0\n",
              "389   71  16.0  1.0  17.0  1.0  0  1\n",
              "410   75   6.0  4.0  22.0  1.0  0  1\n",
              "\n",
              "[403 rows x 7 columns]"
            ]
          },
          "metadata": {
            "tags": []
          },
          "execution_count": 19
        }
      ]
    },
    {
      "cell_type": "code",
      "metadata": {
        "id": "FEh0_AEu6o2a",
        "colab": {
          "base_uri": "https://localhost:8080/"
        },
        "outputId": "6923999c-d774-4945-8e63-9b6c10d17860"
      },
      "source": [
        "df_normal = df[df['CDR'] == 0]\n",
        "df_dementia = df[df['CDR'] == 1]\n",
        "\n",
        "print(df_normal.tail())\n",
        "print(df_dementia.tail())\n",
        "print()\n",
        "print(len(df_normal))\n",
        "print(len(df_dementia))"
      ],
      "execution_count": 20,
      "outputs": [
        {
          "output_type": "stream",
          "text": [
            "     Age  EDUC  SES  MMSE  CDR  F  M\n",
            "368   82  16.0  1.0  28.0  0.0  0  1\n",
            "369   86  16.0  1.0  26.0  0.0  0  1\n",
            "370   61  13.0  2.0  30.0  0.0  1  0\n",
            "371   63  13.0  2.0  30.0  0.0  1  0\n",
            "372   65  13.0  2.0  30.0  0.0  1  0\n",
            "     Age  EDUC  SES  MMSE  CDR  F  M\n",
            "367   77  23.0  1.0  23.0  1.0  0  1\n",
            "384   75  16.0  1.0  20.0  1.0  0  1\n",
            "385   78   6.0  4.0  23.0  1.0  1  0\n",
            "389   71  16.0  1.0  17.0  1.0  0  1\n",
            "410   75   6.0  4.0  22.0  1.0  0  1\n",
            "\n",
            "329\n",
            "74\n"
          ],
          "name": "stdout"
        }
      ]
    },
    {
      "cell_type": "code",
      "metadata": {
        "id": "0pqiNbbkkpX1"
      },
      "source": [
        "x_normal = df_normal[['Age', 'EDUC', 'SES', 'MMSE', 'F',\t'M']].values\n",
        "y_normal = df_normal[['CDR']].values\n",
        "\n",
        "x_dementia = df_dementia[['Age', 'EDUC', 'SES', 'MMSE', 'F',\t'M']].values\n",
        "y_dementia = df_dementia[['CDR']].values"
      ],
      "execution_count": 21,
      "outputs": []
    },
    {
      "cell_type": "code",
      "metadata": {
        "colab": {
          "base_uri": "https://localhost:8080/"
        },
        "id": "pz49HmC2mbD_",
        "outputId": "dc373189-723e-45a0-e9ca-87f11bb3b784"
      },
      "source": [
        "split = 0.2\n",
        "x_train_normal, x_test_normal, y_train_normal, y_test_normal = train_test_split(x_normal, y_normal, test_size=split, random_state=42)\n",
        "x_train_dementia, x_test_dementia, y_train_dementia, y_test_dementia = train_test_split(x_dementia, y_dementia, test_size=split, random_state=42)\n",
        "\n",
        "print(len(x_test_normal))\n",
        "print(len(x_test_dementia))"
      ],
      "execution_count": 22,
      "outputs": [
        {
          "output_type": "stream",
          "text": [
            "66\n",
            "15\n"
          ],
          "name": "stdout"
        }
      ]
    },
    {
      "cell_type": "code",
      "metadata": {
        "id": "8PwtKiVZnyfz"
      },
      "source": [
        "x_train = (x_train_normal, x_train_dementia)\n",
        "x_test = (x_test_normal, x_test_dementia)\n",
        "y_train = (y_train_normal, y_train_dementia)\n",
        "y_test = (y_test_normal, y_test_dementia)"
      ],
      "execution_count": 23,
      "outputs": []
    },
    {
      "cell_type": "code",
      "metadata": {
        "id": "ZZqxdT46llkv"
      },
      "source": [
        "x_train, x_test, y_train, y_test = np.concatenate(x_train), np.concatenate(x_test), np.concatenate(y_train), np.concatenate(y_test)"
      ],
      "execution_count": 24,
      "outputs": []
    },
    {
      "cell_type": "code",
      "metadata": {
        "id": "UTbSWoF8mDJZ",
        "colab": {
          "base_uri": "https://localhost:8080/"
        },
        "outputId": "0dde4fda-845e-48ad-ded6-48f16bb4b803"
      },
      "source": [
        "print(x_train.shape)\n",
        "print(x_test.shape)"
      ],
      "execution_count": 25,
      "outputs": [
        {
          "output_type": "stream",
          "text": [
            "(322, 6)\n",
            "(81, 6)\n"
          ],
          "name": "stdout"
        }
      ]
    },
    {
      "cell_type": "code",
      "metadata": {
        "id": "8WPCmv1Iwr-x"
      },
      "source": [
        "scaler = MinMaxScaler().fit(np.concatenate((x_train, x_test)))\n",
        "x_train_scaled = scaler.transform(x_train)\n",
        "x_test_scaled = scaler.transform(x_test)"
      ],
      "execution_count": 26,
      "outputs": []
    },
    {
      "cell_type": "code",
      "metadata": {
        "id": "bOvWkkSdkCUl"
      },
      "source": [
        "# save feature numpy as scaler at backend\n",
        "np.savetxt(\"scaler.csv\", np.concatenate((x_train, x_test)), delimiter=\",\")"
      ],
      "execution_count": 27,
      "outputs": []
    },
    {
      "cell_type": "code",
      "metadata": {
        "id": "2IxblKM3ltbL",
        "colab": {
          "base_uri": "https://localhost:8080/"
        },
        "outputId": "dd089fbe-767e-4c34-b4dd-67606c0767f7"
      },
      "source": [
        "model = tf.keras.Sequential([\n",
        "                             tf.keras.layers.Dense(16, activation='relu', input_shape=[6]),\n",
        "                             tf.keras.layers.Dense(8, activation='relu'),\n",
        "                             tf.keras.layers.Dense(4, activation='relu'),\n",
        "                             tf.keras.layers.Dense(1, activation='sigmoid')    \n",
        "])\n",
        "\n",
        "model.compile(\n",
        "    optimizer=tf.keras.optimizers.Adam(),\n",
        "    loss='binary_crossentropy',\n",
        "    metrics=['accuracy']\n",
        ")\n",
        "\n",
        "model.summary()"
      ],
      "execution_count": 28,
      "outputs": [
        {
          "output_type": "stream",
          "text": [
            "Model: \"sequential\"\n",
            "_________________________________________________________________\n",
            "Layer (type)                 Output Shape              Param #   \n",
            "=================================================================\n",
            "dense (Dense)                (None, 16)                112       \n",
            "_________________________________________________________________\n",
            "dense_1 (Dense)              (None, 8)                 136       \n",
            "_________________________________________________________________\n",
            "dense_2 (Dense)              (None, 4)                 36        \n",
            "_________________________________________________________________\n",
            "dense_3 (Dense)              (None, 1)                 5         \n",
            "=================================================================\n",
            "Total params: 289\n",
            "Trainable params: 289\n",
            "Non-trainable params: 0\n",
            "_________________________________________________________________\n"
          ],
          "name": "stdout"
        }
      ]
    },
    {
      "cell_type": "code",
      "metadata": {
        "id": "Q-HBgN4USNUL"
      },
      "source": [
        "class StopTraining(tf.keras.callbacks.Callback):\n",
        "  def on_epoch_end(self, epoch, logs=None):\n",
        "    accuracy = 0.90\n",
        "    loss = 0.28\n",
        "    if(logs.get('accuracy') >= accuracy and logs.get('val_accuracy') >= accuracy and\n",
        "       logs.get('loss') <= loss and logs.get('val_loss') <= loss):\n",
        "      print('\\nSudah mencapai akurasi {}%, proses training berhenti'.format(accuracy*100))\n",
        "      self.model.stop_training = True\n",
        "\n",
        "mc = ModelCheckpoint('best_model.h5', monitor='val_loss', save_best_only=True)\n",
        "es = EarlyStopping(monitor='val_loss', patience=100)\n",
        "st = StopTraining()"
      ],
      "execution_count": 29,
      "outputs": []
    },
    {
      "cell_type": "code",
      "metadata": {
        "id": "Q7rlcFzunmen",
        "colab": {
          "base_uri": "https://localhost:8080/"
        },
        "outputId": "fbb972c3-a5f6-477c-c5bd-3a32e7a2ed79"
      },
      "source": [
        "history = model.fit(x_train_scaled, y_train, epochs=500, validation_data=(x_test_scaled, y_test), callbacks=[mc, es, st], verbose=2)"
      ],
      "execution_count": 30,
      "outputs": [
        {
          "output_type": "stream",
          "text": [
            "Epoch 1/500\n",
            "11/11 - 4s - loss: 0.7133 - accuracy: 0.2112 - val_loss: 0.6941 - val_accuracy: 0.5062\n",
            "Epoch 2/500\n",
            "11/11 - 0s - loss: 0.6835 - accuracy: 0.6366 - val_loss: 0.6655 - val_accuracy: 0.8272\n",
            "Epoch 3/500\n",
            "11/11 - 0s - loss: 0.6605 - accuracy: 0.8137 - val_loss: 0.6462 - val_accuracy: 0.8148\n",
            "Epoch 4/500\n",
            "11/11 - 0s - loss: 0.6418 - accuracy: 0.8168 - val_loss: 0.6284 - val_accuracy: 0.8148\n",
            "Epoch 5/500\n",
            "11/11 - 0s - loss: 0.6246 - accuracy: 0.8168 - val_loss: 0.6114 - val_accuracy: 0.8148\n",
            "Epoch 6/500\n",
            "11/11 - 0s - loss: 0.6089 - accuracy: 0.8168 - val_loss: 0.5965 - val_accuracy: 0.8148\n",
            "Epoch 7/500\n",
            "11/11 - 0s - loss: 0.5944 - accuracy: 0.8168 - val_loss: 0.5817 - val_accuracy: 0.8148\n",
            "Epoch 8/500\n",
            "11/11 - 0s - loss: 0.5800 - accuracy: 0.8168 - val_loss: 0.5658 - val_accuracy: 0.8148\n",
            "Epoch 9/500\n",
            "11/11 - 0s - loss: 0.5640 - accuracy: 0.8168 - val_loss: 0.5505 - val_accuracy: 0.8148\n",
            "Epoch 10/500\n",
            "11/11 - 0s - loss: 0.5489 - accuracy: 0.8168 - val_loss: 0.5331 - val_accuracy: 0.8148\n",
            "Epoch 11/500\n",
            "11/11 - 0s - loss: 0.5319 - accuracy: 0.8168 - val_loss: 0.5164 - val_accuracy: 0.8148\n",
            "Epoch 12/500\n",
            "11/11 - 0s - loss: 0.5158 - accuracy: 0.8168 - val_loss: 0.5012 - val_accuracy: 0.8148\n",
            "Epoch 13/500\n",
            "11/11 - 0s - loss: 0.5032 - accuracy: 0.8168 - val_loss: 0.4893 - val_accuracy: 0.8148\n",
            "Epoch 14/500\n",
            "11/11 - 0s - loss: 0.4928 - accuracy: 0.8168 - val_loss: 0.4788 - val_accuracy: 0.8148\n",
            "Epoch 15/500\n",
            "11/11 - 0s - loss: 0.4833 - accuracy: 0.8168 - val_loss: 0.4677 - val_accuracy: 0.8148\n",
            "Epoch 16/500\n",
            "11/11 - 0s - loss: 0.4746 - accuracy: 0.8168 - val_loss: 0.4582 - val_accuracy: 0.8148\n",
            "Epoch 17/500\n",
            "11/11 - 0s - loss: 0.4660 - accuracy: 0.8168 - val_loss: 0.4515 - val_accuracy: 0.8148\n",
            "Epoch 18/500\n",
            "11/11 - 0s - loss: 0.4619 - accuracy: 0.8168 - val_loss: 0.4466 - val_accuracy: 0.8148\n",
            "Epoch 19/500\n",
            "11/11 - 0s - loss: 0.4581 - accuracy: 0.8168 - val_loss: 0.4443 - val_accuracy: 0.8148\n",
            "Epoch 20/500\n",
            "11/11 - 0s - loss: 0.4560 - accuracy: 0.8168 - val_loss: 0.4426 - val_accuracy: 0.8148\n",
            "Epoch 21/500\n",
            "11/11 - 0s - loss: 0.4548 - accuracy: 0.8168 - val_loss: 0.4411 - val_accuracy: 0.8148\n",
            "Epoch 22/500\n",
            "11/11 - 0s - loss: 0.4538 - accuracy: 0.8168 - val_loss: 0.4399 - val_accuracy: 0.8148\n",
            "Epoch 23/500\n",
            "11/11 - 0s - loss: 0.4528 - accuracy: 0.8168 - val_loss: 0.4386 - val_accuracy: 0.8148\n",
            "Epoch 24/500\n",
            "11/11 - 0s - loss: 0.4511 - accuracy: 0.8168 - val_loss: 0.4374 - val_accuracy: 0.8148\n",
            "Epoch 25/500\n",
            "11/11 - 0s - loss: 0.4499 - accuracy: 0.8168 - val_loss: 0.4362 - val_accuracy: 0.8148\n",
            "Epoch 26/500\n",
            "11/11 - 0s - loss: 0.4485 - accuracy: 0.8168 - val_loss: 0.4353 - val_accuracy: 0.8148\n",
            "Epoch 27/500\n",
            "11/11 - 0s - loss: 0.4472 - accuracy: 0.8168 - val_loss: 0.4344 - val_accuracy: 0.8148\n",
            "Epoch 28/500\n",
            "11/11 - 0s - loss: 0.4460 - accuracy: 0.8168 - val_loss: 0.4337 - val_accuracy: 0.8148\n",
            "Epoch 29/500\n",
            "11/11 - 0s - loss: 0.4453 - accuracy: 0.8168 - val_loss: 0.4323 - val_accuracy: 0.8148\n",
            "Epoch 30/500\n",
            "11/11 - 0s - loss: 0.4437 - accuracy: 0.8168 - val_loss: 0.4308 - val_accuracy: 0.8148\n",
            "Epoch 31/500\n",
            "11/11 - 0s - loss: 0.4427 - accuracy: 0.8168 - val_loss: 0.4295 - val_accuracy: 0.8148\n",
            "Epoch 32/500\n",
            "11/11 - 0s - loss: 0.4420 - accuracy: 0.8168 - val_loss: 0.4286 - val_accuracy: 0.8148\n",
            "Epoch 33/500\n",
            "11/11 - 0s - loss: 0.4407 - accuracy: 0.8168 - val_loss: 0.4273 - val_accuracy: 0.8148\n",
            "Epoch 34/500\n",
            "11/11 - 0s - loss: 0.4397 - accuracy: 0.8168 - val_loss: 0.4267 - val_accuracy: 0.8148\n",
            "Epoch 35/500\n",
            "11/11 - 0s - loss: 0.4389 - accuracy: 0.8168 - val_loss: 0.4253 - val_accuracy: 0.8148\n",
            "Epoch 36/500\n",
            "11/11 - 0s - loss: 0.4366 - accuracy: 0.8168 - val_loss: 0.4257 - val_accuracy: 0.8148\n",
            "Epoch 37/500\n",
            "11/11 - 0s - loss: 0.4369 - accuracy: 0.8168 - val_loss: 0.4236 - val_accuracy: 0.8148\n",
            "Epoch 38/500\n",
            "11/11 - 0s - loss: 0.4356 - accuracy: 0.8168 - val_loss: 0.4214 - val_accuracy: 0.8148\n",
            "Epoch 39/500\n",
            "11/11 - 0s - loss: 0.4342 - accuracy: 0.8168 - val_loss: 0.4213 - val_accuracy: 0.8148\n",
            "Epoch 40/500\n",
            "11/11 - 0s - loss: 0.4335 - accuracy: 0.8168 - val_loss: 0.4193 - val_accuracy: 0.8148\n",
            "Epoch 41/500\n",
            "11/11 - 0s - loss: 0.4318 - accuracy: 0.8168 - val_loss: 0.4174 - val_accuracy: 0.8148\n",
            "Epoch 42/500\n",
            "11/11 - 0s - loss: 0.4304 - accuracy: 0.8168 - val_loss: 0.4152 - val_accuracy: 0.8148\n",
            "Epoch 43/500\n",
            "11/11 - 0s - loss: 0.4285 - accuracy: 0.8168 - val_loss: 0.4126 - val_accuracy: 0.8148\n",
            "Epoch 44/500\n",
            "11/11 - 0s - loss: 0.4273 - accuracy: 0.8168 - val_loss: 0.4106 - val_accuracy: 0.8148\n",
            "Epoch 45/500\n",
            "11/11 - 0s - loss: 0.4264 - accuracy: 0.8168 - val_loss: 0.4090 - val_accuracy: 0.8148\n",
            "Epoch 46/500\n",
            "11/11 - 0s - loss: 0.4254 - accuracy: 0.8168 - val_loss: 0.4074 - val_accuracy: 0.8148\n",
            "Epoch 47/500\n",
            "11/11 - 0s - loss: 0.4243 - accuracy: 0.8168 - val_loss: 0.4061 - val_accuracy: 0.8148\n",
            "Epoch 48/500\n",
            "11/11 - 0s - loss: 0.4232 - accuracy: 0.8168 - val_loss: 0.4041 - val_accuracy: 0.8148\n",
            "Epoch 49/500\n",
            "11/11 - 0s - loss: 0.4218 - accuracy: 0.8168 - val_loss: 0.4024 - val_accuracy: 0.8148\n",
            "Epoch 50/500\n",
            "11/11 - 0s - loss: 0.4207 - accuracy: 0.8168 - val_loss: 0.4009 - val_accuracy: 0.8148\n",
            "Epoch 51/500\n",
            "11/11 - 0s - loss: 0.4201 - accuracy: 0.8168 - val_loss: 0.3993 - val_accuracy: 0.8148\n",
            "Epoch 52/500\n",
            "11/11 - 0s - loss: 0.4170 - accuracy: 0.8168 - val_loss: 0.3987 - val_accuracy: 0.8148\n",
            "Epoch 53/500\n",
            "11/11 - 0s - loss: 0.4158 - accuracy: 0.8168 - val_loss: 0.3970 - val_accuracy: 0.8148\n",
            "Epoch 54/500\n",
            "11/11 - 0s - loss: 0.4132 - accuracy: 0.8168 - val_loss: 0.3936 - val_accuracy: 0.8148\n",
            "Epoch 55/500\n",
            "11/11 - 0s - loss: 0.4102 - accuracy: 0.8168 - val_loss: 0.3902 - val_accuracy: 0.8148\n",
            "Epoch 56/500\n",
            "11/11 - 0s - loss: 0.4085 - accuracy: 0.8168 - val_loss: 0.3878 - val_accuracy: 0.8148\n",
            "Epoch 57/500\n",
            "11/11 - 0s - loss: 0.4054 - accuracy: 0.8168 - val_loss: 0.3833 - val_accuracy: 0.8148\n",
            "Epoch 58/500\n",
            "11/11 - 0s - loss: 0.4021 - accuracy: 0.8168 - val_loss: 0.3788 - val_accuracy: 0.8148\n",
            "Epoch 59/500\n",
            "11/11 - 0s - loss: 0.3980 - accuracy: 0.8168 - val_loss: 0.3759 - val_accuracy: 0.8148\n",
            "Epoch 60/500\n",
            "11/11 - 0s - loss: 0.3960 - accuracy: 0.8168 - val_loss: 0.3735 - val_accuracy: 0.8148\n",
            "Epoch 61/500\n",
            "11/11 - 0s - loss: 0.3936 - accuracy: 0.8230 - val_loss: 0.3705 - val_accuracy: 0.8395\n",
            "Epoch 62/500\n",
            "11/11 - 0s - loss: 0.3903 - accuracy: 0.8168 - val_loss: 0.3666 - val_accuracy: 0.8395\n",
            "Epoch 63/500\n",
            "11/11 - 0s - loss: 0.3873 - accuracy: 0.8354 - val_loss: 0.3663 - val_accuracy: 0.8395\n",
            "Epoch 64/500\n",
            "11/11 - 0s - loss: 0.3840 - accuracy: 0.8323 - val_loss: 0.3614 - val_accuracy: 0.8395\n",
            "Epoch 65/500\n",
            "11/11 - 0s - loss: 0.3817 - accuracy: 0.8323 - val_loss: 0.3580 - val_accuracy: 0.8395\n",
            "Epoch 66/500\n",
            "11/11 - 0s - loss: 0.3787 - accuracy: 0.8354 - val_loss: 0.3544 - val_accuracy: 0.8395\n",
            "Epoch 67/500\n",
            "11/11 - 0s - loss: 0.3770 - accuracy: 0.8323 - val_loss: 0.3524 - val_accuracy: 0.8395\n",
            "Epoch 68/500\n",
            "11/11 - 0s - loss: 0.3749 - accuracy: 0.8323 - val_loss: 0.3473 - val_accuracy: 0.8395\n",
            "Epoch 69/500\n",
            "11/11 - 0s - loss: 0.3707 - accuracy: 0.8323 - val_loss: 0.3452 - val_accuracy: 0.8395\n",
            "Epoch 70/500\n",
            "11/11 - 0s - loss: 0.3676 - accuracy: 0.8354 - val_loss: 0.3451 - val_accuracy: 0.8395\n",
            "Epoch 71/500\n",
            "11/11 - 0s - loss: 0.3678 - accuracy: 0.8323 - val_loss: 0.3451 - val_accuracy: 0.8642\n",
            "Epoch 72/500\n",
            "11/11 - 0s - loss: 0.3620 - accuracy: 0.8354 - val_loss: 0.3403 - val_accuracy: 0.8395\n",
            "Epoch 73/500\n",
            "11/11 - 0s - loss: 0.3635 - accuracy: 0.8354 - val_loss: 0.3381 - val_accuracy: 0.8395\n",
            "Epoch 74/500\n",
            "11/11 - 0s - loss: 0.3571 - accuracy: 0.8416 - val_loss: 0.3353 - val_accuracy: 0.8642\n",
            "Epoch 75/500\n",
            "11/11 - 0s - loss: 0.3607 - accuracy: 0.8447 - val_loss: 0.3411 - val_accuracy: 0.8519\n",
            "Epoch 76/500\n",
            "11/11 - 0s - loss: 0.3634 - accuracy: 0.8540 - val_loss: 0.3330 - val_accuracy: 0.8519\n",
            "Epoch 77/500\n",
            "11/11 - 0s - loss: 0.3539 - accuracy: 0.8385 - val_loss: 0.3264 - val_accuracy: 0.8519\n",
            "Epoch 78/500\n",
            "11/11 - 0s - loss: 0.3507 - accuracy: 0.8416 - val_loss: 0.3231 - val_accuracy: 0.8642\n",
            "Epoch 79/500\n",
            "11/11 - 0s - loss: 0.3489 - accuracy: 0.8447 - val_loss: 0.3200 - val_accuracy: 0.8642\n",
            "Epoch 80/500\n",
            "11/11 - 0s - loss: 0.3484 - accuracy: 0.8447 - val_loss: 0.3196 - val_accuracy: 0.8519\n",
            "Epoch 81/500\n",
            "11/11 - 0s - loss: 0.3477 - accuracy: 0.8416 - val_loss: 0.3186 - val_accuracy: 0.8642\n",
            "Epoch 82/500\n",
            "11/11 - 0s - loss: 0.3448 - accuracy: 0.8416 - val_loss: 0.3168 - val_accuracy: 0.8642\n",
            "Epoch 83/500\n",
            "11/11 - 0s - loss: 0.3426 - accuracy: 0.8447 - val_loss: 0.3148 - val_accuracy: 0.8642\n",
            "Epoch 84/500\n",
            "11/11 - 0s - loss: 0.3404 - accuracy: 0.8385 - val_loss: 0.3143 - val_accuracy: 0.8642\n",
            "Epoch 85/500\n",
            "11/11 - 0s - loss: 0.3381 - accuracy: 0.8447 - val_loss: 0.3145 - val_accuracy: 0.8642\n",
            "Epoch 86/500\n",
            "11/11 - 0s - loss: 0.3373 - accuracy: 0.8416 - val_loss: 0.3123 - val_accuracy: 0.8642\n",
            "Epoch 87/500\n",
            "11/11 - 0s - loss: 0.3367 - accuracy: 0.8571 - val_loss: 0.3128 - val_accuracy: 0.8889\n",
            "Epoch 88/500\n",
            "11/11 - 0s - loss: 0.3337 - accuracy: 0.8447 - val_loss: 0.3097 - val_accuracy: 0.8642\n",
            "Epoch 89/500\n",
            "11/11 - 0s - loss: 0.3326 - accuracy: 0.8385 - val_loss: 0.3087 - val_accuracy: 0.8642\n",
            "Epoch 90/500\n",
            "11/11 - 0s - loss: 0.3318 - accuracy: 0.8540 - val_loss: 0.3110 - val_accuracy: 0.8889\n",
            "Epoch 91/500\n",
            "11/11 - 0s - loss: 0.3296 - accuracy: 0.8696 - val_loss: 0.3063 - val_accuracy: 0.8889\n",
            "Epoch 92/500\n",
            "11/11 - 0s - loss: 0.3271 - accuracy: 0.8634 - val_loss: 0.3059 - val_accuracy: 0.8889\n",
            "Epoch 93/500\n",
            "11/11 - 0s - loss: 0.3287 - accuracy: 0.8727 - val_loss: 0.3056 - val_accuracy: 0.8889\n",
            "Epoch 94/500\n",
            "11/11 - 0s - loss: 0.3242 - accuracy: 0.8727 - val_loss: 0.3024 - val_accuracy: 0.9012\n",
            "Epoch 95/500\n",
            "11/11 - 0s - loss: 0.3232 - accuracy: 0.8665 - val_loss: 0.3005 - val_accuracy: 0.8889\n",
            "Epoch 96/500\n",
            "11/11 - 0s - loss: 0.3215 - accuracy: 0.8727 - val_loss: 0.3008 - val_accuracy: 0.8889\n",
            "Epoch 97/500\n",
            "11/11 - 0s - loss: 0.3204 - accuracy: 0.8727 - val_loss: 0.2995 - val_accuracy: 0.8889\n",
            "Epoch 98/500\n",
            "11/11 - 0s - loss: 0.3183 - accuracy: 0.8789 - val_loss: 0.2999 - val_accuracy: 0.8889\n",
            "Epoch 99/500\n",
            "11/11 - 0s - loss: 0.3182 - accuracy: 0.8758 - val_loss: 0.2979 - val_accuracy: 0.8889\n",
            "Epoch 100/500\n",
            "11/11 - 0s - loss: 0.3166 - accuracy: 0.8758 - val_loss: 0.3018 - val_accuracy: 0.8889\n",
            "Epoch 101/500\n",
            "11/11 - 0s - loss: 0.3144 - accuracy: 0.8820 - val_loss: 0.2967 - val_accuracy: 0.8889\n",
            "Epoch 102/500\n",
            "11/11 - 0s - loss: 0.3125 - accuracy: 0.8789 - val_loss: 0.2945 - val_accuracy: 0.8889\n",
            "Epoch 103/500\n",
            "11/11 - 0s - loss: 0.3125 - accuracy: 0.8758 - val_loss: 0.2922 - val_accuracy: 0.8889\n",
            "Epoch 104/500\n",
            "11/11 - 0s - loss: 0.3117 - accuracy: 0.8789 - val_loss: 0.2898 - val_accuracy: 0.8889\n",
            "Epoch 105/500\n",
            "11/11 - 0s - loss: 0.3094 - accuracy: 0.8758 - val_loss: 0.2892 - val_accuracy: 0.8889\n",
            "Epoch 106/500\n",
            "11/11 - 0s - loss: 0.3084 - accuracy: 0.8758 - val_loss: 0.2888 - val_accuracy: 0.8889\n",
            "Epoch 107/500\n",
            "11/11 - 0s - loss: 0.3083 - accuracy: 0.8851 - val_loss: 0.2882 - val_accuracy: 0.9012\n",
            "Epoch 108/500\n",
            "11/11 - 0s - loss: 0.3078 - accuracy: 0.8882 - val_loss: 0.2877 - val_accuracy: 0.8889\n",
            "Epoch 109/500\n",
            "11/11 - 0s - loss: 0.3051 - accuracy: 0.8820 - val_loss: 0.2878 - val_accuracy: 0.8889\n",
            "Epoch 110/500\n",
            "11/11 - 0s - loss: 0.3149 - accuracy: 0.8944 - val_loss: 0.2990 - val_accuracy: 0.9136\n",
            "Epoch 111/500\n",
            "11/11 - 0s - loss: 0.3037 - accuracy: 0.8820 - val_loss: 0.2861 - val_accuracy: 0.8889\n",
            "Epoch 112/500\n",
            "11/11 - 0s - loss: 0.3022 - accuracy: 0.8758 - val_loss: 0.2820 - val_accuracy: 0.9012\n",
            "Epoch 113/500\n",
            "11/11 - 0s - loss: 0.3042 - accuracy: 0.8975 - val_loss: 0.2791 - val_accuracy: 0.9012\n",
            "Epoch 114/500\n",
            "11/11 - 0s - loss: 0.3015 - accuracy: 0.8758 - val_loss: 0.2781 - val_accuracy: 0.8889\n",
            "Epoch 115/500\n",
            "11/11 - 0s - loss: 0.3039 - accuracy: 0.8758 - val_loss: 0.2778 - val_accuracy: 0.8889\n",
            "Epoch 116/500\n",
            "11/11 - 0s - loss: 0.3017 - accuracy: 0.8758 - val_loss: 0.2732 - val_accuracy: 0.9012\n",
            "Epoch 117/500\n",
            "11/11 - 0s - loss: 0.3008 - accuracy: 0.8882 - val_loss: 0.2739 - val_accuracy: 0.9012\n",
            "Epoch 118/500\n",
            "11/11 - 0s - loss: 0.3017 - accuracy: 0.8913 - val_loss: 0.2715 - val_accuracy: 0.9012\n",
            "Epoch 119/500\n",
            "11/11 - 0s - loss: 0.2997 - accuracy: 0.8851 - val_loss: 0.2684 - val_accuracy: 0.9012\n",
            "Epoch 120/500\n",
            "11/11 - 0s - loss: 0.3007 - accuracy: 0.8820 - val_loss: 0.2693 - val_accuracy: 0.9012\n",
            "Epoch 121/500\n",
            "11/11 - 0s - loss: 0.2976 - accuracy: 0.8913 - val_loss: 0.2761 - val_accuracy: 0.9136\n",
            "Epoch 122/500\n",
            "11/11 - 0s - loss: 0.3073 - accuracy: 0.8944 - val_loss: 0.2939 - val_accuracy: 0.9012\n",
            "Epoch 123/500\n",
            "11/11 - 0s - loss: 0.2966 - accuracy: 0.8882 - val_loss: 0.2823 - val_accuracy: 0.8889\n",
            "Epoch 124/500\n",
            "11/11 - 0s - loss: 0.3033 - accuracy: 0.8789 - val_loss: 0.2846 - val_accuracy: 0.8889\n",
            "Epoch 125/500\n",
            "11/11 - 0s - loss: 0.2966 - accuracy: 0.8820 - val_loss: 0.2982 - val_accuracy: 0.9012\n",
            "Epoch 126/500\n",
            "11/11 - 0s - loss: 0.3041 - accuracy: 0.8913 - val_loss: 0.2905 - val_accuracy: 0.9012\n",
            "Epoch 127/500\n",
            "11/11 - 0s - loss: 0.2955 - accuracy: 0.8975 - val_loss: 0.2778 - val_accuracy: 0.9136\n",
            "Epoch 128/500\n",
            "11/11 - 0s - loss: 0.2949 - accuracy: 0.8975 - val_loss: 0.2798 - val_accuracy: 0.9136\n",
            "Epoch 129/500\n",
            "11/11 - 0s - loss: 0.2959 - accuracy: 0.8944 - val_loss: 0.2757 - val_accuracy: 0.9136\n",
            "Epoch 130/500\n",
            "11/11 - 0s - loss: 0.2978 - accuracy: 0.8913 - val_loss: 0.2795 - val_accuracy: 0.9136\n",
            "Epoch 131/500\n",
            "11/11 - 0s - loss: 0.2942 - accuracy: 0.8882 - val_loss: 0.2690 - val_accuracy: 0.9136\n",
            "Epoch 132/500\n",
            "11/11 - 0s - loss: 0.2953 - accuracy: 0.8851 - val_loss: 0.2699 - val_accuracy: 0.8889\n",
            "Epoch 133/500\n",
            "11/11 - 0s - loss: 0.2949 - accuracy: 0.8820 - val_loss: 0.2712 - val_accuracy: 0.9012\n",
            "Epoch 134/500\n",
            "11/11 - 0s - loss: 0.2908 - accuracy: 0.8975 - val_loss: 0.2746 - val_accuracy: 0.9136\n",
            "Epoch 135/500\n",
            "11/11 - 0s - loss: 0.2989 - accuracy: 0.8913 - val_loss: 0.2880 - val_accuracy: 0.9012\n",
            "Epoch 136/500\n",
            "11/11 - 0s - loss: 0.2925 - accuracy: 0.8913 - val_loss: 0.2725 - val_accuracy: 0.9136\n",
            "Epoch 137/500\n",
            "11/11 - 0s - loss: 0.2901 - accuracy: 0.8944 - val_loss: 0.2712 - val_accuracy: 0.9136\n",
            "Epoch 138/500\n",
            "11/11 - 0s - loss: 0.2909 - accuracy: 0.8820 - val_loss: 0.2717 - val_accuracy: 0.9136\n",
            "Epoch 139/500\n",
            "11/11 - 0s - loss: 0.2894 - accuracy: 0.8913 - val_loss: 0.2720 - val_accuracy: 0.9136\n",
            "Epoch 140/500\n",
            "11/11 - 0s - loss: 0.2881 - accuracy: 0.8975 - val_loss: 0.2728 - val_accuracy: 0.9136\n",
            "Epoch 141/500\n",
            "11/11 - 0s - loss: 0.2882 - accuracy: 0.8944 - val_loss: 0.2710 - val_accuracy: 0.9136\n",
            "Epoch 142/500\n",
            "11/11 - 0s - loss: 0.2899 - accuracy: 0.8944 - val_loss: 0.2715 - val_accuracy: 0.9136\n",
            "Epoch 143/500\n",
            "11/11 - 0s - loss: 0.2867 - accuracy: 0.8944 - val_loss: 0.2683 - val_accuracy: 0.9136\n",
            "Epoch 144/500\n",
            "11/11 - 0s - loss: 0.2881 - accuracy: 0.8913 - val_loss: 0.2670 - val_accuracy: 0.9136\n",
            "Epoch 145/500\n",
            "11/11 - 0s - loss: 0.2883 - accuracy: 0.8975 - val_loss: 0.2679 - val_accuracy: 0.9136\n",
            "Epoch 146/500\n",
            "11/11 - 0s - loss: 0.2866 - accuracy: 0.8975 - val_loss: 0.2711 - val_accuracy: 0.9136\n",
            "Epoch 147/500\n",
            "11/11 - 0s - loss: 0.2863 - accuracy: 0.8975 - val_loss: 0.2713 - val_accuracy: 0.9136\n",
            "Epoch 148/500\n",
            "11/11 - 0s - loss: 0.2878 - accuracy: 0.8944 - val_loss: 0.2738 - val_accuracy: 0.9136\n",
            "Epoch 149/500\n",
            "11/11 - 0s - loss: 0.2861 - accuracy: 0.8913 - val_loss: 0.2733 - val_accuracy: 0.9136\n",
            "Epoch 150/500\n",
            "11/11 - 0s - loss: 0.2865 - accuracy: 0.8944 - val_loss: 0.2716 - val_accuracy: 0.9136\n",
            "Epoch 151/500\n",
            "11/11 - 0s - loss: 0.2901 - accuracy: 0.8975 - val_loss: 0.2761 - val_accuracy: 0.9012\n",
            "Epoch 152/500\n",
            "11/11 - 0s - loss: 0.2849 - accuracy: 0.9006 - val_loss: 0.2667 - val_accuracy: 0.9136\n",
            "Epoch 153/500\n",
            "11/11 - 0s - loss: 0.2895 - accuracy: 0.8944 - val_loss: 0.2650 - val_accuracy: 0.9136\n",
            "Epoch 154/500\n",
            "11/11 - 0s - loss: 0.2876 - accuracy: 0.8882 - val_loss: 0.2834 - val_accuracy: 0.8889\n",
            "Epoch 155/500\n",
            "11/11 - 0s - loss: 0.2888 - accuracy: 0.8913 - val_loss: 0.2714 - val_accuracy: 0.9012\n",
            "Epoch 156/500\n",
            "11/11 - 0s - loss: 0.2832 - accuracy: 0.8975 - val_loss: 0.2679 - val_accuracy: 0.9136\n",
            "Epoch 157/500\n",
            "11/11 - 0s - loss: 0.2864 - accuracy: 0.8882 - val_loss: 0.2645 - val_accuracy: 0.9136\n",
            "Epoch 158/500\n",
            "11/11 - 0s - loss: 0.2864 - accuracy: 0.8944 - val_loss: 0.2675 - val_accuracy: 0.9136\n",
            "Epoch 159/500\n",
            "11/11 - 0s - loss: 0.2850 - accuracy: 0.8975 - val_loss: 0.2593 - val_accuracy: 0.9012\n",
            "Epoch 160/500\n",
            "11/11 - 0s - loss: 0.2826 - accuracy: 0.8944 - val_loss: 0.2571 - val_accuracy: 0.9136\n",
            "Epoch 161/500\n",
            "11/11 - 0s - loss: 0.2826 - accuracy: 0.8944 - val_loss: 0.2631 - val_accuracy: 0.9012\n",
            "Epoch 162/500\n",
            "11/11 - 0s - loss: 0.2826 - accuracy: 0.8944 - val_loss: 0.2618 - val_accuracy: 0.9136\n",
            "Epoch 163/500\n",
            "11/11 - 0s - loss: 0.2828 - accuracy: 0.8913 - val_loss: 0.2600 - val_accuracy: 0.9136\n",
            "Epoch 164/500\n",
            "11/11 - 0s - loss: 0.2809 - accuracy: 0.8944 - val_loss: 0.2673 - val_accuracy: 0.9012\n",
            "Epoch 165/500\n",
            "11/11 - 0s - loss: 0.2945 - accuracy: 0.8913 - val_loss: 0.2818 - val_accuracy: 0.8889\n",
            "Epoch 166/500\n",
            "11/11 - 0s - loss: 0.2867 - accuracy: 0.8944 - val_loss: 0.2621 - val_accuracy: 0.9136\n",
            "Epoch 167/500\n",
            "11/11 - 0s - loss: 0.2831 - accuracy: 0.9006 - val_loss: 0.2593 - val_accuracy: 0.9136\n",
            "Epoch 168/500\n",
            "11/11 - 0s - loss: 0.2859 - accuracy: 0.8944 - val_loss: 0.2599 - val_accuracy: 0.9136\n",
            "Epoch 169/500\n",
            "11/11 - 0s - loss: 0.2802 - accuracy: 0.8975 - val_loss: 0.2649 - val_accuracy: 0.9012\n",
            "Epoch 170/500\n",
            "11/11 - 0s - loss: 0.2822 - accuracy: 0.8913 - val_loss: 0.2693 - val_accuracy: 0.9136\n",
            "Epoch 171/500\n",
            "11/11 - 0s - loss: 0.2825 - accuracy: 0.8913 - val_loss: 0.2583 - val_accuracy: 0.9012\n",
            "Epoch 172/500\n",
            "11/11 - 0s - loss: 0.2836 - accuracy: 0.8944 - val_loss: 0.2554 - val_accuracy: 0.9136\n",
            "Epoch 173/500\n",
            "11/11 - 0s - loss: 0.2809 - accuracy: 0.8913 - val_loss: 0.2564 - val_accuracy: 0.9136\n",
            "Epoch 174/500\n",
            "11/11 - 0s - loss: 0.2800 - accuracy: 0.8975 - val_loss: 0.2607 - val_accuracy: 0.9012\n",
            "Epoch 175/500\n",
            "11/11 - 0s - loss: 0.2934 - accuracy: 0.8913 - val_loss: 0.2787 - val_accuracy: 0.8889\n",
            "Epoch 176/500\n",
            "11/11 - 0s - loss: 0.2832 - accuracy: 0.8913 - val_loss: 0.2569 - val_accuracy: 0.9136\n",
            "Epoch 177/500\n",
            "11/11 - 0s - loss: 0.2836 - accuracy: 0.8944 - val_loss: 0.2562 - val_accuracy: 0.9136\n",
            "Epoch 178/500\n",
            "11/11 - 0s - loss: 0.2869 - accuracy: 0.8975 - val_loss: 0.2540 - val_accuracy: 0.9136\n",
            "Epoch 179/500\n",
            "11/11 - 0s - loss: 0.2824 - accuracy: 0.8944 - val_loss: 0.2586 - val_accuracy: 0.9012\n",
            "Epoch 180/500\n",
            "11/11 - 0s - loss: 0.2793 - accuracy: 0.8944 - val_loss: 0.2734 - val_accuracy: 0.9012\n",
            "Epoch 181/500\n",
            "11/11 - 0s - loss: 0.2827 - accuracy: 0.8944 - val_loss: 0.2659 - val_accuracy: 0.9012\n",
            "Epoch 182/500\n",
            "11/11 - 0s - loss: 0.2799 - accuracy: 0.8944 - val_loss: 0.2631 - val_accuracy: 0.9136\n",
            "Epoch 183/500\n",
            "11/11 - 0s - loss: 0.2814 - accuracy: 0.8975 - val_loss: 0.2593 - val_accuracy: 0.9136\n",
            "Epoch 184/500\n",
            "11/11 - 0s - loss: 0.2803 - accuracy: 0.8913 - val_loss: 0.2626 - val_accuracy: 0.9012\n",
            "Epoch 185/500\n",
            "11/11 - 0s - loss: 0.2789 - accuracy: 0.8944 - val_loss: 0.2623 - val_accuracy: 0.9012\n",
            "Epoch 186/500\n",
            "11/11 - 0s - loss: 0.2786 - accuracy: 0.8944 - val_loss: 0.2631 - val_accuracy: 0.9012\n",
            "Epoch 187/500\n",
            "11/11 - 0s - loss: 0.2784 - accuracy: 0.8944 - val_loss: 0.2618 - val_accuracy: 0.9012\n",
            "Epoch 188/500\n",
            "11/11 - 0s - loss: 0.2827 - accuracy: 0.8913 - val_loss: 0.2607 - val_accuracy: 0.9136\n",
            "Epoch 189/500\n",
            "11/11 - 0s - loss: 0.2783 - accuracy: 0.8975 - val_loss: 0.2532 - val_accuracy: 0.9136\n",
            "Epoch 190/500\n",
            "11/11 - 0s - loss: 0.2790 - accuracy: 0.8913 - val_loss: 0.2520 - val_accuracy: 0.9136\n",
            "Epoch 191/500\n",
            "11/11 - 0s - loss: 0.2784 - accuracy: 0.9006 - val_loss: 0.2599 - val_accuracy: 0.9136\n",
            "\n",
            "Sudah mencapai akurasi 90.0%, proses training berhenti\n"
          ],
          "name": "stdout"
        }
      ]
    },
    {
      "cell_type": "code",
      "metadata": {
        "id": "OOjG9HxXn8yY",
        "colab": {
          "base_uri": "https://localhost:8080/",
          "height": 545
        },
        "outputId": "6069cc16-8a40-4edd-90b1-aded70a1e433"
      },
      "source": [
        "acc = history.history['accuracy']\n",
        "val_acc = history.history['val_accuracy']\n",
        "loss = history.history['loss']\n",
        "val_loss = history.history['val_loss']\n",
        "epochs = range(len(acc))\n",
        "\n",
        "plt.plot(epochs, acc, 'r', label='Training accuracy')\n",
        "plt.plot(epochs, val_acc, 'b', label='Validation accuracy')\n",
        "plt.title('Training and validation accuracy')\n",
        "plt.legend(loc=0)\n",
        "plt.figure()\n",
        "\n",
        "plt.plot(epochs, loss, 'r', label='Training loss')\n",
        "plt.plot(epochs, val_loss, 'b', label='Validation loss')\n",
        "plt.title('Training and validation loss')\n",
        "plt.legend(loc=0)\n",
        "\n",
        "plt.show()"
      ],
      "execution_count": 31,
      "outputs": [
        {
          "output_type": "display_data",
          "data": {
            "image/png": "[encoded data removed]",
            "text/plain": [
              "<Figure size 432x288 with 1 Axes>"
            ]
          },
          "metadata": {
            "tags": [],
            "needs_background": "light"
          }
        },
        {
          "output_type": "display_data",
          "data": {
            "image/png": "[encoded data removed]",
            "text/plain": [
              "<Figure size 432x288 with 1 Axes>"
            ]
          },
          "metadata": {
            "tags": [],
            "needs_background": "light"
          }
        }
      ]
    },
    {
      "cell_type": "code",
      "metadata": {
        "id": "Pq3qpizbfyb-",
        "colab": {
          "base_uri": "https://localhost:8080/"
        },
        "outputId": "315b4722-6b74-41e1-b271-b768b5642b6a"
      },
      "source": [
        "saved_model = load_model('best_model.h5')\n",
        "\n",
        "loss, acc = saved_model.evaluate(x_test_scaled, y_test)\n",
        "print(\"Accuracy: \", acc)\n",
        "print(\"Loss: \", loss)"
      ],
      "execution_count": 32,
      "outputs": [
        {
          "output_type": "stream",
          "text": [
            "3/3 [==============================] - 0s 4ms/step - loss: 0.2520 - accuracy: 0.9136\n",
            "Accuracy:  0.9135802388191223\n",
            "Loss:  0.25200799107551575\n"
          ],
          "name": "stdout"
        }
      ]
    },
    {
      "cell_type": "code",
      "metadata": {
        "id": "pp9qzlaopFLL"
      },
      "source": [
        "normal = [[82,  16.0,  1.0,  28.0,  0,  1],\n",
        "          [63,  13.0,  2.0,  27.0,  1,  0],\n",
        "          [60,  18.0,  3.0,  25.0,  1,  0]]\n",
        "\n",
        "dementia = [[77,  23.0,  3.0,  22.0,  0,  1],\n",
        "            [78,  6.0,  4.0,  23.0,  1,  0],\n",
        "            [75,  16.0,  4.0,  21.0,  1,  0]] "
      ],
      "execution_count": 33,
      "outputs": []
    },
    {
      "cell_type": "code",
      "metadata": {
        "id": "VUoAMk39uoLz",
        "colab": {
          "base_uri": "https://localhost:8080/"
        },
        "outputId": "e28d6d7f-0fbf-4680-bb18-26abc83bc31d"
      },
      "source": [
        "for row in normal:\n",
        "  classes = model.predict(scaler.transform([row]))\n",
        "\n",
        "  print(row)\n",
        "  print(classes)\n",
        "  if classes[0] < 0.5:\n",
        "    print(\"Normal\")\n",
        "  else:\n",
        "    print(\"Dementia\")\n",
        "  \n",
        "  print()"
      ],
      "execution_count": 34,
      "outputs": [
        {
          "output_type": "stream",
          "text": [
            "[82, 16.0, 1.0, 28.0, 0, 1]\n",
            "[[0.0774715]]\n",
            "Normal\n",
            "\n",
            "[63, 13.0, 2.0, 27.0, 1, 0]\n",
            "[[0.06318179]]\n",
            "Normal\n",
            "\n",
            "[60, 18.0, 3.0, 25.0, 1, 0]\n",
            "[[0.2227974]]\n",
            "Normal\n",
            "\n"
          ],
          "name": "stdout"
        }
      ]
    },
    {
      "cell_type": "code",
      "metadata": {
        "id": "NJQH_EoVxeua",
        "colab": {
          "base_uri": "https://localhost:8080/"
        },
        "outputId": "7056d13d-d560-4dc9-d503-1a9bb7778081"
      },
      "source": [
        "for row in dementia:\n",
        "  classes = model.predict(scaler.transform([row]))\n",
        "\n",
        "  print(row)\n",
        "  print(classes)\n",
        "  if classes[0] < 0.5:\n",
        "    print(\"Normal\")\n",
        "  else:\n",
        "    print(\"Dementia\")\n",
        "  \n",
        "  print()"
      ],
      "execution_count": 35,
      "outputs": [
        {
          "output_type": "stream",
          "text": [
            "[77, 23.0, 3.0, 22.0, 0, 1]\n",
            "[[0.696064]]\n",
            "Dementia\n",
            "\n",
            "[78, 6.0, 4.0, 23.0, 1, 0]\n",
            "[[0.5899219]]\n",
            "Dementia\n",
            "\n",
            "[75, 16.0, 4.0, 21.0, 1, 0]\n",
            "[[0.7843354]]\n",
            "Dementia\n",
            "\n"
          ],
          "name": "stdout"
        }
      ]
    },
    {
      "cell_type": "code",
      "metadata": {
        "id": "TRWurQnpxl0g"
      },
      "source": [
        ""
      ],
      "execution_count": null,
      "outputs": []
    }
  ]
}